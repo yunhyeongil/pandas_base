{
  "nbformat": 4,
  "nbformat_minor": 0,
  "metadata": {
    "colab": {
      "name": "2일차_실습하기_윤형일.ipynb",
      "provenance": [],
      "collapsed_sections": [
        "EUicML8rzmB7",
        "x_YR2n7VubTB",
        "6z_3yh4jyzEx"
      ],
      "include_colab_link": true
    },
    "kernelspec": {
      "display_name": "Python 3",
      "name": "python3"
    },
    "language_info": {
      "name": "python"
    }
  },
  "cells": [
    {
      "cell_type": "markdown",
      "metadata": {
        "id": "view-in-github",
        "colab_type": "text"
      },
      "source": [
        "<a href=\"https://colab.research.google.com/github/yunhyeongil/pandas_base/blob/main/2%EC%9D%BC%EC%B0%A8_%EC%8B%A4%EC%8A%B5%ED%95%98%EA%B8%B0_%EC%9C%A4%ED%98%95%EC%9D%BC.ipynb\" target=\"_parent\"><img src=\"https://colab.research.google.com/assets/colab-badge.svg\" alt=\"Open In Colab\"/></a>"
      ]
    },
    {
      "cell_type": "code",
      "metadata": {
        "id": "fdDtqXEPZIHv"
      },
      "source": [
        "import re, collections"
      ],
      "execution_count": null,
      "outputs": []
    },
    {
      "cell_type": "code",
      "metadata": {
        "id": "w3_ISbvdcd9I"
      },
      "source": [
        "num_merges = 10"
      ],
      "execution_count": null,
      "outputs": []
    },
    {
      "cell_type": "code",
      "metadata": {
        "id": "1Hz1RIy8co8u"
      },
      "source": [
        "dictionary = {'l o w </w>' : 5,\n",
        "         'l o w e r </w>' : 2,\n",
        "         'n e w e s t </w>':6,\n",
        "         'w i d e s t </w>':3\n",
        "         }"
      ],
      "execution_count": null,
      "outputs": []
    },
    {
      "cell_type": "code",
      "metadata": {
        "id": "FwKUrfELc_rm"
      },
      "source": [
        "def get_stats(dictionary):\n",
        "  # 유니그램의 pair들의 빈도수를 카운트\n",
        "  \n",
        "  pairs = collections.defaultdict(int)    # default dictionary type initialize\n",
        "  print(type(pairs))\n",
        "  for word, freq in dictionary.items(): # 딕셔너리 아이템의 키와 단어의 카운트 수를 읽어온다.\n",
        "    symbols = word.split() # word: 'l o w </w>'  , symbols : ['l', 'o', 'w', '</w>']\n",
        "    print(\"type->\", symbols)\n",
        "    for i in range(len(symbols)-1): # 심볼안 리스트 각 char가 pairs dictionary에 저장\n",
        "      pairs[symbols[i], symbols[i+1]] += freq # pairs의 첫번째 key는 ('l','o') value 는 5\n",
        "  print('현재 pair들의 빈도수 :', dict(pairs)) # dictionary를 완성한후 전체 빈도수 출력\n",
        "  return pairs"
      ],
      "execution_count": null,
      "outputs": []
    },
    {
      "cell_type": "code",
      "metadata": {
        "id": "4lwtnREweS4I"
      },
      "source": [
        "def merge_dictionary(pair, v_in): # 첫번째 loop 인 경우 ('e','s') parameter  v_in -> 기존 dictionary\n",
        "    v_out = {}\n",
        "    bigram = re.escape(' '.join(pair)) \n",
        "    print(\"bigram->#\"+bigram+\"#\") #  -->e\\' 's\n",
        "    p = re.compile(r'(?<!\\S)' + bigram + r'(?!\\S)')  #'(?<!\\\\S)e\\\\ s(?!\\\\S)' # 부정형후방탐색 앞에 일반문자가 아닌 스페이스가 나타난다.  \n",
        "    print(\"p->\",p)\n",
        "    for word in v_in:\n",
        "        print(\"word ->\"+ word)\n",
        "        w_out = p.sub(''.join(pair), word) # es dictionary에 있는 단어중 'n e w e s t </w>'  es' 가 포함된 단어를 찾아 대체\n",
        "        print(\"w_out\",w_out)\n",
        "        v_out[w_out] = v_in[word]\n",
        "    return v_out"
      ],
      "execution_count": null,
      "outputs": []
    },
    {
      "cell_type": "code",
      "metadata": {
        "id": "4oLhaJdNevbO"
      },
      "source": [
        "bpe_codes = {}\n",
        "bpe_codes_reverse = {}"
      ],
      "execution_count": null,
      "outputs": []
    },
    {
      "cell_type": "code",
      "metadata": {
        "colab": {
          "base_uri": "https://localhost:8080/"
        },
        "id": "srNL_KWUe1G9",
        "outputId": "ce4f65fa-2e49-45be-f847-8042f84eeb10"
      },
      "source": [
        "for i in range(num_merges):\n",
        "  print(\">> Step {0}\".format(i+1))\n",
        "  pairs = get_stats(dictionary)\n",
        "  best = max(pairs, key=pairs.get) # 1st loop : pairs dictionary 값중 가장 빈도수가 많은 dictionary의 key 인 ('e','s')를 가져옴 type tuple\n",
        "  print(\"best type\", type(best))\n",
        "  print(\"best value\",best )\n",
        "  dictionary = merge_dictionary(best, dictionary)\n",
        "\n",
        "  bpe_codes[best] = i  # bpe code에 index를 넣는다.\n",
        "  bpe_codes_reverse[best[0] + best[1]] = best\n",
        "\n",
        "  print(\"new merge: {}\".format(best))\n",
        "  print(\"dictionary: {}\".format(dictionary))"
      ],
      "execution_count": null,
      "outputs": [
        {
          "output_type": "stream",
          "text": [
            ">> Step 1\n",
            "<class 'collections.defaultdict'>\n",
            "type-> ['l', 'o', 'w', '</w>']\n",
            "type-> ['l', 'o', 'w', 'e', 'r', '</w>']\n",
            "type-> ['n', 'e', 'w', 'e', 's', 't', '</w>']\n",
            "type-> ['w', 'i', 'd', 'e', 's', 't', '</w>']\n",
            "현재 pair들의 빈도수 : {('l', 'o'): 7, ('o', 'w'): 7, ('w', '</w>'): 5, ('w', 'e'): 8, ('e', 'r'): 2, ('r', '</w>'): 2, ('n', 'e'): 6, ('e', 'w'): 6, ('e', 's'): 9, ('s', 't'): 9, ('t', '</w>'): 9, ('w', 'i'): 3, ('i', 'd'): 3, ('d', 'e'): 3}\n",
            "best type <class 'tuple'>\n",
            "best value ('e', 's')\n",
            "bigram->#e\\ s#\n",
            "p-> re.compile('(?<!\\\\S)e\\\\ s(?!\\\\S)')\n",
            "word ->l o w </w>\n",
            "w_out l o w </w>\n",
            "word ->l o w e r </w>\n",
            "w_out l o w e r </w>\n",
            "word ->n e w e s t </w>\n",
            "w_out n e w es t </w>\n",
            "word ->w i d e s t </w>\n",
            "w_out w i d es t </w>\n",
            "new merge: ('e', 's')\n",
            "dictionary: {'l o w </w>': 5, 'l o w e r </w>': 2, 'n e w es t </w>': 6, 'w i d es t </w>': 3}\n",
            ">> Step 2\n",
            "<class 'collections.defaultdict'>\n",
            "type-> ['l', 'o', 'w', '</w>']\n",
            "type-> ['l', 'o', 'w', 'e', 'r', '</w>']\n",
            "type-> ['n', 'e', 'w', 'es', 't', '</w>']\n",
            "type-> ['w', 'i', 'd', 'es', 't', '</w>']\n",
            "현재 pair들의 빈도수 : {('l', 'o'): 7, ('o', 'w'): 7, ('w', '</w>'): 5, ('w', 'e'): 2, ('e', 'r'): 2, ('r', '</w>'): 2, ('n', 'e'): 6, ('e', 'w'): 6, ('w', 'es'): 6, ('es', 't'): 9, ('t', '</w>'): 9, ('w', 'i'): 3, ('i', 'd'): 3, ('d', 'es'): 3}\n",
            "best type <class 'tuple'>\n",
            "best value ('es', 't')\n",
            "bigram->#es\\ t#\n",
            "p-> re.compile('(?<!\\\\S)es\\\\ t(?!\\\\S)')\n",
            "word ->l o w </w>\n",
            "w_out l o w </w>\n",
            "word ->l o w e r </w>\n",
            "w_out l o w e r </w>\n",
            "word ->n e w es t </w>\n",
            "w_out n e w est </w>\n",
            "word ->w i d es t </w>\n",
            "w_out w i d est </w>\n",
            "new merge: ('es', 't')\n",
            "dictionary: {'l o w </w>': 5, 'l o w e r </w>': 2, 'n e w est </w>': 6, 'w i d est </w>': 3}\n",
            ">> Step 3\n",
            "<class 'collections.defaultdict'>\n",
            "type-> ['l', 'o', 'w', '</w>']\n",
            "type-> ['l', 'o', 'w', 'e', 'r', '</w>']\n",
            "type-> ['n', 'e', 'w', 'est', '</w>']\n",
            "type-> ['w', 'i', 'd', 'est', '</w>']\n",
            "현재 pair들의 빈도수 : {('l', 'o'): 7, ('o', 'w'): 7, ('w', '</w>'): 5, ('w', 'e'): 2, ('e', 'r'): 2, ('r', '</w>'): 2, ('n', 'e'): 6, ('e', 'w'): 6, ('w', 'est'): 6, ('est', '</w>'): 9, ('w', 'i'): 3, ('i', 'd'): 3, ('d', 'est'): 3}\n",
            "best type <class 'tuple'>\n",
            "best value ('est', '</w>')\n",
            "bigram->#est\\ </w>#\n",
            "p-> re.compile('(?<!\\\\S)est\\\\ </w>(?!\\\\S)')\n",
            "word ->l o w </w>\n",
            "w_out l o w </w>\n",
            "word ->l o w e r </w>\n",
            "w_out l o w e r </w>\n",
            "word ->n e w est </w>\n",
            "w_out n e w est</w>\n",
            "word ->w i d est </w>\n",
            "w_out w i d est</w>\n",
            "new merge: ('est', '</w>')\n",
            "dictionary: {'l o w </w>': 5, 'l o w e r </w>': 2, 'n e w est</w>': 6, 'w i d est</w>': 3}\n",
            ">> Step 4\n",
            "<class 'collections.defaultdict'>\n",
            "type-> ['l', 'o', 'w', '</w>']\n",
            "type-> ['l', 'o', 'w', 'e', 'r', '</w>']\n",
            "type-> ['n', 'e', 'w', 'est</w>']\n",
            "type-> ['w', 'i', 'd', 'est</w>']\n",
            "현재 pair들의 빈도수 : {('l', 'o'): 7, ('o', 'w'): 7, ('w', '</w>'): 5, ('w', 'e'): 2, ('e', 'r'): 2, ('r', '</w>'): 2, ('n', 'e'): 6, ('e', 'w'): 6, ('w', 'est</w>'): 6, ('w', 'i'): 3, ('i', 'd'): 3, ('d', 'est</w>'): 3}\n",
            "best type <class 'tuple'>\n",
            "best value ('l', 'o')\n",
            "bigram->#l\\ o#\n",
            "p-> re.compile('(?<!\\\\S)l\\\\ o(?!\\\\S)')\n",
            "word ->l o w </w>\n",
            "w_out lo w </w>\n",
            "word ->l o w e r </w>\n",
            "w_out lo w e r </w>\n",
            "word ->n e w est</w>\n",
            "w_out n e w est</w>\n",
            "word ->w i d est</w>\n",
            "w_out w i d est</w>\n",
            "new merge: ('l', 'o')\n",
            "dictionary: {'lo w </w>': 5, 'lo w e r </w>': 2, 'n e w est</w>': 6, 'w i d est</w>': 3}\n",
            ">> Step 5\n",
            "<class 'collections.defaultdict'>\n",
            "type-> ['lo', 'w', '</w>']\n",
            "type-> ['lo', 'w', 'e', 'r', '</w>']\n",
            "type-> ['n', 'e', 'w', 'est</w>']\n",
            "type-> ['w', 'i', 'd', 'est</w>']\n",
            "현재 pair들의 빈도수 : {('lo', 'w'): 7, ('w', '</w>'): 5, ('w', 'e'): 2, ('e', 'r'): 2, ('r', '</w>'): 2, ('n', 'e'): 6, ('e', 'w'): 6, ('w', 'est</w>'): 6, ('w', 'i'): 3, ('i', 'd'): 3, ('d', 'est</w>'): 3}\n",
            "best type <class 'tuple'>\n",
            "best value ('lo', 'w')\n",
            "bigram->#lo\\ w#\n",
            "p-> re.compile('(?<!\\\\S)lo\\\\ w(?!\\\\S)')\n",
            "word ->lo w </w>\n",
            "w_out low </w>\n",
            "word ->lo w e r </w>\n",
            "w_out low e r </w>\n",
            "word ->n e w est</w>\n",
            "w_out n e w est</w>\n",
            "word ->w i d est</w>\n",
            "w_out w i d est</w>\n",
            "new merge: ('lo', 'w')\n",
            "dictionary: {'low </w>': 5, 'low e r </w>': 2, 'n e w est</w>': 6, 'w i d est</w>': 3}\n",
            ">> Step 6\n",
            "<class 'collections.defaultdict'>\n",
            "type-> ['low', '</w>']\n",
            "type-> ['low', 'e', 'r', '</w>']\n",
            "type-> ['n', 'e', 'w', 'est</w>']\n",
            "type-> ['w', 'i', 'd', 'est</w>']\n",
            "현재 pair들의 빈도수 : {('low', '</w>'): 5, ('low', 'e'): 2, ('e', 'r'): 2, ('r', '</w>'): 2, ('n', 'e'): 6, ('e', 'w'): 6, ('w', 'est</w>'): 6, ('w', 'i'): 3, ('i', 'd'): 3, ('d', 'est</w>'): 3}\n",
            "best type <class 'tuple'>\n",
            "best value ('n', 'e')\n",
            "bigram->#n\\ e#\n",
            "p-> re.compile('(?<!\\\\S)n\\\\ e(?!\\\\S)')\n",
            "word ->low </w>\n",
            "w_out low </w>\n",
            "word ->low e r </w>\n",
            "w_out low e r </w>\n",
            "word ->n e w est</w>\n",
            "w_out ne w est</w>\n",
            "word ->w i d est</w>\n",
            "w_out w i d est</w>\n",
            "new merge: ('n', 'e')\n",
            "dictionary: {'low </w>': 5, 'low e r </w>': 2, 'ne w est</w>': 6, 'w i d est</w>': 3}\n",
            ">> Step 7\n",
            "<class 'collections.defaultdict'>\n",
            "type-> ['low', '</w>']\n",
            "type-> ['low', 'e', 'r', '</w>']\n",
            "type-> ['ne', 'w', 'est</w>']\n",
            "type-> ['w', 'i', 'd', 'est</w>']\n",
            "현재 pair들의 빈도수 : {('low', '</w>'): 5, ('low', 'e'): 2, ('e', 'r'): 2, ('r', '</w>'): 2, ('ne', 'w'): 6, ('w', 'est</w>'): 6, ('w', 'i'): 3, ('i', 'd'): 3, ('d', 'est</w>'): 3}\n",
            "best type <class 'tuple'>\n",
            "best value ('ne', 'w')\n",
            "bigram->#ne\\ w#\n",
            "p-> re.compile('(?<!\\\\S)ne\\\\ w(?!\\\\S)')\n",
            "word ->low </w>\n",
            "w_out low </w>\n",
            "word ->low e r </w>\n",
            "w_out low e r </w>\n",
            "word ->ne w est</w>\n",
            "w_out new est</w>\n",
            "word ->w i d est</w>\n",
            "w_out w i d est</w>\n",
            "new merge: ('ne', 'w')\n",
            "dictionary: {'low </w>': 5, 'low e r </w>': 2, 'new est</w>': 6, 'w i d est</w>': 3}\n",
            ">> Step 8\n",
            "<class 'collections.defaultdict'>\n",
            "type-> ['low', '</w>']\n",
            "type-> ['low', 'e', 'r', '</w>']\n",
            "type-> ['new', 'est</w>']\n",
            "type-> ['w', 'i', 'd', 'est</w>']\n",
            "현재 pair들의 빈도수 : {('low', '</w>'): 5, ('low', 'e'): 2, ('e', 'r'): 2, ('r', '</w>'): 2, ('new', 'est</w>'): 6, ('w', 'i'): 3, ('i', 'd'): 3, ('d', 'est</w>'): 3}\n",
            "best type <class 'tuple'>\n",
            "best value ('new', 'est</w>')\n",
            "bigram->#new\\ est</w>#\n",
            "p-> re.compile('(?<!\\\\S)new\\\\ est</w>(?!\\\\S)')\n",
            "word ->low </w>\n",
            "w_out low </w>\n",
            "word ->low e r </w>\n",
            "w_out low e r </w>\n",
            "word ->new est</w>\n",
            "w_out newest</w>\n",
            "word ->w i d est</w>\n",
            "w_out w i d est</w>\n",
            "new merge: ('new', 'est</w>')\n",
            "dictionary: {'low </w>': 5, 'low e r </w>': 2, 'newest</w>': 6, 'w i d est</w>': 3}\n",
            ">> Step 9\n",
            "<class 'collections.defaultdict'>\n",
            "type-> ['low', '</w>']\n",
            "type-> ['low', 'e', 'r', '</w>']\n",
            "type-> ['newest</w>']\n",
            "type-> ['w', 'i', 'd', 'est</w>']\n",
            "현재 pair들의 빈도수 : {('low', '</w>'): 5, ('low', 'e'): 2, ('e', 'r'): 2, ('r', '</w>'): 2, ('w', 'i'): 3, ('i', 'd'): 3, ('d', 'est</w>'): 3}\n",
            "best type <class 'tuple'>\n",
            "best value ('low', '</w>')\n",
            "bigram->#low\\ </w>#\n",
            "p-> re.compile('(?<!\\\\S)low\\\\ </w>(?!\\\\S)')\n",
            "word ->low </w>\n",
            "w_out low</w>\n",
            "word ->low e r </w>\n",
            "w_out low e r </w>\n",
            "word ->newest</w>\n",
            "w_out newest</w>\n",
            "word ->w i d est</w>\n",
            "w_out w i d est</w>\n",
            "new merge: ('low', '</w>')\n",
            "dictionary: {'low</w>': 5, 'low e r </w>': 2, 'newest</w>': 6, 'w i d est</w>': 3}\n",
            ">> Step 10\n",
            "<class 'collections.defaultdict'>\n",
            "type-> ['low</w>']\n",
            "type-> ['low', 'e', 'r', '</w>']\n",
            "type-> ['newest</w>']\n",
            "type-> ['w', 'i', 'd', 'est</w>']\n",
            "현재 pair들의 빈도수 : {('low', 'e'): 2, ('e', 'r'): 2, ('r', '</w>'): 2, ('w', 'i'): 3, ('i', 'd'): 3, ('d', 'est</w>'): 3}\n",
            "best type <class 'tuple'>\n",
            "best value ('w', 'i')\n",
            "bigram->#w\\ i#\n",
            "p-> re.compile('(?<!\\\\S)w\\\\ i(?!\\\\S)')\n",
            "word ->low</w>\n",
            "w_out low</w>\n",
            "word ->low e r </w>\n",
            "w_out low e r </w>\n",
            "word ->newest</w>\n",
            "w_out newest</w>\n",
            "word ->w i d est</w>\n",
            "w_out wi d est</w>\n",
            "new merge: ('w', 'i')\n",
            "dictionary: {'low</w>': 5, 'low e r </w>': 2, 'newest</w>': 6, 'wi d est</w>': 3}\n"
          ],
          "name": "stdout"
        }
      ]
    },
    {
      "cell_type": "code",
      "metadata": {
        "colab": {
          "base_uri": "https://localhost:8080/"
        },
        "id": "KPU6cCdkfclG",
        "outputId": "f066b1b6-7fd1-413a-cabf-0b3010e68efe"
      },
      "source": [
        "print(bpe_codes)\n",
        "# bpe_code를 출력하면 merge 했던 기록이 출력"
      ],
      "execution_count": null,
      "outputs": [
        {
          "output_type": "stream",
          "text": [
            "{('e', 's'): 0, ('es', 't'): 1, ('est', '</w>'): 2, ('l', 'o'): 3, ('lo', 'w'): 4, ('n', 'e'): 5, ('ne', 'w'): 6, ('new', 'est</w>'): 7, ('low', '</w>'): 8, ('w', 'i'): 9}\n"
          ],
          "name": "stdout"
        }
      ]
    },
    {
      "cell_type": "markdown",
      "metadata": {
        "id": "xjMnkNuulF-0"
      },
      "source": [
        "## OOV에 대처하기"
      ]
    },
    {
      "cell_type": "code",
      "metadata": {
        "id": "6S_5LYvUlJPT"
      },
      "source": [
        "def get_pairs(word):\n",
        "    \"\"\"Return set of symbol pairs in a word.\n",
        "    Word is represented as a tuple of symbols (symbols being variable-length strings).\n",
        "    \"\"\"\n",
        "    pairs = set()\n",
        "    prev_char = word[0]\n",
        "    for char in word[1:]:\n",
        "        pairs.add((prev_char, char))\n",
        "        prev_char = char\n",
        "    return pairs"
      ],
      "execution_count": null,
      "outputs": []
    },
    {
      "cell_type": "code",
      "metadata": {
        "id": "wfb5PV0FlVcF"
      },
      "source": [
        "def encode(orig):\n",
        "    \"\"\"Encode word based on list of BPE merge operations, which are applied consecutively\"\"\"\n",
        "\n",
        "    word = tuple(orig) + ('</w>',) #문자열을 튜플로 변환\n",
        "    #display(Markdown(\"__word split into characters:__ <tt>{}</tt>\".format(word)))\n",
        "    print(\"__word split into characters:__ <tt>{}</tt>\".format(word))\n",
        "\n",
        "    pairs = get_pairs(word)    \n",
        "\n",
        "    if not pairs:\n",
        "        return orig\n",
        "\n",
        "    iteration = 0\n",
        "    while True:\n",
        "        iteration += 1\n",
        "        #display(Markdown(\"__Iteration {}:__\".format(iteration)))\n",
        "        print(\"__Iteration {}:__\".format(iteration))\n",
        "\n",
        "        print(\"bigrams in the word: {}\".format(pairs))\n",
        "        bigram = min(pairs, key = lambda pair: bpe_codes.get(pair, float('inf')))\n",
        "        print(\"candidate for merging: {}\".format(bigram))\n",
        "        if bigram not in bpe_codes:\n",
        "            #display(Markdown(\"__Candidate not in BPE merges, algorithm stops.__\"))\n",
        "            print(\"__Candidate not in BPE merges, algorithm stops.__\")\n",
        "            break\n",
        "        first, second = bigram\n",
        "        new_word = []\n",
        "        i = 0\n",
        "        while i < len(word):\n",
        "            try:\n",
        "                j = word.index(first, i)\n",
        "                new_word.extend(word[i:j])\n",
        "                i = j\n",
        "            except:\n",
        "                new_word.extend(word[i:])\n",
        "                break\n",
        "\n",
        "            if word[i] == first and i < len(word)-1 and word[i+1] == second:\n",
        "                new_word.append(first+second)\n",
        "                i += 2\n",
        "            else:\n",
        "                new_word.append(word[i])\n",
        "                i += 1\n",
        "        new_word = tuple(new_word)\n",
        "        word = new_word\n",
        "        print(\"word after merging: {}\".format(word))\n",
        "        if len(word) == 1:\n",
        "            break\n",
        "        else:\n",
        "            pairs = get_pairs(word)\n",
        "\n",
        "    # 특별 토큰인 </w>는 출력하지 않는다.\n",
        "    if word[-1] == '</w>':\n",
        "        word = word[:-1]\n",
        "    elif word[-1].endswith('</w>'):\n",
        "        word = word[:-1] + (word[-1].replace('</w>',''),)\n",
        "\n",
        "    return word"
      ],
      "execution_count": null,
      "outputs": []
    },
    {
      "cell_type": "code",
      "metadata": {
        "colab": {
          "base_uri": "https://localhost:8080/"
        },
        "id": "BTPeYl9um9hN",
        "outputId": "69be2ddc-fea0-4d48-db01-a7ffd650d4b8"
      },
      "source": [
        "encode(\"loki\")"
      ],
      "execution_count": null,
      "outputs": [
        {
          "output_type": "stream",
          "text": [
            "__word split into characters:__ <tt>('l', 'o', 'k', 'i', '</w>')</tt>\n",
            "__Iteration 1:__\n",
            "bigrams in the word: {('o', 'k'), ('i', '</w>'), ('l', 'o'), ('k', 'i')}\n",
            "candidate for merging: ('l', 'o')\n",
            "word after merging: ('lo', 'k', 'i', '</w>')\n",
            "__Iteration 2:__\n",
            "bigrams in the word: {('lo', 'k'), ('i', '</w>'), ('k', 'i')}\n",
            "candidate for merging: ('lo', 'k')\n",
            "__Candidate not in BPE merges, algorithm stops.__\n"
          ],
          "name": "stdout"
        },
        {
          "output_type": "execute_result",
          "data": {
            "text/plain": [
              "('lo', 'k', 'i')"
            ]
          },
          "metadata": {
            "tags": []
          },
          "execution_count": 11
        }
      ]
    },
    {
      "cell_type": "code",
      "metadata": {
        "colab": {
          "base_uri": "https://localhost:8080/"
        },
        "id": "_tNIBlGQn7Mz",
        "outputId": "e630f520-f9d3-450c-bde5-60a08dd4039e"
      },
      "source": [
        "encode(\"lowest\")"
      ],
      "execution_count": null,
      "outputs": [
        {
          "output_type": "stream",
          "text": [
            "__word split into characters:__ <tt>('l', 'o', 'w', 'e', 's', 't', '</w>')</tt>\n",
            "__Iteration 1:__\n",
            "bigrams in the word: {('e', 's'), ('t', '</w>'), ('s', 't'), ('o', 'w'), ('l', 'o'), ('w', 'e')}\n",
            "candidate for merging: ('e', 's')\n",
            "word after merging: ('l', 'o', 'w', 'es', 't', '</w>')\n",
            "__Iteration 2:__\n",
            "bigrams in the word: {('t', '</w>'), ('w', 'es'), ('o', 'w'), ('l', 'o'), ('es', 't')}\n",
            "candidate for merging: ('es', 't')\n",
            "word after merging: ('l', 'o', 'w', 'est', '</w>')\n",
            "__Iteration 3:__\n",
            "bigrams in the word: {('est', '</w>'), ('l', 'o'), ('w', 'est'), ('o', 'w')}\n",
            "candidate for merging: ('est', '</w>')\n",
            "word after merging: ('l', 'o', 'w', 'est</w>')\n",
            "__Iteration 4:__\n",
            "bigrams in the word: {('w', 'est</w>'), ('l', 'o'), ('o', 'w')}\n",
            "candidate for merging: ('l', 'o')\n",
            "word after merging: ('lo', 'w', 'est</w>')\n",
            "__Iteration 5:__\n",
            "bigrams in the word: {('lo', 'w'), ('w', 'est</w>')}\n",
            "candidate for merging: ('lo', 'w')\n",
            "word after merging: ('low', 'est</w>')\n",
            "__Iteration 6:__\n",
            "bigrams in the word: {('low', 'est</w>')}\n",
            "candidate for merging: ('low', 'est</w>')\n",
            "__Candidate not in BPE merges, algorithm stops.__\n"
          ],
          "name": "stdout"
        },
        {
          "output_type": "execute_result",
          "data": {
            "text/plain": [
              "('low', 'est')"
            ]
          },
          "metadata": {
            "tags": []
          },
          "execution_count": 12
        }
      ]
    },
    {
      "cell_type": "code",
      "metadata": {
        "colab": {
          "base_uri": "https://localhost:8080/"
        },
        "id": "8ncvEQVeotm6",
        "outputId": "82c8fe96-1421-4f25-9931-6649b722ab90"
      },
      "source": [
        "encode(\"lowing\")"
      ],
      "execution_count": null,
      "outputs": [
        {
          "output_type": "stream",
          "text": [
            "__word split into characters:__ <tt>('l', 'o', 'w', 'i', 'n', 'g', '</w>')</tt>\n",
            "__Iteration 1:__\n",
            "bigrams in the word: {('n', 'g'), ('g', '</w>'), ('o', 'w'), ('l', 'o'), ('i', 'n'), ('w', 'i')}\n",
            "candidate for merging: ('l', 'o')\n",
            "word after merging: ('lo', 'w', 'i', 'n', 'g', '</w>')\n",
            "__Iteration 2:__\n",
            "bigrams in the word: {('n', 'g'), ('g', '</w>'), ('i', 'n'), ('w', 'i'), ('lo', 'w')}\n",
            "candidate for merging: ('lo', 'w')\n",
            "word after merging: ('low', 'i', 'n', 'g', '</w>')\n",
            "__Iteration 3:__\n",
            "bigrams in the word: {('g', '</w>'), ('n', 'g'), ('low', 'i'), ('i', 'n')}\n",
            "candidate for merging: ('g', '</w>')\n",
            "__Candidate not in BPE merges, algorithm stops.__\n"
          ],
          "name": "stdout"
        },
        {
          "output_type": "execute_result",
          "data": {
            "text/plain": [
              "('low', 'i', 'n', 'g')"
            ]
          },
          "metadata": {
            "tags": []
          },
          "execution_count": 13
        }
      ]
    },
    {
      "cell_type": "code",
      "metadata": {
        "colab": {
          "base_uri": "https://localhost:8080/"
        },
        "id": "mYW2LHmdpIJl",
        "outputId": "efb99440-7b76-44db-d5d4-addfb2c5c5bf"
      },
      "source": [
        "encode(\"highing\")"
      ],
      "execution_count": null,
      "outputs": [
        {
          "output_type": "stream",
          "text": [
            "__word split into characters:__ <tt>('h', 'i', 'g', 'h', 'i', 'n', 'g', '</w>')</tt>\n",
            "__Iteration 1:__\n",
            "bigrams in the word: {('n', 'g'), ('g', 'h'), ('g', '</w>'), ('h', 'i'), ('i', 'n'), ('i', 'g')}\n",
            "candidate for merging: ('n', 'g')\n",
            "__Candidate not in BPE merges, algorithm stops.__\n"
          ],
          "name": "stdout"
        },
        {
          "output_type": "execute_result",
          "data": {
            "text/plain": [
              "('h', 'i', 'g', 'h', 'i', 'n', 'g')"
            ]
          },
          "metadata": {
            "tags": []
          },
          "execution_count": 14
        }
      ]
    },
    {
      "cell_type": "markdown",
      "metadata": {
        "id": "EUicML8rzmB7"
      },
      "source": [
        "## IMDB리뷰 토큰화하기"
      ]
    },
    {
      "cell_type": "code",
      "metadata": {
        "id": "x6oI_qn9zqBS"
      },
      "source": [
        "import tensorflow_datasets as tfds\n",
        "import urllib.request\n",
        "import pandas as pd"
      ],
      "execution_count": null,
      "outputs": []
    },
    {
      "cell_type": "code",
      "metadata": {
        "colab": {
          "base_uri": "https://localhost:8080/"
        },
        "id": "YNxXtzC2z3Ta",
        "outputId": "63f464e0-e4df-4899-d7ed-d62bf07fd29c"
      },
      "source": [
        "urllib.request.urlretrieve(\"https://raw.githubusercontent.com/LawrenceDuan/IMDb-Review-Analysis/master/IMDb_Reviews.csv\", filename=\"IMDb_Reviews.csv\")"
      ],
      "execution_count": null,
      "outputs": [
        {
          "output_type": "execute_result",
          "data": {
            "text/plain": [
              "('IMDb_Reviews.csv', <http.client.HTTPMessage at 0x7f3a75ed3d10>)"
            ]
          },
          "metadata": {
            "tags": []
          },
          "execution_count": 16
        }
      ]
    },
    {
      "cell_type": "code",
      "metadata": {
        "id": "VIruxaRvz9NS"
      },
      "source": [
        "train_df = pd.read_csv('IMDb_Reviews.csv')"
      ],
      "execution_count": null,
      "outputs": []
    },
    {
      "cell_type": "code",
      "metadata": {
        "colab": {
          "base_uri": "https://localhost:8080/"
        },
        "id": "2LBAEEml0FIp",
        "outputId": "d3b0bb33-811d-4ce0-d46a-472d1da3996b"
      },
      "source": [
        "train_df['review']"
      ],
      "execution_count": null,
      "outputs": [
        {
          "output_type": "execute_result",
          "data": {
            "text/plain": [
              "0        My family and I normally do not watch local mo...\n",
              "1        Believe it or not, this was at one time the wo...\n",
              "2        After some internet surfing, I found the \"Home...\n",
              "3        One of the most unheralded great works of anim...\n",
              "4        It was the Sixties, and anyone with long hair ...\n",
              "                               ...                        \n",
              "49995    the people who came up with this are SICK AND ...\n",
              "49996    The script is so so laughable... this in turn,...\n",
              "49997    \"So there's this bride, you see, and she gets ...\n",
              "49998    Your mind will not be satisfied by this nobud...\n",
              "49999    The chaser's war on everything is a weekly sho...\n",
              "Name: review, Length: 50000, dtype: object"
            ]
          },
          "metadata": {
            "tags": []
          },
          "execution_count": 18
        }
      ]
    },
    {
      "cell_type": "code",
      "metadata": {
        "colab": {
          "base_uri": "https://localhost:8080/"
        },
        "id": "IbU8mqTl0JSK",
        "outputId": "4d75bc36-bd09-44b9-d2b2-205333840ac3"
      },
      "source": [
        "train_df['sentiment']"
      ],
      "execution_count": null,
      "outputs": [
        {
          "output_type": "execute_result",
          "data": {
            "text/plain": [
              "0        1\n",
              "1        0\n",
              "2        0\n",
              "3        1\n",
              "4        0\n",
              "        ..\n",
              "49995    0\n",
              "49996    0\n",
              "49997    0\n",
              "49998    0\n",
              "49999    1\n",
              "Name: sentiment, Length: 50000, dtype: int64"
            ]
          },
          "metadata": {
            "tags": []
          },
          "execution_count": 19
        }
      ]
    },
    {
      "cell_type": "markdown",
      "metadata": {
        "id": "4tmmDcnF16FM"
      },
      "source": [
        "\n",
        "\n",
        "> Wordpiece Model\n",
        "\n"
      ]
    },
    {
      "cell_type": "code",
      "metadata": {
        "id": "X0i96e2P0VGh"
      },
      "source": [
        "tokenizer = tfds.deprecated.text.SubwordTextEncoder.build_from_corpus(train_df['review'], target_vocab_size=2**13)"
      ],
      "execution_count": null,
      "outputs": []
    },
    {
      "cell_type": "code",
      "metadata": {
        "colab": {
          "base_uri": "https://localhost:8080/"
        },
        "id": "UvhYmskq0t63",
        "outputId": "f6c54ba0-2d64-49f9-904c-86bef8173d48"
      },
      "source": [
        "print(tokenizer.subwords[:100])"
      ],
      "execution_count": null,
      "outputs": [
        {
          "output_type": "stream",
          "text": [
            "['the_', ', ', '. ', 'a_', 'and_', 'of_', 'to_', 's_', 'is_', 'br', 'in_', 'I_', 'that_', 'this_', 'it_', ' /><', ' />', 'was_', 'The_', 't_', 'as_', 'with_', 'for_', '.<', 'on_', 'but_', 'movie_', 'are_', ' (', 'have_', 'his_', 'film_', 'not_', 'be_', 'you_', 'ing_', ' \"', 'ed_', 'it', 'd_', 'an_', 'at_', 'by_', 'he_', 'one_', 'who_', 'from_', 'y_', 'or_', 'e_', 'like_', 'all_', '\" ', 'they_', 'so_', 'just_', 'has_', ') ', 'about_', 'her_', 'out_', 'This_', 'some_', 'movie', 'ly_', 'film', 'very_', 'more_', 'It_', 'what_', 'would_', 'when_', 'if_', 'good_', 'up_', 'which_', 'their_', 'only_', 'even_', 'my_', 'really_', 'had_', 'can_', 'no_', 'were_', 'see_', '? ', 'she_', 'than_', '! ', 'there_', 'been_', 'get_', 'into_', 'will_', ' - ', 'much_', 'n_', 'because_', 'ing']\n"
          ],
          "name": "stdout"
        }
      ]
    },
    {
      "cell_type": "code",
      "metadata": {
        "colab": {
          "base_uri": "https://localhost:8080/"
        },
        "id": "rbfVMKTR2BDy",
        "outputId": "c5f2bc4e-135a-427c-8469-25cb06d4e89d"
      },
      "source": [
        "print(train_df['review'][20])\n",
        "# 21번째 샘플을 출력"
      ],
      "execution_count": null,
      "outputs": [
        {
          "output_type": "stream",
          "text": [
            "Pretty bad PRC cheapie which I rarely bother to watch over again, and it's no wonder -- it's slow and creaky and dull as a butter knife. Mad doctor George Zucco is at it again, turning a dimwitted farmhand in overalls (Glenn Strange) into a wolf-man. Unfortunately, the makeup is virtually non-existent, consisting only of a beard and dimestore fangs for the most part. If it were not for Zucco and Strange's presence, along with the cute Anne Nagel, this would be completely unwatchable. Strange, who would go on to play Frankenstein's monster for Unuiversal in two years, does a Lenny impression from \"Of Mice and Men\", it seems.<br /><br />*1/2 (of Four)\n"
          ],
          "name": "stdout"
        }
      ]
    },
    {
      "cell_type": "code",
      "metadata": {
        "colab": {
          "base_uri": "https://localhost:8080/"
        },
        "id": "aIRI3OnQ2O9h",
        "outputId": "5553de5b-e5bb-4955-f123-ac5b02c68eb6"
      },
      "source": [
        "print(\"토큰화된 샘플 질문 : {}\".format(tokenizer.encode(train_df['review'][20])))"
      ],
      "execution_count": null,
      "outputs": [
        {
          "output_type": "stream",
          "text": [
            "토큰화된 샘플 질문 : [1590, 4162, 132, 7107, 1892, 2983, 578, 76, 12, 4632, 3422, 7, 160, 175, 372, 2, 5, 39, 8051, 8, 84, 2652, 497, 39, 8051, 8, 1374, 5, 3461, 2012, 48, 5, 2263, 21, 4, 2992, 127, 4729, 711, 3, 1391, 8044, 3557, 1277, 8102, 2154, 5681, 9, 42, 15, 372, 2, 3773, 4, 3502, 2308, 467, 4890, 1503, 11, 3347, 1419, 8127, 29, 5539, 98, 6099, 58, 94, 4, 1388, 4230, 8057, 213, 3, 1966, 2, 1, 6700, 8044, 9, 7069, 716, 8057, 6600, 2, 4102, 36, 78, 6, 4, 1865, 40, 5, 3502, 1043, 1645, 8044, 1000, 1813, 23, 1, 105, 1128, 3, 156, 15, 85, 33, 23, 8102, 2154, 5681, 5, 6099, 8051, 8, 7271, 1055, 2, 534, 22, 1, 3046, 5214, 810, 634, 8120, 2, 14, 71, 34, 436, 3311, 5447, 783, 3, 6099, 2, 46, 71, 193, 25, 7, 428, 2274, 2260, 6487, 8051, 8, 2149, 23, 1138, 4117, 6023, 163, 11, 148, 735, 2, 164, 4, 5277, 921, 3395, 1262, 37, 639, 1349, 349, 5, 2460, 328, 15, 5349, 8127, 24, 10, 16, 10, 17, 8054, 8061, 8059, 8062, 29, 6, 6607, 8126, 8053]\n"
          ],
          "name": "stdout"
        }
      ]
    },
    {
      "cell_type": "code",
      "metadata": {
        "colab": {
          "base_uri": "https://localhost:8080/"
        },
        "id": "kIdza5FY2kHZ",
        "outputId": "07b0315c-2098-47d4-8936-5084fd7bde5a"
      },
      "source": [
        "sample_string1 = \"It's mind-blowing to me that this film was even made.\"\n",
        "\n",
        "# 인코딩해서 저장\n",
        "tokenized_string1 = tokenizer.encode(sample_string1)\n",
        "print('정수 인코딩 후의 문장 {}'.format(tokenized_string1))\n",
        "\n",
        "# 이를 다시 디코딩하자!\n",
        "oringinal_string = tokenizer.decode(tokenized_string1)\n",
        "print('기존 문장: {}'.format(oringinal_string))"
      ],
      "execution_count": null,
      "outputs": [
        {
          "output_type": "stream",
          "text": [
            "정수 인코딩 후의 문장 [137, 8051, 8, 910, 8057, 2169, 36, 7, 103, 13, 14, 32, 18, 79, 681, 8058]\n",
            "기존 문장: It's mind-blowing to me that this film was even made.\n"
          ],
          "name": "stdout"
        }
      ]
    },
    {
      "cell_type": "code",
      "metadata": {
        "colab": {
          "base_uri": "https://localhost:8080/"
        },
        "id": "yibtROju87R2",
        "outputId": "e97ba1d6-573b-4adb-a674-ea03cc607046"
      },
      "source": [
        "sample_string2 = \"It's mind-blowing to me that this film was even made.\"\n",
        "\n",
        "# 인코딩해서 저장\n",
        "tokenized_string2 = tokenizer.encode(sample_string2)\n",
        "print('정수 인코딩 후의 문장 {}'.format(tokenized_string2))\n",
        "\n",
        "# 이를 다시 디코딩하자!\n",
        "oringinal_string = tokenizer.decode(tokenized_string2)\n",
        "print('기존 문장: {}'.format(oringinal_string))"
      ],
      "execution_count": null,
      "outputs": [
        {
          "output_type": "stream",
          "text": [
            "정수 인코딩 후의 문장 [137, 8051, 8, 910, 8057, 2169, 36, 7, 103, 13, 14, 32, 18, 79, 681, 8058]\n",
            "기존 문장: It's mind-blowing to me that this film was even made.\n"
          ],
          "name": "stdout"
        }
      ]
    },
    {
      "cell_type": "code",
      "metadata": {
        "colab": {
          "base_uri": "https://localhost:8080/"
        },
        "id": "N8TH1p723NJr",
        "outputId": "ebe95b1c-9450-4145-94a1-4adf5c0d6842"
      },
      "source": [
        "print('단어 집합의 크기(Vocab size) :', tokenizer.vocab_size)"
      ],
      "execution_count": null,
      "outputs": [
        {
          "output_type": "stream",
          "text": [
            "단어 집합의 크기(Vocab size) : 8268\n"
          ],
          "name": "stdout"
        }
      ]
    },
    {
      "cell_type": "code",
      "metadata": {
        "colab": {
          "base_uri": "https://localhost:8080/"
        },
        "id": "lrj1pUoa4qlz",
        "outputId": "f477b9f6-c87c-465a-8fb3-c66d75ad62c2"
      },
      "source": [
        "for ts in tokenized_string1:\n",
        "  print('{} ----> {}'.format(ts, tokenizer.decode([ts])))"
      ],
      "execution_count": null,
      "outputs": [
        {
          "output_type": "stream",
          "text": [
            "137 ----> It\n",
            "8051 ----> '\n",
            "8 ----> s \n",
            "910 ----> mind\n",
            "8057 ----> -\n",
            "2169 ----> blow\n",
            "36 ----> ing \n",
            "7 ----> to \n",
            "103 ----> me \n",
            "13 ----> that \n",
            "14 ----> this \n",
            "32 ----> film \n",
            "18 ----> was \n",
            "79 ----> even \n",
            "681 ----> made\n",
            "8058 ----> .\n"
          ],
          "name": "stdout"
        }
      ]
    },
    {
      "cell_type": "code",
      "metadata": {
        "id": "EZfyr8Fg5JQK"
      },
      "source": [
        "sample_string = \"It's mind-blowing to me that this film was evenxyz made.\""
      ],
      "execution_count": null,
      "outputs": []
    },
    {
      "cell_type": "code",
      "metadata": {
        "colab": {
          "base_uri": "https://localhost:8080/"
        },
        "id": "4tgDmNOf6R7i",
        "outputId": "89183a04-dbbb-4796-a240-14c649a2a8e3"
      },
      "source": [
        "tokenized_string = tokenizer.encode(sample_string)\n",
        "print('정수 인코딩 후의 문장 {}'.format(tokenized_string))\n",
        "\n",
        "#이를 다시 디코딩\n",
        "oringinal_string = tokenizer.decode(tokenized_string)\n",
        "print('기존 문장: {}'.format(oringinal_string))"
      ],
      "execution_count": null,
      "outputs": [
        {
          "output_type": "stream",
          "text": [
            "정수 인코딩 후의 문장 [137, 8051, 8, 910, 8057, 2169, 36, 7, 103, 13, 14, 32, 18, 7974, 8132, 8133, 997, 681, 8058]\n",
            "기존 문장: It's mind-blowing to me that this film was evenxyz made.\n"
          ],
          "name": "stdout"
        }
      ]
    },
    {
      "cell_type": "code",
      "metadata": {
        "colab": {
          "base_uri": "https://localhost:8080/"
        },
        "id": "tsuclQkC6kMs",
        "outputId": "0f068985-497f-473a-a2c2-2e15e181ec7a"
      },
      "source": [
        "for ts in tokenized_string:\n",
        "  print('{} ----> {}'.format(ts, tokenizer.decode([ts])))"
      ],
      "execution_count": null,
      "outputs": [
        {
          "output_type": "stream",
          "text": [
            "137 ----> It\n",
            "8051 ----> '\n",
            "8 ----> s \n",
            "910 ----> mind\n",
            "8057 ----> -\n",
            "2169 ----> blow\n",
            "36 ----> ing \n",
            "7 ----> to \n",
            "103 ----> me \n",
            "13 ----> that \n",
            "14 ----> this \n",
            "32 ----> film \n",
            "18 ----> was \n",
            "7974 ----> even\n",
            "8132 ----> x\n",
            "8133 ----> y\n",
            "997 ----> z \n",
            "681 ----> made\n",
            "8058 ----> .\n"
          ],
          "name": "stdout"
        }
      ]
    },
    {
      "cell_type": "markdown",
      "metadata": {
        "id": "x_YR2n7VubTB"
      },
      "source": [
        "## 파이썬 TF-IDF 구현"
      ]
    },
    {
      "cell_type": "code",
      "metadata": {
        "id": "aIRhmG0B6tXw"
      },
      "source": [
        "import pandas as pd\n",
        "from math import log"
      ],
      "execution_count": null,
      "outputs": []
    },
    {
      "cell_type": "code",
      "metadata": {
        "id": "3RL9aOPeuscX"
      },
      "source": [
        "docs = [\n",
        "        '먹고 싶은 사과',\n",
        "        '먹고 싶은 바나나',\n",
        "        '길고 노란 바나나 바나나',\n",
        "        '저는 과일이 좋아요'\n",
        "]"
      ],
      "execution_count": null,
      "outputs": []
    },
    {
      "cell_type": "code",
      "metadata": {
        "id": "xa6_5d6yu5s4"
      },
      "source": [
        "# 각 문장의 단어들을 리스트로 뽑는다.\n",
        "vocab = list(set(w for doc in docs for w in doc.split()))\n",
        "vocab.sort()"
      ],
      "execution_count": null,
      "outputs": []
    },
    {
      "cell_type": "code",
      "metadata": {
        "colab": {
          "base_uri": "https://localhost:8080/"
        },
        "id": "nrcyftw2vBHP",
        "outputId": "ea109acc-99c6-4f5c-caaf-e5b3d7444f7a"
      },
      "source": [
        "print(vocab)"
      ],
      "execution_count": null,
      "outputs": [
        {
          "output_type": "stream",
          "text": [
            "['과일이', '길고', '노란', '먹고', '바나나', '사과', '싶은', '저는', '좋아요']\n"
          ],
          "name": "stdout"
        }
      ]
    },
    {
      "cell_type": "code",
      "metadata": {
        "colab": {
          "base_uri": "https://localhost:8080/"
        },
        "id": "ZMHfUEDUvHSg",
        "outputId": "bc9229aa-bb70-498a-bbd5-ad62a4262a75"
      },
      "source": [
        "#문장은 4개문장\n",
        "N = len(docs)\n",
        "print(N)"
      ],
      "execution_count": null,
      "outputs": [
        {
          "output_type": "stream",
          "text": [
            "4\n"
          ],
          "name": "stdout"
        }
      ]
    },
    {
      "cell_type": "code",
      "metadata": {
        "id": "GdSx4qUfxS_M"
      },
      "source": [
        "def tf(t,d):\n",
        "  return d.count(t)"
      ],
      "execution_count": null,
      "outputs": []
    },
    {
      "cell_type": "code",
      "metadata": {
        "id": "DSVIAYtcvX-A"
      },
      "source": [
        "# IDF 값 출력\n",
        "def idf(t):\n",
        "  df = 0\n",
        "  print(\"in idf->t->\",t)\n",
        "  \n",
        "  for doc in docs:\n",
        "   # print(\"doc->\",doc)\n",
        "    df += t in doc\n",
        "   # print(\"t->\",t)\n",
        "   # print(\"df->\", df)\n",
        "  return log(N/(df+1))"
      ],
      "execution_count": null,
      "outputs": []
    },
    {
      "cell_type": "code",
      "metadata": {
        "id": "YtsjWBNkvZ84"
      },
      "source": [
        "# TD-IDF 어떤 단어 t가 문장내에서 얼마나 중요한지 나타냄\n",
        "# TF(TERM FREQUENCY) 단어의 문서내에 출현한 횟수\n",
        "# IDF 그 단어가 출현한 문서의 숫자의 역수 -> IDF는 클수록 좋다 즉 DF는 작을 수록 좋다. 왜냐 'The'같은 의미없는단어\n",
        "def tfidf(t, d):\n",
        "  return tf(t,d)* idf(t)"
      ],
      "execution_count": null,
      "outputs": []
    },
    {
      "cell_type": "code",
      "metadata": {
        "colab": {
          "base_uri": "https://localhost:8080/",
          "height": 805
        },
        "id": "0AbmrZedvpch",
        "outputId": "a36324d0-270c-4e4a-d898-2354e550e9e8"
      },
      "source": [
        "result = []\n",
        "# 4개 문장\n",
        "for i in range(N):\n",
        "  result.append([])\n",
        "  d = docs[i] #1번째 문장부터 순차적으로 처리\n",
        "  for j in range(len(vocab)): #첫번째 문장의 단어는 3개\n",
        "    t = vocab[j] # t에다 각 문장의 단어를 assign\n",
        "    result[-1].append(tfidf(t,d)) # t:단어 d:문장\n",
        "tfidf_ = pd.DataFrame(result, columns = vocab)\n",
        "tfidf_"
      ],
      "execution_count": null,
      "outputs": [
        {
          "output_type": "stream",
          "text": [
            "in idf->t-> 과일이\n",
            "in idf->t-> 길고\n",
            "in idf->t-> 노란\n",
            "in idf->t-> 먹고\n",
            "in idf->t-> 바나나\n",
            "in idf->t-> 사과\n",
            "in idf->t-> 싶은\n",
            "in idf->t-> 저는\n",
            "in idf->t-> 좋아요\n",
            "in idf->t-> 과일이\n",
            "in idf->t-> 길고\n",
            "in idf->t-> 노란\n",
            "in idf->t-> 먹고\n",
            "in idf->t-> 바나나\n",
            "in idf->t-> 사과\n",
            "in idf->t-> 싶은\n",
            "in idf->t-> 저는\n",
            "in idf->t-> 좋아요\n",
            "in idf->t-> 과일이\n",
            "in idf->t-> 길고\n",
            "in idf->t-> 노란\n",
            "in idf->t-> 먹고\n",
            "in idf->t-> 바나나\n",
            "in idf->t-> 사과\n",
            "in idf->t-> 싶은\n",
            "in idf->t-> 저는\n",
            "in idf->t-> 좋아요\n",
            "in idf->t-> 과일이\n",
            "in idf->t-> 길고\n",
            "in idf->t-> 노란\n",
            "in idf->t-> 먹고\n",
            "in idf->t-> 바나나\n",
            "in idf->t-> 사과\n",
            "in idf->t-> 싶은\n",
            "in idf->t-> 저는\n",
            "in idf->t-> 좋아요\n"
          ],
          "name": "stdout"
        },
        {
          "output_type": "execute_result",
          "data": {
            "text/html": [
              "<div>\n",
              "<style scoped>\n",
              "    .dataframe tbody tr th:only-of-type {\n",
              "        vertical-align: middle;\n",
              "    }\n",
              "\n",
              "    .dataframe tbody tr th {\n",
              "        vertical-align: top;\n",
              "    }\n",
              "\n",
              "    .dataframe thead th {\n",
              "        text-align: right;\n",
              "    }\n",
              "</style>\n",
              "<table border=\"1\" class=\"dataframe\">\n",
              "  <thead>\n",
              "    <tr style=\"text-align: right;\">\n",
              "      <th></th>\n",
              "      <th>과일이</th>\n",
              "      <th>길고</th>\n",
              "      <th>노란</th>\n",
              "      <th>먹고</th>\n",
              "      <th>바나나</th>\n",
              "      <th>사과</th>\n",
              "      <th>싶은</th>\n",
              "      <th>저는</th>\n",
              "      <th>좋아요</th>\n",
              "    </tr>\n",
              "  </thead>\n",
              "  <tbody>\n",
              "    <tr>\n",
              "      <th>0</th>\n",
              "      <td>0.000000</td>\n",
              "      <td>0.000000</td>\n",
              "      <td>0.000000</td>\n",
              "      <td>0.287682</td>\n",
              "      <td>0.000000</td>\n",
              "      <td>0.693147</td>\n",
              "      <td>0.287682</td>\n",
              "      <td>0.000000</td>\n",
              "      <td>0.000000</td>\n",
              "    </tr>\n",
              "    <tr>\n",
              "      <th>1</th>\n",
              "      <td>0.000000</td>\n",
              "      <td>0.000000</td>\n",
              "      <td>0.000000</td>\n",
              "      <td>0.287682</td>\n",
              "      <td>0.287682</td>\n",
              "      <td>0.000000</td>\n",
              "      <td>0.287682</td>\n",
              "      <td>0.000000</td>\n",
              "      <td>0.000000</td>\n",
              "    </tr>\n",
              "    <tr>\n",
              "      <th>2</th>\n",
              "      <td>0.000000</td>\n",
              "      <td>0.693147</td>\n",
              "      <td>0.693147</td>\n",
              "      <td>0.000000</td>\n",
              "      <td>0.575364</td>\n",
              "      <td>0.000000</td>\n",
              "      <td>0.000000</td>\n",
              "      <td>0.000000</td>\n",
              "      <td>0.000000</td>\n",
              "    </tr>\n",
              "    <tr>\n",
              "      <th>3</th>\n",
              "      <td>0.693147</td>\n",
              "      <td>0.000000</td>\n",
              "      <td>0.000000</td>\n",
              "      <td>0.000000</td>\n",
              "      <td>0.000000</td>\n",
              "      <td>0.000000</td>\n",
              "      <td>0.000000</td>\n",
              "      <td>0.693147</td>\n",
              "      <td>0.693147</td>\n",
              "    </tr>\n",
              "  </tbody>\n",
              "</table>\n",
              "</div>"
            ],
            "text/plain": [
              "        과일이        길고        노란  ...        싶은        저는       좋아요\n",
              "0  0.000000  0.000000  0.000000  ...  0.287682  0.000000  0.000000\n",
              "1  0.000000  0.000000  0.000000  ...  0.287682  0.000000  0.000000\n",
              "2  0.000000  0.693147  0.693147  ...  0.000000  0.000000  0.000000\n",
              "3  0.693147  0.000000  0.000000  ...  0.000000  0.693147  0.693147\n",
              "\n",
              "[4 rows x 9 columns]"
            ]
          },
          "metadata": {
            "tags": []
          },
          "execution_count": 39
        }
      ]
    },
    {
      "cell_type": "code",
      "metadata": {
        "id": "2otJe_RUwDaB"
      },
      "source": [
        "#docs = [\n",
        "#        '먹고 싶은 사과',\n",
        "#        '먹고 싶은 바나나',\n",
        "#        '길고 노란 바나나 바나나',\n",
        "#        '저는 과일이 좋아요'\n",
        "#]"
      ],
      "execution_count": null,
      "outputs": []
    },
    {
      "cell_type": "markdown",
      "metadata": {
        "id": "6z_3yh4jyzEx"
      },
      "source": [
        "## 싸이킷런을 이용한 TF-IDF실습"
      ]
    },
    {
      "cell_type": "code",
      "metadata": {
        "id": "sBnKNzxLy1Sb"
      },
      "source": [
        "from sklearn.feature_extraction.text import TfidfVectorizer"
      ],
      "execution_count": null,
      "outputs": []
    },
    {
      "cell_type": "code",
      "metadata": {
        "id": "xPvnGBr5y-hu"
      },
      "source": [
        "corpus = [\n",
        "        '먹고 싶은 사과',\n",
        "        '먹고 싶은 바나나',\n",
        "        '길고 노란 바나나 바나나',\n",
        "        '저는 과일이 좋아요'\n",
        "]"
      ],
      "execution_count": null,
      "outputs": []
    },
    {
      "cell_type": "code",
      "metadata": {
        "colab": {
          "base_uri": "https://localhost:8080/"
        },
        "id": "nCbbIf6IzC9X",
        "outputId": "b90cb158-6a2f-44cb-b7e6-1a724a6e86d8"
      },
      "source": [
        "tfidfv = TfidfVectorizer().fit(corpus)\n",
        "\n",
        "print(tfidfv.transform(corpus).toarray())\n",
        "print(tfidfv.vocabulary_)"
      ],
      "execution_count": null,
      "outputs": [
        {
          "output_type": "stream",
          "text": [
            "[[0.         0.         0.         0.52640543 0.         0.66767854\n",
            "  0.52640543 0.         0.        ]\n",
            " [0.         0.         0.         0.57735027 0.57735027 0.\n",
            "  0.57735027 0.         0.        ]\n",
            " [0.         0.47212003 0.47212003 0.         0.7444497  0.\n",
            "  0.         0.         0.        ]\n",
            " [0.57735027 0.         0.         0.         0.         0.\n",
            "  0.         0.57735027 0.57735027]]\n",
            "{'먹고': 3, '싶은': 6, '사과': 5, '바나나': 4, '길고': 1, '노란': 2, '저는': 7, '과일이': 0, '좋아요': 8}\n"
          ],
          "name": "stdout"
        }
      ]
    },
    {
      "cell_type": "markdown",
      "metadata": {
        "id": "uaMKTvyj0k9g"
      },
      "source": [
        "## 로이터 데이터로 TF-IDF 학습하기"
      ]
    },
    {
      "cell_type": "code",
      "metadata": {
        "id": "1-t1DGta0nfq"
      },
      "source": [
        "from tensorflow.keras.datasets import reuters\n",
        "import matplotlib.pyplot as plt\n",
        "import seaborn as sns\n",
        "import numpy as np\n",
        "import pandas as pd"
      ],
      "execution_count": null,
      "outputs": []
    },
    {
      "cell_type": "code",
      "metadata": {
        "colab": {
          "base_uri": "https://localhost:8080/"
        },
        "id": "9V6LRB6A0zB4",
        "outputId": "6e147e9c-37c9-41b4-ec48-846ad3fadaac"
      },
      "source": [
        "(x_train, y_train), (x_test, y_test) = reuters.load_data(num_words=10000, test_split=0.2)\n",
        "\n",
        "print(x_train)\n",
        "print(y_train)"
      ],
      "execution_count": null,
      "outputs": [
        {
          "output_type": "stream",
          "text": [
            "[list([1, 2, 2, 8, 43, 10, 447, 5, 25, 207, 270, 5, 3095, 111, 16, 369, 186, 90, 67, 7, 89, 5, 19, 102, 6, 19, 124, 15, 90, 67, 84, 22, 482, 26, 7, 48, 4, 49, 8, 864, 39, 209, 154, 6, 151, 6, 83, 11, 15, 22, 155, 11, 15, 7, 48, 9, 4579, 1005, 504, 6, 258, 6, 272, 11, 15, 22, 134, 44, 11, 15, 16, 8, 197, 1245, 90, 67, 52, 29, 209, 30, 32, 132, 6, 109, 15, 17, 12])\n",
            " list([1, 3267, 699, 3434, 2295, 56, 2, 7511, 9, 56, 3906, 1073, 81, 5, 1198, 57, 366, 737, 132, 20, 4093, 7, 2, 49, 2295, 2, 1037, 3267, 699, 3434, 8, 7, 10, 241, 16, 855, 129, 231, 783, 5, 4, 587, 2295, 2, 2, 775, 7, 48, 34, 191, 44, 35, 1795, 505, 17, 12])\n",
            " list([1, 53, 12, 284, 15, 14, 272, 26, 53, 959, 32, 818, 15, 14, 272, 26, 39, 684, 70, 11, 14, 12, 3886, 18, 180, 183, 187, 70, 11, 14, 102, 32, 11, 29, 53, 44, 704, 15, 14, 19, 758, 15, 53, 959, 47, 1013, 15, 14, 19, 132, 15, 39, 965, 32, 11, 14, 147, 72, 11, 180, 183, 187, 44, 11, 14, 102, 19, 11, 123, 186, 90, 67, 960, 4, 78, 13, 68, 467, 511, 110, 59, 89, 90, 67, 1390, 55, 2678, 92, 617, 80, 1274, 46, 905, 220, 13, 4, 346, 48, 235, 629, 5, 211, 5, 1118, 7, 2, 81, 5, 187, 11, 15, 9, 1709, 201, 5, 47, 3615, 18, 478, 4514, 5, 1118, 7, 232, 2, 71, 5, 160, 63, 11, 9, 2, 81, 5, 102, 59, 11, 17, 12])\n",
            " ...\n",
            " list([1, 141, 3890, 387, 81, 8, 16, 1629, 10, 340, 1241, 850, 31, 56, 3890, 691, 9, 1241, 71, 9, 5985, 2, 2, 699, 2, 2, 2, 699, 244, 5945, 4, 49, 8, 4, 656, 850, 33, 2993, 9, 2139, 340, 3371, 1493, 9, 2, 22, 2, 1094, 687, 83, 35, 15, 257, 6, 57, 9190, 7, 4, 5956, 654, 5, 2, 6191, 1371, 4, 49, 8, 16, 369, 646, 6, 1076, 7, 124, 407, 17, 12])\n",
            " list([1, 53, 46, 957, 26, 14, 74, 132, 26, 39, 46, 258, 3614, 18, 14, 74, 134, 5131, 18, 88, 2321, 72, 11, 14, 1842, 32, 11, 123, 383, 89, 39, 46, 235, 10, 864, 728, 5, 258, 44, 11, 15, 22, 753, 9, 42, 92, 131, 728, 5, 69, 312, 11, 15, 22, 222, 2, 3237, 383, 48, 39, 74, 235, 10, 864, 276, 5, 61, 32, 11, 15, 21, 4, 211, 5, 126, 1072, 42, 92, 131, 46, 19, 352, 11, 15, 22, 710, 220, 9, 42, 92, 131, 276, 5, 59, 61, 11, 15, 22, 10, 455, 7, 1172, 137, 336, 1325, 6, 1532, 142, 971, 6463, 43, 359, 5, 4, 326, 753, 364, 17, 12])\n",
            " list([1, 227, 2406, 91, 2, 125, 2855, 21, 4, 3976, 76, 7, 4, 757, 481, 3976, 790, 5259, 5654, 9, 111, 149, 8, 7, 10, 76, 223, 51, 4, 417, 8, 1047, 91, 6917, 1688, 340, 7, 194, 9411, 6, 1894, 21, 127, 2151, 2394, 1456, 6, 3034, 4, 329, 433, 7, 65, 87, 1127, 10, 8219, 1475, 290, 9, 21, 567, 16, 1926, 24, 4, 76, 209, 30, 4033, 6655, 5654, 8, 4, 60, 8, 4, 966, 308, 40, 2575, 129, 2, 295, 277, 1071, 9, 24, 286, 2114, 234, 222, 9, 4, 906, 3994, 8519, 114, 5758, 1752, 7, 4, 113, 17, 12])]\n",
            "[ 3  4  3 ... 25  3 25]\n"
          ],
          "name": "stdout"
        },
        {
          "output_type": "stream",
          "text": [
            "/usr/local/lib/python3.7/dist-packages/tensorflow/python/keras/datasets/reuters.py:143: VisibleDeprecationWarning: Creating an ndarray from ragged nested sequences (which is a list-or-tuple of lists-or-tuples-or ndarrays with different lengths or shapes) is deprecated. If you meant to do this, you must specify 'dtype=object' when creating the ndarray\n",
            "  x_train, y_train = np.array(xs[:idx]), np.array(labels[:idx])\n",
            "/usr/local/lib/python3.7/dist-packages/tensorflow/python/keras/datasets/reuters.py:144: VisibleDeprecationWarning: Creating an ndarray from ragged nested sequences (which is a list-or-tuple of lists-or-tuples-or ndarrays with different lengths or shapes) is deprecated. If you meant to do this, you must specify 'dtype=object' when creating the ndarray\n",
            "  x_test, y_test = np.array(xs[idx:]), np.array(labels[idx:])\n"
          ],
          "name": "stderr"
        }
      ]
    },
    {
      "cell_type": "code",
      "metadata": {
        "colab": {
          "base_uri": "https://localhost:8080/"
        },
        "id": "9XhH6Z8h1Je_",
        "outputId": "38dfe9af-8b2b-4b5f-e4cc-53112af007e5"
      },
      "source": [
        "print('훈련 샘플의 수 : {}'.format(len(x_train))) # 훈련 분류된 총 기사 갯수"
      ],
      "execution_count": null,
      "outputs": [
        {
          "output_type": "stream",
          "text": [
            "훈련 샘플의 수 : 8982\n"
          ],
          "name": "stdout"
        }
      ]
    },
    {
      "cell_type": "code",
      "metadata": {
        "colab": {
          "base_uri": "https://localhost:8080/"
        },
        "id": "bd9jh1zs1UjG",
        "outputId": "966cea42-2584-43d3-88dd-df6f2db5a052"
      },
      "source": [
        "print('테스트 샘플의 수 : {}'.format(len(x_test))) # 테스트 분류된 총 기사 갯수"
      ],
      "execution_count": null,
      "outputs": [
        {
          "output_type": "stream",
          "text": [
            "테스트 샘플의 수 : 2246\n"
          ],
          "name": "stdout"
        }
      ]
    },
    {
      "cell_type": "code",
      "metadata": {
        "colab": {
          "base_uri": "https://localhost:8080/"
        },
        "id": "2Km-1Lr71aJv",
        "outputId": "710e0de5-78e8-4c35-a7ed-5aaaf11e9326"
      },
      "source": [
        "print(type(x_train)) # x_train numpy type-> 2차원 행렬 행: 기사의 갯수  \n",
        "print(x_train)\n",
        "print(x_test[0])"
      ],
      "execution_count": null,
      "outputs": [
        {
          "output_type": "stream",
          "text": [
            "<class 'numpy.ndarray'>\n",
            "[list([1, 2, 2, 8, 43, 10, 447, 5, 25, 207, 270, 5, 3095, 111, 16, 369, 186, 90, 67, 7, 89, 5, 19, 102, 6, 19, 124, 15, 90, 67, 84, 22, 482, 26, 7, 48, 4, 49, 8, 864, 39, 209, 154, 6, 151, 6, 83, 11, 15, 22, 155, 11, 15, 7, 48, 9, 4579, 1005, 504, 6, 258, 6, 272, 11, 15, 22, 134, 44, 11, 15, 16, 8, 197, 1245, 90, 67, 52, 29, 209, 30, 32, 132, 6, 109, 15, 17, 12])\n",
            " list([1, 3267, 699, 3434, 2295, 56, 2, 7511, 9, 56, 3906, 1073, 81, 5, 1198, 57, 366, 737, 132, 20, 4093, 7, 2, 49, 2295, 2, 1037, 3267, 699, 3434, 8, 7, 10, 241, 16, 855, 129, 231, 783, 5, 4, 587, 2295, 2, 2, 775, 7, 48, 34, 191, 44, 35, 1795, 505, 17, 12])\n",
            " list([1, 53, 12, 284, 15, 14, 272, 26, 53, 959, 32, 818, 15, 14, 272, 26, 39, 684, 70, 11, 14, 12, 3886, 18, 180, 183, 187, 70, 11, 14, 102, 32, 11, 29, 53, 44, 704, 15, 14, 19, 758, 15, 53, 959, 47, 1013, 15, 14, 19, 132, 15, 39, 965, 32, 11, 14, 147, 72, 11, 180, 183, 187, 44, 11, 14, 102, 19, 11, 123, 186, 90, 67, 960, 4, 78, 13, 68, 467, 511, 110, 59, 89, 90, 67, 1390, 55, 2678, 92, 617, 80, 1274, 46, 905, 220, 13, 4, 346, 48, 235, 629, 5, 211, 5, 1118, 7, 2, 81, 5, 187, 11, 15, 9, 1709, 201, 5, 47, 3615, 18, 478, 4514, 5, 1118, 7, 232, 2, 71, 5, 160, 63, 11, 9, 2, 81, 5, 102, 59, 11, 17, 12])\n",
            " ...\n",
            " list([1, 141, 3890, 387, 81, 8, 16, 1629, 10, 340, 1241, 850, 31, 56, 3890, 691, 9, 1241, 71, 9, 5985, 2, 2, 699, 2, 2, 2, 699, 244, 5945, 4, 49, 8, 4, 656, 850, 33, 2993, 9, 2139, 340, 3371, 1493, 9, 2, 22, 2, 1094, 687, 83, 35, 15, 257, 6, 57, 9190, 7, 4, 5956, 654, 5, 2, 6191, 1371, 4, 49, 8, 16, 369, 646, 6, 1076, 7, 124, 407, 17, 12])\n",
            " list([1, 53, 46, 957, 26, 14, 74, 132, 26, 39, 46, 258, 3614, 18, 14, 74, 134, 5131, 18, 88, 2321, 72, 11, 14, 1842, 32, 11, 123, 383, 89, 39, 46, 235, 10, 864, 728, 5, 258, 44, 11, 15, 22, 753, 9, 42, 92, 131, 728, 5, 69, 312, 11, 15, 22, 222, 2, 3237, 383, 48, 39, 74, 235, 10, 864, 276, 5, 61, 32, 11, 15, 21, 4, 211, 5, 126, 1072, 42, 92, 131, 46, 19, 352, 11, 15, 22, 710, 220, 9, 42, 92, 131, 276, 5, 59, 61, 11, 15, 22, 10, 455, 7, 1172, 137, 336, 1325, 6, 1532, 142, 971, 6463, 43, 359, 5, 4, 326, 753, 364, 17, 12])\n",
            " list([1, 227, 2406, 91, 2, 125, 2855, 21, 4, 3976, 76, 7, 4, 757, 481, 3976, 790, 5259, 5654, 9, 111, 149, 8, 7, 10, 76, 223, 51, 4, 417, 8, 1047, 91, 6917, 1688, 340, 7, 194, 9411, 6, 1894, 21, 127, 2151, 2394, 1456, 6, 3034, 4, 329, 433, 7, 65, 87, 1127, 10, 8219, 1475, 290, 9, 21, 567, 16, 1926, 24, 4, 76, 209, 30, 4033, 6655, 5654, 8, 4, 60, 8, 4, 966, 308, 40, 2575, 129, 2, 295, 277, 1071, 9, 24, 286, 2114, 234, 222, 9, 4, 906, 3994, 8519, 114, 5758, 1752, 7, 4, 113, 17, 12])]\n",
            "[1, 4, 1378, 2025, 9, 697, 4622, 111, 8, 25, 109, 29, 3650, 11, 150, 244, 364, 33, 30, 30, 1398, 333, 6, 2, 159, 9, 1084, 363, 13, 2, 71, 9, 2, 71, 117, 4, 225, 78, 206, 10, 9, 1214, 8, 4, 270, 5, 2, 7, 748, 48, 9, 2, 7, 207, 1451, 966, 1864, 793, 97, 133, 336, 7, 4, 493, 98, 273, 104, 284, 25, 39, 338, 22, 905, 220, 3465, 644, 59, 20, 6, 119, 61, 11, 15, 58, 579, 26, 10, 67, 7, 4, 738, 98, 43, 88, 333, 722, 12, 20, 6, 19, 746, 35, 15, 10, 9, 1214, 855, 129, 783, 21, 4, 2280, 244, 364, 51, 16, 299, 452, 16, 515, 4, 99, 29, 5, 4, 364, 281, 48, 10, 9, 1214, 23, 644, 47, 20, 324, 27, 56, 2, 2, 5, 192, 510, 17, 12]\n"
          ],
          "name": "stdout"
        }
      ]
    },
    {
      "cell_type": "code",
      "metadata": {
        "colab": {
          "base_uri": "https://localhost:8080/"
        },
        "id": "hNvJJImy1kBg",
        "outputId": "999381d1-9290-4d76-fff0-e7740959c004"
      },
      "source": [
        "print(y_train.shape)\n",
        "print(len(x_train))\n",
        "print(len(x_test))"
      ],
      "execution_count": null,
      "outputs": [
        {
          "output_type": "stream",
          "text": [
            "(8982,)\n",
            "8982\n",
            "2246\n"
          ],
          "name": "stdout"
        }
      ]
    },
    {
      "cell_type": "code",
      "metadata": {
        "colab": {
          "base_uri": "https://localhost:8080/"
        },
        "id": "KGZl9l0U1xi3",
        "outputId": "66a7a1d9-8070-4797-db79-06279be7e66f"
      },
      "source": [
        "print(y_train)"
      ],
      "execution_count": null,
      "outputs": [
        {
          "output_type": "stream",
          "text": [
            "[ 3  4  3 ... 25  3 25]\n"
          ],
          "name": "stdout"
        }
      ]
    },
    {
      "cell_type": "code",
      "metadata": {
        "colab": {
          "base_uri": "https://localhost:8080/"
        },
        "id": "nNuSZJiG1zUX",
        "outputId": "c50a0700-d631-496b-a537-6a65cfa127ba"
      },
      "source": [
        "# 분류된 기사 종류의 수가 46개\n",
        "num_classes = max(y_train) + 1\n",
        "print('클래스의 수 : {}'.format(num_classes))"
      ],
      "execution_count": null,
      "outputs": [
        {
          "output_type": "stream",
          "text": [
            "클래스의 수 : 46\n"
          ],
          "name": "stdout"
        }
      ]
    },
    {
      "cell_type": "code",
      "metadata": {
        "colab": {
          "base_uri": "https://localhost:8080/"
        },
        "id": "Ayr03SJr2Epn",
        "outputId": "107391c3-bbb6-41b5-bd78-4156fca9427d"
      },
      "source": [
        "print('훈련용 뉴스의 최대 길이 :{}'.format(max(len(l) for l in x_train))) # len(l)은 칼럼수 X_train 의 기사 중 가장 긴 길이의 수를 보여준다 각 행의 가장 큰 열의 갯수를 보여준다.\n",
        "print('훈련용 뉴스의 평균 길이 : {}'.format(sum(map(len, x_train))/len(x_train))) # "
      ],
      "execution_count": null,
      "outputs": [
        {
          "output_type": "stream",
          "text": [
            "훈련용 뉴스의 최대 길이 :2376\n",
            "훈련용 뉴스의 평균 길이 : 145.5398574927633\n"
          ],
          "name": "stdout"
        }
      ]
    },
    {
      "cell_type": "code",
      "metadata": {
        "colab": {
          "base_uri": "https://localhost:8080/",
          "height": 279
        },
        "id": "BN8Vh34H2Uqv",
        "outputId": "6b330d4d-71a8-4f82-cf9c-8b96733e0987"
      },
      "source": [
        "\n",
        "plt.hist([len(s) for s in x_train], bins= 50)\n",
        "plt.xlabel('length of samples')\n",
        "plt.ylabel('number of samples')\n",
        "plt.show()"
      ],
      "execution_count": null,
      "outputs": [
        {
          "output_type": "display_data",
          "data": {
            "image/png": "[encoded data removed]",
            "text/plain": [
              "<Figure size 432x288 with 1 Axes>"
            ]
          },
          "metadata": {
            "tags": []
          }
        }
      ]
    },
    {
      "cell_type": "code",
      "metadata": {
        "colab": {
          "base_uri": "https://localhost:8080/",
          "height": 393
        },
        "id": "vAV9cwDA20FI",
        "outputId": "a7946704-b8ec-4306-8711-e5132b0c2a5d"
      },
      "source": [
        "fig, axe = plt.subplots(ncols= 1)\n",
        "fig.set_size_inches(12, 5)\n",
        "sns.countplot(y_train)"
      ],
      "execution_count": null,
      "outputs": [
        {
          "output_type": "stream",
          "text": [
            "/usr/local/lib/python3.7/dist-packages/seaborn/_decorators.py:43: FutureWarning: Pass the following variable as a keyword arg: x. From version 0.12, the only valid positional argument will be `data`, and passing other arguments without an explicit keyword will result in an error or misinterpretation.\n",
            "  FutureWarning\n"
          ],
          "name": "stderr"
        },
        {
          "output_type": "execute_result",
          "data": {
            "text/plain": [
              "<matplotlib.axes._subplots.AxesSubplot at 0x7f3a74c932d0>"
            ]
          },
          "metadata": {
            "tags": []
          },
          "execution_count": 54
        },
        {
          "output_type": "display_data",
          "data": {
            "image/png": "[encoded data removed]",
            "text/plain": [
              "<Figure size 864x360 with 1 Axes>"
            ]
          },
          "metadata": {
            "tags": []
          }
        }
      ]
    },
    {
      "cell_type": "code",
      "metadata": {
        "colab": {
          "base_uri": "https://localhost:8080/"
        },
        "id": "BWNwK0Yw3YPh",
        "outputId": "aa739061-05cd-44c9-8134-de385c9a7478"
      },
      "source": [
        "unique_elements, counts_elements = np.unique(y_train, return_counts=True)\n",
        "print(\"각 클래스 빈도수 : \")\n",
        "print(np.asarray((unique_elements, counts_elements)))"
      ],
      "execution_count": null,
      "outputs": [
        {
          "output_type": "stream",
          "text": [
            "각 클래스 빈도수 : \n",
            "[[   0    1    2    3    4    5    6    7    8    9   10   11   12   13\n",
            "    14   15   16   17   18   19   20   21   22   23   24   25   26   27\n",
            "    28   29   30   31   32   33   34   35   36   37   38   39   40   41\n",
            "    42   43   44   45]\n",
            " [  55  432   74 3159 1949   17   48   16  139  101  124  390   49  172\n",
            "    26   20  444   39   66  549  269  100   15   41   62   92   24   15\n",
            "    48   19   45   39   32   11   50   10   49   19   19   24   36   30\n",
            "    13   21   12   18]]\n"
          ],
          "name": "stdout"
        }
      ]
    },
    {
      "cell_type": "code",
      "metadata": {
        "id": "tUdw57Vh342u"
      },
      "source": [
        "word_index = reuters.get_word_index(path=\"reuters_word_index.json\")"
      ],
      "execution_count": null,
      "outputs": []
    },
    {
      "cell_type": "code",
      "metadata": {
        "colab": {
          "base_uri": "https://localhost:8080/"
        },
        "id": "n9zLnsRVwp3S",
        "outputId": "5ebd7a54-510a-4098-8de0-6fe53f56aa90"
      },
      "source": [
        "print(type(word_index))"
      ],
      "execution_count": null,
      "outputs": [
        {
          "output_type": "stream",
          "text": [
            "<class 'dict'>\n"
          ],
          "name": "stdout"
        }
      ]
    },
    {
      "cell_type": "code",
      "metadata": {
        "colab": {
          "base_uri": "https://localhost:8080/"
        },
        "id": "Lg9KwY_z4myw",
        "outputId": "d9ae6068-d4c2-4b6c-fb07-48361c911056"
      },
      "source": [
        "word_index['the']"
      ],
      "execution_count": null,
      "outputs": [
        {
          "output_type": "execute_result",
          "data": {
            "text/plain": [
              "1"
            ]
          },
          "metadata": {
            "tags": []
          },
          "execution_count": 58
        }
      ]
    },
    {
      "cell_type": "code",
      "metadata": {
        "colab": {
          "base_uri": "https://localhost:8080/"
        },
        "id": "7lLjY5JI4twP",
        "outputId": "88ee2803-4e43-45f4-f3d0-171b4c57cba4"
      },
      "source": [
        "word_index['it']"
      ],
      "execution_count": null,
      "outputs": [
        {
          "output_type": "execute_result",
          "data": {
            "text/plain": [
              "13"
            ]
          },
          "metadata": {
            "tags": []
          },
          "execution_count": 153
        }
      ]
    },
    {
      "cell_type": "code",
      "metadata": {
        "id": "qb3f-kFd4yun"
      },
      "source": [
        "index_to_word = {index +3 : word for word, index in word_index.items()}"
      ],
      "execution_count": null,
      "outputs": []
    },
    {
      "cell_type": "code",
      "metadata": {
        "colab": {
          "base_uri": "https://localhost:8080/"
        },
        "id": "syvFEnlx5SwO",
        "outputId": "ee05ebdc-35e8-42e4-e427-8aa91f23200f"
      },
      "source": [
        "print(index_to_word[4])\n",
        "print(index_to_word[16])"
      ],
      "execution_count": null,
      "outputs": [
        {
          "output_type": "stream",
          "text": [
            "the\n",
            "it\n"
          ],
          "name": "stdout"
        }
      ]
    },
    {
      "cell_type": "code",
      "metadata": {
        "colab": {
          "base_uri": "https://localhost:8080/"
        },
        "id": "zZ3HMJ8n5dO3",
        "outputId": "090552c1-7940-45c0-d160-06f1e5c97e29"
      },
      "source": [
        "# 로이터의 데이타 특성을 위해 3가지 종류를 index_to_word에 추가\n",
        "# 0 <pad>\n",
        "# 1 <sos>\n",
        "# 2 <unk>\n",
        "for index, token in enumerate((\"<pad>\", \"<sos>\", \"<unk>\")):\n",
        "  index_to_word[index] = token\n",
        "\n",
        "print(x_train[0])\n",
        "print(index_to_word[0])"
      ],
      "execution_count": null,
      "outputs": [
        {
          "output_type": "stream",
          "text": [
            "[1, 2, 2, 8, 43, 10, 447, 5, 25, 207, 270, 5, 3095, 111, 16, 369, 186, 90, 67, 7, 89, 5, 19, 102, 6, 19, 124, 15, 90, 67, 84, 22, 482, 26, 7, 48, 4, 49, 8, 864, 39, 209, 154, 6, 151, 6, 83, 11, 15, 22, 155, 11, 15, 7, 48, 9, 4579, 1005, 504, 6, 258, 6, 272, 11, 15, 22, 134, 44, 11, 15, 16, 8, 197, 1245, 90, 67, 52, 29, 209, 30, 32, 132, 6, 109, 15, 17, 12]\n",
            "<pad>\n"
          ],
          "name": "stdout"
        }
      ]
    },
    {
      "cell_type": "code",
      "metadata": {
        "colab": {
          "base_uri": "https://localhost:8080/"
        },
        "id": "HYwE7OlH530X",
        "outputId": "7e6aa231-d1b9-4e7c-b2cb-e1e3ba9b5718"
      },
      "source": [
        "print(' '.join([index_to_word[index] for index in x_train[0]]))"
      ],
      "execution_count": null,
      "outputs": [
        {
          "output_type": "stream",
          "text": [
            "<sos> <unk> <unk> said as a result of its december acquisition of space co it expects earnings per share in 1987 of 1 15 to 1 30 dlrs per share up from 70 cts in 1986 the company said pretax net should rise to nine to 10 mln dlrs from six mln dlrs in 1986 and rental operation revenues to 19 to 22 mln dlrs from 12 5 mln dlrs it said cash flow per share this year should be 2 50 to three dlrs reuter 3\n"
          ],
          "name": "stdout"
        }
      ]
    },
    {
      "cell_type": "code",
      "metadata": {
        "id": "6GKM17-3Umwk"
      },
      "source": [
        "decoded = []\n",
        "for i in range(len(x_train)):\n",
        "  t = ' '.join([index_to_word[index] for index in x_train[i]])\n",
        "  decoded.append(t)\n",
        "\n",
        "x_train = decoded"
      ],
      "execution_count": null,
      "outputs": []
    },
    {
      "cell_type": "code",
      "metadata": {
        "id": "sNZSkWl1DKTB"
      },
      "source": [
        "decoded = []\n",
        "for i in range(len(x_test)):\n",
        "  t = ' '.join([index_to_word[index] for index in x_test[i]])\n",
        "  decoded.append(t)\n",
        "\n",
        "x_test = decoded"
      ],
      "execution_count": null,
      "outputs": []
    },
    {
      "cell_type": "code",
      "metadata": {
        "colab": {
          "base_uri": "https://localhost:8080/"
        },
        "id": "IP9idKeCDZ8d",
        "outputId": "ae7e880c-f3b9-4828-df3a-207ab293b25c"
      },
      "source": [
        "print(x_train[:5])\n",
        "print(len(x_train))"
      ],
      "execution_count": null,
      "outputs": [
        {
          "output_type": "stream",
          "text": [
            "['<sos> <unk> <unk> said as a result of its december acquisition of space co it expects earnings per share in 1987 of 1 15 to 1 30 dlrs per share up from 70 cts in 1986 the company said pretax net should rise to nine to 10 mln dlrs from six mln dlrs in 1986 and rental operation revenues to 19 to 22 mln dlrs from 12 5 mln dlrs it said cash flow per share this year should be 2 50 to three dlrs reuter 3', '<sos> generale de banque sa lt <unk> br and lt heller overseas corp of chicago have each taken 50 pct stakes in <unk> company sa <unk> factors generale de banque said in a statement it gave no financial details of the transaction sa <unk> <unk> turnover in 1986 was 17 5 billion belgian francs reuter 3', '<sos> shr 3 28 dlrs vs 22 cts shr diluted 2 99 dlrs vs 22 cts net 46 0 mln vs 3 328 000 avg shrs 14 0 mln vs 15 2 mln year shr 5 41 dlrs vs 1 56 dlrs shr diluted 4 94 dlrs vs 1 50 dlrs net 78 2 mln vs 25 9 mln avg shrs 14 5 mln vs 15 1 mln note earnings per share reflect the two for one split effective january 6 1987 per share amounts are calculated after preferred stock dividends loss continuing operations for the qtr 1986 includes gains of sale of investments in <unk> corp of 14 mln dlrs and associated companies of 4 189 000 less writedowns of investments in national <unk> inc of 11 8 mln and <unk> corp of 15 6 mln reuter 3', \"<sos> the farmers home administration the u s agriculture department's farm lending arm could lose about seven billion dlrs in outstanding principal on its severely <unk> borrowers or about one fourth of its farm loan portfolio the general accounting office gao said in remarks prepared for delivery to the senate agriculture committee brian crowley senior associate director of gao also said that a preliminary analysis of proposed changes in <unk> financial eligibility standards indicated as many as one half of <unk> borrowers who received new loans from the agency in 1986 would be <unk> under the proposed system the agency has proposed evaluating <unk> credit using a variety of financial ratios instead of relying solely on <unk> ability senate agriculture committee chairman patrick leahy d vt <unk> the proposed eligibility changes telling <unk> administrator <unk> clark at a hearing that they would mark a dramatic shift in the agency's purpose away from being farmers' lender of last resort toward becoming a big city bank but clark defended the new regulations saying the agency had a responsibility to <unk> its 70 billion dlr loan portfolio in a <unk> yet <unk> manner crowley of gao <unk> <unk> arm said the proposed credit <unk> system attempted to ensure that <unk> would make loans only to borrowers who had a reasonable change of repaying their debt reuter 3\", '<sos> seton co said its board has received a proposal from chairman and chief executive officer philip d <unk> to acquire seton for 15 75 dlrs per share in cash seton said the acquisition bid is subject to <unk> arranging the necessary financing it said he intends to ask other members of senior management to participate the company said <unk> owns 30 pct of seton stock and other management members another 7 5 pct seton said it has formed an independent board committee to consider the offer and has deferred the annual meeting it had scheduled for march 31 reuter 3']\n",
            "8982\n"
          ],
          "name": "stdout"
        }
      ]
    },
    {
      "cell_type": "code",
      "metadata": {
        "colab": {
          "base_uri": "https://localhost:8080/"
        },
        "id": "bEt6OgnADhjN",
        "outputId": "2b2d9bf4-af61-4cc7-c542-9e95eb8b6503"
      },
      "source": [
        "print(x_test[:5])\n",
        "print(len(x_test))\n"
      ],
      "execution_count": null,
      "outputs": [
        {
          "output_type": "stream",
          "text": [
            "['<sos> the great atlantic and pacific tea co said its three year 345 mln dlr capital program will be be substantially increased to <unk> growth and expansion plans for <unk> inc and <unk> inc over the next two years a and p said the acquisition of <unk> in august 1986 and <unk> in december helped us achieve better than expected results in the fourth quarter ended february 28 its net income from continuing operations jumped 52 6 pct to 20 7 mln dlrs or 55 cts a share in the latest quarter as sales increased 48 3 pct to 1 58 billion dlrs a and p gave no details on the expanded capital program but it did say it completed the first year of the program during 1986 a and p is 52 4 pct owned by lt <unk> <unk> of west germany reuter 3', \"<sos> philippine sugar production in the 1987 88 crop year ending august has been set at 1 6 mln tonnes up from a provisional 1 3 mln tonnes this year sugar regulatory administration <unk> chairman <unk> yulo said yulo told reuters a survey during the current milling season which ends next month showed the 1986 87 estimate would almost certainly be met he said at least 1 2 mln tonnes of the 1987 88 crop would be earmarked for domestic consumption yulo said about 130 000 tonnes would be set aside for the u s sugar quota 150 000 tonnes for strategic reserves and 50 000 tonnes would be sold on the world market he said if the government approved a long standing <unk> recommendation to manufacture ethanol the project would take up another 150 000 tonnes slightly raising the target the government for its own reasons has been delaying approval of the project but we expect it to come through by july yulo said ethanol could make up five pct of gasoline cutting the oil import bill by about 300 mln pesos yulo said three major philippine <unk> were ready to start manufacturing ethanol if the project was approved the ethanol project would result in employment for about 100 000 people sharply reducing those thrown out of work by depressed world sugar prices and a <unk> domestic industry production quotas set for the first time in 1987 88 had been submitted to president corazon aquino i think the president would rather wait <unk> the new congress <unk> after the may elections he said but there is really no need for such quotas we are right now producing just slightly over our own consumption level the producers have never enjoyed such high prices yulo said adding sugar was currently selling locally for 320 pesos per <unk> up from 190 pesos last august yulo said prices were driven up because of speculation following the <unk> bid to control production we are no longer concerned so much with the world market he said adding producers in the <unk> region had learned from their <unk> and diversified into corn and <unk> farming and <unk> production he said diversification into products other than ethanol was also possible within the sugar industry the <unk> long ago <unk> their <unk> yulo said they have 300 sugar mills compared with our 41 but they <unk> many of them and diversified production we want to call this a <unk> <unk> instead of the sugar industry he said sugarcane could be fed to pigs and livestock used for <unk> <unk> or used in room <unk> when you cut sugarcane you don't even have to produce sugar he said yulo said the philippines was lobbying for a renewal of the international sugar agreement which expired in 1984 as a major sugar producer we are urging them to write a new agreement which would revive world prices yulo said if there is no agreement world prices will always be depressed particularly because the european community is <unk> its producers and dumping sugar on the markets he said current world prices holding steady at about 7 60 cents per pound were <unk> for the philippines where production costs ranged from 12 to 14 cents a pound if the price holds steady for a while at 7 60 cents i expect the level to rise to about 11 cents a pound by the end of this year he said yulo said economists forecast a bullish sugar market by 1990 with world consumption <unk> production he said sugar markets were holding up despite <unk> from artificial sweeteners and high fructose corn syrup but we are not happy with the reagan administration he said since <unk> we have been regular suppliers of sugar to the u s in 1982 when they restored the quota system they cut <unk> in half without any justification manila was <unk> watching washington's moves to cut domestic support prices to 12 cents a pound from 18 cents the u s agriculture department last december slashed its 12 month 1987 sugar import quota from the philippines to 143 780 short tons from 231 660 short tons in 1986 yulo said despite next year's increased production target some philippine mills were expected to shut down at least four of the 41 mills were not working during the 1986 87 season he said we expect two or three more to follow suit during the next season reuter 3\", \"<sos> the agriculture department's widening of louisiana gulf differentials will affect county posted prices for number two yellow corn in ten states a usda official said all counties in iowa will be affected as will counties which use the gulf to price corn in illinois indiana tennessee kentucky missouri mississippi arkansas alabama and louisiana said <unk> <unk> deputy director of commodity operations division for the usda usda last night notified the grain industry that effective immediately all gulf differentials used to price interior corn would be widened on a sliding scale basis of four to eight cts depending on what the differential is usda's action was taken to lower excessively high posted county prices for corn caused by high gulf prices we've been following this louisiana gulf situation for a month and we don't think it's going to get back in line in any nearby time <unk> said <unk> said usda will probably narrow back the gulf differentials when and if gulf prices <unk> if we're off the mark now because we're too high wouldn't we be as much off the mark if we're too low he said while forecasting more adjustments if gulf prices fall <unk> said no other changes in usda's price system are being planned right now we don't tinker we don't make changes <unk> and we don't make changes often he said reuter 3\", '<sos> <unk> <unk> oil and gas partnership said it completed the sale of interests in two major oil and gas fields to lt energy assets international corp for 21 mln dlrs the company said it sold about one half of its 50 pct interest in the oak hill and north <unk> fields its two largest producing properties it said it used about 20 mln dlrs of the proceeds to <unk> principal on its senior secured notes semi annual principal payments on the remaining 40 mln dlrs of notes have been satisfied until december 1988 as a result it said the company said the note agreements were amended to reflect an easing of some financial covenants and an increase of interest to 13 5 pct from 13 0 pct until december 1990 it said the <unk> exercise price for 1 125 000 warrants was also reduced to 50 cts from 1 50 dlrs the company said energy assets agreed to share the costs of increasing production at the oak hill field reuter 3', '<sos> strong south <unk> winds were keeping many vessels trapped in the ice off the finnish and swedish coasts in one of the worst icy periods in the baltic for many years the finnish board of navigation said in finland and sweden up to 50 vessels were reported to be stuck in the ice and even the largest of the <unk> <unk> were having difficulties in breaking through to the <unk> ships <unk> officials said however icy conditions in the southern baltic at the soviet oil ports of <unk> and <unk> had eased they said weather officials in neighbouring sweden said the icy conditions in the baltic were the worst for 30 years with ships fighting a losing battle to keep moving in the coastal stretches of the gulf of <unk> which <unk> finland and sweden the ice is up to one <unk> thick with <unk> and <unk> packing it into almost <unk> walls three metres high swedish <unk> officials said weather forecasts say winds may ease during the weekend but a further drop in temperature could bring shipping to a standstill the officials said reuter 3']\n",
            "2246\n"
          ],
          "name": "stdout"
        }
      ]
    },
    {
      "cell_type": "code",
      "metadata": {
        "id": "QvC7VXXzDkJe"
      },
      "source": [
        "from sklearn.model_selection import train_test_split\n",
        "from sklearn.feature_extraction.text import CountVectorizer\n",
        "from sklearn.feature_extraction.text import TfidfTransformer\n",
        "from sklearn.naive_bayes import MultinomialNB\n",
        "from sklearn import metrics\n"
      ],
      "execution_count": null,
      "outputs": []
    },
    {
      "cell_type": "markdown",
      "metadata": {
        "id": "ffIrlJf2QKy4"
      },
      "source": [
        "# scikit-learn CountVectorizer활용한 DTM구현"
      ]
    },
    {
      "cell_type": "code",
      "metadata": {
        "colab": {
          "base_uri": "https://localhost:8080/"
        },
        "id": "tdKHLC8_EIai",
        "outputId": "237c64c4-c185-497d-cb99-1171e9374584"
      },
      "source": [
        "#- 단어의 수를 카운트하는 사이킷런의 카운트벡터라이저입니다.\n",
        "\n",
        "'''\n",
        "from sklearn.feature_extraction.text import CountVectorizer\n",
        "\n",
        "corpus = [\n",
        "          'John likes to watch movies',\n",
        "          'Mary likes movies too',\n",
        "          'Mary also likes to watch football games',\n",
        "]\n",
        "\n",
        "vector = CountVectorizer()\n",
        "print(vector.fit_transform(corpus).toarray()) # 코퍼스로부터 각 단어의 빈도수를 기록\n",
        "print(vector.vocabulary_) # 각 단어의 인덱스가 어떻게 부여되었는지 보여준다.\n",
        "'''\n",
        "\n",
        "'''\n",
        "Convert a collection of text documents to a matrix of token counts\n",
        "\n",
        "This implementation produces a sparse representation of the counts using\n",
        "scipy.sparse.csr_matrix.\n",
        "\n",
        "If you do not provide an a-priori dictionary and you do not use an analyzer\n",
        "that does some kind of feature selection then the number of features will\n",
        "be equal to the vocabulary size found by analyzing the data.\n",
        "\n",
        "Read more in the User Guide <text_feature_extraction>.\n",
        "'''\n",
        "\n",
        "\n",
        "\n",
        "count_vect = CountVectorizer()\n",
        "\n",
        "X_train_counts = count_vect.fit_transform(x_train)\n",
        "\n",
        "print(\"count vector 빈도수\")\n",
        "print(count_vect.fit_transform(x_train).toarray()) # 코퍼스로부터 각 단어의 빈도수를 기록\n",
        "print(\"단어의 인덱스\")\n",
        "#print(count_vect.vocabulary_) # 각 단어의 인덱스가 어떻게 부여되었는지 보여준다.\n",
        "tokens = [list(count_vect.vocabulary_.keys())]\n",
        "print(tokens)\n",
        "print(\"Count Vectorize 후 결과\")\n",
        "print(X_train_counts)\n",
        "# fit_transform : 학습할 때와 동일한 기반 설정으로 동일하게 테스트 데이터를 변환해야 하는 것\n",
        "\n",
        "#- 카운트벡터라이저의 결과로부터 TF-IDF 결과를 얻습니다.\n",
        "# Transform a count matrix to a normalized tf or tf-idf representation\n",
        "tfidf_transformer = TfidfTransformer()\n",
        "X_train_tfidf = tfidf_transformer.fit_transform(X_train_counts)\n",
        "\n",
        "# TF-IDF 결과를 array로 변환\n",
        "print(tfidf_transformer.fit_transform(X_train_counts).toarray())\n",
        "# (0, 8272) 0 -> 각 행  8272 ->  그 단어의 인덱스\n",
        "print(X_train_tfidf)\n"
      ],
      "execution_count": null,
      "outputs": [
        {
          "output_type": "stream",
          "text": [
            "count vector 빈도수\n",
            "[[0 0 0 ... 0 0 0]\n",
            " [0 0 0 ... 0 0 0]\n",
            " [0 2 0 ... 0 0 0]\n",
            " ...\n",
            " [0 0 0 ... 0 0 0]\n",
            " [0 2 0 ... 0 0 0]\n",
            " [0 0 0 ... 0 0 0]]\n",
            "단어의 인덱스\n",
            "[['sos', 'unk', 'said', 'as', 'result', 'of', 'its', 'december', 'acquisition', 'space', 'co', 'it', 'expects', 'earnings', 'per', 'share', 'in', '1987', '15', 'to', '30', 'dlrs', 'up', 'from', '70', 'cts', '1986', 'the', 'company', 'pretax', 'net', 'should', 'rise', 'nine', '10', 'mln', 'six', 'and', 'rental', 'operation', 'revenues', '19', '22', '12', 'cash', 'flow', 'this', 'year', 'be', '50', 'three', 'reuter', 'generale', 'de', 'banque', 'sa', 'lt', 'br', 'heller', 'overseas', 'corp', 'chicago', 'have', 'each', 'taken', 'pct', 'stakes', 'factors', 'statement', 'gave', 'no', 'financial', 'details', 'transaction', 'turnover', 'was', '17', 'billion', 'belgian', 'francs', 'shr', '28', 'vs', 'diluted', '99', '46', '328', '000', 'avg', 'shrs', '14', '41', '56', '94', '78', '25', 'note', 'reflect', 'two', 'for', 'one', 'split', 'effective', 'january', 'amounts', 'are', 'calculated', 'after', 'preferred', 'stock', 'dividends', 'loss', 'continuing', 'operations', 'qtr', 'includes', 'gains', 'sale', 'investments', 'associated', 'companies', '189', 'less', 'writedowns', 'national', 'inc', '11', 'farmers', 'home', 'administration', 'agriculture', 'department', 'farm', 'lending', 'arm', 'could', 'lose', 'about', 'seven', 'outstanding', 'principal', 'on', 'severely', 'borrowers', 'or', 'fourth', 'loan', 'portfolio', 'general', 'accounting', 'office', 'gao', 'remarks', 'prepared', 'delivery', 'senate', 'committee', 'brian', 'crowley', 'senior', 'associate', 'director', 'also', 'that', 'preliminary', 'analysis', 'proposed', 'changes', 'eligibility', 'standards', 'indicated', 'many', 'half', 'who', 'received', 'new', 'loans', 'agency', 'would', 'under', 'system', 'has', 'evaluating', 'credit', 'using', 'variety', 'ratios', 'instead', 'relying', 'solely', 'ability', 'chairman', 'patrick', 'leahy', 'vt', 'telling', 'administrator', 'clark', 'at', 'hearing', 'they', 'mark', 'dramatic', 'shift', 'purpose', 'away', 'being', 'lender', 'last', 'resort', 'toward', 'becoming', 'big', 'city', 'bank', 'but', 'defended', 'regulations', 'saying', 'had', 'responsibility', 'dlr', 'yet', 'manner', 'attempted', 'ensure', 'make', 'only', 'reasonable', 'change', 'repaying', 'their', 'debt', 'seton', 'board', 'proposal', 'chief', 'executive', 'officer', 'philip', 'acquire', '75', 'bid', 'is', 'subject', 'arranging', 'necessary', 'financing', 'he', 'intends', 'ask', 'other', 'members', 'management', 'participate', 'owns', 'another', 'formed', 'an', 'independent', 'consider', 'offer', 'deferred', 'annual', 'meeting', 'scheduled', 'march', '31', 'estimated', 'canada', '87', 'wheat', 'crop', '85', 'tonnes', 'month', '1985', '86', 'output', '24', 'canadian', 'coarse', 'grain', 'production', 'projected', '27', '62', '95', 'exports', 'forecast', '00', '18', '71', '72', 'qintex', 'america', 'ltd', 'again', 'extending', '13', 'princeville', 'development', 'shares', 'until', 'today', 'yesterday', 'midnight', '242', '117', 'been', 'tendered', '887', '165', 'hours', 'earlier', 'allow', 'comply', 'with', 'federal', 'law', 'restricting', 'ownership', 'airlines', 'by', 'non', 'citizens', 'finalize', 'terms', 'conditions', 'letter', 'guarantee', 'required', 'previously', 'announced', 'agreement', '49', '39', '886', '937', '892', '323', 'revs', '23', '34', '254', '301', '472', '676', '100', '4th', 'income', 'subsidiary', '881', '311', '848', 'respectively', 'unit', '108', '598', '298', '412', '16', 'oper', '77', '255', '179', '37', '73', '36', 'excludes', '32', 'ct', 'discontinued', 'gross', 'proven', 'probable', 'reserves', 'crude', 'oil', 'natural', 'gas', 'barrels', 'off', 'before', 'aramco', 'accepted', 'japanese', 'lift', 'higher', 'proportion', 'arab', 'heavy', 'term', 'contracts', 'july', 'industry', 'sources', 'requested', 'ratio', '80', '20', 'light', 'contract', 'day', 'contractual', 'demand', 'increased', 'substantially', 'since', 'all', 'japan', 'union', 'ceased', 'into', 'northern', 'mideast', 'gulf', 'causing', 'problems', 'liftings', 'kuwait', 'crudes', 'period', 'ended', 'profit', '224', '271', '511', '349', '258', '688', '200', 'international', 'thomson', 'organisation', 'will', 'report', 'results', 'funds', 'rather', 'than', 'sterling', 'beginning', 'jan', 'not', 'applied', 'retroactively', 'prior', 'periods', 'recent', 'most', 'assets', 'now', 'located', 'united', 'states', 'reached', 'covering', 'privately', 'held', 'calls', 'self', 'tender', 'price', 'headquartered', 'los', 'angeles', 'develops', 'manages', 'real', 'estate', 'reserve', 'governor', 'robert', 'banking', 'strengthened', 'permitting', 'formation', 'services', 'holding', 'involved', 'areas', 'like', 'insurance', 'securities', 'speech', 'york', 'analysts', 'association', 'believe', 'diversification', 'along', 'product', 'lines', 'key', 'strengthening', 'american', 'supported', 'idea', 'advocated', 'which', 'regulation', 'various', 'thrift', 'investment', 'subsidiaries', 'handled', 'limits', 'placed', 'extension', 'institutions', 'transactions', 'arms', 'length', 'basis', 'measures', 'avoid', 'banks', 'special', 'position', 'such', 'require', 'serve', 'making', 'commitment', 'maintain', 'capital', 'words', 'allowed', 'fail', 'long', 'positive', 'worth', 'commercial', 'enterprises', 'permitted', 'own', 'provision', 'enterprise', 'if', 'effects', 'these', 'actions', 'least', 'strong', 'corporations', 'them', 'customer', 'deposits', 'were', 'assured', 'while', 'any', 'incentive', 'removed', 'give', 'access', 'across', 'mean', 'steady', 'decline', 'world', 'league', 'arrested', 'become', 'more', 'competitive', 'dollar', 'expected', 'further', 'coming', 'days', 'effectiveness', 'paris', 'accord', 'stabilise', 'currency', 'exchange', 'rates', 'foreign', 'dealers', 'following', 'fall', 'record', '148', '40', 'yen', 'expect', 'establish', 'trading', 'range', '147', '150', 'market', 'tries', 'push', 'down', 'behind', 'latest', 'lies', 'belief', 'longer', 'enough', 'stop', 'operators', 'pushing', 'remark', 'treasury', 'secretary', 'james', 'baker', 'did', 'set', 'target', 'ranges', 'major', 'currencies', 'cast', 'manager', 'mitsui', 'division', 'interpreted', 'indicating', 'favour', 'weaker', 'little', 'intention', 'intervening', 'support', 'eliminated', 'widespread', 'caution', 'against', 'possible', 'joint', 'central', 'intervention', 'gathered', 'renewed', 'downward', 'momentum', 'alone', 'hardly', 'contain', 'slide', 'bought', 'between', 'including', 'direct', 'purchases', 'through', 'brokers', 'might', 'small', 'amount', 'dollars', 'doubted', 'intervene', 'account', 'some', 'occur', 'fell', 'much', 'below', 'drops', 'low', 'level', 'reduce', 'americans', 'don', 'want', 'money', 'mitsubishi', 'trust', 'may', 'return', 'around', '152', 'next', 'when', 'sales', 'close', 'books', 'business', 'ending', 'outlook', 'remained', 'bearish', 'due', 'performance', 'economy', 'trade', 'deficit', 'delays', 'announcing', 'economic', 'stimulation', 'package', 'getting', 'inertia', 'stimulating', 'tanaka', 'assistant', 'dai', 'ichi', 'promised', 'fiscal', 'budget', 'passed', 'boost', 'domestic', 'increase', 'imports', 'thus', 'surplus', 'april', 'debate', 'delayed', 'opposition', 'boycott', 'parliamentary', 'over', 'introduction', 'tax', 'circumstances', 'government', 'slim', 'chance', 'producing', 'meaningful', 'near', 'future', 'steps', 'stimulate', 'protectionist', 'sentiment', 'congress', 'grow', 'put', 'pressure', 'industrial', 'excluding', 'acceptances', '572', '64', '297', 'week', '475', '65', 'paper', 'nationally', '98', '339', 'data', 'released', 'friday', 'standard', 'awarded', 'cbs', 'engineering', 'drilling', 'platform', 'installed', 'block', '826', 'mexico', 'where', 'mobil', 'interest', 'operate', 'designed', 'produce', 'cubic', 'feet', 'daily', 'summer', '1988', 'owners', '66', 'prudential', 'qtly', 'div', 'payable', 'june', '830', '79', 'charge', '300', 'increases', 'writeoffs', 'yielding', 'gain', 'multi', 'family', '800', 'recognized', 'meets', 'targeted', 'operating', 'austrian', 'growth', 'likely', 'helmut', 'kramer', 'head', 'semi', 'official', 'institute', 'research', 'wifo', 'compared', 'made', 'austria', 'attended', 'chancellor', 'finance', 'minister', 'ferdinand', 'president', 'leading', 'state', 'senators', 'seeking', 'bill', 'broaden', 'requirements', 'export', 'enhancement', 'program', 'eep', 'include', 'traditional', 'buyers', 'products', 'soviet', 'staff', 'existing', 'criteria', 'usda', 'can', 'subsidies', 'markets', 'lost', 'competing', 'nations', 'unfair', 'practices', 'group', 'effort', 'way', 'enable', 'moscow', 'eligible', 'lloyd', 'bentsen', 'tex', 'max', 'david', 'john', 'miss', 'measure', 'shield', 'pork', 'producers', 'processors', 'sponsored', 'sen', 'charles', 'iowa', 'clarify', 'definition', 'determining', 'whether', 'injury', 'stems', 'decision', 'commission', 'live', 'fresh', 'chilled', 'frozen', 'proponents', 'argued', 'simply', 'replaced', 'shipments', 'hogs', 'investor', 'martin', 'sosnoff', 'reduced', 'his', 'stake', 'caesars', 'common', '878', '700', 'tried', 'unsuccessfully', 'filing', 'sold', '338', '975', 'october', 'holds', 'primarily', 'purposes', 'right', 'alter', 'intentions', 'time', 'led', 'hammer', 'warrants', 'purchase', 'additional', 'proceeds', 'total', 'years', 'according', 'september', 'pre', '63', 'marks', '04', '47', '44', '38', 'fixed', 'parent', '97', '91', '884', 'there', '106', 'corn', 'shipped', '26', 'soybean', 'during', 'ussr', 'purchased', 'third', 'grains', 'amounted', '600', '808', '518', 'soybeans', '53', '48', '873', '773', 'large', 'dutch', 'animal', 'feed', 'begin', 'formal', 'legal', 'proceedings', 'early', 'test', 'case', 'ec', 'levy', 'spokesman', 'het', 'comite', 'told', 'reuters', 'alleged', 'distortions', 'caused', 'individual', 'cases', 'appeal', 'court', 'hague', 'basic', 'complaint', 'does', 'take', 'cross', 'therefore', 'countries', 'pay', 'paid', 'country', 'obtained', 'temporary', 'receive', 'paying', 'full', 'guilder', 'commodity', 'provide', 'backing', 'finally', 'selected', 'among', 'because', 'firm', 'payment', 'contained', 'significant', 'wide', 'origins', 'name', 'public', 'final', 'ruling', 'very', 'refer', 'questions', 'luxembourg', 'easily', 'months', 'matter', 'resolved', 'meanwhile', 'putting', 'urge', 'follow', 'statements', 'seek', 'complete', 'review', 'brussels', 'member', 'european', 'manufacturers', 'party', 'protesting', 'whole', '364', '025', '372', '970', '425', '400', '925', '109', '43', '35', '383', '651', '418', '594', 'ago', 'exclude', 'extraordinary', '988', 'carryforwards', 'australia', 'strategy', 'probably', 'best', 'broadly', 'based', 'approach', 'resources', 'energy', 'evans', 'here', 'australian', 'petroleum', 'exploration', 'apea', 'conference', 'prospect', 'developing', 'recognise', 'priorities', 'concerns', 'referring', 'nearly', 'completed', 'taxation', 'plenty', 'approaches', 'produced', 'good', 'reduction', 'top', 'marginal', 'excise', 'rate', 'bass', 'strait', 'found', '1975', 'waiver', 'onshore', 'calling', 'elimination', 'secondary', 'order', 'incentives', 'prospecting', 'background', 'weak', 'prices', 'relatively', 'levels', 'nobody', 'wants', 'add', 'unnecessary', 'already', 'complex', 'regime', 'am', 'inclined', 'kinds', 'ahead', 'sweeping', 'leave', 'revenue', 'still', 'lot', 'uncertainty', 'what', 'going', 'do', 'intend', 'resource', 'rent', 'legislation', 'parliament', 'response', 'expenditure', 'given', 'area', 'reported', 'limited', 'highly', 'prospective', 'offshore', 'profits', 'certain', 'achieved', 'projects', 'true', 'successful', 'anything', 'desire', 'stability', 'adding', 'planned', 'ground', 'rules', 'private', 'exporters', 'jordan', 'meal', 'iraq', 'algeria', 'hard', 'red', 'winter', 'soft', '88', 'marketing', '180', 'season', '120', 'begins', 'disappointed', 'gencorp', 'asked', 'how', 'better', 'value', 'shareholders', 'urged', 'reject', 'affiliate', 'wagner', 'brown', 'afg', 'industries', 'studying', 'financially', 'superior', 'alternatives', 'partnership', 'called', 'particularly', 'discuss', 'failed', 'say', 'continue', 'attempt', 'prevent', 'satisfactory', 'failing', 'redeem', 'poison', 'pill', 'shareholder', 'rights', 'plans', 'takeovers', 'expensive', 'date', 'separately', 'conditional', 'person', 'acquiring', 'beneficial', 'confident', 'timely', 'arrangements', 'work', 'facilitate', 'house', 'approved', 'proposals', 'extend', 'life', '1990', 'reagan', 'amendments', 'comprehensive', 'moving', 'addition', 'several', 'restrict', 'lamb', 'sugar', 'containing', 'tobacco', 'those', 'affecting', 'face', 'uncertain', 'ways', 'means', 'overall', 'jurisdiction', 'oppose', 'congressional', 'effect', 'five', 'current', 'offered', 'rep', 'dan', 'glickman', 'kan', 'funding', 'furthermore', 'amendment', 'bonus', 'commodities', 'bob', 'smith', 'ore', 'urges', 'action', 'glenn', 'english', 'okla', 'requiring', 'discussions', 'aimed', 'jointly', 'reducing', 'representative', 'clayton', 'yeutter', 'opposed', 'agreements', 'host', 'panel', 'quotas', 'goods', 'bulk', 'stangeland', 'minn', 'curbing', 'foods', 'dairy', 'affect', 'cotton', 'place', 'quota', 'zealand', 'ireland', 'voted', 'apply', 'same', 'import', 'beef', 'included', 'urging', 'south', 'korea', 'remove', 'restrictions', 'boosting', 'must', 'food', 'aid', 'section', '416', '500', 'conduct', 'study', 'licensing', 'determine', 'tariff', 'barrier', 'reimburse', 'growers', 'costs', 'defending', 'feedgrains', 'countervailing', 'duty', 'community', 'vegetable', 'oils', 'findings', 'agricultural', 'policy', 'recommended', 'reorganization', 'cut', 'certificates', 'immediately', 'telex', 'message', 'adjusted', 'short', 'certificate', 'points', 'adjustment', 'bring', 'closer', 'line', 'currently', 'prevailing', 'interbank', 'too', 'predict', 'move', 'herald', 'discount', 'stands', 'eight', 'regular', 'weekly', 'discussed', 'wednesday', 'generally', 'moves', 'tandem', 'however', 'link', 'lend', 'sudan', '57', 'buy', '309', 'flour', 'signed', 'rest', 'sea', 'transportation', 'grace', 'repayment', 'chase', 'we', 'fully', 'options', 'entregrowth', 'property', 'vehicle', 'expansion', 'north', 'concluded', 'remaining', 'every', 'option', 'four', 'closed', '55', 'cents', 'issue', 'reynolds', 'takeover', 'concentrate', 'base', 'stronger', 'team', 'benefits', 'activities', 'receiving', '90', 'great', 'first', 'savings', 'recorded', 'exceeding', 'mortgage', 'valued', 'san', 'diego', 'release', 'arbitrage', 'premium', 'components', 'strip', 'involving', '390', 'recently', 'wash', 'acquired', 'ariz', 'resulted', 'offices', 'expand', 'western', 'considering', 'colorado', 'tariffs', 'gatt', 'high', 'priority', 'reform', 'greatest', 'crisis', 'informal', 'ministers', 'problem', 'involves', 'seriously', 'affects', 'servicing', 'number', 'showing', 'leadership', 'giving', 'attention', 'processes', 'oecd', 'cooperation', 'elsewhere', 'venice', 'summit', 'looking', 'participants', 'adopt', 'interests', 'uruguay', 'round', 'eighth', 'ranging', 'sees', 'providing', 'opportunity', 'secure', 'liberalisation', 'sectors', 'restore', 'confidence', 'multilateral', 'initial', 'meetings', 'negotiating', 'groups', 'established', 'geneva', 'declaration', 'punta', 'del', 'este', 'start', 'vital', 'see', 'commitments', 'standstill', 'carried', 'practice', 'protection', 'offers', 'global', 'hold', 'wind', 'back', 'negotiations', 'rupees', '130', '995', '875', '07', 'dividend', 'iron', 'steel', 'aug', '487', '344', '492', '883', 'philippines', 'widened', '542', 'end', 'august', '159', 'statistics', 'rose', '58', 'totalled', '202', 'french', 'request', 'licences', 'cereal', 'british', 'plc', 'raise', 'publicly', 'traded', 'srd', 'speculation', 'forced', 'come', 'rosario', 'rothschild', 'despite', 'bp', 'managing', 'possibility', 'thinking', 'royal', 'shell', 'rd', 'sc', '1984', 'eventually', 'raised', '60', 'lawsuits', 'minority', 'think', 're', 'go', 'just', 'bruce', 'lazier', 'ball', 'objections', 'began', 'blocked', 'completion', 'agreed', '67', 'original', 'comments', 'press', 'afternoon', 'sanford', 'margoshes', 'shearson', 'lehman', 'brothers', 'clients', 'morning', 'sweetened', 'analyst', 'regulatory', 'reason', 'goldman', 'sachs', 'advisor', 'advised', 'norcros', 'proceeding', 'talks', 'williams', 'holdings', 'suggestion', 'arising', 'merger', 'normal', 'warrant', 'firmed', 'news', 'hostile', '2p', '742', 'informed', '890', 'ordinary', 'issued', 'auction', 'bills', 'average', '08', 'averages', 'bond', 'equivalent', 'yield', 'bids', '92', 'ranged', 'monetary', 'authorities', '832', 'fed', '488', '504', '486', '96', '926', '977', '916', 'highest', 'inflation', 'february', 'bureau', 'rises', 'mostly', 'housing', 'health', 'education', 'entertainment', 'transport', 'wage', 'controls', 'force', 'officials', 'helped', 'devaluation', 'workers', 'killed', 'injured', 'rock', 'africa', 'second', 'largest', 'gold', 'mine', 'accident', 'died', 'explosion', 'coal', 'thursday', 'satoshi', 'sumita', 'welcomed', 'monday', 'west', 'german', 'confirmation', 'louvre', 'excessively', 'concerned', 'adhere', 'coordination', 'upon', 'economies', 'industrialised', 'heading', 'recovery', 'nil', '568', '835', '011', '145', '51', 'chocolate', 'payments', '954', '410', '807', '928', '705', 'retirement', '303', 'mths', 'warner', 'communications', 'investors', 'representing', '668', 'berkey', '104', '167', 'series', 'convertible', '208', '334', 'evaluate', '05', '74', '244', '684', '93', 'swedish', 'mining', 'metals', 'boliden', 'ab', 'equipment', 'allis', 'chalmers', 'amounting', 'crowns', 'described', 'producer', 'mineral', 'processing', 'opportunities', 'cooperate', 'materials', 'handling', 'selling', 'out', 'needed', 'suffering', 'losses', 'deal', 'approval', '587', '231', '368', '54', 'figures', 'resulting', 'restructuring', 'quarter', 'applicable', 'gould', 'medical', 'washington', 'presidential', 'part', 'plan', 'follows', 'buying', 'terminated', '315', '161', '490', '899', '821', '123', '491', '473', '784', '489', '257', '268', '81', '245', '247', '035', '326', '512', '534', '553', '592', '448', '310', '515', '225', '745', '132', '619', '863', 'dale', 'faces', 'damages', 'claims', 'totalling', '420', 'former', 'publications', 'predecessor', 'qualified', 'california', 'claim', 'successor', 'starting', '21', 'measured', 'difference', 'values', 'exchanged', 'plus', 'reed', 'comment', 'rumors', 'harcourt', 'brace', 'jovanovich', 'hbj', 'unwelcome', 'maxwell', 'printing', 'communication', 'spokeswoman', 'forecasts', 'stg', 'totally', 'unrealistic', '139', '894', '135', '118', '406', 'exercise', 'owned', 'closing', 'added', 'depending', 'ontario', 'launched', 'waste', 'unsolicited', 'laidlaw', 'adams', 'expires', 'directors', 'meet', 'studied', 'counsel', 'obtaining', 'diligence', 'investigation', 'execution', 'employment', 'employees', 'designated', 'paul', 'volcker', 'alan', 'greenspan', 'replace', 'him', 'revived', 'deep', 'stem', 'rising', 'although', 'known', 'committed', 'anti', 'doubts', 'political', 'experience', 'tough', 'campaign', 'critical', 'stephen', 'vice', 'nikko', 'departure', 'remain', 'nervous', 'slifer', 'economist', 'announcement', 'sent', 'halted', 'concerted', 'open', 'ortner', 'commerce', 'index', 'indicators', 'consistent', 'accounted', 'healthy', '377', '279', '085', '484', '281', '546', 'extended', '060', '197', 'withdrawn', 'assess', 'airways', 'aloha', 'supplement', 'distributed', 'later', 'deadline', 'accepting', 'november', 'accept', 'tenders', 'managed', 'alex', 'sons', 'nippon', 'telegraph', 'telephone', 'ntt', '348', '506', 'submitted', 'post', 'telecommunications', 'ministry', '770', 'opec', 'shown', 'itself', 'control', 'situation', 'speed', 'pact', 'limit', 'bpd', 'traders', 'respect', 'cartel', 'saturday', 'users', 'trader', 'tokyo', 'thought', 'difficulty', 'agreeing', 'so', 'react', 'singapore', 'slight', 'far', 'spot', 'quotes', 'dubai', 'benchmark', 'few', 'cautious', 'activity', 'above', 'gsp', '42', 'even', 'grades', 'qatar', 'abu', 'dhabi', 'improve', 'positions', 'sellers', 'aim', 'affected', 'need', 'rebuild', 'stocks', 'doubt', 'consumption', 'bullish', 'sure', 'shortage', 'depends', 'source', 'cheating', 'convince', 'worry', 'shortages', 'questionable', 'iraqi', 'rejection', 'assigned', 'factor', 'considered', 'reaction', 'changed', 'thin', 'naphtha', 'middle', 'distillates', 'quiet', 'minimal', 'fuel', 'tight', 'prompt', 'supplies', 'quebec', 'mines', 'weekend', 'returned', 'strike', 'represented', 'steelworkers', 'hour', 'improved', 'ounces', 'slowed', 'forward', 'restated', 'pooled', 'chargeoffs', 'britain', 'visible', 'revised', 'show', 'seasonally', 'statistical', 'cso', '760', 'upwardly', 'shortfall', '930', 'sharply', 'invisible', 'figure', 'projections', 'invisibles', 'lower', 'expectations', 'stressed', 'quarters', 'liable', 'substantial', 'revisions', 'information', 'becomes', 'available', 'utilicorp', 'recommending', 'quarterly', 'class', 'vote', 'regularly', 'create', 'authorize', 'par', 'preferences', 'instance', 'intended', 'enhance', 'carry', 'acquisitions', 'corporate', 'brazil', 'coffee', 'breakdown', 'organization', 'brazilian', 'ibc', 'jorio', 'dauster', 'reconsider', 'bag', 'ico', 'assumption', 'gesture', 'ease', 'lack', 'leaves', 'valid', 'bags', 'talk', 'taking', 'flexible', 'decisions', 'cause', 'panic', 'shows', 'sell', 'without', 'commenting', 'consumer', 'implied', 'lead', 'difficult', 'recover', 'exportable', 'surpluses', 'overproduction', 'boosted', 'win', 'rejected', 'reports', 'noting', 'stance', 'links', 'colombia', 'african', 'envisaged', 'present', 'roaster', 'abandoned', 'decided', 'registrations', 'shipment', 'opened', 'declined', 'opening', 'advance', 'suggested', 'noted', 'exported', 'drought', 'heard', 'estimate', 'late', 'liquid', 'hydrocarbons', 'slightly', 'petroleos', 'pemex', '1974', '1978', 'both', '1981', '1982', '29', 'percentage', 'mainly', 'wells', 'exploratory', 'suspended', 'productive', 'fields', 'florida', 'citrus', 'concentrated', 'orange', 'juice', 'movement', 'channels', '496', '533', 'gallons', 'versus', '058', '976', '141', '578', 'corresponding', '499', '967', '341', '280', '774', 'retail', '741', '464', 'cumulative', '516', '753', '76', '919', '119', 'pack', '846', '82', '355', '864', 'inventory', '212', '711', '985', '696', 'confirmed', 'authorised', 'white', 'maximum', 'rebate', 'units', 'ecus', 'kilos', 'netherlands', 'denmark', 'germany', 'china', 'hong', 'kong', 'wholly', 'henkel', 'subordinated', 'foreseeable', 'participation', 'excellent', 'especially', 'harvest', 'conducted', 'errors', 'estimates', 'officially', 'published', 'monthly', 'minimum', '460', '730', '634', '007', '850', '788', '792', '586', '481', '697', '606', '797', '683', 'sun', 'corporation', 'ccc', 'cover', '186', 'cattle', 'egypt', '888', '06', 'interstate', 'exporter', 'form', '959', 'initiative', 'look', 'point', 'citing', 'evidence', 'suspension', 'effectively', 'free', 'yields', 'bonds', 'followed', 'surprise', 'within', 'minutes', 'england', 'tap', 'weeks', 'entire', 'gilts', 'clear', 'drop', 'sooner', 'tranche', '1997', 'occurred', 'active', 'rally', 'pushed', 'pound', 'highs', 'quickly', 'indeed', 'lewis', 'stockbrokers', 'phillips', 'drew', 'indication', 'believes', 'people', 'hope', 'capel', 'considerable', 'significance', 'cleared', 'building', 'societies', 'inevitable', 'normally', 'exceed', 'believed', 'towards', 'society', 'depressed', 'exchequer', 'nigel', 'lawson', 'keen', 'keep', 'underlying', 'upward', 'seen', 'well', 'impact', 'others', 'intense', 'competition', 'scope', 'cuts', 'worried', 'losing', 'psbr', 'criticism', 'heart', 'looks', 'reflects', 'dealer', 'refused', 'merely', 'politically', 'issues', 'twice', 'past', 'risen', 'continued', 'threatening', 'overshoot', 'unofficial', 'contribution', '01', 'previous', '211', '626', '632', '240', '52', 'charges', 'credits', '431', '335', '387', '532', 'anticipates', 'assuming', 'continuation', 'margins', 'existed', 'unusual', '146', 'spending', '160', '101', '551', '831', '398', 'electronics', 'declared', 'holders', 'armtek', 'armstrong', 'rubber', 'tire', 'assembly', 'undisclosed', 'sum', 'covers', 'facility', 'clinton', 'tenn', 'plants', 'serving', 'replacement', 'tires', '900', '89', '09', '59', '185', '84', 'furniture', 'aircraft', 'helicopter', 'nevada', 'equity', '45', 'passenger', 'helicopters', 'morocco', 'soyoil', 'pl', '480', 'bread', 'cereals', 'granted', 'barley', '138', 'tonne', 'maize', '133', 'houses', 'southwestern', 'bell', 'cellular', 'systems', 'dilution', 'regional', 'indicate', 'degree', 'acceptable', 'yearend', 'listed', 'earned', '02', '996', 'dipped', 'negative', 'mid', 'distance', 'volumes', 'expenditures', 'spent', 'enter', 'supply', 'via', 'repurchase', 'economists', 'repurchases', 'maintenance', 'aggressive', 'overnight', 'crazy', 'eddie', 'distributors', 'operates', 'tape', 'stores', 'disc', 'metropolitan', 'disclosed', 'barrel', 'al', 'wattari', 'seminar', 'kept', 'built', 'warned', 'defense', 'hardship', 'curtail', 'cutbacks', 'sustained', 'stabilize', 'optimal', 'undergo', 'severe', 'cannot', 'pressures', 'depended', 'use', 'left', 'insufficient', 'ceiling', 'meant', 'sacrifices', 'though', 'restored', 'lasting', 'requires', 'wider', 'willingness', 'volume', 'majority', 'responded', 'sufficiently', 'outside', 'generating', 'excessive', 'otherwise', 'cost', 'encourage', 'chalabi', 'deputy', 'addressing', 'discipline', 'fluctuations', 'europe', 'advantageous', 'sides', 'hoped', 'ultimately', 'dialogue', 'utilities', 'center', 'edmonton', 'alberta', 'calgary', 'together', '114', 'reflected', 'ends', 'philippine', 'mn', 'planning', 'excess', 'pesos', 'our', 'marketable', 'beyond', 'reach', 'surged', '367', 'manila', 'stockholders', '68', '778', '417', 'franchise', 'impose', 'exempt', 'ordered', 'implementation', '856', '014', 'instruments', 'item', 'read', 'page', 'dropped', 'word', 'replaces', 'bankers', 'satisfied', 'speaking', 'settlements', 'reviewed', 'france', 'help', 'helping', 'sustain', 'spoke', 'condition', 'named', 'governors', 'michel', 'camdessus', 'fund', 'imf', 'assessment', 'particular', 'moratorium', 'sense', 'urgency', 'circuit', 'technology', 'act', 'primary', 'computer', 'francisco', 'remainder', 'pharmaceuticals', 'express', 'understanding', 'approximately', '530', 'explore', 'mutually', 'definitive', 'sessions', 'strategic', 'importance', 'expanding', 'capacity', 'integral', 'role', 'worldwide', 'decide', 'substitutes', 'moment', 'proposing', 'unchanged', 'dinner', 'controversial', 'introduce', 'fats', 'fight', 'justice', 'applying', 'backed', 'eliminate', 'nation', 'huge', 'chamber', 'flows', 'clearly', 'inter', 'unless', 'get', 'elaborate', 'views', 'deficits', 'inflows', 'lesser', 'extent', 'll', 'progress', '170', 'approached', 'focus', 'strongly', 'policies', 'foster', 'competitiveness', 'establishment', 'playing', 'field', 'done', 'side', 'biggest', 'partners', 'running', 'doing', 'job', 'relating', 'undersecretary', 'affairs', 'address', 'fairly', 'priced', 'undervalued', 'proper', 'quick', 'fix', 'tactics', 'dangers', 'solution', 'provoke', 'retaliation', 'my', 'mind', 'retaliate', 'flexibility', 'essential', 'seasons', 'hotels', 'vms', 'realty', 'santa', 'barbara', 'hotel', 'venture', 'invest', 'improvements', '228', 'room', 'entered', 'hawaiian', 'bankruptcy', 'district', 'futures', 'lb', 'consolidation', 'trend', 'sets', 'agenda', 'supporting', 'broke', 'definite', 'perhaps', 'william', 'neill', 'elders', 'downside', 'vulnerable', 'developments', 'us', 'having', 'kind', 'definitely', 'rule', 'brief', 'bache', 'she', 'worries', 'freeze', 'growing', 'consolidate', 'cent', 'opens', 'mount', 'agree', 'fallen', 'sought', 'buildup', 'roasters', 'drawn', 'soon', 'harvests', 'seasonal', 'peak', 'warehouses', 'increasingly', 'forthcoming', 'service', 'undertake', 'lows', 'frost', 'accurate', 'usually', 'soluble', 'roasted', 'drawdown', 'picking', 'bottom', 'fact', 'territory', 'endotronics', 'nasdaq', 'pending', 'expecting', 'sept', 'cited', 'dispute', 'yamaha', 'promissory', '686', 'overdue', 'accounts', 'richard', 'lyng', 'influence', 'tribunal', 'categories', 'items', 'optimistic', 'favor', 'principles', 'seems', 'me', 'bearing', 'question', 'you', 'interview', 'repeated', 'challenged', 'specialty', 'fruit', 'hardline', 'says', 'protect', 'negotiate', 'illegal', 'continues', 'resist', 'demands', '193', '052', '223', '199', 'threaten', 'atlantic', 'michael', 'jopling', 'evening', 'things', 'governments', 'purely', 'recognize', 'run', 'develop', 'stable', 'sector', 'protectionism', 'worthwhile', 'engage', 'benefitting', 'crucial', 'friends', 'indiana', 'visit', 'farms', 'criticized', 'consideration', 'fish', 'correct', 'raising', 'expense', '785', '422', '316', '207', '1st', '318', '181', 'disposition', '920', '039', '051', 'rmj', 'commonwealth', 'realize', 'broker', 'obligations', 'provides', 'flat', 'balance', 'totaling', 'guilders', 'modestly', 'economics', 'quoting', 'payout', 'distribution', '354', '825', '103', '33', '426', '83', '286', 'amortization', 'panama', 'canal', 'backlog', 'ships', 'waiting', 'transit', 'tomorrow', 'super', 'tankers', 'vessels', 'hrs', 'stockholder', 'video', 'liquidating', 'mr', 'implement', 'maximize', 'liquidation', 'albert', '329', 'principle', 'subsequent', 'sec', 'loading', 'load', 'portland', 'merchants', '938', 'offering', 'underwriters', 'painewebber', 'properties', 'used', 'acquires', 'bullion', '105', 'guardian', 'exclusive', 'machines', 'hospital', 'sandoz', 'rhone', 'poulenc', 'kiichi', 'miyazawa', 'contributed', 'bringing', 'prevented', 'speculative', 'centres', 'understood', 'narrow', 'manufacturing', 'hudson', 'mass', 'machinery', 'maker', 'military', 'contractor', 'representation', 'hughes', 'tool', 'night', 'approve', 'regulators', 'bko', 'merged', 'allows', 'warranted', 'obligation', 'businesses', 'divested', 'oilfield', 'adjourned', 'resumed', 'consent', 'decree', 'consist', 'bit', 'electric', 'pump', 'converted', 'delta', 'air', 'unions', 'delay', 'appeals', 'labor', 'binding', 'nevertheless', 'personnel', 'ronald', 'allen', 'feels', '678', '531', '69', 'twelve', 'climate', 'mailed', 'goal', 'bolivia', 'nogales', 'steering', 'creditor', 'bolivian', 'trades', 'single', 'discounted', 'repaid', 'medium', 'restart', 'latin', 'initiated', 'schemes', 'cancel', 'swaps', 'backs', 'region', 'practical', 'considerations', 'exact', 'timing', 'bargain', 'friendly', 'let', 'greater', 'exposure', 'provisions', 'resolve', 'once', 'conservative', 'ones', 'wait', 'know', 'window', 'discussing', 'status', 'parts', 'owed', 'agencies', 'negotiators', 'success', 'club', 'creditors', '1989', 'bilateral', 'penalty', 'argentina', '250', 'inflow', 'stood', 'disposable', 'victor', 'paz', 'estenssoro', 'took', 'soared', 'annualised', 'gdp', 'king', 'stauffer', 'seeds', 'chemical', 'comdata', 'network', 'parties', 'recapitalization', 'lp', 'mason', 'miti', 'acted', 'tighten', 'microchip', 'preserve', 'semiconductor', 'chipmakers', 'specified', 'licence', 'automatically', 'denied', 'predicted', 'complained', 'repeatedly', 'firms', 'turn', 'argue', 'cheap', 'chips', 'grey', 'gap', 'makers', 'increasing', 'specific', 'suggests', 'distributing', 'knowing', 'spokesmen', 'hit', 'erik', 'calif', '347', '625', '111', 'atlas', 'consolidated', 'translated', 'copper', '220', 'cathodes', 'jacobs', 'ag', 'hopes', 'direction', '190', 'swiss', 'bearer', '155', 'exceeded', 'introduced', 'hermann', 'partially', 'offset', 'structural', 'tonnage', 'largely', 'write', 'offs', 'taxes', 'jumped', '61', '112', '855', '333', 'tons', 'jerry', 'huckaby', 'congressman', 'louisiana', 'democrat', 'subcommittee', 'deals', 'easing', 'calm', 'concern', 'legitimate', 'impacts', 'caribbean', 'eased', 'justified', 'representatives', 'cane', 'refiners', 'met', 'restrictive', 'refiner', 'replied', 'sugarcane', 'architect', 'indicates', 'grower', 'interagency', 'changing', 'black', 'hawk', 'knows', 'toronto', 'application', 'listing', 'unilever', 'un', 'rumours', 'care', 'gillette', 'counter', 'london', '275', 'dismissed', 'old', 'story', 'commented', 'interested', 'wall', 'street', 'sir', 'perelman', 'revlon', 'rev', 'unsuccessful', '649', '664', '262', '689', '874', '660', 'navistar', 'donald', 'ongoing', 'significantly', 'recommend', 'truck', 'receipts', 'firmer', 'tone', 'segment', 'engine', 'succeed', 'retire', 'structure', 'civilian', 'unemployment', 'payroll', 'jobs', '164', '236', '337', 'lowest', '1980', 'straight', 'smallest', 'slower', '232', 'survey', '102', '03', 'showed', 'overtime', 'households', 'unemployed', 'persons', 'working', 'reasons', 'factory', 'brought', 'automobile', 'electrical', 'electronic', 'construction', 'lowered', 'falling', 'experienced', 'erosion', 'rapid', 'thirds', 'cook', 'kenneth', 'anderson', 'compatible', 'main', 'programs', 'assistance', 'permanently', 'authorization', 'authority', 'urban', 'grant', 'flood', 'rural', 'goes', '981', '360', 'debenture', 'conversion', '206', 'borrowing', 'facilities', 'dealing', 'band', 'brings', '243', 'match', 'originally', 'contribute', 'river', 'pipe', 'woolworth', 'valuing', 'chain', 'negotiated', 'broken', 'acceptance', 'involve', 'enlarged', 'alternative', 'underwritten', '115', 'defined', 'cd', 'cds', 'identical', 'unadjusted', '343', '336', '015', 'saudi', 'arabian', 'hisham', 'nazer', 'reiterated', 'kingdom', 'spa', 'arabia', 'adhering', 'never', 'argentine', 'oilseed', 'fob', 'brackets', 'sorghum', 'sunflowerseed', 'cake', 'expellers', 'pellets', 'linseed', '274', '264', 'groundnutseed', '450', '445', '290', 'rapeseed', '313', 'onwards', '330', '320', 'levied', 'presenting', 'calendar', 'outturn', 'explicit', 'broad', 'm3', 'assessing', 'profitable', 'sticking', 'strive', 'makes', 'power', 'prime', 'contractors', '157', '941', '069', '284', '636', '790', '235', '819', '680', '858', '624', '399', '385', '407', '441', '175', '692', 'marathon', 'usx', 'pays', 'illinois', 'sweet', 'bbl', 'southern', 'michigan', 'grade', 'texas', 'intermediate', 'amend', 'laws', 'computers', 'registering', 'type', 'leasing', 'carriers', 'lease', 'assure', 'fairness', 'registered', 'mcdonnell', 'douglas', 'md', 'kokusai', 'denshin', 'denwa', 'motors', 'automotive', 'quoted', 'earn', 'numbers', 'conclude', 'senator', 'models', '396', '376', '353', '292', 'relations', 'ferrous', 'engines', 'sweden', 'chinese', 'mill', 'aviation', 'tentatively', 'friction', 'milan', 'italy', 'italian', 'approvals', 'operated', 'manufacturer', 'grew', 'narrowly', 'almost', 'reaching', 'roubles', '713', 'journal', '142', 'east', 'bloc', 'attributed', 'slump', 'personal', '195', '169', '564', '325', '584', '880', '828', 'plains', 'proved', 'developed', 'houston', 'merge', 'rice', 'paddy', 'local', 'buffer', 'staple', 'disclosing', 'tonnages', '544', '772', '597', '2nd', '588', 'bundesbank', 'liabilities', 'provided', 'liquidity', 'standing', 'routine', 'expansionary', 'circulation', '122', 'draw', 'heavily', 'lombard', 'emergency', 'tightness', 'averaging', 'requirement', 'deduction', 'declines', 'unlikely', 'promote', 'remains', 'volatile', 'morgan', 'hand', 'barring', 'collapse', 'reflection', 'spectrum', 'roughly', 'consequence', 'moderately', '166', '580', '545', '391', 'pro', 'forma', 'adjustments', 'cuban', 'young', 'schedule', 'sunday', 'rains', 'interrupted', 'harvesting', 'milling', 'island', 'leader', 'mechanical', 'neither', 'nor', 'goals', 'lucky', 'reaches', 'strict', 'cutback', 'mounting', 'strictly', 'controlled', 'maintains', 'stabilisation', 'zone', '370', 'kilo', '780', '820', 'steers', '020', '090', 'livestock', 'promotion', 'lipc', 'wholesale', 'releases', 'imported', 'buys', 'locally', 'often', 'criticised', 'releasing', 'seng', 'asian', 'meat', 'federation', 'step', 'benefit', 'consumers', 'rigid', 'complicated', 'poor', 'packers', 'promising', 'times', 'unclear', 'pick', 'sharp', 'visits', '177', '168', 'sufficiency', 'won', '214', '779', 'bilion', 'cnt', 'quantum', 'sand', '834', '609', '153', '173', '392', '006', '432', '121', 'disposal', '469', 'divisions', 'bally', 'flag', 'theme', 'amusement', 'park', 'register', 'clubs', 'flags', 'inquiry', 'repay', '350', '375', 'reportedly', 'needs', 'mountain', '439', 'golden', 'nugget', 'casino', 'penn', 'ill', '113', '369', 'combined', '456', 'came', 'developer', 'trump', 'related', 'expenses', 'becor', '1000', 'cdt', '510', '192', '428', '136', 'went', 'iran', 'fired', 'newly', 'silkworm', 'shipping', 'missile', 'hormuz', 'land', 'launching', 'sites', 'naval', 'identified', 'port', 'missiles', '669', '641', '934', '064', '494', '218', '289', '276', '961', '033', 'feburary', 'inventories', 'finished', 'karl', 'otto', 'poehl', 'gerhard', 'stoltenberg', 'foreigners', 'independence', 'rare', 'row', 'symposium', 'frankfurt', 'feared', 'attractive', 'obvious', 'expressed', 'patch', 'relationship', 'steer', 'objective', 'feeling', 'commerzbank', 'juergen', 'withholding', 'wiped', 'billions', 'abroad', 'angered', 'consulting', 'adequately', 'allowing', 'apparently', 'conflicting', 'lately', 'switch', 'promoted', 'schlesinger', 'inflationary', 'fears', 'abandoning', 'pursued', 'sounded', 'spoken', 'warning', 'council', 'represent', 'dilemma', 'entirely', 'attract', 'hurting', 'shed', 'pfennigs', 'became', 'war', 'talked', 'cool', 'popular', 'resistance', 'coalition', 'subsidy', 'extra', 'turned', 'worst', 'scandal', 'sort', 'heads', 'premier', 'allegations', 'election', 'elections', 'dead', 'police', 'death', 'appears', 'social', 'democrats', 'appointed', 'schmidt', 'renewal', 'werner', 'partner', 'men', 'opinion', 'felt', 'smelting', 'refining', 'smelter', 'confirm', 'madrid', 'partly', 'province', 'customers', 'metal', '222', '644', '226', '550', '462', '673', '630', 'bands', 'feb', '252', '539', '163', '505', '493', 'started', 'compiling', '1953', 'male', 'equal', 'female', 'marked', 'stemmed', 'appreciation', '380', 'employed', 'textile', 'shipbuilders', 'bancorp', 'maryland', 'mo', 'specializes', 'sized', 'pension', 'labour', 'hinder', 'external', 'secretariat', 'rapidly', 'wages', 'moderation', 'maintaining', 'relied', 'wood', 'pulp', 'dependence', 'tighter', 'poultry', 'bonuses', 'dec', '156', '094', 'living', 'amsouth', 'tuskaloosa', 'effected', 'provisional', 'posting', 'downturn', 'bancshares', 'virginia', 'wayne', 'belonging', 'guatemala', 'delegates', 'reporters', 'session', 'comprising', 'costa', 'rica', 'dominican', 'republic', 'ecuador', 'el', 'salvador', 'honduras', 'india', 'nicaragua', 'papua', 'guinea', 'peru', 'consult', 'attend', 'consultations', 'proceed', 'mentioned', 'verification', 'indonesia', 'weakness', 'spain', 'shortly', 'sign', 'spanish', 'exxon', 'reviewing', 'refinery', 'refineries', 'lee', 'raymond', 'closure', 'specifically', 'constant', 'mediterranean', 'jerome', 'similar', 'intelligence', 'influential', 'closures', 'antwerp', 'possibly', 'salomon', 'improvement', 'upgraded', 'efficient', 'feel', 'downstream', 'libya', 'netback', '869', 'absorbed', 'prt', '126', '757', '667', 'reid', '373', 'certainly', 'prove', '340', 'brent', 'metres', 'liquids', 'maintained', 'project', 'drilled', 'discovery', 'gauge', 'viability', 'discoveries', '187', 'bad', 'dip', 'movements', 'catalytic', 'stream', 'damaged', 'plant', 'chemicals', 'rationalisation', 'site', 'relief', 'helpful', 'tend', 'looked', 'restrain', 'gnp', 'epa', 'annualized', 'accelerated', 'blamed', 'depressing', 'nominal', 'reflecting', 'tally', 'exactly', 'rounding', 'knocked', 'outlays', 'specifics', 'indian', 'talking', 'potential', 'possibilities', 'detailed', 'stand', 'ready', 'assist', 'whatever', 'valuable', 'subsidized', '419', 'amended', 'unable', 'mix', 'prefer', 'something', 'capable', 'purchasing', 'themselves', 'obviously', 'then', 'always', 'yes', 'tuesday', 'rockwell', '302', 'jr', '278', '709', 'metex', '149', '750', 'exercisable', '471', '993', '675', 'penalties', '736', 'hills', 'runs', 'doe', 'bidders', 'texaco', 'tx', '110', 'chv', 'chevron', 'usa', 'sound', 'richfield', 'arc', '679', 'eagle', 'ring', '230', 'petro', 'diamond', 'supreme', 'fuller', '1983', '615', '616', '467', '617', 'million', 'spur', 'convened', 'endorse', '972', '116', 'baird', 'massachusetts', 'county', 'lifted', 'restraining', 'prohibiting', 'iv', 'filings', 'associates', 'philips', 'regarding', 'broadcast', 'transmission', 'designs', 'manufactures', 'specializing', 'television', 'planting', 'weather', 'departments', 'summary', 'crops', 'bulletin', 'winds', 'soil', 'temperature', 'hampered', 'arizona', 'moved', 'counties', 'valley', 'coastal', 'upper', 'coast', 'preparations', 'oklahoma', 'milled', 'thailand', 'stcks', 'domes', 'communities', '1992', 'language', 'cable', 'records', 'translate', 'franchises', '389', 'distribute', 'promotional', 'advertising', 'stations', 'risk', 'conrac', 'determined', 'inadequate', 'instructed', 'advisors', 'persuading', 'threatened', 'sanctions', 'efforts', 'armacost', 'persuade', 'demonstrate', 'permit', 'barriers', 'settle', 'wish', 'important', 'exist', 'security', 'cooperative', 'imbalance', 'takes', '459', '314', '237', '249', '556', '478', '282', 'writedown', 'westminster', '003', 'corrects', 'tri', 'star', 'pictures', 'century', 'rko', 'expanded', 'garden', 'outright', 'resale', '646', 'rolled', '781', 'forms', 'carter', 'hawley', 'hale', 'voting', 'store', 'green', 'optimism', 'successfully', 'presence', 'buoyant', 'ignored', 'lacked', 'meaning', 'size', 'unknown', 'rebound', 'doesn', '629', '538', 'nov', 'newspaper', 'advertisement', 'conditioned', 'receipt', 'withdrawal', 'expire', 'asking', 'list', 'deutsche', 'christians', 'responding', 'operative', 'reporting', 'comparisons', '031', '008', 'utilization', '131', 'unspecified', '393', 'intent', 'subscribers', '645', 'atcor', 'magnitude', 'pricing', 'fast', 'represents', 'unprofitable', 'throughout', 'raw', 'material', '670', '194', '798', '362', 'carryforward', '124', '021', '162', '371', 'emirates', 'uae', 'dirhams', 'narrowing', 'difficulties', 'narrowed', 'oppenheimer', 'northwest', 'recommendation', 'minneapolis', 'vision', 'puerto', 'rico', 'media', 'juan', 'join', 'indirectly', 'permanent', 'injection', 'insistence', 'floor', 'inra', 'conciliatory', 'indicative', 'consuming', 'suit', 'belgium', 'appeared', 'reservations', 'malaysian', 'automatic', 'manaspas', 'xuto', 'separate', 'tonight', 'motor', 'slow', 'mellon', 'posted', 'fe', 'pacific', 'filed', 'petition', 'railroad', 'icc', 'railroads', 'grounds', 'reopen', 'file', 'supplemental', 'herrington', 'gasoline', 'avert', 'threat', 'reliance', 'fee', 'nationwide', 'depletion', 'allowance', 'enhanced', 'code', 'controlling', 'jose', 'sarney', 'temporarily', 'parallel', 'promoting', 'obtain', 'technically', 'importers', 'banco', 'brasil', 'cacex', 'strengthen', 'alleviate', 'resume', 'body', 'rigs', '801', '248', 'decrease', '707', '744', 'inland', 'waters', 'kansas', 'rig', 'count', 'sparked', 'threats', 'roy', 'denman', 'delegation', 'willing', 'unwilling', 'track', 'wording', 'supports', 'freedom', 'navigation', 'deterioration', 'ambassador', 'ernest', 'kuwaiti', 'envoy', 'iranian', 'tests', 'speaker', 'rafsanjani', 'choke', 'warships', 'escort', 'batteries', 'kg', 'bales', 'textiles', 'contracted', 'journalists', '433', 'delivered', '758', '421', 'realignment', 'ems', 'outflows', 'franc', 'conjunction', 'intervened', 'attracting', 'flight', 'simultaneously', 'shore', 'revalued', 'relieving', '107', '219', '151', '140', '154', 'boston', 'adviser', 'arbitrageur', 'ward', 'publisher', 'completely', 'inconsistent', 'scrutiny', 'fla', 'judgment', 'debentures', 'sb', 'mutual', 'claiming', 'headed', '978', 'decides', 'convert', 'buyer', '806', '005', '513', '395', '982', '754', '804', '332', 'partnerships', 'operator', 'la', '1979', 'rogers', 'discovered', 'charging', 'disputes', 'violations', 'admit', 'compliance', 'written', 'yasuhiro', 'nakasone', 'ruled', 'waterway', 'routes', 'attacks', 'allies', 'armed', 'forces', 'dry', 'warm', 'beet', 'accu', 'warmer', 'eastern', 'rain', 'snow', 'showers', 'water', 'inch', 'warplanes', 'attacked', 'tanker', 'merchant', 'vessel', 'raid', 'gmt', 'safely', 'lloyds', 'greek', 'carrier', '137', 'dw', 'crew', 'safe', 'ship', '204', '931', '042', '291', '047', '503', 'heritage', 'tele', 'proxy', 'licenses', 'hart', 'scott', 'rodino', 'prelude', 'brokerage', 'triggered', 'speculated', 'climbed', 'book', 'somewhat', 'insider', 'spinoff', 'doors', 'internationally', 'anthony', 'barney', 'goodman', 'giant', 'finding', 'sumitomo', 'infusion', 'expertise', 'internal', 'nice', 'stanley', 'ms', 'fbc', 'hutton', 'pwj', 'merrill', 'lynch', 'shipbuilding', 'orders', 'yards', '999', '125', '265', 'protecting', 'reversed', 'struck', 'dynamics', 'ind', 'lawsuit', 'challenging', 'writing', 'aspects', 'acknowledged', '870', 'taiwan', 'plastics', 'deregulate', 'phone', 'radical', 'deregulation', 'discounts', 'residential', 'jack', 'scrap', 'formula', 'att', 'regulated', 'competitors', 'mci', 'wouldn', 'able', 'respond', 'fcc', 'hearings', 'sprint', 'gte', 'someone', 'process', 'altered', 'mechanisms', 'happen', 'moore', 'distributor', 'generic', 'diw', 'whose', 'pessimistic', 'institutes', 'prospects', 'autumn', 'predictions', 'disputed', 'arguments', 'mixed', 'buildings', 'scale', 'unlike', 'hamburg', 'markedly', 'overwhelming', 'kistler', 'cap', 'spend', 'find', 'withdraw', 'granting', 'voluntarily', 'workforce', 'course', 'breakeven', '215', 'surpassed', 'compares', '210', 'annually', 'lane', 'rank', 'dart', 'headquarters', 'supermarkets', 'sgl', 'supermarket', 'drug', 'jersey', 'centers', 'firmly', 'executives', 'millions', 'safeway', 'lawyers', 'thousands', 'concerning', 'cleveland', 'nppc', 'attending', 'indianapolis', 'directly', 'delegate', 'causes', 'disruption', 'legislative', 'unanimously', 'resolution', 'swiftly', 'identify', 'task', 'elected', 'ray', 'wanted', 'legislators', 'save', 'liner', 'specialist', 'marine', 'doubled', 'foot', 'container', 'fleet', 'dwt', '435', 'comparison', 'transfer', 'branches', 'exceptional', 'created', 'calculations', 'noranda', 'unionized', 'brunswick', 'zinc', 'locals', 'either', 'ratify', '413', 'concentrates', '238', 'coopervision', 'eye', 'cooper', '479', 'excluded', 'rospatch', 'diagnostic', 'retrieval', '627', 'brookehill', 'georgia', 'tennessee', 'socialist', 'determination', 'austerity', 'targets', 'banker', 'faster', 'pursue', 'peseta', 'joined', 'insisting', 'stay', 'setting', 'stage', 'essentially', 'call', 'publication', 'gazette', 'inevitably', '674', '528', 'authorized', 'ports', '447', '401', '525', '454', '304', '642', 'basf', 'denominated', 'reductions', 'accompanying', 'influences', 'incoming', 'petrochemical', 'balanced', 'exceptions', 'fine', 'concrete', 'closely', 'referred', 'matters', 'answer', 'correcting', 'imbalances', 'hindered', 'stimulative', '411', '603', '331', '402', 'acres', 'conservation', 'signup', '837', 'acre', 'farming', 'ten', 'planted', 'enrolled', '764', 'acreage', 'advantage', 'bushel', 'ascs', 'enrollment', '030', 'minnesota', 'montana', '842', 'missouri', 'dakota', 'nebraska', '554', 'belt', '217', 'totals', 'attempts', 'actively', 'surge', 'dampen', 'compete', 'unconditional', 'slip', '0000', 'deposit', 'stabilization', 'deliver', 'pounds', '1300', 'notified', 'endanger', 'tehran', 'radio', 'monitored', 'broadcasting', 'attack', 'carrying', 'retaliatory', 'aggression', 'extensive', 'clash', 'persian', 'tension', 'allied', 'signal', 'schlumberger', 'atlanta', 'ga', 'meters', 'measurement', 'qtrly', 'trans', 'twa', 'carl', 'icahn', 'violated', 'antitrust', 'clearance', 'usair', 'acting', 'attorney', 'howard', 'ohio', 'why', 'violation', 'notification', 'ftc', 'airline', 'purchaser', 'dot', 'thrown', 'pledged', 'telemedia', 'publishing', 'magazines', 'style', 'magazine', 'seventh', 'employs', 'edition', 'begun', 'founder', 'editorial', '253', '904', '812', 'wisconsin', 'st', 'got', 'sown', 'drill', 'hectares', 'seed', 'temperatures', 'nova', 'scotia', '437', '650', '793', '004', 'berisford', 'attracted', 'henry', 'interim', 've', 'ourselves', 'concentrating', 'aims', 'combination', 'stora', 'rival', 'passing', 'threshold', 'forming', 'forest', 'fiji', '501', 'tel', 'mills', 'crushing', 'commence', 'harvested', 'rehabilitation', 'programme', 'carefully', 'requests', 'rescheduling', 'repayments', 'army', 'directed', 'permits', 'preparation', 'crush', 'quality', 'location', 'upland', 'locations', 'lubbock', 'qualities', 'gomes', 'sending', 'document', 'concession', 'usual', 'averaged', 'advanced', 'pa', 'alcan', 'aluminium', 'grande', 'smelters', 'phase', 'purolator', 'courier', 'resigned', 'buyout', 'gardner', 'managers', 'lbo', 'bar', 'solicit', 'initiate', 'accordingly', 'entity', 'behalf', 'breaching', 'fiduciary', '618', '763', 'cominco', 'striking', 'trail', 'kimberley', 'leaders', 'teams', 'trying', 'owens', 'costing', 'covered', 'technical', 'tentative', 'expired', 'sullivan', 'spring', 'branch', 'exchangeable', 'your', 'severance', '508', 'completing', 'indications', 'samuel', 'kahan', 'kleinwort', 'benson', 'strength', 'hurt', 'sluggish', 'median', 'durable', 'surprising', 'larger', 'aggregates', 'consequences', 'road', 'chart', 'poised', 'jim', 'aided', 'prohibited', 'thwarted', 'carroll', 'singer', 'fundamental', 'variable', 'mini', 'auctions', 'notes', 'turning', '016', '527', 'professor', '188', '933', '635', '050', '044', 'universal', '205', 'indonesian', 'subroto', 'suharto', 'stick', 'overcome', 'deliberately', 'slack', 'stuck', '906', '871', 'calculating', 'depreciation', 'subordinate', 'visa', 'card', 'retain', 'yearly', 'imperial', 'dominion', '566', '639', '059', '514', '3rd', '306', 'build', 'palm', 'terminal', 'handle', 'plantations', 'sumatra', 'asia', 'operational', 'platinum', 'silver', 'coins', 'mint', 'treasurer', 'keating', 'weights', 'coin', 'ounce', 'weight', 'finalised', 'owner', 'canary', 'islands', 'customs', '144', 'homes', 'diversified', '357', '465', '718', 'guaranteed', 'escrow', 'wines', 'spirits', 'completes', 'larry', 'eager', 'specialists', 'polled', 'rich', 'fujitsu', 'itsu', 'fairchild', 'supercomputers', 'nomura', 'heat', 'merchandise', 'shopping', 'lists', 'car', 'auto', 'favourable', 'risks', 'boom', 'looming', 'gloomy', 'continuous', 'driving', 'mergers', 'dozen', 'seemed', 'dainippon', 'saw', 'fighting', 'adds', 'experts', 'gradually', 'typical', 'aiming', 'watching', 'sit', 'sections', 'usg', 'coupon', 'rated', 'moody', 'sinking', 'lives', 'mannesmann', 'suitable', 'reply', 'dieter', 'fichtel', 'und', 'asset', 'view', 'suburban', 'retained', 'advise', 'milwaukee', 'interior', 'lowering', 'pik', 'roll', 'stored', 'marketed', 'acts', 'break', 'midwest', 'storage', 'lieu', 'adjusting', 'barge', 'freight', 'terminals', 'mississippi', 'mild', 'reopening', 'encouraged', 'served', 'depress', 'squeezing', 'elevators', 'feeding', 'farmer', 'marketings', 'booked', 'anticipate', 'barges', '134', '158', 'tin', 'kuala', 'lumpur', 'useful', 'appear', 'reasonably', 'lme', 'deliveries', 'reference', 'viewed', 'player', 'preference', 'resumption', 'discussion', 'litigation', 'warehouse', 'rotterdam', '065', 'steadily', '485', 'predicting', 'briefly', 'approaching', 'itc', 'halved', 'reluctant', 'unwanted', 'overhang', 'immediate', 'emerges', 'atpc', 'ita', 'achieve', 'attempting', 'umbrella', 'unaffected', 'argument', 'prompting', 'idle', 'idled', 'deficiency', 'likelihood', 'quite', 'returns', 'forego', 'collins', 'bushels', 'weigh', 'inspection', 'inspectors', 'charged', 'safety', 'leonard', 'nutrition', 'morrison', 'consistently', 'disclose', 'serious', 'chicken', 'fat', 'human', 'blow', '127', 'pace', 'conceded', 'danger', 'salmonella', 'extreme', 'really', 'disease', 'olin', 'va', 'intensify', 'procedures', 'obstacles', 'economical', 'functions', 'spirit', 'fraud', 'geography', 'declining', 'refined', 'irna', 'gholamreza', 'aqazadeh', 'protocol', 'double', 'feasibility', 'studies', 'pipeline', 'pursuing', 'mention', 'hundred', 'thousand', '345', '308', '896', 'termination', '942', '787', '751', '273', 'graphics', 'design', 'coconut', 'virtually', 'romero', 'adversely', 'spark', 'imposed', 'entering', '540', 'copra', 'carlos', 'contact', 'examining', 'colombian', 'ad', 'hoc', 'historically', 'pledge', 'worked', 'speculate', 'brand', 'steep', 'defend', 'roach', 'revision', 'dean', 'witter', 'assumed', 'subdued', 'tightening', 'brusca', 'caught', 'accumulation', 'suggest', 'steve', 'starts', '851', 'pointed', 'fewer', 'afford', 'smooth', 'regardless', '037', '872', '365', '853', '379', 'sight', '743', 'indicator', 'switzerland', 'uccel', 'strongest', 'stiff', 'ibm', 'mainframe', 'software', 'donaldson', 'lufkin', 'jenrette', 'front', 'besides', 'powerful', 'packages', 'productivity', 'efficiency', 'suppliers', 'players', 'harder', 'sometime', 'vendor', 'wang', 'renamed', 'bitter', 'rivals', 'dallas', 'engineered', 'different', 'walter', 'financier', 'ge', 'inroads', 'applications', 'offerings', 'forecasting', 'swap', 'insee', 'revise', 'edouard', 'balladur', 'slowing', 'chemlawn', 'harris', 'upham', 'purchasers', 'adopted', 'safeguard', 'deter', 'seeks', 'alleges', 'officers', 'claimed', 'duties', '270', 'van', 'ing', 'olivetti', 'investing', 'finanziaria', 'interesting', 'respective', 'civil', 'query', '256', '529', 'lawrence', 'seaway', 'welland', 'linking', 'lakes', 'erie', 'ice', 'seem', 'repairs', 'stepped', 'na', 'shut', 'pipelines', 'border', 'damage', 'flooding', 'gary', 'smaller', 'inches', 'basin', 'consortium', 'fargo', 'flooded', 'rivers', 'unnamed', 'norwegian', 'alumina', '342', 'welsh', 'carson', 'collapsed', 'darta', 'dayton', 'suffer', 'retailer', 'selloff', 'malcolm', 'baldrige', 'industrialized', 'nics', 'revalue', 'tied', 'massive', 'taiwanese', 'linked', 'gallium', 'arsenide', 'devices', 'stringent', 'integrated', 'termed', 'dated', 'confidential', 'suspect', 'leveraged', 'understand', 'unreasonable', 'lieberman', 'murray', 'implication', 'leaving', 'none', 'waived', 'compensation', 'salary', 'guarantees', 'try', 'path', 'copy', 'greenmail', 'defence', 'suitor', 'typically', 'cabinet', 'cranes', 'yugoslavia', 'bangkok', 'shipowners', 'agents', 'appealed', 'cargo', 'kidder', 'peabody', 'awb', 'example', 'deductions', 'receives', 'bae', 'predicts', 'shifts', 'bankamerica', 'profitability', 'absolutely', 'convinced', 'achieving', 'dramatically', 'generation', 'emphasis', 'multinational', 'harper', 'publishers', 'entitled', 'theodore', 'thanks', 'eurostat', 'jobless', 'except', 'nicaraguan', 'participating', 'associations', 'kiel', 'berlin', 'ifo', 'damaging', 'dominate', 'environment', 'wrote', 'cyclical', 'cancelled', 'diminish', 'diminishing', 'burdens', 'upturn', 'projection', 'clouded', 'contrary', 'emerge', 'improving', 'context', 'creation', 'manufactured', 'tertiary', '176', '027', '610', '748', 'compact', 'jacques', 'sports', 'model', 'budgetary', 'vehicles', 'modernise', 'cars', 'renault', 'volkswagen', 'productions', 'borrowings', 'repurchased', '029', '430', '843', '727', 'disturbed', 'draft', 'commissioner', 'willy', 'clercq', 'counterpart', 'outlining', 'adoption', 'unilateral', 'insist', 'prepare', 'appropriate', 'diplomat', 'table', 'nervousness', 'impatience', 'diplomats', 'solve', 'embark', 'costly', 'finland', 'formerly', 'guidelines', 'maturity', '943', '602', '909', 'scandinavia', '361', 'glass', '296', '507', '444', 'danish', 'arrived', 'dar', 'es', 'salaam', 'outlet', 'tanzania', 'zambia', 'zaire', 'arrive', 'uss', 'armco', 'bethlehem', 'hike', 'plate', 'ton', 'ltv', 'announce', 'patient', 'challenges', 'wor', 'tv', 'station', 'mca', 'specify', 'play', 'shifted', 'considers', 'device', 'slate', 'mario', 'gabelli', 'discourage', 'event', '960', 'dismantling', 'whom', 'cbkg', 'surrounding', 'bidding', 'himself', 'permission', 'andrew', 'happens', 'gets', 'else', 'breakup', 'couple', 'cosmetics', 'overhaul', 'image', 'surprised', 'hanson', 'rjr', 'nabisco', 'brands', 'amb', 'upside', 'fair', 'calculation', 'careful', '1700', 'edt', 'citibank', '560', 'minorities', 'comprise', 'goldendale', 'transferred', 'produces', 'regulate', 'semiconductors', '939', '914', '966', '655', '912', '352', 'advisory', 'resisting', 'hopeful', 'acid', 'unresolved', 'method', 'sixth', 'actually', 'dropping', '647', '677', '936', '866', '091', 'maturing', '1995', '1996', '1991', 'amstutz', 'sometimes', 'appropriations', 'bolster', 'issuing', 'nonetheless', 'thing', 'coordinated', 'instability', 'genuine', 'unveiled', 'accompanied', 'resisted', 'chiefly', 'fragile', 'divided', 'taylor', 'troubles', 'redress', 'faced', 'credibility', 'rhetoric', 'sdrs', 'fulfill', 'pledges', 'undertaken', 'powers', 'coincide', 'democracies', 'fundamentally', 'nearing', 'comfortable', 'reluctance', 'fear', 'exporting', 'firming', 'physical', 'unstable', 'protective', 'scientists', 'environmental', 'cfcs', 'refrigeration', 'harmful', 'vienna', 'gradual', 'gases', 'banned', 'voluntary', 'restraint', '415', '536', 'composed', 'advice', 'heinz', 'tony', 'reilly', 'guinness', 'guin', 'brewery', 'reacting', 'irish', 'article', 'brewing', 'multiple', 'edge', 'impossible', 'nigerian', 'henley', 'happy', 'quebecor', 'launch', 'montreal', 'pierre', 'peladeau', 'donohue', '446', 'publishes', 'newspapers', 'tabloid', 'le', 'crowded', 'ventures', '1976', 'tremendous', 'newsprint', 'didn', 'print', 'lived', 'uses', 'metric', 'machine', 'install', 'types', 'empire', 'cities', 'veba', 'chances', 'ailing', 'twin', 'recession', 'salvage', 'incurred', 'slash', 'cutting', 'compensated', 'renew', 'topped', 'korean', 'leads', 'manage', 'ride', 'shifting', '019', '997', 'ghana', 'cocoa', '203', '595', 'pacts', 'koehler', 'curb', 'allotted', 'allocation', 'flowing', 'deposited', 'supplied', '796', '613', '565', '520', '897', '951', '241', '882', '317', '266', '088', '777', 'battery', 'occidental', 'transamerica', 'pratt', 'pty', 'funded', 'professional', 'placements', 'underwriter', 'corning', 'works', 'hazleton', 'laboratories', 'supplier', 'halt', 'prompted', 'wary', 'limiting', 'weighted', 'australs', 'bahia', 'blanca', 'buenos', 'aires', 'parana', 'oats', 'injected', 'category', 'permian', 'sour', '628', '913', '952', '414', 'curbs', 'frustration', 'recommendations', 'aides', 'implications', 'abide', 'governing', 'dumping', 'imposing', 'stopped', 'televisions', 'recorders', 'jefferies', '356', '285', 'hawker', 'siddeley', 'railway', 'aside', 'frequently', 'restrained', 'decade', 'hydro', 'greatly', 'repair', 'manufacture', 'columbia', 'lumber', 'encouraging', 'signs', 'cargoes', 'man', 'drake', 'cif', 'whites', 'outflow', 'combining', 'denominations', 'fluctuate', 'tenth', 'adjustable', 'mortgages', 'lenders', 'rebates', 'awards', '915', 'christian', 'revaluation', 'facing', '233', 'vista', 'marion', '305', 'yugoslav', 'industrialists', 'absolute', 'failure', 'extremely', 'reverse', '656', '712', '443', 'bilzerian', 'pak', 'retailing', 'initially', 'bigelow', 'nicholas', 'adverse', 'check', 'sustaining', 'nature', 'contrast', 'diversify', '737', '987', '762', '860', 'surveyed', 'chrysler', 'recurring', 'margaret', 'thatcher', 'reciprocal', 'wireless', 'cawl', 'regarded', 'her', 'shall', '056', 'avana', 'ranks', 'hovis', '9p', '7p', '0p', 'hollinger', 'carling', 'des', 'societe', 'appointment', 'foresaw', '272', '074', '922', 'demanded', 'edison', 'televised', 'modified', 'drexel', 'burnham', 'lambert', 'evaluation', 'connection', 'disbursed', 'oct', 'spin', 'marcus', 'tech', 'webb', 'alaskan', 'fundamentals', 'reacted', 'tensions', 'strained', 'watch', 'technologies', 'businessman', '994', '910', 'settlement', 'redemption', '815', '927', '229', '621', 'tested', 'api', 'gravity', '918', 'depth', '067', 'statoil', 'thai', '404', 'lobbying', 'absence', 'psychological', 'drastic', 'invite', 'weaken', 'imposition', 'debts', 'swing', 'institutional', 'refrain', 'unocal', 'combustion', 'burning', 'creek', 'shale', 'synthetic', 'fuels', '260', 'electricity', 'restaurants', 'jacksonville', 'consists', 'accordance', 'anticipated', 'foodservice', 'burger', 'restructure', 'pursuant', 'administrative', 'attributable', 'upgrade', 'converts', 'octane', 'unleaded', 'modernization', 'shutdown', '429', 'pooling', 'continent', 'formally', 'awaited', 'drastically', 'compensate', 'peter', 'myers', 'fructose', 'syrup', 'outlined', 'recoverable', 'trends', 'artificially', 'sweetener', 'sweeteners', 'progressive', 'contraction', 'rely', 'gives', 'cheaper', 'quantity', '438', '563', '040', 'usage', '877', '905', '045', 'crushings', '053', '740', 'lbs', '947', '036', 'unitholders', 'distributions', 'melnikov', 'counterparts', 'baht', '12th', 'collect', 'doubtful', '535', '755', '666', '322', '022', 'startup', 'gilberto', 'arango', 'intelligent', 'prolonged', 'imminent', 'undoubtedly', 'evident', 'cardenas', 'combat', 'vein', 'pillsbury', 'bay', 'baking', 'turnaround', 'consecutive', 'climb', 'kentucky', 'serves', '143', 'towns', 'mthly', 'franklin', 'insured', 'counterproductive', 'pan', 'framework', 'accommodative', 'expressing', 'neutral', 'probability', 'wealth', 'raises', 'stages', 'siemens', 'sieg', 'telecom', '234', '570', 'revising', 'disaster', 'bases', 'signing', 'contributing', '048', '543', '658', '066', 'liberty', 'receivables', 'institution', '659', 'hampshire', 'nuclear', 'inform', 'heating', 'harbor', 'gallon', 'fifth', 'compaq', 'ii', '699', 'poland', 'repairing', 'lifting', 'polish', 'precise', 'sophisticated', 'calculate', 'dismiss', 'withdrew', 'favoured', 'mfn', 'solidarity', 'devised', 'expert', 'booming', 'flowed', 'freely', 'scientific', '1970s', 'suffered', 'ran', 'dwindling', 'dried', 'benefited', 'phenomenon', 'easy', 'reality', 'describing', 'exchanges', 'treated', 'worse', 'regain', 'entry', 'recognised', 'illegally', 'superpower', 'organisations', 'stabilising', '968', 'drive', 'rand', 'bound', '002', '470', '384', 'crushers', 'pier', 'classes', 'johnson', 'fire', 'casualty', 'insurer', 'licensed', 'punitive', 'actual', 'affiliates', 'wyatt', 'enjoin', 'transamerican', 'raiders', '049', 'otsuki', 'employers', 'cope', 'employ', 'shrank', 'reforms', 'reforming', 'centre', 'subscriptions', 'advances', 'provisionally', 'minerals', 'comprises', 'symbol', 'bradley', 'dome', 'tug', 'gained', 'transcanada', 'conoco', 'dupont', 'dd', 'gobert', 'peters', 'bryson', 'percent', 'amoco', 'characterized', 'secured', 'detail', 'ever', 'fcs', 'healthcare', 'engaged', 'explain', 'regards', 'bear', 'stearns', 'guerrillas', 'train', 'traffic', 'sole', 'laden', 'crews', 'clearing', 'km', 'lima', 'minpeco', 'majeure', 'peruvian', 'admitted', 'viacom', 'amusements', 'mcv', 'arsenal', 'fraction', 'equitable', 'assurance', 'considerably', 'chartered', 'floating', 'keeps', 'rilwanu', 'lukman', 'nigeria', 'search', '849', 'splits', 'magnetic', '013', '661', '810', '359', '084', 'amid', 'trusts', 'recovered', '731', '295', '571', '907', '852', '775', 'game', '095', '814', '196', '767', '476', '719', 'pharmaceutical', 'newsletter', 'soymeal', '729', '201', '198', '216', '172', '408', '409', 'residents', 'provinces', 'commissions', 'toll', 'minute', 'margin', '694', '998', 'sanchez', '4p', '5p', '1p', 'debit', '827', '766', 'sheet', 'accelerate', '854', 'beghin', 'jean', 'marc', 'vernes', 'protest', 'affair', 'withdrawing', 'boards', '965', '434', 'deadlock', 'frans', 'andriessen', 'compromise', 'anxious', 'delors', 'ample', 'disastrous', 'concessions', 'traditionally', 'eyskens', 'afterwards', 'lined', 'opposing', 'portugal', 'totaled', '436', 'blocks', 'mouth', 'yellow', 'eleven', 'invested', 'bat', 'touched', 'underperforming', 'decreasing', 'portion', 'sizeable', 'mi', 'appliance', '783', 'underground', 'mined', 'colo', 'foodgrain', 'apr', 'mar', 'sub', 'irrigation', 'fertiliser', '178', '183', 'foodgrains', 'thrust', 'spread', 'fertilisers', 'adequate', 'quantities', '351', '012', '986', 'squeeze', 'milk', 'cleaning', 'nearby', 'miguel', 'rainfall', 'precipitation', 'diplomatic', 'missions', 'alert', 'platforms', 'pentagon', 'escorting', 'convoy', 'travel', 'oakley', 'terrorism', 'dual', 'anyway', '776', '876', 'akzo', 'nv', '840', 'cooperatives', 'liberalised', 'cease', 'trigger', 'necessarily', 'scheme', 'breaking', 'laser', 'printers', 'nec', 'toshiba', '631', 'xerox', 'sells', 'closes', 'lire', 'shareholding', 'nothing', 'falls', 'hbo', '026', 'candidates', 'seats', 'submit', 'postponed', 'arisen', 'robust', 'surface', 'liberal', 'democratic', 'ldp', 'auditors', 'inability', 'ultimate', 'outcome', 'guild', 'networks', 'terminate', 'lay', 'arbitration', 'hiring', 'desk', 'researchers', 'ugandan', 'shilling', 'islamic', 'uganda', 'beans', 'burden', 'exclusively', 'grossly', 'overvalued', 'steinhardt', 'holiday', '623', '403', '957', '269', '079', '720', 'uk', 'convention', 'allocations', 'availability', 'audit', 'solid', 'tube', '221', '213', 'dauphin', 'colonial', 'holland', 'raids', 'ecopetrol', 'chiefs', 'perry', 'venezuela', 'retired', 'stricter', 'wave', 'articles', 'incorporation', 'holder', 'caspar', 'weinberger', 'opposes', 'micro', 'differed', 'presented', 'arranged', 'bumper', 'fso', 'dinars', 'belgrade', 'schweizerische', 'alusuisse', 'concentration', 'hans', 'jucker', 'elaborating', 'outline', '902', '055', 'writeoff', 'dmp', '191', '283', 'electro', 'audio', 'motion', 'injunction', 'soaring', 'sekimoto', 'era', 'microchips', 'survive', 'hoping', 'wise', 'warn', 'combine', 'display', 'argues', 'unique', 'cie', 'bull', 'honeywell', 'tie', 'route', 'hasn', 'hardware', 'thinks', '474', '671', 'reliable', 'expectation', 'defer', 'congressmen', 'testifying', 'hal', 'lawmakers', 'seoul', 'bow', 'testimony', 'tom', 'spencer', 'russell', 'inflated', 'unusually', 'apparent', 'differences', 'dow', 'depositary', 'sunflower', 'mm', 'heaviest', 'cordoba', 'pampa', 'luis', 'slowly', 'guaranty', 'novel', 'westpac', 'perpetual', 'anyone', 'mature', 'virtual', 'zero', 'assumes', 'redeemed', 'occurs', 'driven', 'mhi', 'everyone', 'iida', 'abandon', 'component', 'performed', 'procurement', 'inside', 'modern', 'slashed', 'resurgence', 'coupled', 'persistent', 'trouble', 'liquefied', 'domestically', 'jet', 'plane', '1990s', 'planes', 'technological', 'ideal', 'household', 'valuation', 'advisers', 'reviews', 'revolving', 'walters', 'sufficient', 'justify', '608', 'dispose', 'grieveson', 'depend', 'gearing', 'repeat', 'returning', 'comfortably', 'prudhoe', 'reorganisation', 'shake', 'committees', 'removing', 'portions', 'investigate', 'unfairly', 'barred', 'lucrative', 'kansai', 'airport', 'recording', 'digital', 'refuse', 'patent', 'shamrock', 'bancroft', 'zico', 'names', 'fidelity', 'agent', 'panamanian', 'false', 'misleading', 'insure', '950', '710', '129', 'horizon', '879', 'holidays', '605', '791', '726', '569', 'goodyear', 'refund', 'mercer', 'eastman', 'kodak', 'polyester', 'fiber', 'carryover', 'connected', 'discontinue', 'oriented', 'yarn', 'carolina', 'older', 'rexnord', 'banner', '128', '171', '034', 'philadelphia', 'conn', 'imaging', 'ami', 'dr', 'aggressively', 'dental', 'maturities', '1b', 'grown', '662', 'yr', 'realized', '449', '949', '703', '759', '307', '498', 'arrange', 'indirect', '921', '725', 'eurobond', 'pepsico', 'reserved', 'ottawa', '455', 'deeply', 'flagged', 'territorial', 'lawn', 'mart', 'presplit', 'kim', 'loh', 'unlimited', 'maria', 'di', '451', 'briefing', 'modest', 'defuse', 'dates', 'mccarthy', 'watched', 'moderate', 'downwards', 'jeffrey', 'leeds', '394', '652', 'arguing', 'inappropriate', 'gelco', 'fees', 'comprised', '251', 'destinations', 'prominent', 'credited', 'importer', 'm0', 'aggregate', 'puts', 'finances', 'judge', 'destination', 'propose', 'pave', 'elect', 'exceeds', 'extraction', 'retraining', 'vat', 'choose', 'registration', 'treatment', 'relevant', 'pence', 'comparable', 'premiums', 'preparing', 'anniversary', 'marshall', 'lin', 'chung', 'chi', 'southeast', 'appreciate', 'yuan', 'switched', 'slipped', 'jorge', 'invited', 'managua', 'negotiation', 'contacts', 'tools', 'edged', 'martha', 'seger', 'ecu', 'hundreds', 'basket', 'portuguese', 'treaty', 'integration', 'importing', 'shelf', 'laid', 'blame', 'rosenbaum', 'countered', 'dictate', 'historical', 'capabilities', 'readily', 'rescue', '577', '643', '803', 'nonrecurring', 'transatlantic', 'battle', 'forcing', 'trim', 'testing', 'reaffirmed', 'secret', 'signalling', 'decades', 'germans', 'fuelled', 'coordinate', 'fixing', 'responsible', 'fits', 'suisse', 'retreat', 'vast', 'sums', 'catalog', 'apparel', 'cheyenne', '405', '935', 'ministerial', 'pegged', 'guided', 'collective', 'norway', 'visited', 'destocking', '794', '363', 'drove', 'disrupted', 'reassure', 'tangible', 'policymakers', 'picture', 'settled', 'pattern', 'enthusiasm', 'darman', 'throw', 'rein', 'implementing', 'undertakings', 'stabilizing', 'promise', 'supplementary', 'focusing', 'bonn', 'staged', 'explosive', 'buyback', 'gm', 'enhancing', 'recapture', 'hands', 'stress', 'borrow', 'ford', 'rolling', 'earning', 'relative', 'transition', 'isn', 'accused', 'reneging', 'pressing', 'chip', 'handed', 'emery', 'divest', 'succeeded', 'integrate', 'internally', 'generated', 'elevator', 'burlington', 'archer', 'daniels', 'midland', 'snyder', 'documents', 'lots', 'invitation', 'mexican', '908', 'welcome', 'reintegro', 'attitude', 'imply', 'upcoming', 'mad', 'stockpiles', 'ridiculous', 'cesar', 'gaviria', 'png', 'exciting', 'hawaii', 'geological', 'notably', 'explored', 'attacking', 'kms', 'johannesburg', 'underway', 'conducting', 'winning', 'utah', 'accepts', 'geoffrey', 'howe', 'comes', 'intellectual', 'relationships', 'plagued', 'subsidised', 'protected', 'solutions', 'borg', 'irwin', 'minstar', 'spokesperson', 'focused', 'bermuda', 'affiliated', 'iii', 'earliest', 'santos', 'recovering', 'eventual', 'decisive', 'eve', 'dominant', 'reintroduced', 'orderly', 'establishing', 'enabling', 'drawing', '690', '724', 'optional', 'origin', 'telesis', 'guinn', 'financed', 'uncertainties', 'utility', 'assumptions', '633', '078', '672', '073', '717', 'doubling', 'unissued', 'contingent', 'confusion', 'liability', 'pte', 'petrol', 'litre', 'liberalise', 'content', 'promises', 'stimulus', 'hemisphere', '382', 'prediction', 'debtor', 'indebted', 'owes', 'forum', 'koether', '299', '523', 'fort', 'lauderdale', 'funeral', '682', '817', '738', '991', '901', '716', '903', '756', '596', '071', 'joseph', 'pinola', 'accrual', 'lock', 'mile', 'lake', '971', '687', 'foundation', 'divs', 'objectives', 'vowg', 'vw', 'supervisory', '477', 'enforcement', '75p', 'revive', 'idc', 'apollo', 'employee', 'tendering', 'mim', 'refusal', 'organized', 'george', 'petroles', 'pdvsa', 'corpus', 'christi', 'champlin', 'thereby', 'earthquake', 'javier', 'espinosa', 'indefinite', 'declaring', 'fernando', 'alvite', 'ocean', 'quake', 'centred', 'miles', 'pumping', 'ban', 'communique', 'processed', 'suspending', 'champion', 'echlin', '1994', 'soya', 'ferruzzi', 'disney', 'population', '521', 'door', 'norstar', 'hayes', 'smartmodem', '2400', 'error', 'feature', 'pc', '607', '023', '734', 'promptly', 'aware', 'stc', 'rbd', 'olein', '358', 'barclays', 'nwbl', 'steven', 'explained', 'favorable', '319', 'manuel', 'women', 'seeing', 'cos', 'fertilizer', 'removal', 'mcf', '010', 'optic', 'petrobras', 'saudis', 'drafting', 'intervals', 'mechanism', 'procedure', 'sheikh', 'ali', 'khalifa', 'sabah', 'soo', 'rail', 'withheld', '548', 'lac', 'hole', '747', 'balances', '424', '706', '786', 'caterpillar', 'competitor', 'komatsu', '728', '708', '041', 'compagnie', 'citicorp', 'syndicated', 'continental', 'notice', 'borrower', '555', 'loosen', '374', '573', '497', 'rha', 'woong', 'mission', 'businessmen', 'lifestyle', 'bombay', 'vernitron', '092', 'diminished', 'fred', 'scenario', 'signals', 'cautiously', 'curve', 'eurodollar', 'supportive', 'zurich', 'adm', 'violating', 'dismissal', 'hfcs', 'bangemann', 'cyprus', '841', 'grounded', 'salt', 'wing', 'tank', 'pumped', 'loaded', 'intensity', 'sucralose', 'aground', 'dunham', 'swearingen', 'echoed', 'antonio', 'surcharge', 'compound', 'license', 'taxable', 'enacted', 'rosenberg', 'crown', 'diesel', 'unacceptable', 'sulphur', 'upgrading', 'roger', 'planters', 'prince', 'haiti', 'employer', 'haitian', 'unsold', 'miami', 'onto', 'nearer', 'bourse', 'et', '557', 'unicorp', 'lincoln', 'conagra', 'alaska', 'bristol', 'meals', 'quietly', 'seller', 'midday', 'shot', 'history', 'xon', 'sustainable', 'volatility', 'selective', 'unexpected', 'goverment', 'cushion', '859', 'wendy', 'vague', 'stated', 'coca', 'cola', '541', '799', 'cyclops', 'cyacq', 'dixons', '388', 'dixon', 'pittsburgh', 'cmb', 'shillings', 'ferries', 'victoria', 'kenyan', 'arrears', 'ferry', 'kenya', 'sensitive', 'whereas', 'disincentive', 'wrong', 'gear', 'founded', 'turkish', 'lira', '809', 'expiration', 'executed', 'esso', 'presently', 'issuance', 'epac', 'accession', 'monopoly', 'gibraltar', 'northeast', '381', 'malaysia', 'sharing', 'royalty', 'saved', 'pakistan', 'beneficiaries', 'saving', '526', 'optical', 'chapman', 'chapter', '2000', 'restructured', 'master', 'decreased', 'iso', 'miller', 'contributions', 'dedicated', 'clauses', 'cuba', 'preventing', '714', '547', '452', 'vancouver', '575', 'liberalization', 'mandate', 'emphasized', 'enforce', 'duration', 'appliances', 'vary', 'widely', 'hungary', 'mti', 'beer', 'pensions', 'allowances', 'fekete', 'unrest', 'packaging', 'merits', 'outset', 'partial', 'preferential', 'accumulating', 'rebuffed', 'capitalisation', 'biotechnology', 'occasion', 'distort', 'instrument', 'escalation', 'miners', 'comibol', 'salaries', 'von', 'weizsaecker', 'hunger', 'ridden', 'ex', 'sands', 'pilot', 'exercised', 'intergrated', 'generics', 'biopharmaceutics', 'equivalents', 'prescription', 'drugs', 'anxiety', 'anonymity', 'finalization', 'falter', 'laboratory', '028', 'wallis', 'penetration', '293', 'simon', 'walt', 'films', 'cruzado', 'holt', 'saunders', 'dependency', 'aluminum', 'cenergy', '833', '524', '086', 'core', 'negatively', 'triangle', 'microwave', 'governmental', 'pool', 'czechoslovakia', 'icco', 'membership', 'charter', '953', '582', 'beverage', 'gordon', 'convenience', 'speciality', 'richter', 'favored', 'tour', 'fly', 'unified', 'arrangement', 'voiced', 'gcc', 'peninsula', 'bigger', 'succeeds', 'keeping', 'fahd', 'lessen', 'indefinitely', 'attached', 'targetted', 'riyals', 'bold', '1970', 'shrinking', 'gone', 'techniques', 'performing', 'complaints', 'discouraged', 'channel', 'correction', 'structures', 'keersmaeker', 'shultz', 'aren', 'soviets', 'schultz', 'competitively', 'urgent', 'topic', 'communist', 'questioned', 'love', 'benefitted', 'consensus', 'peking', 'speculators', '732', '924', '267', '911', 'crossland', 'fsb', 'oregon', 'christopher', 'wine', '962', '885', 'reversal', 'mercantile', 'cold', 'bellies', 'disappointment', 'placement', 'disappearance', 'guesses', 'spreading', 'weighing', 'age', 'levitt', 'finalized', 'evaluated', 'emphasize', 'wil', '593', 'boone', 'pickens', 'pure', 'plays', 'datron', 'interviewed', 'postings', 'piedmont', 'probe', 'montgomery', 'louis', 'gruppo', 'starch', 'installations', 'apart', 'factories', 'fails', 'accords', 'sri', 'lanka', 'mel', 'tea', 'tourism', 'remittances', 'compensatory', 'avoiding', 'families', 'mulford', 'recognition', 'zones', 'corrected', 'onic', 'greece', '980', 'lloy', 'eurobonds', 'prudent', 'gilt', 'montagu', 'fate', 'equally', 'pulled', 'altogether', 'equities', 'events', 'absorb', 'cci', '466', 'sovereign', 'unrelated', 'eurosterling', 'battered', 'experiencing', 'clearer', 'perform', '227', 'dealt', 'saskatchewan', 'conclusions', 'assay', 'demanding', 'allocated', 'exception', '824', '857', '823', '637', '559', 'pickup', 'steam', 'wake', 'delegations', '495', '579', '893', '612', '944', '453', 'baltimore', 'lag', 'precious', 'disclosure', 'floated', 'underwriting', 'lagging', 'stemming', 'sliding', '1980s', 'flotation', 'bahrain', 'oman', 'riyal', 'picked', 'arco', '3p', 'custom', 'jakarta', 'differentials', 'fit', 'equals', '663', 'reinsurance', 'fendt', 'strikes', 'derivatives', 'estimating', 'adsteam', 'grenfell', 'jones', 'thereafter', 'beneficiary', 'timber', 'reconstruction', '440', 'hospitals', 'bor', 'gaf', 'junior', 'unavailable', 'rating', 'endorsed', 'pleased', 'redeemable', 'certs', 'feedgrain', 'edward', 'dole', 'rescued', 'badly', 'zeebrugge', 'contacted', 'townsend', 'thoresen', 'passengers', 'trapped', 'capsized', 'denis', 'bra', 'kanon', 'cocoas', 'minor', 'modifications', 'candidate', 'ivory', 'kobena', 'erbynn', 'nominated', '1100', 'bodies', 'destroyers', 'harm', 'confirming', 'inaccurate', '974', 'leclerc', 'preceding', '868', 'latter', 'placing', 'borne', 'ratings', 'portfolios', 'disadvantage', 'version', 'dresdner', 'sony', 'colour', 'cathay', 'hk', 'quantify', 'boeing', 'swire', 'hongkong', 'shanghai', 'implemented', 'allowable', 'assume', '581', '657', 'precision', 'reaffirm', 'sank', 'happened', 'unprecedented', 'remedy', 'capitol', 'hill', 'pose', 'undermine', 'wilson', 'inclusion', 'concept', 'taxpayers', 'wright', 'hang', 'mainstay', 'christmas', 'film', '567', '733', '182', '611', '723', 'amo', 'amc', 'durum', 'sims', '246', '461', 'est', 'joe', 'qualify', 'validly', 'proration', 'easter', 'seipp', 'settling', 'lawyer', 'thomas', 'alleging', 'unsecured', 'boxes', 'oranges', 'bottling', 'coke', 'jwt', 'breached', 'proprietary', 'defendants', 'award', 'hartford', 'itt', 'phoenix', 'rostenkowski', 'pass', 'curtailed', 'restraints', 'smoke', 'hog', 'herd', 'compounding', 'sao', 'paulo', 'confederation', 'stoppage', 'seamen', 'postpone', 'rallied', 'root', 'exaggerated', 'define', 'easier', 'differing', 'schedules', 'knowledge', 'farmland', 'input', 'worsened', 'joining', 'pioneer', 'teberebie', 'goldfields', 'square', 'kilometers', 'grams', 'assurances', 'profitably', 'relates', 'istat', '174', 'proposes', 'kaunda', 'abolish', 'kwacha', 'slid', '989', '838', 'wet', 'rio', 'sul', 'grosso', 'moisture', 'mineworkers', '089', 'sowing', 'novo', '604', 'relation', 'goodwill', 'concepcion', 'gathering', 'examine', 'emphasised', 'perception', 'tabled', 'faith', 'tropical', 'responsive', 'adherence', '802', 'libyan', 'trillion', 'audited', 'pennsylvania', 'alabama', '519', 'extinguishment', 'anza', 'announcements', '739', 'li', 'clothing', 'depths', 'default', 'nonperforming', '614', 'venezuelan', 'kahn', 'contest', 'examination', 'delaware', 'connecticut', 'leases', 'places', 'bean', 'sowings', 'ha', '829', 'protein', 'warburg', 'holmes', '25p', '261', '038', 'lifetime', 'privatised', 'ruding', 'privatisation', 'privatise', 'ought', 'amsterdam', 'winterkill', 'cpo', '287', '940', '653', '576', '795', 'tinto', 'rtz', 'worrying', 'shared', 'dilson', 'funaro', 'played', 'reactions', 'regions', 'gros', 'robin', 'leigh', 'pemberton', 'compounded', 'refinance', 'choice', 'equilibrium', 'barber', 'conable', 'ciba', 'geigy', 'resins', 'independently', '589', 'mth', 'pentland', 'reebok', 'avia', 'syndicate', 'chosen', '397', '640', '862', 'retailers', 'disappointing', 'cbi', 'whittaker', 'exceptionally', 'jump', 'unexpectedly', 'redemptions', 'refunds', 'targeting', 'downgraded', 'aa', 'halcyon', 'crystal', 'compare', 'perfectly', '735', 'conflict', 'straits', 'adjust', 'delicate', 'plaza', 'softer', 'eurodollars', '956', 'guide', 'memorandum', 'kay', 'pat', 'roberts', 'defeated', 'maritime', 'grading', '463', '321', '932', '537', 'monitoring', 'monitor', 'approves', 'certification', 'fines', 'tier', 'destined', 'landing', 'navy', 'rid', 'pressed', '685', 'outokumpu', 'oy', 'markka', 'successive', 'berliner', 'inject', '062', 'monopolies', 'blocking', 'constructions', 'cgct', 'olson', 'limitation', 'schneider', 'duffour', 'igon', 'aga', 'lengthy', 'carbide', 'send', 'distillers', 'liquor', 'chesebrough', 'allan', 'morris', '958', '561', '979', 'select', 'voice', 'stos', 'condensate', 'lpg', 'tmoc', 'hedge', 'parity', 'historic', 'ratified', 'signature', 'praised', 'ahmed', 'conclusion', 'gerard', 'accruing', 'bridge', 'spell', 'protracted', 'rupiah', '075', 'plunged', 'insisted', 'chris', 'regret', 'tree', 'plantings', 'scattered', 'plain', 'dormancy', 'anhui', 'hebei', 'fujian', 'vowed', 'everything', 'potash', 'alarm', 'commons', 'nitrogen', '386', 'heightened', 'nino', 'cycle', 'insect', 'exists', 'fishing', 'setback', 'degrees', 'centigrade', 'tell', '693', 'visnews', 'succeeding', 'foresee', 'abiding', 'verified', 'strain', 'attain', 'troy', '082', '458', '549', '346', '769', '601', '072', 'sears', '312', '099', '517', 'heated', 'trip', 'anger', 'angry', 'enforced', 'ameritrust', 'classified', 'mich', 'negara', 'potato', 'pigmeat', 'pig', 'gafta', '992', '847', 'prop', 'potentially', '948', '622', '482', 'daniel', 'marlin', 'fitzwater', 'lichtblau', 'realistic', 'function', 'breaks', 'poll', '294', 'silas', 'extract', 'viable', 'feedstock', 'melbourne', '427', 'jute', 'dock', 'sci', 'leo', 'barnes', 'accountants', 'realization', 'dependent', 'existence', 'clarification', 'weakening', '889', 'forgiveness', 'lebanese', 'lebanon', 'devastated', 'meantime', 'ringgit', 'stockpile', 'rush', '001', 'uranium', 'royalties', 'oxide', 'heyman', 'engineers', 'complement', 'sheets', 'weakened', 'postal', 'fin', 'matthey', '715', 'slaughter', '509', '746', 'woods', 'resolving', 'samuels', 'unfounded', '009', '018', 'ttl', '599', '054', '973', '574', 'peoples', 'driel', 'presentation', 'cell', 'divestitures', 'nugent', 'stripper', 'troubled', 'methods', 'sitting', 'refine', 'citgo', 'southland', 'searching', 'drain', 'offsetting', 'vulnerability', 'fluctuation', 'liquified', 'southwest', 'satisfy', 'psa', 'asea', 'pollution', 'dangerous', 'constitute', 'lobby', 'cftc', 'pleas', 'turkey', 'generate', 'parker', '963', 'resignation', '552', 'licht', 'southeastern', 'frequent', 'emergence', 'beets', 'threatens', '043', 'eiu', 'crash', 'fortunes', 'soar', 'marginally', 'abrupt', 'tadashi', 'kuranari', 'montedison', 'awaiting', 'distillate', 'residual', 'republican', 'ideas', 'byrd', 'swift', 'jungle', 'lago', 'agrio', 'balao', 'caracas', 'jaime', 'lusinchi', 'ministries', 'modify', 'inquiries', '277', 'resorts', 'crosby', '752', 'hitting', 'foote', 'newmont', 'informally', '2001', 'mandatory', '583', 'consummate', 'footwear', 'accessories', 'imatron', 'installation', 'carbon', 'alloy', '648', 'porsche', 'schutz', 'hedging', '702', 'hillsdown', 'pie', 'strategies', 'gaining', 'trustee', 'tightened', 'tumbled', 'correspond', 'cargill', '017', 'capitalized', 'slowdown', 'dampening', '1977', 'cautioned', 'worsen', 'downgrade', 'baa', '442', 'brierley', 'ultramar', 'norton', 'brkn', '813', 'bhp', '620', 'imputation', 'influenced', 'confined', 'mt', 'newman', 'blue', 'circle', 'cement', 'davis', '184', 'maine', '591', 'gates', 'learjet', 'honor', 'interconnect', 'mlns', 'eduardo', 'lizano', 'negotiator', 'university', 'howell', 'gerald', 'keller', 'school', 'varied', 'lugar', 'repeal', 'aids', 'dockworkers', 'sponsor', 'nymex', 'marketplace', 'gmbh', 'color', 'workstations', 'satellite', 'comsat', 'northwestern', 'shad', 'swings', 'spurred', 'groundwork', 'borders', 'guard', 'streamlined', 'regulates', 'structured', 'periodic', 'axp', 'placer', 'yielded', 'pit', 'obliged', 'billiton', 'surinam', 'bauxite', 'aide', 'suralco', 'conglomerate', 'alcoa', 'electrospace', 'nyse', 'cbt', 'chang', 'cheng', 'ming', 'clabir', 'goodrich', 'chloride', 'northeastern', 'ethylene', 'adapt', '2002', '691', 'closings', '722', 'bcw', 'chile', 'chilean', 'receivable', 'cra', '695', 'royex', 'lennar', 'votes', 'boschwitz', 'decoupling', 'deciding', 'challenge', 'implicit', 'suddenly', 'reading', 'fisher', 'richmond', 'advantages', 'macroeconomic', 'explanation', 'geared', 'sorg', '366', '969', 'alleghany', 'labels', 'edible', 'census', 'cooking', 'margarine', 'fatty', '057', 'guesstimating', 'guesstimated', 'haven', 'spare', 'drafted', 'condere', 'teck', 'paribas', 'nederland', 'nationale', 'manhattan', 'shoe', 'beauty', 'enro', 'bros', 'chequable', 'minus', 'premature', 'peripheral', 'involvement', 'bleached', 'deodorised', '891', '654', 'constructing', 'reduces', 'witte', 'landesbank', 'positioned', 'rallies', 'deflationary', 'geodome', 'raytheon', 'idaho', '077', 'miner', 'holes', '046', '638', 'bolivars', 'infrastructure', 'refinancing', 'insurers', 'schwab', 'demonstrated', 'disruptions', 'walls', 'kohl', 'constraints', 'mts', 'southmark', 'negligible', 'rexham', 'nortek', 'unidentified', 'rostam', 'oilfields', 'baghdad', 'contains', 'mousavi', 'posed', 'weapons', 'destroying', 'letters', 'incident', 'francois', 'defensive', 'destroyed', 'inherent', 'minas', 'replacing', 'wales', 'outer', 'pechiney', 'agro', 'hanover', 'norfolk', 'nsc', 'hired', 'restricted', 'aerospace', 'suspicion', 'theft', 'ralph', 'consisted', '327', '083', 'weiss', '983', '768', 'convincing', 'suggestions', 'credible', 'suspend', 'objected', 'relaxed', 'deflator', 'toughen', 'gephardt', 'worker', 'training', 'deny', 'bargaining', 'plunge', 'shrugged', 'grip', 'colleagues', 'oilseeds', 'entitling', 'accrued', 'bagged', 'queensland', 'enquiries', 'lifo', '288', '836', '263', 'animals', 'ncr', 'deliverable', 'comecon', 'breakthrough', 'emerged', 'clause', 'science', 'ivorian', 'fraternite', 'matin', '590', '585', 'richardson', 'sister', 'jefferson', '844', '076', '080', 'bhd', 'accumulated', 'subsequently', '502', '032', 'alliance', 'republicans', 'stark', 'supporters', 'passage', 'critics', 'den', 'norske', 'stats', 'oljeselskap', 'ol', 'appraisal', 'orion', 'countertrade', 'impetus', 'humans', 'resistant', 'cattlemen', 'learn', 'diseases', 'medicine', 'victims', 'bangladesh', 'fao', 'yemen', 'preussag', 'transfers', 'grants', '946', 'eia', 'spr', 'propane', 'butane', 'algerian', 'ingredient', 'nawg', 'retains', 'strains', 'entities', 'stabilised', 'exploring', 'supercomputer', 'overly', 'csr', 'csra', 'chirac', 'parities', 'poorest', 'ineffective', 'intermittent', 'unhappy', 'sdr', '562', 'observed', 'applies', 'waive', 'peanuts', 'cpc', 'budgeted', 'underpin', 'convergence', 'element', 'ores', 'finish', 'desperate', 'leased', 'bcom', 'irvine', 'ixl', 'troops', 'cardis', '721', 'nord', 'butler', 'thwart', 'campeau', 'debartolo', 'kern', 'deak', 'arturo', 'hernandez', 'grisanti', 'trinidad', 'tobago', 'rubio', 'millimetres', 'londrina', 'maringa', '701', 'presidency', 'contested', 'consultation', 'storm', '771', 'prev', '945', 'ranking', 'appoint', 'ava', 'automation', 'cardiovascular', 'nelson', 'mutsuki', 'kato', 'embargo', '1973', '070', 'allocate', 'vaskevitch', 'investigating', 'burdened', 'layoffs', '8p', '1400', 'carries', 'materially', 'uncompetitive', 'alongside', 'lighter', 'ceilings', 'barter', 'bonny', 'du', 'pont', '805', 'fend', 'economically', 'anticipating', 'pointing', 'creating', 'substitute', 'hajime', 'tamura', 'memory', 'gluck', 'hot', 'alcohol', 'foresees', 'speeding', 'interference', 'detroit', 'drink', 'label', 'anglo', 'specialised', 'divestment', 'blood', 'relieve', 'europeans', 'assessed', 'dominated', 'additions', 'frank', 'publish', 'trees', 'shells', 'seized', 'laying', 'outbreak', 'beach', 'heavier', 'wilmington', 'elements', 'protests', 'mcas', 'hefty', 'breach', 'senegal', 'iceland', 'surviving', 'stagnating', 'ariadne', 'jacksons', 'barwon', 'marcos', 'neptunia', 'soriano', 'cojuangco', 'ramon', 'diaz', 'corazon', 'aquino', 'haul', 'flights', 'consulted', 'powder', 'bpi', 'owning', '704', 'municipal', 'lapse', 'fill', 'reinstate', 'individuals', 'lyle', 'violate', 'ties', 'avoided', 'bipartisan', 'progressing', 'phil', 'staunch', 'kirkland', 'vetoed', 'buckhorn', 'plastic', 'containers', 'subsidize', 'soliciting', 'proxies', 'stretching', 'estates', 'arbitragers', 'arbitrager', 'eliminating', 'redundancies', 'arthur', 'skeptical', 'controversy', 'bidder', 'maybe', 'reord', 'gray', 'gramm', 'rudman', 'exemption', 'itoh', 'trucks', 'hodel', 'arctic', 'wildlife', 'refuge', 'endangering', 'solomon', 'keidanren', 'consortia', 'fumio', 'watanabe', 'slumped', 'composite', 'obligatory', 'declare', 'updated', 'restaurant', 'extrusion', 'rob', 'initiatives', 'signaled', 'missed', 'shape', 'debated', 'collectively', 'pcw', 'contingency', 'cameron', 'courts', 'reputation', 'smithkline', 'herbert', 'clinical', 'turner', 'zimbabwe', 'discounting', '324', 'radiation', 'adjacent', 'carney', 'sudden', 'merit', 'interfere', 'affirmed', 'bu', 'simple', 'covenants', 'nbc', 'iranians', 'westinghouse', 'danforth', 'capitalize', 'danworth', 'commerical', 'segments', 'glut', 'turmoil', 'jamaica', 'wti', 'depression', 'rescheduled', 'shrink', 'ica', 'ramadan', 'mohammed', 'rescinded', 'graan', 'mij', 'arrivals', 'tate', 'fda', 'patents', '068', 'honour', '087', 'denver', 'distributes', 'campbell', 'sciences', 'caisse', 'provincial', '990', 'shareholdings', 'rgc', 'deeper', 'strata', 'tenneco', 'ferc', 'transco', 'solved', 'egg', 'pantera', 'pizza', 'inn', 'consisting', 'whenever', 'varieties', '061', 'constructive', 'adopting', 'town', 'vigorous', 'matching', 'ashland', 'documentation', 'securing', 'disrupt', 'reaffirmation', 'surprises', 'escorts', 'drives', 'anywhere', '378', '522', 'tackle', 'buses', '259', 'statutory', 'contingencies', 'debtors', 'nursery', 'revealed', 'conveyor', 'trial', 'accomplish', 'fleming', 'pieces', 'khj', 'fulfil', 'yulo', 'emerging', 'featured', 'biffex', 'irving', 'perceived', 'halting', 'cooperating', 'shintaro', 'abe', 'uspci', 'adequacy', 'hazardous', 'rumored', 'jardine', 'eric', 'box', 'desirable', 'syria', 'affiliation', 'counselor', 'agip', 'eni', 'jeddah', 'sama', 'abolished', 'borrowed', 'auspices', 'hear', 'collateral', 'riyadh', 'abolition', 'fuer', 'bfg', 'prospectus', 'turbulence', 'enabled', 'judgement', 'wmx', 'confidentiality', 'labrecque', 'dresser', 'tanks', 'ecuadorean', 'cepe', 'neighbouring', 'murphy', 'matched', 'draining', 'similarly', 'wire', 'pull', 'extends', 'mulroney', 'tended', 'cpa', 'rejecting', 'injuries', 'filled', 'drying', 'destruction', 'gsm', 'pumps', 'basically', 'cpi', 'inefficient', 'toledo', 'mtbe', 'celanese', 'hoechst', '1993', 'naira', 'owing', 'roastings', '845', '081', 'trucking', 'issuers', 'tisch', 'indictment', 'grand', 'jury', 'criminal', 'seattle', 'colombo', 'unsatisfactory', 'tass', 'kremlin', 'allegheny', 'sogenal', 'financiere', '929', 'mike', 'touch', 'taft', 'dudley', 'rhode', 'theta', 'narragansett', 'cincinnati', 'lindner', 'orleans', 'growmark', 'peavey', '457', '468', '789', 'hectare', 'processor', 'gaming', 'seat', 'numerous', 'acme', 'henderson', 'monsanto', 'denying', 'retreated', 'rumor', 'mcdonald', 'upwards', 'principally', 'tranches', 'text', 'necessity', 'investigations', 'rape', 'francaise', 'flying', 'influx', 'pesetas', 'underestimated', 'fulfilled', 'orbanco', 'rainier', 'anticipation', 'unlisted', 'suggesting', 'mulligan', 'dissolution', 'richards', 'diversion', 'reopened', 'pressuring', 'allegedly', 'discriminatory', 'checks', 'undeveloped', 'desired', 'widening', 'mood', 'struggle', 'consultancy', 'deducting', 'bv', 'dealings', '816', 'sperry', 'modulaire', 'siew', 'taipei', 'raws', 'phlx', 'giordano', 'sydney', 'popularity', 'impressed', 'treasuries', 'consultants', 'quest', 'alza', 'hunt', 'lord', 'upstream', 'triton', 'cornelissen', 'walsh', '239', 'bci', 'kaiser', 'electrolytic', 'nickel', 'entitles', 'arrival', 'switching', 'bans', 'hormone', 'directive', 'canamax', 'cairo', '6p', 'condoms', 'pretty', 'saharan', 'ouko', 'incomes', 'med', 'apartheid', 'veto', 'organizations', 'pincus', 'symbion', '097', 'broader', 'mail', 'kernel', '955', 'thermo', 'dls', 'mistake', 'akron', 'salaried', 'adhesives', 'relocate', 'kk', 'itel', 'flexi', 'restriction', 'soy', 'cancellation', 'wk', 'gr', 'ay', 'expd', 'usdaprj', 'semolina', '098', '964', '096', '818', 'tl', 'oceania', 'wolverine', 'ditch', 'title', 'ross', 'xiamen', 'saturated', '423', 'spun', '782', 'obstacle', 'admission', 'organised', 'cpb', 'cp', 'spc', 'aegon', 'notable', 'hovered', '209', 'undercut', '063', '698', 'saatchi', 'divestiture', 'wmc', 'conventional', 'mackay', 'burdekin', 'brisbane', 'hkg', 'derived', '811', 'toyota', 'dca', 'consequently', 'resdel', 'icch', 'offtake', 'crime', 'escalante', 'assays', 'disagreed', 'empty', 'refusing', 'timetable', 'agl', 'complementary', 'prosecutors', 'denatured', 'bubble', 'phelps', 'bars', 'hesse', 'argosystems', 'indebtedness', 'surveillance', 'comparative', 'donors', 'affandi', 'peaked', 'fomc', 'tendency', 'impression', 'presents', '1500', 'slb', 'predatory', 'renegotiation', 'mob', 'embassy', 'pta', 'windfall', 'bird', '1971', '765', 'fnv', 'dbkg', 'arden', 'penny', 'prohibit', 'cordero', 'bus', 'nursing', 'andreas', 'papandreou', 'aegean', 'nato', 'retroactive', 'mees', 'liberalising', 'ceremony', 'freer', 'bush', 'confrontation', 'bernard', 'hata', 'airbus', 'chernobyl', 'steelmakers', 'observers', 'frame', 'ingot', 'ideally', 'advocate', 'staying', 'staley', 'guidance', 'legally', 'penalized', 'mclean', 'hire', 'sunk', 'cruz', 'spinning', 'norsk', 'saga', 'gabon', 'finnish', 'confectionery', 'mueller', 'risky', 'varying', 'ghanaian', 'baron', 'lunch', 'mobile', 'matheson', 'hoare', 'govett', 'explaining', 'reallocated', 'regard', 'personally', '895', 'acceleration', 'coasts', 'anchor', 'contracting', 'tougher', 'huron', 'cathode', 'buttrose', 'anz', 'ian', 'greyhound', 'familiar', 'cohen', 'athens', 'galactic', 'intangible', 'sidelined', 'hawkeye', 'canned', 'felix', 'disposals', 'vogtle', 'capita', 'baxter', 'missing', 'allwaste', 'narrower', 'reversing', 'deteriorating', 'cards', 'tinker', 'harwood', 'surveys', 'intensive', 'victory', 'eleventh', 'tract', 'norge', 'landed', 'kobe', 'seismic', 'undertaking', 'mayo', 'kilowatt', 'ig', 'metall', 'meyer', 'marketer', 'arnold', 'chien', 'contemplated', 'eggs', 'hilton', 'globe', 'ingots', 'expiring', 'firmness', 'widen', 'janeiro', 'delaying', 'almir', 'supplying', 'incur', 'asa', 'bennett', 'capitals', 'kill', 'heck', 'viner', '839', 'latex', 'atmosphere', 'mercury', 'steadied', 'monier', 'etl', 'gene', 'hawkins', 'redland', 'rests', 'hapag', 'groupe', 'downs', 'amalgamated', 'amt', 'winding', 'fellow', '898', 'secrecy', 'signalled', 'skeoch', 'zoete', 'wedd', 'stone', 'ryan', 'dharyono', 'stays', 'wedge', 'blip', 'quaker', '665', 'coverage', 'justification', 'relaxation', 'lo', 'relax', 'baltic', 'entertain', 'abdul', 'aziz', 'bin', '761', 'centel', 'inro', 'minds', 'offensive', 'nichols', 'robusta', 'bright', 'pierson', 'mer', 'icn', 'murdochville', 'stockpiled', 'eugene', 'samjens', 'attorneys', 'asher', 'edelman', 'nathan', 'ammeen', 'client', 'districts', 'fhlbb', 'amp', 'seaga', 'pasta', 'frictions', 'shing', 'throughput', 'evergo', 'distorted', 'trimmed', 'purity', 'comex', 'satisfaction', 'bilson', 'harold', 'bac', 'shorter', 'franco', 'intersected', 'crowe', 'kitty', 'lmfe', 'elmer', 'pigs', 'crepe', 'devalued', 'pcr', 'talyzin', 'mikhail', 'gorbachev', 'fault', 'lyons', 'asean', 'prawiro', 'arable', 'industrie', 'bankhaus', 'centrale', 'stewart', '917', 'egyptian', 'suez', 'froze', 'diverted', 'travelers', 'huayta', 'garcia', 'consolidating', 'positively', 'alternate', 'yale', 'salem', 'temporao', 'shippers', 'cruzados', 'butter', 'introductions', 'supposed', 'corona', 'retractable', 'reg', 'avery', 'differential', 'nspa', 'leather', 'reprisals', 'hutchison', 'wyoming', 'magma', 'cape', 'sindt', 'klopfenstein', 'deteriorated', 'patricia', 'marines', 'strikers', 'jamaican', 'dodge', 'durham', 'granite', 'automated', '822', 'keystone', 'ucpb', 'brewer', 'grocery', 'licensee', 'ticket', '483', 'keswick', 'kleen', 'cigarettes', 'cleanup', 'apt', 'sat', 'ericsson', 'levon', 'width', 'assayed', 'cme', 'rawl', 'barely', 'unwillingness', 'remote', 'splinter', 'sceptical', 'agribusiness', 'almaden', 'ambitious', 'olive', 'spectra', 'physics', 'kaufman', 'braverman', 'mitchell', 'persist', 'lanston', 'examined', 'amax', 'escalating', '749', 'brooks', 'toy', 'morton', 'pressured', 'undesirable', 'testified', 'guangdong', 'depositors', 'entrenched', 'stepping', 'israel', 'israeli', 'tonner', 'announces', 'identity', 'fluctuating', 'recommends', 'inspiration', 'freeport', 'mcmoran', 'offing', 'suits', 'vigorously', 'brennan', 'penney', 'federated', 'beryl', 'sprinkel', 'zeebregts', 'mediator', 'redundancy', 'float', 'ln', 'earners', 'generous', 'republicbank', 'interfirst', 'maekawa', 'haruo', 'pilots', 'fortune', 'backdrop', 'hussein', 'sunter', 'rochester', 'supertanker', 'command', 'kharg', 'raided', 'bayer', 'ajinomoto', 'overhead', 'm2', 'm1', 'westin', 'allegis', 'bradford', 'sovereignty', 'santana', 'ski', 'schillings', 'cwt', 'harbour', 'memphis', '867', 'alfred', 'herrhausen', 'simmons', 'jaguar', 'edwards', 'shop', 'dockers', 'disappear', 'overriding', 'fought', 'loophole', 'stockbroker', 'meteorologist', 'martell', 'depleted', 'grammes', 'norman', 'children', 'wasn', 'csce', 'multifoods', 'stretches', 'emission', 'leaded', 'seaforth', 'relate', 'circulated', 'learned', 'vegetables', 'fruits', 'caltex', 'kerosene', 'libor', 'hiram', 'walker', 'gooderham', 'holden', 'objection', 'leslie', 'builders', 'oreffice', 'consultant', 'happening', 'realise', 'pakistani', 'specially', 'brasilia', 'fitness', 'warnings', 'oaks', 'nominees', 'stretch', 'upheld', 'rod', 'intermedics', 'upset', 'conservatives', 'tian', 'fdic', 'seidman', 'lie', 'der', 'anacomp', 'datagraphix', 'czarnikow', 'henan', 'sichuan', 'patterns', 'consumed', '024', 'dinar', 'martinez', 'cuenca', 'croo', 'linotype', 'smc', 'sequestered', 'dibona', 'amylum', 'callebaut', 'alp', 'fernandez', 'roads', 'contents', 'kuroda', 'liffe', 'ratification', 'excesses', 'artificial', 'ic', 'flank', 'unctad', 'roderick', 'durables', 'autos', 'contel', 'creditanstalt', 'vi', 'coniston', 'cascade', 'dynamic', 'proof', 'prevail', 'stayed', 'visiting', 'subscribe', 'lerner', 'valor', 'pennzoil', 'peat', '558', '865', 'fox', 'sunshine', 'dim', 'dryness', 'boats', 'reintroduction', 'jeep', 'repaired', 'dissatisfied', '1967', 'conade', 'liberalize', 'cytrx', 'biopool', 'aaa', 'resumes', 'restatement', 'craft', 'posts', 'mpt', 'politicians', 'tallow', 'laydays', '1200', 'delhi', 'ina', 'arose', 'unfavorable', 'getty', 'oxy', 'stevens', 'mathematical', 'waivers', 'outlets', 'smart', 'honda', 'duff', 'meridian', 'leaf', 'brooklyn', 'hectic', 'wickes', 'papers', 'irs', 'shutdowns', 'klm', 'feeder', 'tumble', 'azpurua', 'channon', 'conform', 'brink', 'facts', 'realities', 'devalue', 'fcoj', 'tanghe', 'directorate', 'tunisia', 'wtc', 'transworld', 'hecla', 'midwestern', 'moreover', 'corby', 'shattner', 'disk', 'aps', 'hall', 'bue', 'bayou', 'antilles', 'mps', 'undermining', 'sep', 'brass', 'alloys', 'haggard', 'vietnam', 'labelling', 'wallenberg', 'rolls', 'arkansas', 'disagreement', 'merging', 'romania', 'slated', 'husky', 'amalgamation', 'concert', 'tesco', 'tsco', 'hillards', 'features', 'sealy', 'reveal', 'maple', 'apex', 'ecolab', 'nev', 'enormous', 'balletto', 'studios', 'arbitrageurs', 'dennis', 'correspondents', 'mcivor', 'canyon', 'nestle', 'bbc', 'proxmire', 'wis', 'properly', 'accelerating', 'encor', 'aristech', 'polypropylene', 'rca', 'stabilized', 'struggling', 'callable', 'landslide', 'cherry', 'wyttenbach', 'lear', 'siegler', 'westlb', 'rhine', 'icy', 'thick', 'packing', 'entitle', 'update', 'blair', 'schilling', 'renouf', 'nzi', 'bil', 'newport', 'designer', 'oak', 'srw', 'anew', 'intel', 'mhz', 'lessening', 'nzier', 'sarrazin', 'coordinating', 'venalum', 'object', 'indosuez', 'enjoyed', 'enact', 'marwick', 'hofer', 'mechanically', 'separated', 'sausage', 'unisys', 'heublein', 'introducing', 'issuer', 'viermetz', 'slope', 'varity', 'differ', 'dumez', 'meinhardt', 'krupp', 'additionally', 'catches', 'petromin', 'guillaume', 'flies', 'macandrews', 'forbes', 'iea', 'moderating', 'ual', 'ferris', 'afloat', 'ft', 'completions', 'panhandle', 'zccm', 'zambian', 'performances', 'decreases', 'pine', 'ctc', 'meston', 'ansett', 'boat', 'frederick', 'outweighed', 'saito', 'pegasus', 'captive', 'unloading', 'vbi', 'bloch', 'rot', 'spite', 'belongs', 'sante', 'indium', 'paralax', 'redstone', 'holly', 'guess', 'groote', 'wilkinson', 'celeron', 'scan', 'fabrics', 'cannon', 'airod', 'si', 'intercare', 'magellan', 'outboard', 'occupied', 'pearson', 'borden', 'everybody', 'sanwa', 'breathing', 'youghal', 'keycorp', 'treat', 'dreyfus', 'tvx', 'profile', 'pope', 'sloane', 'ufcwu', 'meatpackers', 'porex', 'showboat', 'cheung', 'printed', 'abbett', 'southam', 'comalco', 'valero', 'lockout', 'zack', 'wx', 'angra', 'penna', 'unc', 'ovr', 'penner', 'lucas', 'harry', 'robins', 'oii', 'pertamina', 'loving', 'annesley', 'countermeasures', 'spreads', 'manpower', 'chancery', 'peso', 'ongpin', 'memories', 'hemdale', 'tolerate', 'volvo', 'pesch', 'soros', 'unsettled', 'amselco', 'netbacks', 'mckesson', 'takeuchi', 'harkin', 'reichhold', 'kernels', 'gardini', 'manoeuvre', 'sake', 'younger', 'alpha', 'reph', 'lim', 'fm', 'conger', 'todd', 'cain', 'chen', '1972', 'interval', 'aero', 'mccrory', 'valhi', 'kaneb', 'computerland', 'bottomed', 'innovex', 'smit', 'mohler', 'polaroid', 'calmat', 'osaka', 'tracts', '21st', 'kelman', 'kresge', 'julius', 'craig', 'goria', 'terra', 'graven', 'exco', 'coffees', 'audi', 'willmon', 'earmarked', 'italiana', 'ov', 'inspected', 'foothill', 'mcdowell', 'nerco', 'pacificorp', 'novamin', 'breakwater', 'pcgg', 'astra', 'ecgd', 'hoffman', 'mcminimy', 'monfort', 'eurofer', 'thyssen', 'spethmann', 'banca', 'sigma', 'beaver', 'immune', 'peg', 'kerridge', 'tide', 'geodyne', 'calny', 'taco', 'isolated', 'burned', 'insects', 'clones', 'horner', 'smoothed', 'crandall', 'regal', 'pharmacontrol', 'iwc', 'humana', 'instinet', 'redman', 'amlc', 'bi', 'hydrocracker', 'arvin', 'ric', 'willis', 'cwts', 'lng', 'kdd', 'btu', 'vulcan', 'cbc', 'inedible', 'ici', 'asamera', 'heineken', 'cavendish', 'kasahara', 'genex', 'rainbow', 'pittston', 'smithson', 'pests', 'shops', 'se', 'commonly', 'backwardations', 'crellin', 'ethanol', 'fairfax', 'buitoni', 'medco', 'flowering', 'pod', 'gourmet', 'cadmium', 'taketomi', 'kaske', 'arabica', 'cablevision', 'forint', 'lasmo', 'cholesterol', 'ameri', 'amr', 'nsw', 'ousted', 'diablo', 'pravda', 'halbert', 'buchanan', 'kellogg', 'valeo', 'datacard', 'galveston', 'gleske', 'fellner', 'hertz', 'shv', 'psd', 'vining', 'masse', 'trailways', 'nzfp', 'wolf', 'aircal', 'maki', 'digiorgio', 'hss', 'semenovich', 'fildes', 'cetus', 'squibb', 'cont', 'dealerships', 'jauppi']]\n",
            "Count Vectorize 후 결과\n",
            "  (0, 8272)\t1\n",
            "  (0, 9181)\t2\n",
            "  (0, 7834)\t3\n",
            "  (0, 1677)\t1\n",
            "  (0, 7633)\t1\n",
            "  (0, 6365)\t3\n",
            "  (0, 5223)\t1\n",
            "  (0, 3143)\t1\n",
            "  (0, 1233)\t1\n",
            "  (0, 8303)\t1\n",
            "  (0, 2565)\t1\n",
            "  (0, 5213)\t2\n",
            "  (0, 3945)\t1\n",
            "  (0, 3608)\t1\n",
            "  (0, 6682)\t3\n",
            "  (0, 8055)\t3\n",
            "  (0, 4945)\t3\n",
            "  (0, 249)\t1\n",
            "  (0, 172)\t1\n",
            "  (0, 8932)\t6\n",
            "  (0, 383)\t1\n",
            "  (0, 3475)\t6\n",
            "  (0, 9218)\t1\n",
            "  (0, 4325)\t3\n",
            "  (0, 828)\t1\n",
            "  :\t:\n",
            "  (8981, 4219)\t1\n",
            "  (8981, 1863)\t1\n",
            "  (8981, 1590)\t1\n",
            "  (8981, 1261)\t1\n",
            "  (8981, 9246)\t1\n",
            "  (8981, 5025)\t1\n",
            "  (8981, 1837)\t1\n",
            "  (8981, 2191)\t2\n",
            "  (8981, 5451)\t1\n",
            "  (8981, 7489)\t1\n",
            "  (8981, 1573)\t1\n",
            "  (8981, 4941)\t1\n",
            "  (8981, 6117)\t1\n",
            "  (8981, 5183)\t1\n",
            "  (8981, 7852)\t1\n",
            "  (8981, 8153)\t1\n",
            "  (8981, 4024)\t1\n",
            "  (8981, 3909)\t1\n",
            "  (8981, 1315)\t1\n",
            "  (8981, 2358)\t1\n",
            "  (8981, 6081)\t2\n",
            "  (8981, 5418)\t1\n",
            "  (8981, 9133)\t1\n",
            "  (8981, 9594)\t1\n",
            "  (8981, 7294)\t1\n",
            "[[0.         0.         0.         ... 0.         0.         0.        ]\n",
            " [0.         0.         0.         ... 0.         0.         0.        ]\n",
            " [0.         0.08655827 0.         ... 0.         0.         0.        ]\n",
            " ...\n",
            " [0.         0.         0.         ... 0.         0.         0.        ]\n",
            " [0.         0.09294587 0.         ... 0.         0.         0.        ]\n",
            " [0.         0.         0.         ... 0.         0.         0.        ]]\n",
            "  (0, 9628)\t0.06356670958147888\n",
            "  (0, 9218)\t0.08780620595054514\n",
            "  (0, 9181)\t0.08604864459739914\n",
            "  (0, 8932)\t0.25028101697583904\n",
            "  (0, 8890)\t0.0930998381922142\n",
            "  (0, 8875)\t0.07672366483129915\n",
            "  (0, 8850)\t0.03988247757031195\n",
            "  (0, 8303)\t0.203150231713389\n",
            "  (0, 8272)\t0.030312371161604353\n",
            "  (0, 8175)\t0.1025062385626965\n",
            "  (0, 8106)\t0.22747636818044054\n",
            "  (0, 8055)\t0.25190182137461803\n",
            "  (0, 7834)\t0.1219387278172762\n",
            "  (0, 7727)\t0.1102444102744686\n",
            "  (0, 7675)\t0.13792521715667663\n",
            "  (0, 7666)\t0.030539304325861907\n",
            "  (0, 7633)\t0.1272430689584012\n",
            "  (0, 7508)\t0.21863456761984176\n",
            "  (0, 6972)\t0.1539628581207626\n",
            "  (0, 6682)\t0.27676451799730706\n",
            "  (0, 6429)\t0.15755807940652689\n",
            "  (0, 6365)\t0.11453293816669016\n",
            "  (0, 6253)\t0.10419591024092598\n",
            "  (0, 6218)\t0.07042182393755048\n",
            "  (0, 6042)\t0.21345820216754235\n",
            "  :\t:\n",
            "  (8981, 3632)\t0.08621812797387604\n",
            "  (8981, 3491)\t0.07481068075649426\n",
            "  (8981, 3155)\t0.08709921432098085\n",
            "  (8981, 3136)\t0.08181638104840938\n",
            "  (8981, 3046)\t0.08006841942701773\n",
            "  (8981, 2939)\t0.06566265598159318\n",
            "  (8981, 2749)\t0.11826022712569333\n",
            "  (8981, 2565)\t0.06272636731804493\n",
            "  (8981, 2358)\t0.15036379649309742\n",
            "  (8981, 2215)\t0.05057033987354948\n",
            "  (8981, 2191)\t0.28558818151776744\n",
            "  (8981, 2083)\t0.07636390667341178\n",
            "  (8981, 1948)\t0.11462344642077285\n",
            "  (8981, 1919)\t0.04317118116215351\n",
            "  (8981, 1863)\t0.10309872587740929\n",
            "  (8981, 1860)\t0.06088044451723479\n",
            "  (8981, 1837)\t0.09068458502535057\n",
            "  (8981, 1650)\t0.13898309873550016\n",
            "  (8981, 1590)\t0.13578473280322462\n",
            "  (8981, 1573)\t0.11856949020698222\n",
            "  (8981, 1552)\t0.0724226795074108\n",
            "  (8981, 1508)\t0.10937254175811499\n",
            "  (8981, 1476)\t0.08015908807936437\n",
            "  (8981, 1315)\t0.16271181440337254\n",
            "  (8981, 1261)\t0.13178194056004253\n"
          ],
          "name": "stdout"
        }
      ]
    },
    {
      "cell_type": "code",
      "metadata": {
        "id": "E0q1g6v0qVUl"
      },
      "source": [
        " \n",
        "#- 나이브 베이즈 분류기를 수행합니다.\n",
        "#- X_train은 TF-IDF 벡터, y_train은 레이블입니다.\n",
        "clf = MultinomialNB().fit(X_train_tfidf, y_train)"
      ],
      "execution_count": null,
      "outputs": []
    },
    {
      "cell_type": "code",
      "metadata": {
        "id": "TZ1nGi4mDz9m"
      },
      "source": [
        "def tfidf_vectorizer(data):\n",
        "  data_counts = count_vect.transform(data)\n",
        "  data_tfidf = tfidf_transformer.transform(data_counts)\n",
        "  return data_tfidf"
      ],
      "execution_count": null,
      "outputs": []
    },
    {
      "cell_type": "code",
      "metadata": {
        "colab": {
          "base_uri": "https://localhost:8080/"
        },
        "id": "5VJqLxriD9i9",
        "outputId": "16fccc77-1d4b-4733-9a20-d91cb93e37e0"
      },
      "source": [
        "y_pred = clf.predict(tfidf_vectorizer(x_test))\n",
        "print(metrics.classification_report(y_test, y_pred))\n"
      ],
      "execution_count": null,
      "outputs": [
        {
          "output_type": "stream",
          "text": [
            "              precision    recall  f1-score   support\n",
            "\n",
            "           0       0.00      0.00      0.00        12\n",
            "           1       0.62      0.69      0.65       105\n",
            "           2       0.00      0.00      0.00        20\n",
            "           3       0.81      0.90      0.85       813\n",
            "           4       0.51      0.96      0.67       474\n",
            "           5       0.00      0.00      0.00         5\n",
            "           6       0.00      0.00      0.00        14\n",
            "           7       0.00      0.00      0.00         3\n",
            "           8       0.00      0.00      0.00        38\n",
            "           9       1.00      0.08      0.15        25\n",
            "          10       0.00      0.00      0.00        30\n",
            "          11       0.66      0.63      0.64        83\n",
            "          12       0.00      0.00      0.00        13\n",
            "          13       1.00      0.03      0.05        37\n",
            "          14       0.00      0.00      0.00         2\n",
            "          15       0.00      0.00      0.00         9\n",
            "          16       0.69      0.56      0.61        99\n",
            "          17       0.00      0.00      0.00        12\n",
            "          18       0.00      0.00      0.00        20\n",
            "          19       0.60      0.78      0.68       133\n",
            "          20       1.00      0.04      0.08        70\n",
            "          21       0.00      0.00      0.00        27\n",
            "          22       0.00      0.00      0.00         7\n",
            "          23       0.00      0.00      0.00        12\n",
            "          24       0.00      0.00      0.00        19\n",
            "          25       1.00      0.03      0.06        31\n",
            "          26       0.00      0.00      0.00         8\n",
            "          27       0.00      0.00      0.00         4\n",
            "          28       0.00      0.00      0.00        10\n",
            "          29       0.00      0.00      0.00         4\n",
            "          30       0.00      0.00      0.00        12\n",
            "          31       0.00      0.00      0.00        13\n",
            "          32       0.00      0.00      0.00        10\n",
            "          33       0.00      0.00      0.00         5\n",
            "          34       0.00      0.00      0.00         7\n",
            "          35       0.00      0.00      0.00         6\n",
            "          36       0.00      0.00      0.00        11\n",
            "          37       0.00      0.00      0.00         2\n",
            "          38       0.00      0.00      0.00         3\n",
            "          39       0.00      0.00      0.00         5\n",
            "          40       0.00      0.00      0.00        10\n",
            "          41       0.00      0.00      0.00         8\n",
            "          42       0.00      0.00      0.00         3\n",
            "          43       0.00      0.00      0.00         6\n",
            "          44       0.00      0.00      0.00         5\n",
            "          45       0.00      0.00      0.00         1\n",
            "\n",
            "    accuracy                           0.66      2246\n",
            "   macro avg       0.17      0.10      0.10      2246\n",
            "weighted avg       0.59      0.66      0.58      2246\n",
            "\n"
          ],
          "name": "stdout"
        },
        {
          "output_type": "stream",
          "text": [
            "/usr/local/lib/python3.7/dist-packages/sklearn/metrics/_classification.py:1272: UndefinedMetricWarning: Precision and F-score are ill-defined and being set to 0.0 in labels with no predicted samples. Use `zero_division` parameter to control this behavior.\n",
            "  _warn_prf(average, modifier, msg_start, len(result))\n"
          ],
          "name": "stderr"
        }
      ]
    },
    {
      "cell_type": "markdown",
      "metadata": {
        "id": "BpQWcz7Hbp9B"
      },
      "source": [
        ""
      ]
    },
    {
      "cell_type": "markdown",
      "metadata": {
        "id": "KFwS3OH1brkA"
      },
      "source": [
        "# Word2Vec 을 사용해서 바꿔보자"
      ]
    },
    {
      "cell_type": "code",
      "metadata": {
        "colab": {
          "base_uri": "https://localhost:8080/"
        },
        "id": "pU9aEFNqE0Cb",
        "outputId": "58852baf-6179-4d53-c722-caf229fd8687"
      },
      "source": [
        "# Word2Vec 을 사용해서 바꿔보자\n",
        "\n",
        "!pip install nltk\n",
        "!pip install gensim"
      ],
      "execution_count": null,
      "outputs": [
        {
          "output_type": "stream",
          "text": [
            "Requirement already satisfied: nltk in /usr/local/lib/python3.7/dist-packages (3.2.5)\n",
            "Requirement already satisfied: six in /usr/local/lib/python3.7/dist-packages (from nltk) (1.15.0)\n",
            "Requirement already satisfied: gensim in /usr/local/lib/python3.7/dist-packages (3.6.0)\n",
            "Requirement already satisfied: smart-open>=1.2.1 in /usr/local/lib/python3.7/dist-packages (from gensim) (5.0.0)\n",
            "Requirement already satisfied: scipy>=0.18.1 in /usr/local/lib/python3.7/dist-packages (from gensim) (1.4.1)\n",
            "Requirement already satisfied: numpy>=1.11.3 in /usr/local/lib/python3.7/dist-packages (from gensim) (1.19.5)\n",
            "Requirement already satisfied: six>=1.5.0 in /usr/local/lib/python3.7/dist-packages (from gensim) (1.15.0)\n"
          ],
          "name": "stdout"
        }
      ]
    },
    {
      "cell_type": "code",
      "metadata": {
        "colab": {
          "base_uri": "https://localhost:8080/"
        },
        "id": "p_YpIP2lqov3",
        "outputId": "eeae5d30-ba57-4ad4-c59b-0687a1bb580e"
      },
      "source": [
        "import nltk\n",
        "nltk.download('abc')\n",
        "nltk.download('punkt')"
      ],
      "execution_count": null,
      "outputs": [
        {
          "output_type": "stream",
          "text": [
            "[nltk_data] Downloading package abc to /root/nltk_data...\n",
            "[nltk_data]   Package abc is already up-to-date!\n",
            "[nltk_data] Downloading package punkt to /root/nltk_data...\n",
            "[nltk_data]   Package punkt is already up-to-date!\n"
          ],
          "name": "stdout"
        },
        {
          "output_type": "execute_result",
          "data": {
            "text/plain": [
              "True"
            ]
          },
          "metadata": {
            "tags": []
          },
          "execution_count": 113
        }
      ]
    },
    {
      "cell_type": "code",
      "metadata": {
        "colab": {
          "base_uri": "https://localhost:8080/"
        },
        "id": "_Ii8Wqssq3nM",
        "outputId": "1b759b68-c5da-429a-d752-239bee7ec7e9"
      },
      "source": [
        "ls"
      ],
      "execution_count": null,
      "outputs": [
        {
          "output_type": "stream",
          "text": [
            "IMDb_Reviews.csv  \u001b[0m\u001b[01;34msample_data\u001b[0m/  w2v\n"
          ],
          "name": "stdout"
        }
      ]
    },
    {
      "cell_type": "code",
      "metadata": {
        "colab": {
          "base_uri": "https://localhost:8080/"
        },
        "id": "eItmOapgly4w",
        "outputId": "a9ab6d61-556b-4967-83de-c021269e4de7"
      },
      "source": [
        "from gensim.models import Word2Vec\n",
        "from nltk.tokenize import word_tokenize, sent_tokenize\n",
        "\n",
        "\n",
        "count_vect = CountVectorizer()\n",
        "\n",
        "X_train_counts = count_vect.fit_transform(x_train)\n",
        "\n",
        "#print(count_vect.vocabulary_.keys())\n",
        "#tokens = [list(count_vect.vocabulary_.keys())]\n",
        "#print(tokens)\n",
        "\n",
        "\n",
        "tokenized_data = []\n",
        "for sentence in x_train:\n",
        "    temp_X = word_tokenize(sentence) # 토큰화\n",
        "    temp_X = [word for word in temp_X ]   \n",
        "    tokenized_data.append(temp_X)\n",
        "\n",
        "#import logging\n",
        "\n",
        "#logging.basicConfig(format='%(asctime)s : %(levelname)s %(message)s',level=logging.INFO)\n",
        "\n",
        "model = Word2Vec(sentences = tokenized_data, window = 5, min_count = 5, workers = 4, sg = 0)\n",
        "\n",
        "model.vector_size\n",
        "\n",
        "\n",
        "print(len(tokenized_data))\n",
        "print(tokenized_data[:10])"
      ],
      "execution_count": null,
      "outputs": [
        {
          "output_type": "stream",
          "text": [
            "8982\n",
            "[['<', 'sos', '>', '<', 'unk', '>', '<', 'unk', '>', 'said', 'as', 'a', 'result', 'of', 'its', 'december', 'acquisition', 'of', 'space', 'co', 'it', 'expects', 'earnings', 'per', 'share', 'in', '1987', 'of', '1', '15', 'to', '1', '30', 'dlrs', 'per', 'share', 'up', 'from', '70', 'cts', 'in', '1986', 'the', 'company', 'said', 'pretax', 'net', 'should', 'rise', 'to', 'nine', 'to', '10', 'mln', 'dlrs', 'from', 'six', 'mln', 'dlrs', 'in', '1986', 'and', 'rental', 'operation', 'revenues', 'to', '19', 'to', '22', 'mln', 'dlrs', 'from', '12', '5', 'mln', 'dlrs', 'it', 'said', 'cash', 'flow', 'per', 'share', 'this', 'year', 'should', 'be', '2', '50', 'to', 'three', 'dlrs', 'reuter', '3'], ['<', 'sos', '>', 'generale', 'de', 'banque', 'sa', 'lt', '<', 'unk', '>', 'br', 'and', 'lt', 'heller', 'overseas', 'corp', 'of', 'chicago', 'have', 'each', 'taken', '50', 'pct', 'stakes', 'in', '<', 'unk', '>', 'company', 'sa', '<', 'unk', '>', 'factors', 'generale', 'de', 'banque', 'said', 'in', 'a', 'statement', 'it', 'gave', 'no', 'financial', 'details', 'of', 'the', 'transaction', 'sa', '<', 'unk', '>', '<', 'unk', '>', 'turnover', 'in', '1986', 'was', '17', '5', 'billion', 'belgian', 'francs', 'reuter', '3'], ['<', 'sos', '>', 'shr', '3', '28', 'dlrs', 'vs', '22', 'cts', 'shr', 'diluted', '2', '99', 'dlrs', 'vs', '22', 'cts', 'net', '46', '0', 'mln', 'vs', '3', '328', '000', 'avg', 'shrs', '14', '0', 'mln', 'vs', '15', '2', 'mln', 'year', 'shr', '5', '41', 'dlrs', 'vs', '1', '56', 'dlrs', 'shr', 'diluted', '4', '94', 'dlrs', 'vs', '1', '50', 'dlrs', 'net', '78', '2', 'mln', 'vs', '25', '9', 'mln', 'avg', 'shrs', '14', '5', 'mln', 'vs', '15', '1', 'mln', 'note', 'earnings', 'per', 'share', 'reflect', 'the', 'two', 'for', 'one', 'split', 'effective', 'january', '6', '1987', 'per', 'share', 'amounts', 'are', 'calculated', 'after', 'preferred', 'stock', 'dividends', 'loss', 'continuing', 'operations', 'for', 'the', 'qtr', '1986', 'includes', 'gains', 'of', 'sale', 'of', 'investments', 'in', '<', 'unk', '>', 'corp', 'of', '14', 'mln', 'dlrs', 'and', 'associated', 'companies', 'of', '4', '189', '000', 'less', 'writedowns', 'of', 'investments', 'in', 'national', '<', 'unk', '>', 'inc', 'of', '11', '8', 'mln', 'and', '<', 'unk', '>', 'corp', 'of', '15', '6', 'mln', 'reuter', '3'], ['<', 'sos', '>', 'the', 'farmers', 'home', 'administration', 'the', 'u', 's', 'agriculture', 'department', \"'s\", 'farm', 'lending', 'arm', 'could', 'lose', 'about', 'seven', 'billion', 'dlrs', 'in', 'outstanding', 'principal', 'on', 'its', 'severely', '<', 'unk', '>', 'borrowers', 'or', 'about', 'one', 'fourth', 'of', 'its', 'farm', 'loan', 'portfolio', 'the', 'general', 'accounting', 'office', 'gao', 'said', 'in', 'remarks', 'prepared', 'for', 'delivery', 'to', 'the', 'senate', 'agriculture', 'committee', 'brian', 'crowley', 'senior', 'associate', 'director', 'of', 'gao', 'also', 'said', 'that', 'a', 'preliminary', 'analysis', 'of', 'proposed', 'changes', 'in', '<', 'unk', '>', 'financial', 'eligibility', 'standards', 'indicated', 'as', 'many', 'as', 'one', 'half', 'of', '<', 'unk', '>', 'borrowers', 'who', 'received', 'new', 'loans', 'from', 'the', 'agency', 'in', '1986', 'would', 'be', '<', 'unk', '>', 'under', 'the', 'proposed', 'system', 'the', 'agency', 'has', 'proposed', 'evaluating', '<', 'unk', '>', 'credit', 'using', 'a', 'variety', 'of', 'financial', 'ratios', 'instead', 'of', 'relying', 'solely', 'on', '<', 'unk', '>', 'ability', 'senate', 'agriculture', 'committee', 'chairman', 'patrick', 'leahy', 'd', 'vt', '<', 'unk', '>', 'the', 'proposed', 'eligibility', 'changes', 'telling', '<', 'unk', '>', 'administrator', '<', 'unk', '>', 'clark', 'at', 'a', 'hearing', 'that', 'they', 'would', 'mark', 'a', 'dramatic', 'shift', 'in', 'the', 'agency', \"'s\", 'purpose', 'away', 'from', 'being', 'farmers', \"'\", 'lender', 'of', 'last', 'resort', 'toward', 'becoming', 'a', 'big', 'city', 'bank', 'but', 'clark', 'defended', 'the', 'new', 'regulations', 'saying', 'the', 'agency', 'had', 'a', 'responsibility', 'to', '<', 'unk', '>', 'its', '70', 'billion', 'dlr', 'loan', 'portfolio', 'in', 'a', '<', 'unk', '>', 'yet', '<', 'unk', '>', 'manner', 'crowley', 'of', 'gao', '<', 'unk', '>', '<', 'unk', '>', 'arm', 'said', 'the', 'proposed', 'credit', '<', 'unk', '>', 'system', 'attempted', 'to', 'ensure', 'that', '<', 'unk', '>', 'would', 'make', 'loans', 'only', 'to', 'borrowers', 'who', 'had', 'a', 'reasonable', 'change', 'of', 'repaying', 'their', 'debt', 'reuter', '3'], ['<', 'sos', '>', 'seton', 'co', 'said', 'its', 'board', 'has', 'received', 'a', 'proposal', 'from', 'chairman', 'and', 'chief', 'executive', 'officer', 'philip', 'd', '<', 'unk', '>', 'to', 'acquire', 'seton', 'for', '15', '75', 'dlrs', 'per', 'share', 'in', 'cash', 'seton', 'said', 'the', 'acquisition', 'bid', 'is', 'subject', 'to', '<', 'unk', '>', 'arranging', 'the', 'necessary', 'financing', 'it', 'said', 'he', 'intends', 'to', 'ask', 'other', 'members', 'of', 'senior', 'management', 'to', 'participate', 'the', 'company', 'said', '<', 'unk', '>', 'owns', '30', 'pct', 'of', 'seton', 'stock', 'and', 'other', 'management', 'members', 'another', '7', '5', 'pct', 'seton', 'said', 'it', 'has', 'formed', 'an', 'independent', 'board', 'committee', 'to', 'consider', 'the', 'offer', 'and', 'has', 'deferred', 'the', 'annual', 'meeting', 'it', 'had', 'scheduled', 'for', 'march', '31', 'reuter', '3'], ['<', 'sos', '>', 'the', 'u', 's', 'agriculture', 'department', 'estimated', 'canada', \"'s\", '1986', '87', 'wheat', 'crop', 'at', '31', '85', 'mln', 'tonnes', 'vs', '31', '85', 'mln', 'tonnes', 'last', 'month', 'it', 'estimated', '1985', '86', 'output', 'at', '24', '25', 'mln', 'tonnes', 'vs', '24', '25', 'mln', 'last', 'month', 'canadian', '1986', '87', 'coarse', 'grain', 'production', 'is', 'projected', 'at', '27', '62', 'mln', 'tonnes', 'vs', '27', '62', 'mln', 'tonnes', 'last', 'month', 'production', 'in', '1985', '86', 'is', 'estimated', 'at', '24', '95', 'mln', 'tonnes', 'vs', '24', '95', 'mln', 'last', 'month', 'canadian', 'wheat', 'exports', 'in', '1986', '87', 'are', 'forecast', 'at', '19', '00', 'mln', 'tonnes', 'vs', '18', '00', 'mln', 'tonnes', 'last', 'month', 'exports', 'in', '1985', '86', 'are', 'estimated', 'at', '17', '71', 'mln', 'tonnes', 'vs', '17', '72', 'mln', 'last', 'month', 'reuter', '3'], ['<', 'sos', '>', 'lt', 'qintex', 'america', 'ltd', 'said', 'it', 'is', 'again', 'extending', 'its', 'offer', 'of', '13', 'dlrs', 'a', 'share', 'for', '3', '3', 'mln', 'princeville', 'development', 'corp', 'shares', 'until', 'today', 'from', 'yesterday', 'at', 'midnight', 'yesterday', '7', '242', '117', 'princeville', 'shares', 'had', 'been', 'tendered', 'up', 'from', '5', '887', '165', 'shares', '24', 'hours', 'earlier', 'qintex', 'said', 'it', 'is', 'extending', 'the', 'offer', 'to', 'allow', 'princeville', 'to', 'comply', 'with', 'federal', 'law', 'restricting', 'the', 'ownership', 'of', 'u', 's', 'airlines', 'by', 'non', 'u', 's', 'citizens', 'and', 'to', 'finalize', 'the', 'terms', 'and', 'conditions', 'of', 'the', 'letter', 'of', 'credit', 'or', 'bank', 'guarantee', 'required', 'under', 'the', 'previously', 'announced', 'acquisition', 'agreement', 'reuter', '3'], ['<', 'sos', '>', 'shr', '49', 'cts', 'vs', '39', 'cts', 'net', '886', '937', 'vs', '892', '323', 'revs', '25', '9', 'mln', 'vs', '23', '7', 'mln', 'year', 'shr', '1', '78', 'dlr', 'vs', '1', '34', 'dlr', 'net', '3', '254', '301', 'vs', '2', '472', '676', 'revs', '100', '6', 'mln', 'vs', '87', '4', 'mln', 'note', '1986', '4th', 'qtr', 'and', 'year', 'net', 'includes', 'income', 'loss', 'of', '<', 'unk', '>', 'subsidiary', 'of', '14', '881', 'dlrs', 'and', '311', '848', 'dlrs', 'or', '17', 'cts', 'per', 'share', 'respectively', '1985', '4th', 'qtr', 'and', 'year', 'net', 'includes', 'loss', 'in', '<', 'unk', '>', 'unit', 'of', '108', '598', 'dlrs', 'and', '298', '412', 'dlrs', 'or', '16', 'cts', 'per', 'share', 'respectively', 'reuter', '3'], ['<', 'sos', '>', 'oper', 'shr', '23', 'cts', 'vs', '77', 'cts', 'oper', 'net', '5', '255', '179', 'vs', '17', '6', 'mln', 'revs', '37', '8', 'mln', 'vs', '73', '7', 'mln', 'note', 'cash', 'flow', '19', '5', 'mln', 'dlrs', 'or', '86', 'cts', 'shr', 'vs', '36', '7', 'mln', 'dlrs', 'or', '1', '62', 'dlrs', 'shr', '1985', 'net', 'excludes', '32', 'ct', 'shr', 'loss', 'from', 'discontinued', 'operations', 'gross', 'proven', 'and', 'probable', 'reserves', 'of', 'crude', 'oil', 'and', 'natural', 'gas', '<', 'unk', '>', '18', '4', 'mln', 'barrels', 'off', '7', '6', 'pct', 'from', 'a', 'year', 'before', 'reuter', '3'], ['<', 'sos', '>', 'lt', 'aramco', 'corp', 'has', 'accepted', 'japanese', '<', 'unk', '>', 'to', 'lift', 'a', 'higher', 'proportion', 'of', 'arab', 'heavy', 'crude', 'oil', 'under', 'term', 'contracts', 'in', 'july', 'oil', 'industry', 'sources', 'said', 'japanese', 'companies', 'requested', 'a', 'ratio', 'of', '80', 'pct', 'arab', 'heavy', 'to', '20', 'pct', 'arab', 'light', 'under', 'a', 'term', 'contract', 'agreement', 'with', 'aramco', 'for', '100', '000', 'barrels', 'per', 'day', 'the', 'sources', 'said', 'the', 'contractual', 'ratio', 'is', '30', 'pct', 'heavy', 'crude', 'to', '70', 'pct', 'light', 'japanese', 'demand', 'for', 'heavy', 'crude', 'oil', 'has', 'increased', 'substantially', 'since', 'the', 'all', 'japan', '<', 'unk', '>', 'union', 'ceased', '<', 'unk', '>', 'into', 'the', 'northern', 'mideast', 'gulf', 'last', 'month', 'causing', 'problems', 'with', 'liftings', 'of', 'heavy', 'kuwait', 'and', '<', 'unk', '>', 'crudes', 'reuter', '3']]\n"
          ],
          "name": "stdout"
        }
      ]
    },
    {
      "cell_type": "code",
      "metadata": {
        "id": "5nkTTk3et0pe"
      },
      "source": [
        "model_result = model.wv.most_similar(\"december\")"
      ],
      "execution_count": null,
      "outputs": []
    },
    {
      "cell_type": "code",
      "metadata": {
        "colab": {
          "base_uri": "https://localhost:8080/"
        },
        "id": "rZIRSqCs2U_s",
        "outputId": "c0f05f63-eb52-4ab9-99c1-00c41e6aa935"
      },
      "source": [
        "print(model_result)\n",
        "print(model.vector_size)"
      ],
      "execution_count": null,
      "outputs": [
        {
          "output_type": "stream",
          "text": [
            "[('february', 0.8855397701263428), ('january', 0.8760348558425903), ('november', 0.8737556338310242), ('october', 0.8617959022521973), ('september', 0.8409016132354736), ('1984', 0.8114961981773376), ('august', 0.7992277145385742), ('march', 0.7520163059234619), ('1980', 0.7412512898445129), ('1983', 0.7395049929618835)]\n",
            "100\n"
          ],
          "name": "stdout"
        }
      ]
    },
    {
      "cell_type": "code",
      "metadata": {
        "colab": {
          "base_uri": "https://localhost:8080/"
        },
        "id": "NA1MxQb9t-2C",
        "outputId": "7b1d933c-5041-44bb-bd78-5a12258924af"
      },
      "source": [
        "from gensim.models import KeyedVectors\n",
        "\n",
        "model.wv.save_word2vec_format('./w2v')\n",
        "loaded_model = KeyedVectors.load_word2vec_format(\"./w2v\")\n",
        "print(\"모델 load완료\")"
      ],
      "execution_count": null,
      "outputs": [
        {
          "output_type": "stream",
          "text": [
            "모델 load완료\n"
          ],
          "name": "stdout"
        }
      ]
    },
    {
      "cell_type": "code",
      "metadata": {
        "colab": {
          "base_uri": "https://localhost:8080/"
        },
        "id": "STBNN_oFuI0p",
        "outputId": "3e46cb4b-cd6a-4a58-a3db-557a5cd83ae9"
      },
      "source": [
        "loaded_model.most_similar('acquisition')"
      ],
      "execution_count": null,
      "outputs": [
        {
          "output_type": "execute_result",
          "data": {
            "text/plain": [
              "[('transaction', 0.8446582555770874),\n",
              " ('merger', 0.8216241598129272),\n",
              " ('sale', 0.812434196472168),\n",
              " ('completed', 0.7808429598808289),\n",
              " ('purchase', 0.7755740880966187),\n",
              " ('buyout', 0.768817663192749),\n",
              " ('completion', 0.7552942037582397),\n",
              " ('warner', 0.7522093653678894),\n",
              " ('operation', 0.7513844966888428),\n",
              " ('takeover', 0.7426965236663818)]"
            ]
          },
          "metadata": {
            "tags": []
          },
          "execution_count": 170
        }
      ]
    },
    {
      "cell_type": "code",
      "metadata": {
        "colab": {
          "base_uri": "https://localhost:8080/"
        },
        "id": "Y_2VBhQpvnp6",
        "outputId": "7bf1fbd4-f2c5-4745-bef7-58d62af81243"
      },
      "source": [
        "model.wv.vectors.shape"
      ],
      "execution_count": null,
      "outputs": [
        {
          "output_type": "execute_result",
          "data": {
            "text/plain": [
              "(9472, 100)"
            ]
          },
          "metadata": {
            "tags": []
          },
          "execution_count": 171
        }
      ]
    },
    {
      "cell_type": "code",
      "metadata": {
        "colab": {
          "base_uri": "https://localhost:8080/"
        },
        "id": "p5DlPpnlbZCz",
        "outputId": "1933f8b6-c4af-406f-e47e-b9c023066180"
      },
      "source": [
        "len(model.wv.index2word)"
      ],
      "execution_count": null,
      "outputs": [
        {
          "output_type": "execute_result",
          "data": {
            "text/plain": [
              "9472"
            ]
          },
          "metadata": {
            "tags": []
          },
          "execution_count": 132
        }
      ]
    },
    {
      "cell_type": "code",
      "metadata": {
        "colab": {
          "base_uri": "https://localhost:8080/"
        },
        "id": "Zx2i0ZxIeqHb",
        "outputId": "155ac90b-5e64-4135-b97d-c8fcd15fd40f"
      },
      "source": [
        "print(model.wv.index2word[:5])"
      ],
      "execution_count": null,
      "outputs": [
        {
          "output_type": "stream",
          "text": [
            "['the', '<', '>', 'unk', 'of']\n"
          ],
          "name": "stdout"
        }
      ]
    },
    {
      "cell_type": "code",
      "metadata": {
        "colab": {
          "base_uri": "https://localhost:8080/"
        },
        "id": "lQZHyatSk4oN",
        "outputId": "f3520089-dbdc-425f-d23c-111c7086efab"
      },
      "source": [
        "print(model.wv.index2word[:5][:5])"
      ],
      "execution_count": null,
      "outputs": [
        {
          "output_type": "stream",
          "text": [
            "['the', '<', '>', 'unk', 'of']\n"
          ],
          "name": "stdout"
        }
      ]
    },
    {
      "cell_type": "code",
      "metadata": {
        "colab": {
          "base_uri": "https://localhost:8080/"
        },
        "id": "6Kjg82Wjk8gv",
        "outputId": "b1c0928b-02f4-40c1-87a0-cfabdf6bca20"
      },
      "source": [
        "print(model.wv.vectors[:5])"
      ],
      "execution_count": null,
      "outputs": [
        {
          "output_type": "stream",
          "text": [
            "[[ 0.42831704 -1.2811135   2.2704654  -0.1078366   0.10916167  1.6960846\n",
            "  -1.0799979  -0.8056252  -0.364462    1.5880343  -1.6260668  -0.7546924\n",
            "  -0.9449596   0.2511551   0.40264422  0.7264094   0.72704977 -0.82847494\n",
            "   0.5244193  -0.27421623  0.3227123  -0.4754012  -0.34360465  0.07603535\n",
            "  -0.31591615  0.53139836 -0.47993985 -0.8501284   0.6813933  -2.8531384\n",
            "  -0.8458368  -0.7194239   0.5834603  -0.7857819  -0.3964678   0.3601114\n",
            "  -0.06377815  0.52819073  0.6759001  -0.4273804   0.7030298   0.556914\n",
            "  -1.6381191   0.96744406 -1.1252519   0.22668518 -1.1007931   0.0381648\n",
            "  -1.6050439   2.5875444   1.1744957  -0.1724619  -0.5697167   0.69245833\n",
            "  -0.82321495 -0.7672684  -0.86933523  0.75290346  0.67401123  0.26053244\n",
            "  -0.74700296  0.8222816   1.2986063  -0.31800222  0.18042792  1.2623886\n",
            "  -0.2894106  -0.78767544  0.39576772  0.0923797  -1.658033    0.77934515\n",
            "   0.6822172   1.4569547   0.00829002  0.04286411  0.56935924 -1.2028699\n",
            "  -1.9323273  -1.0739305   0.6288567   0.01709274  0.28615907 -0.85621727\n",
            "   0.42605734 -0.8340994  -0.08353351  0.46590117  1.0283054   1.0357165\n",
            "  -0.6945363  -0.7835367  -0.0860404   0.36358145 -1.2340109   1.2497929\n",
            "   0.6140481  -1.4263502   0.19570178 -1.5585996 ]\n",
            " [ 0.71349853  1.1232858   0.8770955  -0.9540193   0.36148137 -1.4937402\n",
            "  -0.38143975 -0.47494018  1.017299    1.461043    1.1637406   1.0001261\n",
            "  -0.05641185  2.048273   -1.2772002  -0.6220461   1.6873175  -2.2347836\n",
            "  -0.20541711  1.141554   -1.8438469  -0.70756423 -1.9602177   0.20829192\n",
            "   1.2107992   0.31433263 -0.5528889   1.954212    0.51175106 -1.5815296\n",
            "  -1.0809397  -0.08404363  0.64104766  0.145319    1.8292475   1.46422\n",
            "   0.5677981   1.6275718  -0.5874959  -1.7515299  -2.017467   -1.1737615\n",
            "  -0.9197468  -0.78639585 -0.6131985  -1.2243334  -1.4550563  -0.9866133\n",
            "  -0.07439721 -0.4899821   0.25974873  0.32488686 -1.8930588  -0.3168891\n",
            "  -1.2742447   0.7884038  -2.0730555  -1.1846708  -0.62233007 -0.32142085\n",
            "  -0.6530086   2.375364   -0.316288    1.9561149  -1.3101318   0.51291776\n",
            "   1.7966728  -1.4395862  -1.562504    0.6621723   1.0024952   0.20301576\n",
            "  -2.010674   -1.1020516   0.73325217 -0.87760836 -0.96342427 -1.2214353\n",
            "  -2.3306649   0.37069923 -0.15072326 -0.05995601 -0.12475559 -0.45103303\n",
            "  -0.5690233   1.7607929  -0.83450025  0.3236248   0.35602692  1.47936\n",
            "   0.1507961   0.8609237  -3.1324346   0.31727657  1.1199871   0.87968653\n",
            "  -0.10253099  0.37503988 -0.8219347   0.3873372 ]\n",
            " [-0.11160672 -1.3791555   0.02843358 -0.8346895  -0.26420757 -0.0090567\n",
            "  -2.3455625  -2.5910325  -0.42148295 -0.841231    0.47820783  0.92393124\n",
            "   0.63206226 -0.86694914 -0.21624723 -0.99991643  0.8545455  -2.7797008\n",
            "  -0.27502716  1.4990529  -2.572698    0.6395358  -1.2388834   0.44662073\n",
            "   1.6027913   0.783684   -0.31897286  1.2058978   1.820729   -0.8609837\n",
            "  -0.60824287  0.3688589  -2.75984     1.0958693   0.5117927   0.96609515\n",
            "   0.7917026  -0.23887047  0.1357333  -0.4955349  -1.1857986   1.0281452\n",
            "   0.7305692   0.07676563 -0.9264394  -0.2282897  -1.1592926   0.43577138\n",
            "   1.2241199   0.19004191 -0.15346661  0.514971    0.11489349 -2.010067\n",
            "  -0.27871892  1.172259    0.42579553 -0.13282743 -0.45033476  1.1762358\n",
            "   1.6484994   1.692451    0.4498507   1.0440519  -0.66864884  1.658967\n",
            "  -0.6295904  -1.7789835   0.12902461  0.97489965  2.500248    0.9531621\n",
            "  -1.6676992  -0.04909998 -0.43386108  1.5445672  -1.086239   -0.77947587\n",
            "  -2.087071   -1.0656894  -0.03589699  0.6620083   1.1322476  -1.386671\n",
            "  -0.08397524  2.459265   -0.48602495  1.1685382   0.03932171  2.4004045\n",
            "   0.21295467 -1.3742323  -1.45065    -0.55760926 -0.388651    0.8807215\n",
            "   0.21992436  1.6916126   0.04459503 -0.66052216]\n",
            " [ 0.05395393  0.03049272  1.0864216  -0.9776489  -0.25526223 -0.15100722\n",
            "  -2.9956887  -0.60045993 -0.4645991   0.65623313  0.11084305  0.666763\n",
            "   0.6409783  -0.07178517 -0.80746114  0.21145429  0.3862736  -2.9951775\n",
            "  -0.66922593 -0.08581144 -3.2812858  -1.2722728  -1.4733952   0.5785167\n",
            "  -1.1720575   0.740235    0.89619935  1.080754    1.2760613  -0.64257354\n",
            "   1.5269147  -0.23985597  0.5667835   0.00461404  1.0476887  -0.12382556\n",
            "   0.96771973  0.78383714  1.6423867  -0.9672535  -0.78990436  1.3170965\n",
            "   1.6802791  -0.8640098  -0.84966743 -0.9690333  -1.0525523   0.484305\n",
            "   1.859383    0.6091354   0.4006178   0.72688025 -1.6617897  -0.85840255\n",
            "   0.17548758  1.4663911   0.03373163 -1.0433317   0.4344994   0.1501913\n",
            "   1.2738394  -0.17243269  0.6941028   1.7086735   0.9265652   0.3189987\n",
            "  -0.57549924 -0.8158594   0.6793134   1.764427    1.3725597   1.3624179\n",
            "   0.24897169 -0.5897761   1.6593823  -0.04681389 -2.367709   -0.5779629\n",
            "  -2.1279125   0.12621582 -0.06680936 -2.0024445   0.11571566 -0.24754821\n",
            "   1.1354394   0.38874996 -0.5588894   0.70149803  0.61477524  0.5361236\n",
            "  -0.6550642  -1.6771262  -1.2426864   0.7944271   1.0339541   0.97344035\n",
            "  -0.4006858  -0.4234749  -0.4682793   1.3505297 ]\n",
            " [ 0.02833123  0.00803039  0.7855334  -1.1914136  -0.01432192  0.45754227\n",
            "  -1.0302024  -0.18653317 -2.692247    0.18563786  1.1463722   0.3123354\n",
            "   0.02694648 -0.57489616 -0.5093351   0.14953332  0.08218664  0.06494825\n",
            "  -0.32476264 -0.42294097 -0.5931677   0.50683874  0.12552187 -1.6173173\n",
            "  -0.913732    0.3223539  -0.6996145   2.1097589  -1.1235723  -1.699131\n",
            "  -0.18025145 -0.45383033 -0.6434349  -0.3615414  -1.5307083  -0.41041383\n",
            "  -0.08235514  0.5339149   1.5216423   0.0495456  -2.0315547   1.2750261\n",
            "  -0.3968444  -0.03738251 -0.41450426 -0.7112393  -1.826376   -0.43277645\n",
            "  -0.23711574  1.4483732   0.09852634  0.8750797   0.607489   -0.14575139\n",
            "  -1.8004626   0.23622671 -1.8917229   0.44142765 -0.07178324  0.90920955\n",
            "  -1.5678678   0.55369425  1.6408683  -0.30896455 -0.13433616  0.33361098\n",
            "   0.734333   -0.31739798 -0.96179926 -1.4753162  -0.5214465   1.504515\n",
            "   0.31216908  0.31321448  1.4226257   1.1267512   0.22934414 -0.01124766\n",
            "   0.5338906   1.183401   -0.03043778  0.10387053 -0.76615715  1.771753\n",
            "   1.1309425  -0.8911199   0.77620256 -0.32620212  1.4800642   0.92290384\n",
            "   1.3564627   1.2295922  -0.13898574  0.9842561  -0.23305319 -1.4790134\n",
            "   0.7003269   0.41311753 -0.09325745 -0.10559509]]\n"
          ],
          "name": "stdout"
        }
      ]
    },
    {
      "cell_type": "code",
      "metadata": {
        "colab": {
          "base_uri": "https://localhost:8080/"
        },
        "id": "MMyaP-m4lHNJ",
        "outputId": "b8b770c1-b1c0-43f7-a2f9-7f3936b280a8"
      },
      "source": [
        "print(model.wv.vectors.size)"
      ],
      "execution_count": null,
      "outputs": [
        {
          "output_type": "stream",
          "text": [
            "947200\n"
          ],
          "name": "stdout"
        }
      ]
    },
    {
      "cell_type": "code",
      "metadata": {
        "colab": {
          "base_uri": "https://localhost:8080/"
        },
        "id": "KfUoHVnWlbx_",
        "outputId": "6cc5c4c4-89a1-409a-db64-1faeab4ca50b"
      },
      "source": [
        "print(model.wv.index2word)"
      ],
      "execution_count": null,
      "outputs": [
        {
          "output_type": "stream",
          "text": [
            "['the', '<', '>', 'unk', 'of', 'to', 'in', 'said', 'and', 'a', 'mln', '3', 'for', 'vs', 'dlrs', 'it', 'sos', 'reuter', '000', '1', 'pct', 'on', 'from', 'is', 'that', 'its', \"'s\", 'cts', 'by', 'year', 'at', 'be', 'with', '2', 'will', 'was', 'billion', 'he', 'u', 's', 'net', 'has', 'would', 'an', 'as', 'not', 'company', '5', 'loss', '4', '1986', 'which', 'this', 'but', 'shr', 'last', 'have', 'are', 'bank', 'lt', 'or', '6', '7', 'were', '8', 'had', 'trade', 'share', 'oil', 'one', '0', 'about', 'inc', 'market', 'they', '9', 'profit', 'also', 'new', 'shares', 'corp', 'stock', 'two', 'tonnes', '10', 'up', 'sales', 'been', 'prices', 'revs', '1987', 'may', 'per', 'april', 'after', 'march', 'more', 'price', 'than', 'government', 'quarter', 'first', 'group', 'other', '15', 'japan', 'we', 'dollar', '1985', 'rate', 'week', 'exchange', 'february', 'if', 'three', 'january', 'co', 'against', 'agreement', 'offer', 'told', 'could', '20', 'over', '30', 'note', 'today', 'no', 'some', 'their', '50', 'tax', 'production', 'foreign', 'interest', 'there', '12', 'expected', 'total', 'month', 'under', 'all', 'rose', 'international', 'rates', 'five', 'current', '25', 'world', 'record', 'added', 'ltd', 'end', 'increase', '31', 'nine', 'dlr', '16', 'earlier', 'six', 'meeting', 'growth', 'rise', 'exports', 'board', 'between', 'because', '11', '13', 'stg', 'banks', 'made', 'oper', 'japanese', 'common', 'officials', 'spokesman', '87', 'economic', 'into', 'industry', 'when', 'earnings', 'official', 'west', 'major', 'avg', 'shrs', 'countries', 'months', 'while', '14', 'now', 'four', '17', 'president', 'cash', '18', 'department', 'any', 'states', 'december', 'agreed', 'companies', 'export', 'ec', 'united', 'due', 'fell', 'imports', 'investment', 'sources', 'analysts', 'sale', 'should', 'central', 'further', 'years', 'only', 'compared', 'since', 'pay', 'operations', 'time', 'wheat', 'american', 'financial', 'securities', 'next', 'around', 'business', 'mths', 'federal', 'currency', 'report', 'yen', 'statement', 'national', 'debt', 'markets', 'includes', 'down', 'products', 'i', 'lower', 'out', 'commission', 'buy', 'capital', 'shareholders', 'period', 'trading', 'prior', 'policy', 'june', 'before', 'money', '19', 'deficit', 'take', 'reported', 'chairman', 'higher', 'cut', 'through', 'acquisition', 'domestic', '100', 'his', 'ended', 'such', 'can', 'based', 'gas', 'minister', 'sugar', '22', '40', 'do', 'reserves', 'dividend', 'term', 'gain', 'opec', 'high', 'state', 'during', 'system', 'day', 'general', 'did', 'surplus', 'figures', 'assets', 'european', 'nil', 'however', 'yesterday', 'announced', 'unit', 'long', '28', 'both', 'plan', 'who', 'set', 'demand', '24', 'credit', 'annual', 'ago', 'average', 'output', 'fall', 'most', 'level', 'agriculture', 'economy', 'crude', 'stake', 'seven', '500', '27', 'terms', '23', 'merger', 'subsidiary', 'same', 'owned', 'make', 'recent', 'still', 'finance', 'results', 'management', 'union', 'sell', 'outstanding', 'half', 'likely', 'canada', 'div', 'tender', 'canadian', 'well', 'expects', 'value', 'increased', 'proposed', 'marks', 'eight', 'traders', 'plans', 'income', 'talks', 'each', 'qtr', '35', '21', 'being', 'grain', 'non', 'industrial', '60', 'part', 'gold', 'held', 'program', 'estimated', 'continue', 'south', 'including', 'coffee', 'so', 'previous', 'operating', 'sold', '26', 'producers', 'early', 'loan', 'fiscal', 'ministry', 'our', 'country', 'supply', 'firm', 'reuters', 'dealers', 'previously', 'budget', '75', 'full', 'issue', '80', 'committee', 'corn', 'another', 'public', 'third', 'energy', 'bpd', 'levels', 'much', 'gulf', 'reserve', 'purchase', 'september', 'stocks', 'bid', 'house', 'brazil', 'development', 'costs', 'york', 'barrels', 'already', 'nations', 'off', '45', 'second', 'bought', 'days', 'industries', 'below', \"'\", 'these', 'decline', 'monetary', 'what', 'action', 'proposal', 'german', 'forecast', 'reagan', '29', 'cost', 'germany', 'petroleum', 'fed', 'plc', 'july', 'very', 'asked', 'treasury', 'help', 'move', 'loans', 'acquire', '1988', 'soviet', 'crop', 'short', 'result', 'funds', 'bill', '86', 'low', 'include', 'profits', 'private', 'farm', 'change', '200', 'them', 'those', 'adjusted', 'k', 'support', 'say', 'services', 'does', 'might', 'payments', 'china', 'association', '300', 'community', 'inflation', 'secretary', 'until', 'above', '34', 'possible', 'fourth', 'acquired', '70', 'open', 'strong', 'qtly', 'future', 'less', 'basis', 'news', 'split', '32', 'reduce', 'goods', \"n't\", 'point', '09', 'intervention', 'use', 'drop', 'account', 'noted', 'following', 'francs', 'amount', 'here', 'largest', 'washington', 'declined', 'sector', 'subject', 'import', '00', 'administration', 'cents', '33', 'several', 'effective', 'banking', 'approval', 'according', 'conference', 'baker', '90', 'losses', 'revenues', 'barrel', '51', 'many', 'members', 'consumer', 'called', 'quota', 'decision', '37', 'paris', 'available', 'making', 'close', 'completed', 'large', 'british', 'used', 'approved', 'agency', 'number', 'additional', 'october', 'usda', '38', 'control', 'contract', 'must', 'london', 'accord', 'analyst', '88', 'good', 'raised', 'product', 'later', 'revised', 'show', 'within', 'offered', 'service', 'measures', 'far', 'futures', 'balance', 'final', 'comment', 'real', 'whether', 'prime', 'transaction', 'executive', 'western', 'council', 'target', 'data', 'line', 'way', '42', 'late', 'put', '65', 'paid', 'firms', 'back', 'issued', 'pact', 'need', 'weeks', 'currently', 'own', 'although', 'french', 'economists', 'just', 'least', '55', 'takeover', 'ministers', 'lead', 'farmers', 'm', '36', 'think', 'preferred', 'payable', 'extraordinary', 'texas', 'plant', 'friday', 'start', 'position', 'past', 'given', 'certain', 'savings', 'chief', 'commercial', 'despite', 'gains', '85', 'buying', '52', 'among', 'effect', 'see', 'excludes', 'quotas', 'n', 'holding', 'deal', 'saying', '600', 'saudi', 'cocoa', 'special', 'court', 'bundesbank', 'continued', 'joint', 'received', '49', 'reached', 'reporters', 'base', 'conditions', 'work', 'meet', 'free', '400', 'area', '92', 'even', 'taiwan', '150', 'raise', 'holdings', 'index', 'iran', '46', 'give', 'steel', 'selling', 'remain', 'without', 'mark', 'investors', 'marketing', 'north', 'c', 'units', '43', 'britain', 'tonne', 'senior', 'insurance', 'deposits', 'exploration', 'congress', 'l', 'natural', '44', 'resources', 'negotiations', 'partners', 'name', 'de', 'food', 'main', 'currencies', 'present', 'systems', 'f', '41', 'payment', 'tokyo', 'problems', 'expect', 'reduced', '700', 'signed', '800', 'fund', 'pacific', 'areas', 'come', 'producer', 'pressure', 'where', 'bills', 'division', 'trust', 'buffer', 'how', 'tariffs', 'purchases', 'france', 'discontinued', '48', 'provide', 'november', '53', 'member', 'unchanged', 'showed', 'latest', 'soybean', 'planned', 'range', '54', 'then', 'led', 'august', '58', 'worth', 'probably', 'agreements', 'charge', 'equity', 'taken', '39', 'too', 'little', 'season', 'scheduled', '64', 'statistics', 'turnover', 'office', 'financing', '04', 'restructuring', 'figure', '95', 'daily', 'commodity', 'bankers', 'respectively', 'near', 'letter', 'rising', 'offering', 'changes', 'leading', 'equipment', 'commerce', '03', 'hold', 'england', 'local', 'usair', 'better', 'details', '47', 'mine', 'closed', 'began', 'monday', 'stability', 'proposals', 'included', 'impact', 'spending', 'get', 'power', 'rights', 'go', 'response', 'date', '72', 'heavy', 'director', 'receive', 'europe', 'tons', 'capacity', 'soon', '56', 'return', 'australia', 'going', 'recently', 'adding', 'security', 'contracts', 'addition', 'gatt', 'workers', 'estimate', 'east', 'sharp', 'ending', 'producing', 'fixed', '66', 'computer', 'tomorrow', 'quoted', 'america', 'situation', 'gave', 'estimates', 'like', 'institute', 'reduction', 'decided', 'policies', 'key', 'shareholder', 'needed', '99', 'weather', 'directors', 'issues', 'technology', 'chemical', '61', 'cotton', 'morning', 'venture', 'delegates', '57', 'strike', 'increases', 'order', 'slightly', 'believe', 'small', 'filing', 'discount', 'force', 'working', 'delivery', 'holders', 'yet', 'agricultural', 'b', 'cuts', '68', 'allow', 'become', 'research', 'dutch', 'produced', 'sterling', 'pre', 'study', 'city', 'exporters', 'interests', 'vice', 'growing', 'manufacturing', 'james', 'want', 'press', 'taking', 'disclosed', 'copper', 'shipping', 'pretax', 'few', 'people', 'iranian', 'bond', 'volume', 'home', 'boost', 'standard', 'right', 'review', 'seasonally', 'declared', 'potential', 'gross', 'shipments', 'credits', 'seek', 'limited', 'you', 'manager', 'continuing', 'consider', 'distribution', '73', 'problem', 'mining', 'sharply', 'pipeline', 'life', '83', 'arabia', 'war', 'dome', 'seeking', 'concern', 'consumers', 'dollars', 'investor', 'increasing', 'hit', 'rules', 'place', 'oils', 'undisclosed', 'again', 'supplies', 'shipment', 'liquidity', 'port', 'ct', '63', 'significant', 'offers', '76', 'act', '69', 'unemployment', '78', '62', 'australian', 'ecuador', 'efforts', 'provision', 'e', 'senate', 'political', 'mainly', 'lending', 'owns', '77', 'affected', 'white', 'diluted', '71', 'legislation', '67', 'related', 'shearson', '900', 'repurchase', 'enough', 'initial', '96', 'us', 'reflect', 'overall', 'remaining', 'case', 'option', 'plus', 'ag', 'indonesia', 'winter', 'keep', 'southern', 'paper', 'caused', 'ahead', '74', 'corporation', '59', 'head', 'revenue', 'korea', 'options', 'she', 'feet', 'falling', 'totalled', 'series', 'announcement', 'limit', 'factors', 'package', '98', 'information', 'difficult', '89', 'businesses', 'notes', '94', 'gencorp', 'beef', 'immediately', 'field', 'greater', '250', 'almost', 'able', 'rejected', '82', 'seen', 'points', 'ounces', 'rice', 'operation', 'light', 'convertible', 'brazilian', 'stores', 'session', 'maize', 'lyng', '79', 'form', 'properties', 'officer', 'maintain', 'yeutter', '93', 'changed', 'substantial', 'acres', 'consumption', 'class', 'bonds', 'gnp', 'nakasone', 'orders', 'interview', 'guilders', 'italy', 'filed', 'existing', 'holds', 'provided', 'similar', 'necessary', 'nearly', 'discuss', 'means', 'africa', 'mid', 'g', 'expansion', '1984', 'spot', 'silver', 'law', 'beginning', 'periods', 'transactions', '91', 'purchased', 'organization', 'dispute', 'met', 'cable', 'rather', 'performance', 'drilling', 'attempt', '05', 'closing', 'reports', 'rubber', 'improvement', 'produce', 'quarterly', 'earned', 'remains', 'overseas', 'investments', 'd', 'involved', '120', 'cooperation', 'regulatory', 'former', 'competition', '84', 'unless', 'important', 'partnership', 'improved', 'required', 'yield', 'acquisitions', 'corporate', '81', 'reach', 't', 'came', 'customers', 'northern', 'longer', 'top', 'add', 'mines', 'kong', 'air', 'offset', 'risk', 'newspaper', 'prospects', 'prepared', 'extended', 'ships', 'tuesday', 'crops', 'competitive', 'round', 'retail', 'posted', 'view', '97', 'soybeans', 'sea', 'dropped', 'provisions', 'times', 'gasoline', 'call', 'twa', 'feed', 'begin', 'bring', 'wednesday', 'improve', 'hong', 'minimum', 'purolator', 'economist', 'fuel', 'started', 'parent', 'ore', 'expand', 'ico', 'unlikely', 'expenses', 'accepted', 'kuwait', 'lost', 'measure', 'aimed', 'charges', 'cent', 'land', 'believed', 'took', 'swiss', 'project', 'settlement', 'certificates', 'principle', 'allied', 'cover', 'combined', 'crowns', 'telephone', 'source', 'bags', 'lawson', 'p', 'accounting', 'subsidies', 'proceeds', 'best', 'hard', 'particularly', 'shell', 'controls', 'harvest', 'express', 'semiconductor', 'coming', 'outlook', 'ruling', 'offshore', 'discussions', 'looking', 'traded', 'reason', 'nation', 'progress', 'process', 'iraq', 'considering', 'authorities', 'clear', 'named', 'primary', 'question', 'electric', 'predicted', 'grade', 'needs', 'grow', 'fully', \"'re\", 'left', 'retaliation', 'taxes', 'television', 'released', 'block', 'post', 'activity', 'shortage', 'percentage', 'debentures', 'ton', 'flow', 'dividends', 'normal', 'follows', 'telecommunications', 'versus', 'building', 'venezuela', 'privately', 'r', 'temporary', 'speculation', 'monthly', 'representatives', 'assistance', 'preliminary', 'developing', 'majority', 'imported', 'metal', 'lines', 'party', 'representative', 'property', 'brothers', 'considered', 'entered', 'richard', 'night', 'construction', 'access', 'accept', 'opened', '350', 'partly', 'robert', 'failed', 'health', 'louvre', 'recovery', 'communications', 'materials', 'definitive', 'raising', 'j', 'feb', 'spain', 'acreage', 'bonus', 'weekly', 'request', 'bids', 'vote', 'pound', 'o', 'accounts', '750', 'deposit', 'try', 'continental', 'chicago', 'estate', 'family', 'effort', 'employees', 'cause', 'run', 'makes', 'damage', 'cyclops', 'complete', 'face', 'aid', 'warner', 'outside', 'specific', '140', 'amounts', 'forecasts', 'wholly', 'largely', 'india', 'remained', 'meetings', 'items', 'consolidated', 'provisional', 'quality', 'projected', 'allowed', 'california', 'opening', 'together', 'reflected', 'stable', 'band', 'benefit', 'external', 'attack', 'fields', 'ecus', 'trend', '125', 'zinc', 'saw', 'tin', 'formed', 'jan', 'calls', 'rest', 'followed', 'believes', 'defense', 'old', 'find', 'instead', 'operate', 'ways', 'san', 'possibility', 'worldwide', 'region', 'parts', 'slow', 'either', 'john', 'basic', 'commodities', 'growers', 'generally', 'valued', 'stood', 'meat', 'refinery', 'coast', 'intent', 'legal', 'whole', 'equivalent', '06', 'though', 'military', 'direct', 'protectionist', 'exclude', 'oecd', 'forward', 'expectations', 'speaking', 'facilities', 'voting', 'lynch', 'h', 'hours', 'mexico', 'buyers', 'warrants', 'ordinary', 'singapore', 'hope', 'al', 'warned', 'done', 'visit', 'serious', 'substantially', 'along', 'designed', 'summer', 'helped', 'cumulative', 'dealer', 'role', 'miyazawa', 'step', 'wanted', 'borrowings', 'icco', 'independent', 'cubic', 'brown', 'moves', 'employment', 'restated', 'towards', 'street', 'brought', 'strength', 'arab', 'requirements', 'restrictions', 'maximum', 'ceiling', 'franc', 'water', 'buyout', 'failure', 'stop', 'strategy', 'weak', 'activities', 'reform', 'volcker', 'look', 'medium', 'leaders', 'trying', 'malaysia', 'wants', 'prevent', 'reducing', 'coal', 'concerned', 'positions', 'weekend', 'colombia', 'planning', 'says', 'river', 'ship', 'brokerage', 'diplomats', 'indicated', 'various', 'bureau', 'thursday', '160', 'barley', 'lb', 'agree', '1980', 'equal', 'associates', 'ounce', 'borg', 'require', 'moving', 'completion', 'transport', 'factor', 'granted', 'continues', 'grew', '110', 'sanctions', 'hutton', 'palm', 'benefits', '145', 'metals', 'values', 'paul', 'pending', 'subcommittee', 'wall', 'calendar', 'controlled', 'compares', 'car', 'imposed', 'different', 'remarks', 'zealand', 'great', 'comments', 'processing', 'cattle', 'others', 'fats', 'priced', 'fact', 'application', 'personal', 'merrill', 'totaled', 'piedmont', 'intends', 'positive', 'actions', 'steady', 'vegetable', 'adjustment', 'medical', 'itself', 'having', 'originally', 'alternative', 'raw', 'cargo', 'governor', 'subsidiaries', 'david', 'known', 'middle', 'especially', 'facility', '02', 'single', 'gdp', 'borrowing', 'dec', 'thailand', 'baldrige', 'mean', 'opposed', 'imf', 'authority', 'cutting', 'chrysler', 'big', 'customer', 'grains', 'found', 'parliament', 'urged', '1990', 'crisis', 'giving', 'royal', 'accounted', 'nippon', '1989', 'registered', 'eastern', 'authorized', 'averaged', 'dixons', 'organisation', 'avoid', 'staff', 'caesars', 'mortgage', 'release', 'once', 'subsidy', 'immediate', 'bp', 'quickly', 'know', 'creditors', 're', 'county', 'suit', 'stimulate', 'confirmed', 'subordinated', 'significantly', 'determined', 'planted', 'away', 'airlines', 'speech', 'affect', 'every', 'recorded', 'resulting', 'plants', 'vessels', 'introduced', 'survey', 'aluminium', 'using', 'ability', 'steps', 'groups', 'african', 'houses', 'negative', 'huge', 'interested', 'requirement', 'went', 'expressed', 'afternoon', 'wage', 'electronics', 'deputy', 'excess', 'sec', 'x', 'ownership', 'moscow', 'relatively', 'lehman', '08', 'claims', 'spokeswoman', 'suspended', 'underlying', 'santa', 'newly', 'smelter', 'hectares', 'technical', 'gaf', 'follow', 'manufacturers', 'ranging', 'ccc', 'jobs', 'sign', 'represents', 'toward', 'institutions', 'engineering', 'unfair', 'sosnoff', 'lot', '180', 'transportation', 'commitments', 'starting', '105', '450', 'labour', 'boston', 'build', 'bushels', 'commitment', 'chance', 'purposes', 'discussed', 'resulted', 'negotiating', 'global', 'exceed', 'electronic', 'laws', 'asset', 'storage', 'csr', 'taft', 'behind', 'brokers', 'regular', 'confidence', 'launched', 'surpluses', 'stockholders', '170', 'consideration', 'video', 'chinese', 'stoltenberg', '1983', 'kuwaiti', 'dry', 'whose', 'transfer', 'charged', 'smaller', 'johnson', 'stabilise', 'sectors', 'ease', '01', 'encourage', 'impose', 'biggest', 'won', 'abroad', '4th', 'opposition', 'fresh', 'expenditure', 'smith', 'voted', 'protection', '104', 'shortfall', 'intended', 'yields', 'entire', 'risen', 'protect', 'poor', 'peru', 'reporting', 'forces', 'course', 'signs', 'excluding', 'rises', 'rumors', 'programs', 'profitable', 'relations', 'chemicals', 'willing', 'miles', 'belgian', 'associated', 'ratio', 'delayed', 'am', 'clayton', '07', 'highest', 'him', 'strategic', 'side', 'developments', 'negotiate', 'network', 'miti', 'unadjusted', 'poehl', 'floor', 'gmt', 'sheet', 'principal', 'pork', 'successful', 'sees', '130', 'forced', 'grades', 'regional', 'sought', 'governments', '103', 'sorghum', 'rains', 'intervened', 'larger', 'freight', 'lift', 'statements', 'soft', 'housing', 'thought', 'lowest', 'reflecting', 'reference', 'practices', 'test', 'paying', 'congressional', 'bulk', 'economies', 'sent', 'approximately', 'bilateral', 'denied', 'bancorp', 'exxon', 'ready', '127', 'really', 'recession', 'employers', 'utility', 'seamen', '147', 'primarily', 'projects', 'confident', '123', 'tough', 'trader', 'drought', '101', 'pressures', 'condition', 'william', 'michael', '1st', 'contributed', 'row', 'refining', '149', 'st', 'lbs', 'norway', 'limits', 'matter', '135', 'carry', 'margins', 'stabilize', 'sept', 'lowered', 'liabilities', 'relief', 'store', 'material', 'depreciation', 'declining', 'refined', 'effects', 'tariff', 'stronger', 'summit', 'suggested', '1982', 'upward', 'aircraft', 'maker', 'attributed', 'developed', 'morgan', 'beet', 'marine', \"'ve\", 'anticipated', 'tendered', '108', 'ussr', 'achieved', 'premium', 'upon', 'anti', 'lack', 'talk', 'noting', 'inventory', 'participation', 'fallen', 'pension', 'possibly', 'ports', 'spring', 'modest', 'hands', '109', 'anything', 'duty', 'create', '480', 'overnight', 'strongly', 'rev', 'broad', 'adjustments', 'throughout', 'push', 'renewed', 'passed', 'leave', 'auction', 'wells', 'active', 'pesos', 'clearly', 'invest', 'cited', 'hughes', '111', 'hopes', 'wholesale', 'appears', 'pricing', 'malaysian', 'scale', 'stage', 'extension', 'ranges', 'enable', 'chase', 'original', 'sun', '240', 'hoped', 'atlantic', 'provides', 'structure', 'computers', 'houston', 'nominal', 'threatened', 'barriers', 'targets', 'banker', 'closely', 'combination', 'asia', 'appropriate', 'fair', 'exporting', 'nothing', 'operators', 'determine', 'established', 'harcourt', 'operates', 'rule', 'tankers', 'island', 'fears', 'spanish', 'minerals', 'santos', 'covering', '148', 'thus', 'sentiment', 'eep', 'extend', 'dairy', 'managing', 'representing', 'described', 'competitiveness', 'bankruptcy', 'bringing', 'parties', 'turn', 'makers', '112', '102', '360', '115', 'leader', 'separate', 'fe', 'body', 'bales', 'workforce', 'imbalances', 'compromise', 'differentials', 'turkey', 'shift', 'formal', 'therefore', 'rep', 'minority', 'committed', '1981', 'movement', 'netherlands', 'evidence', 'contribution', 'via', 'running', 'affairs', 'things', 'develop', 'resolve', 'brings', 'approvals', 'weakness', 'advanced', 'duties', 'moderate', 'ask', 'across', 'alone', 'enhancement', 'wide', 'sumita', 'exported', 'severe', 'decide', 'latin', 'chips', 'care', 'intermediate', 'sweden', 'expire', 'ems', 'buyer', 'supermarkets', 'cabinet', 'semiconductors', 'portion', 'cpc', 'placed', 'alternatives', 'acquiring', 'apply', '119', 'exchequer', '133', 'seasonal', 'direction', 'illinois', '126', 'bad', 'appeared', 'threat', '210', 'radio', 'airline', 'interim', 'coins', 'starts', 'nuclear', 'actual', 'idea', 'live', 'reorganization', 'licences', '225', 'waste', 'orange', 'published', 'pushed', 'depressed', 'cereals', 'sides', 'optimistic', 'merge', 'emergency', 'inventories', 'partner', 'certainly', 'movements', 'coastal', '124', 'fee', 'ruled', 'lloyds', 'indonesian', 'except', 'dumping', 'lire', 'emery', 'burlington', 'george', '152', 'awarded', 'concerns', 'philippines', 'reflects', 'machinery', 'cane', 'italian', 'circulation', 'shortly', 'salomon', 'something', 'texaco', 'decrease', '151', 'hurt', '144', 'achieve', 'ibm', 'adopted', 'cargoes', 'fire', '129', 'chip', 'debate', 'mobil', 'red', 'hostile', 'florida', '850', 'beyond', 'particular', 'retaliate', 'argentina', 'hand', 'w', 'million', 'list', 'rigs', 'internal', 'ten', 'signal', 'fairchild', 'break', 'rand', 'cold', 'prev', 'regulations', 'supported', 'establish', 'downward', 'getting', '106', 'certificate', '118', 'campaign', 'reaction', 'quarters', 'commenting', 'looks', 'refused', 'my', 'demands', 'approve', '190', 'louisiana', 'size', 'dart', 'begun', 'software', 'example', '117', 'chancellor', 'traditional', 'levy', 'highly', 'components', 'involving', 'offices', 'decisions', 'advance', 'initiative', 'room', 'kind', '157', '169', 'stand', 'planting', 'moved', 'rain', 'reductions', 'pounds', 'mills', 'terminal', 'transcanada', 'soviets', 'intervene', 'introduction', 'semi', 'individual', 'meanwhile', 'approach', 'amendment', 'recommended', 'seriously', 'providing', 'entertainment', 'ab', 'qatar', 'ends', 'solution', 'increasingly', 'rapid', 'zone', 'federation', 'identified', 'opinion', '340', 'motor', 'directly', 'retain', 'curb', 'widely', 'reasonable', 'applied', 'meal', 'affiliate', 'jointly', 'foods', 'opportunities', 'aim', 'boosted', 'normally', 'tire', 'indicate', 'moment', 'deficits', 'doing', 'protectionism', 'narrow', 'converted', 'labor', 'goal', 'status', 'success', 'never', '142', 'heavily', 'nor', 'allowing', 'writedown', '137', 'drug', 'cars', 'connection', '143', 'viacom', 'spread', 'nearby', 'democratic', 'ensure', 'located', 'enterprises', 'simply', 'mostly', 'bell', 'listed', 'center', '114', 'waiting', 'huckaby', 'refiners', '175', 'election', '550', 'proceed', 'fast', 'carryforward', 'difficulties', 'la', 'annually', 'chemlawn', 'fundamentals', 'scheme', 'comes', 'allegheny', 'portfolio', 'intention', 'platform', 'cases', 'algeria', 'expensive', 'exercise', '141', '138', 'extent', 'foster', 'let', 'write', 'counter', '330', 'motors', 'declines', 'sunday', '375', 'feel', 'expanded', 'yasuhiro', 'created', 'stay', 'ohio', 'pa', 'profitability', 'extremely', 'wireless', 'aluminum', 'aide', 'sa', 'circumstances', 'broadly', 'funding', 'williams', 'cooperate', 'saturday', 'sure', 'shows', 'recover', 'kilos', 'built', 'requires', 'focus', 'broker', 'speculative', 'reiterated', 'mill', 'inflationary', 'importers', 'waters', 'setting', 'bushel', 'experts', 'appear', 'deliveries', 'maturity', 'ever', 'rainfall', 'reaffirmed', 'communique', 'pakistan', '165', 'weaker', 'alleged', 'luxembourg', 'bass', 'remove', 'eventually', 'industrialised', '132', 'tenders', 'users', 'slight', 'enter', 'hotel', 'backlog', 'eased', '136', 'missiles', 'appreciation', 'takes', 'belgium', 'mutual', 'book', 'executives', 'advantage', 'lme', 'disease', 'double', 'guarantees', 'defence', 'stated', 'amc', 'books', 'owners', 'martin', 'carryforwards', 'incentives', 'uncertainty', 'panel', 'carried', 'consistent', 'submitted', 'returned', 'represented', 'registrations', 'suspension', 'excessive', 'economics', 'delay', 'recapitalization', '122', 'became', 'textile', 'rapidly', 'damaged', 'always', '1992', '154', 'attacks', 'concerning', 'coupon', 'improving', 'advisory', 'institutional', 'exchanges', 'drive', 'chartered', 'falls', 'yr', 'balances', 'citicorp', 'shultz', 'greece', 'plantings', 'aerospace', 'oilseeds', 'charles', 'frozen', 'shipped', 'begins', 'satisfactory', 'section', 'reynolds', 'opportunity', 'mineral', 'fluctuations', 'justice', 'exposure', 'gap', 'nazer', '320', 'earn', 'asian', 'social', 'grounds', 'tanker', 'vessel', '217', '650', 'courier', 'auto', 'preference', 'virtually', 'applications', 'shut', 'leaving', 'maturing', 'ventures', 'halt', 'reverse', 'api', 'zero', 'depend', 'businessmen', 'strikes', 'ringgit', 'wk', 'hearing', 'intend', 'feedgrains', 'interbank', 'concentrate', 'uruguay', 'rupees', 'welcomed', 'totalling', 'reed', 'iraqi', 'kept', 'satisfied', 'hotels', 'peak', 'seems', 'specialty', 'expense', 'flat', 'kiichi', 'merged', 'deals', 'toronto', 'operated', '113', 'extra', 'poultry', 'y', 'narrowed', 'join', 'resume', 'kansas', 'retaliatory', 'got', '134', 'quite', 'disclose', 'pace', 'defend', 'linked', 'leveraged', '430', 'fear', '285', '5p', 'protest', 'nv', 'presented', 'earthquake', 'core', 'keeping', '174', 'requested', 'los', 'angeles', 'affecting', 'attention', 'replace', 'indicators', 'interstate', 'spent', 'obligations', 'bit', 'calif', 'kingdom', 'collapse', '168', 'unable', 'upper', 'operator', 'merchant', 'speculated', 'broadcasting', 'why', 'card', 'deficiency', \"'m\", 'faced', 'gallon', 'battle', 'regions', 'contained', 'depending', 'managed', 'shown', 'stressed', 'dauster', 'considerable', 'backed', 'elaborate', 'fairly', 'v', 'unions', 'reasons', 'michigan', 'manufacturer', 'often', '121', 'attractive', 'objective', 'worst', 'themselves', '230', 'iv', '107', 'faster', 'behalf', 'covered', 'branch', 'favourable', 'bidding', 'powers', 'korean', 'technologies', 'thai', 'usage', 'heating', 'gained', 'honeywell', 'drain', 'calculated', 'crudes', 'slide', 'cross', 'questions', 'resolved', 'putting', 'arrangements', 'showing', 'swedish', 'deadline', 'tight', 'ibc', 'rebate', 'denmark', 'egypt', 'exporter', 'effectively', 'maintenance', 'remainder', 'job', 'district', 'favor', 'loading', 'conversion', 'kilo', 'felt', 'province', 'indian', 'lifted', 'receipt', 'journalists', 'pursue', 'guaranteed', 'retained', 'massive', 'stopped', 'peter', 'dow', 'bonn', 'southwest', 'republican', 'proven', 'guilder', 'calling', 'participants', 'clients', '420', 'expires', 'stance', '280', '146', 'expanding', 'controversial', 'repeated', '220', 'z', 'democrat', 'replied', 'goes', '173', 'detailed', 'runs', 'permit', 'strengthen', 'jersey', 'conservation', 'icahn', 'harvested', 'fundamental', 'debts', '260', 'amoco', 'adequate', 'comparable', 'ban', 'standards', 'concluded', 'iron', 'sachs', 'coordination', 'distributed', 'quebec', 'conservative', 'changing', 'black', 'thirds', 'spa', '195', 'apparently', 'comprising', 'talking', 'imbalance', 'asking', 'recommendation', 'textiles', 'plastics', 'managers', 'sluggish', '3rd', 'customs', 'suppliers', 'dallas', 'encouraging', 'octane', 'suffered', 'floating', '295', 'propose', 'cyacq', 'hk', 'self', '425', 'containing', 'faces', 'difference', 'twice', 'freeze', 'fob', 'lease', 'proved', 'flag', '156', 'refineries', 'maintained', '116', 'obtain', '1979', 'written', 'withdraw', 'compete', 'pledged', '188', 'procedures', 'seem', 'amstutz', 'thing', 'oct', 'traffic', 'lukman', 'margin', 'portugal', 'miguel', 'ldp', 'mm', '128', 'realized', 'arrange', 'registration', 'pdvsa', 'favorable', 'miller', 'miners', '182', 'guarantee', 'serve', 'restore', 'geneva', '875', 'warrant', 'terminated', '161', 'juice', 'rally', 'meant', 'instruments', 'implement', 'wait', 'dealing', '290', 'schedule', 'livestock', '177', '153', '380', 'republic', 'attend', 'purchasing', 'emirates', 'uae', 'northwest', 'fleet', '238', 'nova', 'cominco', 'turning', 'owner', 'homes', 'coconut', 'revision', 'draft', 'zambia', 'announce', 'man', 'affiliates', 'clearing', 'nigeria', 'debit', 'apparent', 'sufficient', '950', 'membership', 'charter', 'accords', 'amounted', 'complex', 'beneficial', 'venice', 'widened', '159', 'advised', 'indication', \"'ll\", 'perhaps', 'agencies', '155', 'partially', 'tonnage', 'easing', 'contribute', '313', 'usx', 'bbl', '325', 'draw', 'represent', '222', 'unspecified', 'headed', '265', 'georgia', 'attempts', 'carrying', 'qtrly', 'programme', 'dominion', 'suggest', 'balladur', '270', 'consortium', 'actually', 'columbia', 'petrol', 'lake', 'ferruzzi', 'arrangement', 'sri', 'navy', 'minus', 'becoming', 'midnight', '255', 'multi', 'processors', 'iowa', 'tried', 'complaint', 'strait', 'separately', 'informal', 'respect', 'criticism', 'sum', '185', 'philippine', 'usually', 'influence', 'rapeseed', 'sweet', 'numbers', 'missile', 'finished', '131', '194', 'tonight', 'stanley', 'respond', 'joined', 'trans', 'expired', 'discussion', 'itc', 'worked', 'indicator', 'pipelines', 'basin', 'formerly', 'station', 'trends', 'bay', 'responsible', 'pc', 'saudis', 'performing', 'jones', '440', 'rio', 'fitzwater', 'restricted', 'widespread', 'assistant', 'prospect', 'uncertain', '309', 'practice', '334', 'presidential', 'measured', 'printing', 'doubt', 'par', 'citrus', '460', 'surprise', 'nigel', 'aggressive', 'understanding', 'views', 'king', 'revlon', '164', '235', 'aviation', 'promote', '370', 'disposal', 'living', 'subsidized', 'regarding', 'presence', 'file', '215', 'centers', 'resolution', 'identify', 'balanced', 'repayments', '205', 'weight', 'litigation', 'pointed', 'harris', 'van', 'environment', 'produces', 'recommendations', '233', 'initially', 'gives', 'cheaper', 'centre', '183', 'indirect', 'midland', 'origin', 'petrobras', 'mercantile', 'clark', 'participate', '254', 'occur', 'appeal', 'afg', 'link', 'firmed', '310', '139', 'ontario', 'investigation', 'alan', '211', 'crazy', 'resist', '286', 'painewebber', 'cheap', 'type', 'neither', 'repay', '163', 'marked', 'diamond', 'supreme', 'outright', 'optimism', 'conditioned', 'delegation', 'climbed', 'happen', 'save', 'answer', 'tehran', 'howard', 'imperial', 'risks', 'norwegian', 'harper', 'play', '1991', 'issuing', 'works', 'sour', 'lambert', 'advances', '201', 'shamrock', 'gm', 'drawing', '299', 'sharing', 'lanka', 'hongkong', 'degrees', 'tell', 'favour', 'eligible', 'studying', 'lend', 'del', 'publicly', 'ranged', 'retirement', 'phillips', 'eddie', 'fight', 'flexibility', 'match', 'chain', 'maintaining', 'valley', 'oklahoma', 'cooperative', 'green', 'responding', 'delivered', 'struck', 'formula', 'wo', 'headquarters', 'branches', 'merchandise', 'ge', 'convinced', 'commissioner', 'sixth', 'environmental', 'railway', 'disaster', 'reforms', 'bear', 'outcome', '171', 'thomas', 'pass', 'pioneer', 'newmont', 'smc', 'lose', 'purpose', 'lloyd', 'sen', 'ground', 'tobacco', 'norcros', '257', 'prompt', 'slowed', 'assumption', '212', 'citing', 'willingness', 'utilities', 'sense', 'address', 'inflow', 'gillette', 'slower', 'grant', 'ill', 'schlesinger', 'downturn', 'virginia', 'el', 'carter', 'withdrawal', 'dynamics', 'moore', 'spend', 'delegate', 'matters', 'surge', 'acting', 'switzerland', 'slowing', 'entitled', 'surprised', 'pty', 'supplier', 'curbs', 'cif', 'facing', 'neutral', '470', 'km', 'blocks', 'diplomatic', 'burden', '213', 'advisers', '738', 'ali', 'notice', 'wilson', 'easier', 'venezuelan', 'aa', 'mt', '184', 'manhattan', 'coarse', '224', 'strengthening', 'referring', 'wagner', 'predict', 'priority', 'adopt', 'evaluate', 'damages', 'withdrawn', 'hour', 'officially', 'occurred', 'ordered', 'explore', 'me', '223', 'correct', '181', 'regulators', 'tighten', '625', 'ongoing', 'friction', 'reaching', '166', '432', 'appointed', 'dependence', 'liquids', 'baird', 'stcks', 'inadequate', 'petition', 'disputes', 'inch', 'somewhat', 'finding', 'discounts', 'mixed', 'determination', 'actively', 'dot', 'temperatures', 'permits', 'alcan', 'seemed', 'encouraged', 'returns', 'inspection', 'ca', 'na', 'industrialized', 'solve', 'method', 'rebates', 'compensate', 'underground', 'beans', '191', 'differences', 'aggregate', 'treatment', 'southeast', 'relative', 'chapter', 'ivory', 'hill', 'slaughter', 'bhp', 'lyons', 'float', 'deferred', 'causing', 'incentive', 'americans', 'promised', 'parliamentary', 'competing', 'handling', '315', 'experience', 'bullish', 'enhance', 'liquid', 'authorised', 'acceptable', 'item', 'flows', 'broke', 'elders', 'bottom', 'hudson', 'defined', 'pick', 'divisions', '369', 'heads', 'police', 'utilization', 'warships', '219', 'snow', 'distributor', 'container', 'drill', 'trail', 'indications', 'polled', 'feasibility', 'tightening', 'officers', 'border', 'unnamed', 'renault', 'gabelli', 'chances', '203', 'drexel', 'restructure', 'consecutive', 'lifting', 'recovered', '198', 'boards', 'eyskens', '720', 'weinberger', 'content', 'turkish', 'bahrain', 'implemented', 'est', 'send', 'space', 'corporations', 'acceptances', 'obtained', 'finally', 'glickman', 'urging', 'receiving', 'vital', 'goldman', 'devaluation', '167', 'halted', '1978', '355', 'otherwise', 'essential', 'bearing', 'discussing', 'jumped', '333', 'restrictive', 'broken', 'arabian', '274', 'harvesting', '192', 'naval', 'frankfurt', 'warning', 'sound', 'media', 'indirectly', 'inra', 'consuming', 'controlling', '248', 'fla', '332', 'violations', 'barney', 'lawsuit', 'comparison', 'cooper', 'sown', 'diversified', 'und', 'safety', 'spirit', 'brand', 'dean', 'wang', 'malcolm', 'hanson', 'impossible', 'allocation', 'lenders', 'burnham', 'attributable', 'amid', '216', '178', 'liberal', 'grown', 'comprised', '251', 'darman', 'generated', 'affiliated', 'liability', 'explained', 'wendy', 'packaging', 'riyals', 'conflict', 'trip', '277', 'hernandez', '472', 'helmut', 'takeovers', 'oppose', 'stands', 'flour', 'repayment', '390', '410', 'critical', 'benchmark', 'losing', 'sustained', 'improvements', '785', 'window', '275', 'donald', 'recommend', 'engine', 'oilseed', 'roughly', 'becor', 'gerhard', 'turned', 'costa', 'stations', '162', 'adviser', 'proxy', 'scott', 'deregulation', 'publishing', 'resigned', 'jim', '527', 'gradually', 'termination', 'swap', 'peabody', '176', 'finland', 'brands', 'citibank', 'gradual', 'restraint', 'launch', 'incurred', 'weighted', 'depth', 'restaurants', 'progressive', '543', 'fifth', 'transamerican', '172', 'platforms', '403', 'fees', 'protected', 'aware', 'sheikh', 'history', 'expiration', 'underwriting', 'phoenix', 'daniel', '294', 'dependent', 'university', 'jardine', 'edelman', 'walker', 'generale', 'arm', 'belief', 'failing', 'prevailing', 'aug', 'maxwell', 'depends', 'projections', 'breakdown', 'flexible', 'worried', 'degree', 'volumes', '530', '228', 'brief', 'commonwealth', 'load', 'personnel', 'creditor', 'timing', 'friendly', '347', 'jacobs', 'dismissed', '206', 'cds', 'argentine', '385', 'averaging', '214', 'trump', '510', '218', 'ambassador', 'discovered', 'attacked', 'triggered', 'acknowledged', 'locals', 'petrochemical', 'phase', 'interior', '158', 'rotterdam', 'danger', 'civil', 'damaging', 'jacques', 'guidelines', '960', 'coordinated', '536', 'article', 'henley', 'newspapers', '266', 'oats', 'des', 'formally', 'sells', 'lawmakers', 'slipped', 'ford', '2000', 'partial', 'equally', 'allocated', 'rating', 'cathay', 'delaware', 'ha', 'warburg', 'adjust', 'cbt', 'du', 'redundancies', 'ual', 'variety', 'comply', 'proportion', 'mideast', '258', 'enterprise', 'momentum', 'criteria', 'desire', 'team', 'servicing', 'informed', '368', '515', 'qualified', 'exchanged', 'unsolicited', 'deep', 'healthy', 'telegraph', 'speed', 'concentrated', 'scope', 'expenditures', 'introduce', 'agenda', 'supporting', 'indiana', '316', 'machines', 'decree', 'pump', 'ronald', 'trades', 'club', 'comdata', 'structural', 'calm', 'negotiated', 'automotive', '545', 'bally', 'entirely', 'wages', 'closure', 'blamed', '419', 'settle', '237', 'deutsche', 'reliance', 'deterioration', 'greek', 'carrier', 'fine', 'extensive', 'carefully', 'location', 'usual', '508', 'moody', 'reply', 'mississippi', 'fewer', '256', 'suffer', 'integrated', 'bankamerica', '296', 'aside', 'adverse', 'conoco', 'residents', 'lay', 'allocations', 'bull', 'airport', 'agent', 'destinations', 'premiums', 'settled', 'elevator', '319', 'esso', '381', 'consensus', 'postings', '466', 'badly', 'moisture', 'choice', 'tmoc', 'accumulated', 'severely', 'strengthened', 'announcing', 'taxation', 'boosting', 'exceeding', 'involves', 'elsewhere', 'objections', '231', '245', 'concerted', 'gallons', '341', 'conducted', '387', 'alberta', 'importance', 'undersecretary', 'expecting', 'tool', 'allows', 'consent', 'rumours', 'segment', 'succeed', '232', 'douglas', '580', '392', 'golden', 'fired', '276', 'prove', 'discovery', 'nov', 'herrington', 'temporarily', 'rig', 'freedom', 'contracted', 'completely', 'decides', 'compliance', 'insider', 'competitors', 'autumn', 'noranda', '603', 'locations', 'your', '050', 'reluctant', '273', 'none', 'clercq', 'specify', 'minorities', 'dropping', 'divided', 'credibility', 'pacts', '241', 'prompted', 'manufacture', 'whites', 'revaluation', 'recurring', 'engaged', '196', 'concessions', '840', 'nec', 'holiday', 'microchips', 'invited', 'ecu', 'apparel', 'financed', 'vw', 'crown', 'northeast', 'edward', 'boeing', 'shanghai', '948', 'heyman', 'methods', 'residual', 'suspend', 'watanabe', 'asa', 'delhi', 'heller', 'telling', '323', '179', 'arms', 'pushing', 'bearish', 'proceedings', 'backing', 'elimination', 'redeem', 'dan', 'cereal', 'advisor', 'satoshi', '490', 'claim', 'win', '481', '186', 'politically', '551', 'depended', 'ultimately', 'implementation', 'chamber', 'inter', 'approached', 'illegal', '199', 'hrs', 'bullion', 'offs', 'unsuccessful', '660', 'unemployed', 'acceptance', 'involve', 'm3', 'volatile', 'pro', '494', '289', 'karl', 'resistance', 'posting', 'consultations', 'reviewing', 'prt', 'drilled', 'whatever', 'exercisable', 'usa', 'manufactures', '646', 'forms', 'comparisons', 'allowance', 'elected', 'missouri', 'henry', 'yearly', 'mint', 'steadily', '540', 'steep', 'productivity', 'compensation', 'upturn', 'emerge', 'diplomat', '446', 'transamerica', '356', 'poland', 'assurance', '852', 'necessarily', 'postponed', 'arranged', 'sunflower', 'coupled', 'committees', 'preparing', 'debtor', 'ocean', 'cos', 'mechanism', 'communist', 'peking', 'trillion', 'plaza', 'stockpile', 'ttl', 'generate', '585', 'republicans', 'ties', 'carney', 'sealy', 'pesch', 'banque', '189', '301', 'delays', 'selected', 'secondary', 'reject', 'amendments', 'comprehensive', '202', 'allis', '784', '377', 'cautious', 'assigned', 'abandoned', 'corresponding', 'passenger', 'metropolitan', 'francisco', 'eliminate', 'quick', 'sets', 'drawn', '193', 'subsequent', 'portland', 'truck', 'firmer', 'electrical', '292', 'slump', 'stabilisation', '469', 'hormuz', '226', '252', 'employed', 'bonuses', '278', 'bidders', 'records', 'permanent', 'nationwide', 'convert', 'institutes', 'unanimously', 'excluded', 'acre', 'antitrust', 'exchangeable', 'subroto', 'shopping', 'barge', 'studies', 'contact', 'sight', 'emphasis', 'jobless', 'vehicles', 'permission', 'else', 'supplied', '520', '317', 'buenos', 'aires', '305', 'contrast', '229', 'statoil', 'absence', 'outlined', '666', 'worse', 'invested', 'pentagon', 'cie', 'congressmen', 'unusually', 'contacts', 'basket', 'picture', 'pattern', 'utah', 'foundation', 'idc', 'pumping', 'door', 'sulphur', 'alaska', 'cuba', '293', 'precious', 'riyal', 'bra', 'kanon', '640', 'grading', '312', 'southmark', 'emerged', 'passage', 'campeau', 'irving', 'spectra', 'rainbow', 'associate', 'attempted', 'probable', '271', 'mitsui', '475', 'prudential', 'yielding', 'targeted', 'animal', 'brussels', 'jordan', 'financially', 'person', 'message', 'vehicle', 'secure', 'multilateral', '488', '268', '326', 'excellent', 'cleared', 'responded', 'reviewed', 'governors', 'sessions', 'relating', '920', 'rmj', 'canal', 'super', '329', 'delta', 'exact', 'exceeded', 'indicates', 'goals', 'criticised', 'democrats', 'metres', '187', 'petro', 'successfully', '393', 'minneapolis', 'count', 'ward', 'doors', 'ind', 'disputed', 'thousands', '528', '304', 'deliver', 'meters', '253', 'rival', 'tentative', 'consequences', 'rated', 'pik', 'midwest', 'served', 'respective', 'event', 'physical', 'vienna', 'decade', 'drastic', '429', '740', 'mthly', '1970s', 'trigger', 'availability', 'holder', 'mhi', 'aggressively', '725', 'negotiation', '577', 'underway', 'establishing', 'mile', 'employee', '374', 'midday', 'xon', 'decreased', 'preventing', 'placement', 'zones', 'gilt', 'sao', 'wet', 'examine', '287', 'lichtblau', 'cftc', 'cargill', '722', 'mts', 'gephardt', 'bangladesh', 'eia', 'basically', 'monier', '328', 'borrowers', 'responsibility', '598', '349', 'formation', 'determining', 'argued', 'intentions', 'evans', 'marginal', 'resource', 'closer', '492', 'proceeding', '2p', 'confirmation', '208', '247', 'stem', 'visible', '930', 'leaves', 'petroleos', '499', 'nevada', 'southwestern', 'distance', 'insufficient', 'helping', 'consolidation', 'lows', 'crucial', 'exclusive', 'oilfield', 'negotiators', '236', '337', 'kenneth', '336', '264', '376', '2nd', 'feared', 'relationship', 'smelting', '462', 'maryland', 'lee', 'intelligence', 'spur', 'winds', 'domes', 'distribute', '538', 'railroad', 'icc', 'jose', '433', 'outflows', '204', 'hamburg', 'doubled', '413', 'minnesota', 'atlanta', 'rescheduling', 'fujitsu', '485', '345', 'adversely', 'front', 'edouard', 'adoption', 'table', '507', 'careful', '560', 'edge', 'montreal', 'ghana', 'laboratories', 'limiting', 'electricity', '040', 'turnaround', 'ii', 'secured', '408', 'accelerate', 'injunction', 'planes', '455', 'briefing', '394', 'importing', 'objectives', 'champlin', '358', '555', 'et', 'adsteam', 'unsecured', 'kwacha', 'gathering', 'reebok', 'retailers', 'lpg', 'oxide', '327', 'colleagues', 'queensland', 'ivorian', 'preussag', 'chirac', 'trees', 'individuals', 'aegean', 'coverage', 'differential', 'israel', 'maekawa', 'allegis', 'holden', 'writedowns', 'extending', '242', 'permitted', 'replaced', 'easily', 'urge', '418', 'restrict', 'bob', 'english', 'requiring', 'conduct', 'grace', 'rd', 'killed', 'totally', 'nervous', '281', 'heard', 'productive', '730', '788', 'heart', '398', 'sustain', '318', 'quoting', 'mr', 'underwriters', 'appeals', 'climate', 'soared', 'commented', 'debenture', '941', 'commerzbank', 'switch', 'attract', 'sort', '630', 'bancshares', 'brent', 'site', '302', 'chevron', 'richfield', 'philips', 'broadcast', 'bulletin', 'language', 'conrac', '314', 'star', 'advertisement', 'xuto', 'sparked', 'supports', 'tests', '978', 'aspects', 'sgl', '401', '454', 'tension', 'seed', 'attracted', 'aims', 'concession', '635', 'handle', 'coin', 'spirits', 'continuous', '379', 'forecasting', 'dated', '610', 'appropriations', 'machine', 'occidental', '952', 'nature', 'societe', 'spin', 'watch', 'shutdown', 'imminent', 'scientific', 'ran', 'stabilising', '384', 'provisionally', 'stearns', 'considerably', '854', 'arbitration', '623', 'solid', '221', '474', 'westpac', 'philadelphia', '307', 'forcing', 'attitude', '607', 'license', 'onto', '388', 'epac', 'hungary', 'louis', 'apart', 'certs', 'award', '614', 'shared', 'funaro', 'jump', 'cgct', '517', 'marlin', 'slowdown', '620', '288', 'propane', 'tamura', 'memory', 'bidder', 'zimbabwe', '522', 'embassy', 'gao', 'manner', 'philip', '298', 'fail', 'contain', '297', '830', 'meets', '338', '808', '518', '372', 'true', 'conditional', 'declaration', '928', '244', 'doubts', '197', 'difficulty', 'react', 'valid', 'panic', '741', '464', '864', 'highs', 'drew', 'keen', 'assuming', 'cutbacks', 'restored', 'inflows', 'mind', 'bache', 'threaten', '207', 'payout', '354', 'guardian', 'binding', 'lp', 'spokesmen', '262', '689', 'factory', 'automobile', '407', '692', 'models', 'standing', 'strict', 'mountain', 'casino', '428', 'launching', 'foreigners', 'independence', 'consulting', 'rica', 'mediterranean', 'accelerated', 'amended', 'jr', '616', '617', '249', '478', 'century', 'banco', 'allies', 'giant', 'sumitomo', 'writing', '870', 'jack', 'scrap', 'attending', 'referred', '764', 'ascs', 'upland', 'document', 'sullivan', 'severance', 'universal', 'stick', 'keating', 'rich', 'mergers', 'mannesmann', 'lowering', 'roll', 'booked', '896', 'graphics', 'witter', '872', 'powerful', 'tied', 'kidder', 'berlin', 'prepare', '602', 'considers', 'firming', 'heinz', 'manage', 'implications', 'redemption', 'quantity', '045', 'pillsbury', 'serves', 'franklin', 'reality', 'bound', '476', 'andriessen', 'traditionally', 'quantities', 'caspar', 'expectation', '1990s', 'goodyear', 'judge', 'tools', 'stress', 'borrow', 'pressing', 'mexican', 'contingent', 'accrual', 'enforcement', 'population', 'rail', '747', 'violating', 'bangemann', 'diesel', 'vancouver', 'exercised', 'gordon', 'voiced', 'gone', '267', 'exception', 'fit', 'unavailable', 'assume', '261', 'monitor', 'bridge', 'plunged', 'troy', '346', 'realistic', 'defensive', 'hanover', 'accrued', 'creating', 'maybe', 'bu', '1993', 'upwards', 'dealings', '209', 'samjens', 'ucpb', 'physics', 'bil', 'brian', '311', 'mitsubishi', '025', '925', 'colorado', 'liberalisation', '487', 'blocked', 'accident', '489', '534', 'obtaining', 'greenspan', 'assess', 'sellers', 'shortages', 'becomes', '919', 'covers', 'wider', 'circuit', 'undervalued', '686', 'principles', 'fruit', 'farms', 'totaling', 'representation', 'swaps', 'owed', 'repeatedly', 'suggests', '649', '243', 'woolworth', 'cake', '780', 'otto', 'mentioned', '373', 'discoveries', 'looked', 'transmission', 'wish', '362', '421', 'warm', 'shipbuilding', 'sprint', 'predictions', 'cap', 'lawyers', '435', 'diagnostic', 'denominated', 'incoming', '837', 'carl', '501', 'lbo', 'bar', 'kimberley', 'auctions', 'slack', 'treasurer', 'islands', 'thousand', 'assumed', 'stepped', 'flooding', 'danish', 'arrive', 'hike', '912', 'voluntary', 'uses', 'bilzerian', 'pak', 'evaluation', 'tensions', 'administrative', '947', 'insured', 'siemens', '234', 'explain', 'soymeal', 'delors', 'testimony', 'trouble', '605', 'dates', 'implementing', 'promise', 'accused', 'documents', 'solutions', '523', 'processed', '521', 'promptly', 'procedure', 'lira', '575', 'ex', 'gcc', 'indefinitely', 'questioned', 'pickens', 'denis', '246', 'privatisation', 'ciba', 'roberts', '321', 'pressed', 'spell', 'potentially', 'awaiting', 'distillate', 'ideas', '752', 'footwear', '591', 'aids', 'votes', '969', 'edible', 'destroyed', 'tenneco', 'sama', 'lord', 'triton', 'mueller', 'abdul', 'sprinkel', 'hiram', 'azpurua', 'encor', 'redstone', 'rental', 'stakes', 'analysis', 'administrator', 'defended', '892', '688', 'regulation', 'caution', '970', 'onshore', 'disappointed', '416', 'licensing', '568', 'chalmers', '619', '279', '506', '770', 'cartel', 'statistical', '516', '985', 'minutes', 'lewis', 'psbr', 'read', 'realty', 'vulnerable', 'fish', 'merchants', 'prevented', 'understood', 'consist', 'feels', '678', 'unilever', 'sir', 'receipts', 'rural', 'pipe', 'sunflowerseed', '284', '680', 'journal', 'bloc', '564', 'mounting', 'park', 'inquiry', 'elections', 'dead', 'specifically', '675', '615', 'departments', '371', 'oppenheimer', 'injection', 'mellon', 'track', 'kg', 'firmly', '402', 'schlumberger', 'magazine', '793', 'preparation', 'entity', '933', '718', 'fighting', '308', 'entering', 'colombian', 'afford', 'upham', 'investing', 'taiwanese', 'participating', 'cancelled', 'contrary', 'manufactured', 'whom', 'transferred', '352', 'acid', '936', '866', 'unveiled', 'guinness', 'slash', '565', '951', '628', 'imposing', 'greatly', 'outflow', '0p', 'swing', 'unleaded', 'sweetener', '535', 'pan', 'framework', '659', '699', 'withdrew', 'entry', 'peruvian', 'equitable', 'provinces', 'travel', 'surface', 'auditors', '269', 'writeoff', 'seoul', 'bow', 'inside', 'domestically', 'reviews', '608', 'kim', 'pence', 'coordinate', 'ministerial', 'gaviria', 'uncertainties', 'rha', 'ferry', 'kenya', '524', 'urgent', 'speculators', '495', '612', 'disclosure', 'version', 'film', 'hog', 'protein', '576', 'leigh', 'pemberton', 'conable', 'syndicate', 'pat', 'monitoring', 'successive', 'carbide', 'conclusion', 'troubled', 'offsetting', 'fluctuation', 'dangerous', 'jungle', 'lusinchi', 'cement', '695', 'bolivars', 'countertrade', 'initiatives', 'veto', 'hilton', 'baltic', 'marines', 'evaluating', 'resort', 'arranging', '412', 'eliminated', 'doubted', '339', 'cbs', '383', 'waiver', 'prospective', 'standstill', '344', 'thinking', '011', '705', '553', '745', '546', 'ntt', '348', 'quiet', 'links', '1997', 'indeed', 'capel', 'society', 'unusual', 'distributors', 'spoke', 'assessment', 'proposing', 'acted', 'microchip', 'preserve', 'argue', '855', 'story', '445', 'pays', 'assure', '391', 'cuban', 'locally', '439', 'silkworm', 'wood', 'tighter', '467', 'persuade', '459', 'westminster', '008', 'reopen', 'navigation', '804', 'charging', '503', 'internationally', 'reversed', 'residential', 'att', 'generic', 'diw', 'foot', '627', 'employs', '437', 'smelters', 'aggregates', 'platinum', 'argument', 'likelihood', 'aqazadeh', 'design', 'roach', '853', 'donaldson', 'besides', 'linking', 'ice', 'retailer', 'unilateral', 'costly', 'couple', 'edt', 'instability', 'types', 'cities', '777', 'corning', 'repair', 'diversify', '322', '570', 'liberty', 'pharmaceutical', 'mar', '351', 'breaking', 'submit', 'audio', 'horizon', '879', '726', 'eurobond', 'm0', 'choose', 'hundreds', 'stabilizing', 'welcome', 'iii', '548', 'hole', 'mission', 'signals', '841', 'volatility', 'sensitive', 'appliances', 'simon', '732', 'wine', 'factories', 'equities', 'delegations', '944', 'fendt', 'junior', 'pleased', 'harm', 'happened', 'wright', 'durum', 'boxes', 'rostenkowski', 'joining', 'proposes', 'pennsylvania', 'clothing', '653', '397', 'distillers', 'everything', '386', 'southland', 'hedging', 'cautioned', 'challenge', 'transfers', 'europeans', 'frank', 'hodel', 'declare', 'pizza', 'cpi', 'hoechst', 'principally', '239', 'pretty', '964', 'phelps', 'bird', 'janeiro', 'garcia', 'husky', 'separated', 'citizens', '511', 'headquartered', 'stimulating', 'boycott', '572', '826', 'austria', 'attended', '364', 'minn', 'telex', 'herald', 'greatest', '542', 'lawsuits', 'bruce', 'ball', '504', 'injured', '954', 'gould', '035', '512', 'publications', 'departure', 'dubai', '760', 'regularly', 'jorio', 'exploratory', '496', '753', '888', 'bread', 'wattari', 'worries', 'mount', 'disposition', '825', 'discounted', 'caribbean', 'refiner', 'listing', '664', 'leasing', '880', 'routine', 'milling', 'quantum', 'register', 'penn', 'sites', '961', 'confirm', '673', '493', 'dominican', '667', 'tend', 'exist', '556', 'automatic', 'speaker', 'escort', 'arbitrageur', '754', 'lane', 'rank', 'calculations', 'concentrates', 'influences', '411', 'wisconsin', 'road', 'aided', '465', 'nomura', 'advise', 'farmer', '065', 'fraud', 'pledge', 'efficiency', 'harder', 'revise', 'seeks', 'fargo', 'dayton', 'mca', 'happy', 'koehler', '712', 'cawl', 'demanded', '918', 'fuels', 'pursuant', 'myers', '755', 'favoured', 'crushers', 'casualty', '661', '731', '571', '775', '409', '434', '986', 'cooperatives', 'wave', 'hoping', 'jet', 'fidelity', '791', 'reserved', 'mccarthy', 'downwards', 'jeffrey', 'importer', 'elect', 'yuan', 'switched', 'integration', 'testing', 'upcoming', 'notably', '690', 'forum', '817', 'joseph', 'pinola', 'alvite', '010', 'competitor', '041', 'zurich', 'unacceptable', 'royalty', 'von', '028', 'beverage', 'channel', 'reversal', '868', '461', 'defendants', 'perception', '739', 'default', 'gros', '622', 'weakening', 'weakened', '442', 'contains', 'plunge', '836', 'element', 'kato', 'carries', '805', 'blood', 'elements', 'fill', 'westinghouse', 'grand', '457', 'seat', 'arrival', '955', 'saturated', '895', 'vogtle', 'aziz', 'pasta', 'asean', 'stevens', 'klm', 'mcivor', 'mechanically', 'qintex', '676', 'recognized', 'alter', '651', 'arbitrage', 'leadership', 'wind', '883', 'margoshes', '486', 'heading', 'suffering', '863', 'brace', 'airways', 'quotes', 'steelworkers', '533', '606', '831', 'furniture', 'yearend', '417', 'franchise', 'moratorium', 'fix', 'roasters', 'warehouses', 'engage', 'maximize', 'centres', 'obligation', 'adjourned', 'nevertheless', 'allen', 'victor', 'licence', 'tone', 'experienced', 'contractors', '790', '353', 'roubles', '713', '584', 'forma', 'young', 'promotion', 'promising', '609', '456', '669', '064', 'obvious', 'pursued', 'men', 'mo', 'constant', 'efficient', '869', 'outlays', 'prefer', 'capable', 'massachusetts', 'advertising', 'corrects', 'resale', 'hawley', '645', 'promoting', 'waterway', 'supermarket', 'nppc', 'dwt', 'brunswick', '479', '525', 'farming', 'violated', 'violation', 'founder', 'ourselves', 'striking', 'owens', 'completing', '906', 'calculating', '059', 'operational', 'driving', 'suitable', 'dieter', 'marketed', 'depress', 'irna', 'regardless', 'walter', 'purchasers', '529', 'lakes', '342', 'shifts', 'budgetary', 'willy', '909', '361', 'dismantling', 'himself', 'overhaul', 'resisting', 'redress', 'fulfill', 'reluctance', '613', 'pratt', 'denominations', 'mortgages', '656', 'retailing', 'check', '7p', 'tech', 'creek', '438', '563', '877', 'prolonged', 'combat', 'stages', 'institution', 'pier', 'search', '359', '766', '965', '876', 'ultimate', 'islamic', 'uganda', 'dinars', '902', '055', '283', 'route', '671', 'slowly', 'guaranty', '569', '498', 'marshall', 'shelf', 'buyback', '682', 'supervisory', 'manuel', 'drafting', '541', 'presently', 'contributions', 'capitalisation', 'installations', 'recognition', 'derivatives', 'passengers', 'precision', 'unprecedented', '567', 'sims', 'joe', 'paulo', 'istat', 'li', 'nonperforming', 'leases', 'geigy', 'avia', 'maritime', '062', '561', 'uranium', 'satisfy', '043', 'porsche', 'blue', 'nymex', 'shoe', '590', 'entities', 'grisanti', '070', 'pont', 'hot', 'beach', 'arbitragers', 'disrupt', 'abe', 'hectare', 'henderson', 'suggesting', 'widening', 'quest', 'broader', 'gr', '818', 'conventional', 'regard', '665', '483', 'wickes', 'tvx', 'unc', 'dramatic', 'princeville', '886', '937', '881', 'removed', 'indicating', '884', 'origins', '988', 'superior', 'defending', 'rosario', '742', '890', 'education', 'died', 'adhere', '835', '303', '448', 'jovanovich', 'thin', 'minimal', 'reconsider', '774', 'merely', 'tenn', 'replacement', 'lesser', 'seasons', 'categories', '426', 'liquidating', 'hospital', 'mass', '531', 'justified', 'brackets', '441', 'carriers', 'conclude', '597', '820', 'complicated', 'flags', 'developer', '641', 'feeling', 'scandal', 'renewal', 'libya', 'stream', 'possibilities', 'assist', 'yes', 'meaning', '629', 'narrowing', 'avert', 'depletion', 'enhanced', 'brasil', '744', 'shore', 'sb', 'armed', 'safe', 'spinoff', 'protecting', 'arguments', 'millions', 'concrete', '030', '842', 'dakota', 'stabilization', 'gardner', '763', 'samuel', 'heat', 'aiming', 'sit', 'suburban', 'useful', 'fat', 'carlos', '365', 'uccel', 'claimed', 'lawrence', 'copy', 'projection', 'context', '914', '1995', 'undertaken', 'salvage', 'compensated', 'renew', 'topped', 'funded', 'parana', 'category', '913', 'awards', '443', 'thatcher', 'shall', '815', 'baht', 'arango', 'bases', '658', '767', '719', '729', '4p', 'irrigation', 'milk', '776', 'akzo', 'terminate', '957', 'survive', 'anyone', 'mature', 'everyone', 'investigate', '710', 'kodak', '662', '759', 'chi', 'laid', 'nonrecurring', '405', '794', 'tangible', 'focusing', '908', '717', 'fort', 'refusal', 'removal', '728', 'executed', '714', 'escalation', 'techniques', 'complaints', '924', 'oregon', 'tea', 'corrected', '227', '637', '453', 'floated', 'arco', '3p', 'bodies', 'placing', 'ratings', 'swire', 'oranges', 'played', 'resins', 'mth', 'disappointing', 'kay', '463', '537', 'commons', 'foresee', '458', '847', 'existence', '889', 'inquiries', '583', 'worsen', 'marketplace', 'chang', 'explanation', 'involvement', '046', \"'d\", 'norfolk', '263', '502', 'algerian', '562', 'applies', 'danforth', 'provincial', 'agip', 'ay', '782', 'cpb', 'fomc', 'airbus', 'robusta', 'hutchison', 'fortune', 'dinar', 'boats', 'proxmire', 'calmat', 'ov', 'calny', '887', 'stimulation', 'miss', 'sponsored', 'sweeping', 'poison', 'furthermore', 'curbing', 'punta', 'este', '995', '406', 'diligence', 'ortner', 'accepting', 'rejection', 'revisions', 'utilicorp', '578', '967', '683', '959', 'inevitable', 'threatening', '626', '532', 'anticipates', 'cellular', '996', 'repurchases', 'surged', '367', 'manila', '778', 'settlements', 'pharmaceuticals', 'opens', 'harvests', '422', 'realize', 'resumed', 'bolivia', 'considerations', 'annualised', 'jerry', 'retire', 'cook', 'compatible', 'valuing', '819', 'marathon', 'maintains', 'cool', 'popular', 'premier', 'allegations', '505', '471', '736', 'restraining', 'summary', 'soil', 'arizona', 'counties', 'communities', '781', 'ignored', 'rebound', '031', '670', 'parallel', 'inland', 'threats', 'choke', 'judgment', 'showers', '291', 'yards', 'gte', 'disruption', 'exceptional', 'socialist', 'publication', '642', '554', 'belt', 'ftc', '904', 'directed', 'professor', '871', '306', 'finalised', '357', 'specialists', 'watching', 'adjusting', 'reopening', 'warehouse', 'approaching', 'consistently', 'salmonella', '751', 'romero', 'brusca', '851', 'packages', 'offerings', 'understand', 'suitor', 'appealed', '027', 'model', 'tanzania', 'tv', 'mario', 'surrounding', '966', '655', '091', 'protective', 'banned', 'irish', '1976', 'shifting', '019', '897', '414', 'hydro', 'fluctuate', '915', 'yugoslav', '860', 'avana', 'carling', '272', '922', 'businessman', '910', '404', 'weaken', 'imposition', 'consists', '905', '053', 'gobert', '095', 'commissions', 'ample', 'apr', '631', 'motion', 'defer', 'virtual', 'procurement', 'household', 'returning', 'patent', 'false', 'fiber', 'connected', 'carolina', '449', 'ottawa', 'blame', 'historical', 'capabilities', '935', 'minstar', 'focused', 'dominant', 'orderly', 'hemisphere', '382', '756', '596', '971', '477', 'feature', '734', 'seeing', '497', 'scenario', 'cyprus', 'planters', 'unexpected', '859', 'wrong', 'issuance', 'restructured', '452', 'triangle', 'microwave', 'lessen', '911', '885', 'mel', 'mulford', '980', 'events', 'unrelated', '824', '559', 'flotation', 'oman', 'latter', 'undermine', 'seipp', 'rallied', 'tropical', 'amsterdam', 'winterkill', 'hedge', 'cycle', '601', '099', 'anger', '001', 'presentation', '963', 'resignation', '552', 'crash', 'montedison', 'balao', '1977', 'honor', 'school', 'satellite', 'structured', 'bauxite', 'chile', 'cra', 'royex', 'decoupling', '366', 'kohl', 'replacing', 'training', '076', 'bhd', 'subsequently', 'critics', 'cattlemen', 'leased', 'storm', 'automation', '704', 'trucks', 'composite', '324', 'segments', 'pantera', 'ecuadorean', 'monsanto', 'pesetas', 'anticipation', '6p', 'organizations', '765', 'lunch', 'matheson', 'greyhound', 'mercury', 'quaker', 'gorbachev', 'suits', 'builders', 'czarnikow', 'ina', 'haggard', 'krupp', 'soros', 'words', 'lies', 'nationally', 'writeoffs', '773', '594', 'timely', 'facilitate', 'sudan', 'rothschild', 'suggestion', 'explosion', 'amounting', '587', '821', '491', 'stephen', 'nikko', '484', 'convince', 'bag', 'envisaged', '976', 'foreseeable', 'gilts', '632', '431', 'dipped', 'tape', 'disc', 'discipline', 'edmonton', 'exempt', '014', 'word', 'michel', 'provoke', \"o'neill\", 'definitely', 'consolidate', 'territory', 'nasdaq', 'evening', 'criticized', '051', 'perelman', 'flood', '624', '396', '588', 'strictly', '090', 'unclear', 'withholding', 'angered', 'relied', 'honduras', 'guinea', 'netback', '757', 'annualized', 'exactly', 'penalties', 'tx', '679', 'endorse', 'filings', 'milled', '389', 'advisors', '282', 'puerto', 'rico', 'technically', 'denman', 'conjunction', 'publisher', 'claiming', '005', '982', 'routes', '042', 'someone', 'unlike', 'clearance', 'crushing', 'requests', 'fiduciary', 'durable', '514', 'supercomputers', 'boom', 'sinking', 'viewed', 'idle', 'chicken', 'lufkin', 'jenrette', 'sometime', 'interesting', 'rivers', 'alumina', 'carson', 'confidential', 'salary', 'generation', 'wrote', '843', '727', 'glass', '444', 'arrived', 'challenges', 'cosmetics', 'comprise', 'sometimes', 'accompanied', 'pledges', '415', 'nigerian', 'peladeau', 'flowing', 'placements', 'underwriter', 'abide', 'lumber', '737', '987', 'margaret', 'ranks', 'tested', 'refrain', 'accordance', 'pooling', 'continent', 'rely', '036', 'doubtful', 'cardenas', 'climb', 'telecom', 'signing', 'precise', 'easy', 'treated', 'organisations', '968', 'detail', 'admitted', 'arsenal', 'trusts', 'newsletter', 'minute', 'frans', 'mi', 'closes', 'inability', 'uk', 'holland', 'micro', 'tom', 'driven', 'component', 'technological', 'valuation', 'digital', 'flagged', 'territorial', 'mart', 'unlimited', '451', '652', 'credited', 'vat', 'jorge', 'fixing', 'divest', 'succeeded', 'lots', 'tendering', 'thereby', 'quake', '1994', 'vernitron', 'salt', 'bourse', 'seller', 'cmb', 'iso', 'beer', 'instrument', 'laboratory', '833', 'benefitted', 'onic', 'eurobonds', 'wake', '579', '663', 'reinsurance', 'timber', 'endorsed', 'redeemable', 'trapped', 'cocoas', 'concept', '733', 'restraints', 'postpone', 'assurances', 'connecticut', 'bean', 'sowings', 'ought', 'compare', '956', '979', '075', '693', '549', 'sears', '482', 'silas', 'royalties', '054', 'resorts', 'mandatory', 'imatron', '702', '691', '057', 'premature', 'reduces', '638', 'unidentified', 'inherent', '083', 'bargaining', 'alliance', 'butane', 'sdr', '721', 'alcohol', 'protests', 'barwon', 'flights', 'violate', 'keidanren', 'restaurant', 'herbert', 'distributes', 'consisting', '259', 'debtors', '845', 'mood', 'sydney', 'hunt', 'symbion', 'expiring', '839', 'redland', 'comex', 'barely', 'memphis', 'dibona', 'pennzoil', 'hall', 'bayou', 'hillards', 'stabilized', 'wyttenbach', 'iea', 'zccm', 'squibb', 'patrick', 'aramco', 'contractual', 'handled', 'length', 'arrested', 'cast', 'interpreted', 'slim', 'installed', 'senators', 'definition', '975', 'excise', 'nobody', 'kan', 'ireland', 'wash', 'sweetened', '977', '592', 'communication', 'unrealistic', 'adams', 'designated', 'slifer', '085', 'gsp', 'worry', 'naphtha', 'exportable', 'overproduction', '1974', '846', '711', '007', '792', 'stockbrokers', 'intense', 'continuation', 'pl', 'calgary', 'applying', 'establishment', 'undertake', 'frost', 'accurate', 'picking', 'stockholder', 'liquidation', '938', 'rhone', 'restart', 'ones', 'automatically', 'complained', 'grey', 'knows', '874', 'straight', 'authorization', 'underwritten', 'cd', '343', 'hisham', '636', 'senator', 'narrowly', '828', '544', 'steers', 'buys', 'sand', '834', '006', 'talked', 'male', 'sized', 'papua', 'obviously', 'metex', '993', 'hills', 'doe', 'arc', '003', 'subscribers', 'unprofitable', '798', 'indicative', 'realignment', 'scrutiny', '513', '395', 'warplanes', 'crew', 'heritage', 'licenses', 'expertise', '999', 'hearings', 'kistler', 'safeway', 'don', 'task', 'specialist', 'austerity', 'peseta', 'enrolled', 'ga', 'style', 'seventh', 'scotia', 'kleinwort', 'poised', '566', 'terminals', 'reasonably', 'morrison', 'mention', '787', 'speculate', '037', 'engineered', 'alleges', 'ing', 'repairs', 'collapsed', 'devices', 'yugoslavia', 'predicts', 'associations', 'sports', '029', 'nervousness', '647', 'scientists', 'advice', 'lived', 'professional', 'bahia', 'aides', 'governing', 'combining', \"'n\", 'nicholas', 'foresaw', 'modified', 'reacted', 'unocal', 'artificially', 'kentucky', 'counterproductive', 'raises', 'polish', '002', 'classes', 'dd', 'healthcare', 'train', 'majeure', 'amusements', '849', '694', '998', '827', 'deadlock', 'precipitation', 'toshiba', 'convention', 'colonial', 'retired', 'hans', 'cordoba', 'redeemed', 'abandon', 'modern', 'persistent', 'reorganisation', 'eastman', 'oriented', 'rexnord', '034', 'destination', 'catalog', 'collective', '363', 'earning', '672', 'promises', 'norstar', 'hayes', 'barclays', 'sabah', 'caterpillar', 'compagnie', 'bombay', 'loaded', 'bristol', 'cola', '799', 'monopoly', 'emphasized', 'unrest', 'biotechnology', 'salaries', 'sands', 'dependency', 'tour', 'bigger', 'attached', 'targetted', 'correction', 'competitively', '823', '1980s', 'minor', 'sank', '723', 'jwt', 'breached', 'kaunda', '838', 'relation', 'responsive', 'adherence', '802', 'holmes', '038', '940', '862', 'blocking', 'morris', 'nino', 'fishing', '509', '746', 'samuels', '009', 'citgo', 'lobby', 'eiu', 'marginally', 'davis', 'gmbh', 'placer', 'guesstimated', 'nationale', '654', 'constraints', '983', '768', 'worker', 'deak', '1973', 'economically', 'publish', 'heavier', 'owning', 'arbitrager', 'wildlife', '068', '990', 'ferc', 'rumored', 'investigations', 'reopened', 'bv', 'kaiser', '098', '423', 'aegon', '811', 'assays', 'timetable', 'argosystems', 'surveillance', 'peaked', 'windfall', 'fnv', 'observers', 'explaining', 'widen', 'supplying', 'fellow', 'nspa', 'magma', 'morton', 'israeli', 'bayer', 'm1', 'harbour', 'visiting', 'wtc', 'disk', 'enormous', 'properly', 'cherry', 'heineken', 'valeo', 'cetus', 'cont', 'solely', '848', 'liftings', 'thomson', 'manages', 'thrift', 'effectiveness', 'remark', 'intervening', 'kramer', 'bentsen', 'clarify', 'regime', 'pill', 'barrier', 'countervailing', 'affects', 'sanford', '926', '916', 'chocolate', '668', 'boliden', '899', '473', 'counsel', 'agreeing', 'rebuild', '058', '696', '335', 'morocco', 'lasting', 'generating', 'addressing', 'dialogue', 'tactics', 'challenged', 'panama', 'poulenc', 'repaid', 'chipmakers', 'translated', 'sugarcane', 'enlarged', 'adhering', 'pellets', 'mcdonnell', 'tentatively', 'milan', 'staple', '772', 'expansionary', 'moderately', '020', '934', 'conflicting', 'raymond', 'garden', 'unknown', 'juan', '707', 'simultaneously', '806', 'regulated', 'mechanisms', 'markedly', 'voluntarily', 'rospatch', 'accompanying', '331', 'signup', 'notified', 'monitored', 'telemedia', 'berisford', 'forming', 'fiji', 'army', 'variable', 'suharto', 'plantations', 'larry', 'adds', 'stored', 'marketings', 'barges', 'attempting', 'human', 'va', 'caught', 'insee', 'greenmail', 'awb', 'bae', 'dramatically', 'ifo', 'volkswagen', 'repurchased', 'ltv', 'gets', '939', '677', 'bolster', 'coincide', 'ailing', '882', 'battery', 'frustration', 'christian', '927', 'synthetic', 'harbor', 'dismiss', 'recognised', 'regards', 'sole', 'game', 'opposing', 'mouth', 'eleven', 'sizeable', '783', 'fertiliser', 'liberalised', '026', 'networks', 'steinhardt', 'spencer', 'assumes', 'performed', 'liquefied', 'refund', 'appreciate', 'rescue', '803', 'suisse', 'vast', 'pegged', 'supplementary', 'snyder', 'invitation', 'eventual', 'enabling', '633', 'confusion', '901', '75p', 'apollo', 'organized', 'declaring', '2400', 'fertilizer', '786', 'cautiously', 'tank', 'dunham', 'swearingen', '557', 'shot', 'sustainable', 'coca', '526', 'clauses', 'mti', 'pilot', 'drugs', 'cenergy', '582', '1970', 'disappointment', 'emphasize', '593', 'montgomery', 'remittances', 'montagu', 'sovereign', 'steam', '893', 'stemming', 'picked', 'preceding', '581', 'stoppage', 'exaggerated', 'farmland', '089', '604', 'goodwill', 'concepcion', 'faith', '829', 'privatised', 'robin', '735', 'memorandum', 'markka', 'monopolies', 'olson', 'voice', 'rupiah', 'strain', 'negara', '427', 'resolving', '599', '973', 'psa', 'pollution', 'constitute', 'licht', 'southeastern', 'informally', '648', 'gates', 'eduardo', 'gerald', 'yielded', 'conglomerate', 'nederland', '891', 'rexham', 'oilfields', 'suggestions', 'deny', 'enquiries', 'comecon', 'appraisal', 'troops', '701', 'allocate', 'barter', 'additions', 'surviving', 'soriano', 'aquino', 'plastic', 'arthur', 'affirmed', 'constructive', 'revealed', 'trial', 'emerging', 'prospectus', 'judgement', 'tanks', 'similarly', 'pull', 'celanese', '081', 'dudley', 'narragansett', '468', 'flying', 'discriminatory', 'raws', 'cornelissen', 'switching', '063', 'hkg', 'renegotiation', 'risky', 'anchor', 'victory', 'downs', 'butter', 'brooks', 'supertanker', 'kharg', 'm2', '867', 'leaded', 'realise', 'oaks', 'fdic', 'valor', '558', 'fox', 'tanghe', 'tunisia', 'vietnam', 'saito', 'scan', 'airod', 'outboard', 'borden', 'sloane', 'abbett', 'pertamina', 'peso', 'kernels', 'repaying', 'permitting', 'meaningful', 'austrian', 'shield', 'hogs', '873', 'het', 'hague', 'protesting', 'priorities', '1975', 'background', 'kinds', 'urges', 'processes', 'eighth', 'srd', 'arising', '894', 'laidlaw', 'studied', 'execution', 'cheating', '634', '586', 'significance', 'existed', 'hardship', 'sacrifices', 'chalabi', 'integral', 'dangers', 'hawaiian', 'promissory', 'purely', 'modestly', 'transit', 'twelve', 'mailed', 'backs', 'payroll', 'overtime', '399', 'ferrous', 'engines', 'plains', 'paddy', 'barring', 'cutback', 'lipc', '1000', 'abandoning', 'hurting', 'coalition', 'death', '644', '539', 'pulp', 'influential', 'epa', 'depressing', 'mix', '709', 'chv', 'eagle', 'designs', 'hampered', 'rolled', 'hale', 'railroads', 'sarney', 'alleviate', 'unwilling', 'rogers', 'accu', 'safely', 'dw', 'pwj', 'challenging', 'phone', 'altered', 'cleveland', 'legislators', '447', 'correcting', 'enrollment', 'totals', 'dampen', 'editorial', '812', '004', 'forest', 'rehabilitation', 'qualities', 'sending', 'chart', '016', '639', 'eager', 'dozen', 'usg', 'fichtel', 'mild', 'anticipate', 'briefly', 'idled', 'intensify', 'copra', 'strongest', 'stiff', 'murray', 'shipowners', 'absolutely', 'achieving', 'publishers', 'eurostat', 'plate', 'device', 'discourage', 'breakup', 'image', 'nabisco', 'unresolved', 'resisted', 'democracies', 'fundamentally', 'nearing', 'harmful', 'brewery', 'reacting', 'publishes', 'le', 'veba', '796', '088', 'injected', 'regarded', '994', '621', 'upgrade', 'distributions', 'evident', 'vein', 'revising', 'flowed', 'describing', 'regain', 'punitive', 'comprises', 'symbol', 'bradley', 'crews', 'rilwanu', 'magnetic', '013', 'toll', 'anxious', 'yellow', 'decreasing', '012', 'dual', 'audit', 'raids', 'soaring', 'combine', 'thinks', 'hal', 'dispose', 'removing', 'bancroft', 'imaging', 'maturities', 'gelco', 'puts', 'exceeds', 'managua', 'edged', 'seger', 'dictate', 'secret', 'disrupted', 'transition', 'optional', '078', '073', 'doubling', 'stimulus', '716', '071', '687', 'revive', 'corpus', 'christi', 'indefinite', 'fernando', 'suspending', 'champion', 'soya', 'disney', '706', '708', '573', '092', 'intensity', 'antonio', 'compound', 'miami', 'pittsburgh', 'founded', '809', 'allowances', '086', '953', 'fahd', 'keersmaeker', 'topic', '962', 'finalized', 'families', 'absorb', 'cci', '857', 'pickup', 'custom', 'thereafter', 'candidate', 'erbynn', '1100', '974', 'dresdner', 'capitol', 'pose', '611', 'easter', 'coke', 'confederation', 'places', 'equilibrium', '589', 'halcyon', 'guide', 'inject', 'liquor', 'historic', 'ahmed', 'regret', 'heightened', 'exists', '769', '992', 'poll', 'meantime', 'rush', '715', 'driel', 'searching', 'lago', 'agrio', 'carbon', 'alloy', 'gaining', '017', 'capitalized', 'brierley', 'ultramar', '813', 'circle', 'spurred', 'guard', 'closings', 'reading', 'advantages', 'sorg', 'refinancing', 'demonstrated', 'incident', 'wales', 'pechiney', 'bagged', 'science', 'matin', '844', '032', 'cardis', 'arturo', 'substitute', 'hajime', 'gluck', 'anglo', 'dominated', 'neptunia', 'exemption', 'pcw', 'interfere', 'wti', 'patents', 'caisse', 'whenever', 'tackle', 'halting', 'box', 'collateral', 'riyadh', 'wire', 'mike', 'francaise', 'modulaire', 'giordano', 'nickel', 'pincus', 'akron', 'adhesives', 'divestiture', 'mackay', 'consequently', 'resdel', 'disagreed', 'mob', 'confrontation', 'mclean', 'mobile', 'athens', 'delaying', 'heck', 'amalgamated', 'stone', 'talyzin', 'corona', 'deteriorated', 'grocery', 'pressured', 'redundancy', 'command', 'schillings', 'vegetables', 'leslie', 'happening', 'croo', 'sequestered', 'stayed', 'peat', '865', 'irs', 'channon', 'transworld', 'moreover', 'features', 'dennis', 'macandrews', 'sanwa', 'annesley', 'spreads', 'lim', 'horner', 'pittston', 'vining', 'fildes', 'br', 'crowley', 'seton', 'ceased', 'develops', 'drops', 'tanaka', 'tex', 'unsuccessfully', 'hammer', 'comite', 'apea', 'plenty', 'jurisdiction', 'glenn', 'diego', 'berkey', 'abu', 'cso', 'errors', 'overshoot', 'assembly', 'serving', 'helicopter', 'marketable', '856', 'dinner', 'definite', 'tribunal', 'recognize', 'worthwhile', 'albert', 'acquires', 'steering', 'initiated', 'schemes', 'bargain', 'penalty', 'congressman', 'erosion', 'anderson', 'permanently', '981', 'assessing', 'sticking', '069', 'lombard', 'tightness', 'reflection', 'visits', 'cnt', '033', 'rare', 'dilemma', 'guatemala', 'salvador', 'nicaragua', 'jerome', 'downstream', 'dip', 'rationalisation', 'restrain', 'rockwell', '972', 'promotional', 'instructed', 'operative', '021', 'reservations', 'code', 'cacex', 'revalued', '047', 'hart', 'infusion', 'fbc', 'radical', 'pessimistic', 'buildings', 'granting', 'legislative', 'ray', 'stimulative', 'nebraska', '0000', 'attorney', 'notification', 'purchaser', 'passing', 'tel', 'crush', 'accordingly', 'surprising', 'visa', 'wines', 'atpc', 'blow', 'extreme', 'protocol', 'hundred', '942', 'spark', 'historically', '743', 'renamed', 'olivetti', 'gary', 'path', 'cranes', 'agents', 'multinational', '748', '943', 'happens', 'nonetheless', 'unstable', 'multiple', 'leads', '997', 'deposited', 'wary', '056', 'hovis', '9p', 'hollinger', '067', 'foodservice', 'fructose', 'contraction', 'melnikov', 'accommodative', 'hampshire', 'expert', 'cope', 'percent', 'characterized', '1p', 'beghin', 'jean', 'cease', 'shareholding', 'arisen', 'hiring', 'tube', 'opposes', 'elaborating', 'dmp', 'unique', 'russell', 'luis', 'perpetual', 'revolving', 'justify', 'unfairly', 'kansai', 'names', 'misleading', 'banner', '921', 'pepsico', 'arguing', 'martha', 'portuguese', '643', 'germans', 'visited', 'archer', 'daniels', 'howe', 'litre', 'liberalise', 'mim', 'espinosa', 'khalifa', 'wing', 'echoed', 'roger', 'prince', 'selective', 'accession', 'master', 'convenience', 'peninsula', 'structures', 'love', 'bellies', 'guesses', 'fails', 'compensatory', 'avoiding', 'experiencing', 'lag', 'jakarta', 'modifications', 'inclusion', 'lawyer', 'bottling', 'grams', 'abolish', 'audited', 'cpo', 'chosen', '685', 'outokumpu', 'schneider', 'praised', 'insisted', 'chris', 'verified', 'enforced', 'classified', 'prop', 'jute', 'lebanese', 'complement', 'divestitures', 'sitting', 'threatens', 'kuranari', 'swift', 'caracas', 'modify', 'crosby', 'pie', 'norton', 'newman', 'repeal', 'billiton', 'nyse', 'northeastern', 'deciding', 'fisher', 'richmond', 'labels', 'bros', '077', 'holes', 'schwab', 'rostam', 'mousavi', 'francois', 'credible', 'toughen', 'spr', 'nawg', 'retains', 'strains', 'supercomputer', 'csra', 'waive', 'ixl', 'presidency', 'consultation', 'layoffs', 'pointing', 'shells', 'laying', 'outbreak', 'breach', 'lyle', 'avoided', 'skeptical', 'gray', 'gramm', 'arctic', 'missed', 'courts', 'turner', 'radiation', 'sudden', 'simple', 'commerical', 'jamaica', 'mohammed', 'fda', 'honour', 'sciences', 'solved', '061', 'matching', 'neighbouring', 'extends', 'indictment', 'unsatisfactory', '929', 'cincinnati', 'rumor', 'rainier', 'diversion', 'deducting', 'sperry', 'siew', 'phlx', 'consultants', 'electrolytic', 'directive', 'incomes', 'med', 'kernel', 'mistake', 'expd', 'usdaprj', '096', 'wolverine', 'affandi', 'retroactive', 'hoare', 'disposals', 'cards', 'mayo', 'wedge', 'offensive', 'ammeen', 'fhlbb', 'amp', 'throughput', 'evergo', 'purity', 'pigs', 'unwillingness', 'remote', 'sceptical', 'examined', '749', 'tonner', 'pilots', 'depleted', 'norman', 'gooderham', 'pakistani', 'stretch', 'der', 'anacomp', 'linotype', 'ic', 'roderick', 'dissatisfied', 'papers', 'fcoj', 'undermining', 'nestle', 'blair', 'oak', 'hofer', 'catches', 'ft', 'zambian', 'bloch', 'keycorp', 'pope', 'comalco', 'angra', 'reichhold', 'audi', 'foothill', 'sigma', 'isolated', 'instinet', 'vulcan', 'gourmet', 'lasmo', 'ameri', 'lender', 'assured', 'broaden', 'injury', 'stems', 'distortions', 'recognise', 'approaches', 'unnecessary', 'inclined', 'okla', 'sc', 'rock', '807', '684', 'predecessor', 'revived', '060', 'sons', 'dhabi', 'upwardly', 'invisible', 'recommending', 'instance', 'gesture', 'roaster', 'channels', '697', '797', 'societies', 'seminar', 'advantageous', 'replaces', 'urgency', 'mutually', 'substitutes', 'proper', 'forthcoming', 'soluble', 'amortization', 'contractor', 'warranted', 'divested', 'nogales', 'practical', 'legitimate', 'interagency', 'smallest', 'urban', '858', 'registering', 'md', 'releases', 'seng', 'sufficiency', '779', 'steer', 'promoted', 'compiling', 'effected', 'closures', 'antwerp', 'upgraded', 'reid', 'convened', 'prohibiting', 'preparations', 'christians', 'envoy', '758', 'attracting', 'partnerships', '931', 'rodino', 'anthony', 'deregulate', 'liner', 'coopervision', 'insisting', '674', 'slip', 'persian', 'lubbock', 'singer', 'deliberately', 'sections', 'acts', 'elevators', 'collins', 'weigh', 'inspectors', 'obstacles', 'gholamreza', 'ad', 'safeguard', 'erie', 'flooded', 'termed', 'receives', 'theodore', 'thanks', 'burdens', 'creation', 'compact', 'counterpart', 'insist', 'scandinavia', 'es', 'wor', 'andrew', 'upside', 'genuine', 'comfortable', 'quebecor', 'pierre', 'recorders', 'hawker', 'frequently', 'absolute', 'bigelow', '074', 'televised', 'disbursed', 'alaskan', 'syrup', 'unitholders', 'probability', 'wealth', 'contributing', '048', '066', 'compaq', 'dried', 'benefited', 'superpower', 'insurer', 'enjoin', 'employ', 'subscriptions', 'tug', 'dupont', 'peters', 'lima', '810', '084', '907', 'vernes', 'withdrawing', 'disastrous', '436', 'mined', 'thrust', 'cleaning', 'alert', 'oakley', 'terrorism', 'laser', 'robust', 'exclusively', 'dauphin', 'chiefs', 'perry', 'sekimoto', 'warn', 'hardware', 'pampa', 'occurs', 'prudhoe', 'recording', 'zico', 'mercer', 'dr', 'deeply', 'loh', 'di', 'defuse', 'prominent', 'finances', 'trim', 'drove', 'undertakings', 'rolling', 'internally', 'stockpiles', 'conducting', 'winning', 'intellectual', 'subsidised', 'bermuda', 'guinn', 'pte', 'indebted', 'owes', 'lock', 'javier', 'stc', 'olein', 'optic', '424', 'supportive', 'adm', 'sucralose', 'dixon', 'whereas', 'saved', '547', 'preferential', 'accumulating', 'favored', 'crossland', 'probe', 'starch', 'perform', 'dealt', 'demanding', 'baltimore', 'hospitals', 'feedgrain', 'contacted', 'destroyers', '657', 'qualify', 'proration', 'herd', 'root', 'square', '989', 'emphasised', 'alabama', 'extinguishment', 'announcements', 'kahn', '25p', 'lifetime', 'pentland', 'downgraded', '932', 'aga', 'allan', '958', 'stos', 'condensate', 'signature', 'plain', 'visnews', 'attain', 'heated', 'ameritrust', 'function', 'clarification', 'engineers', '574', 'peoples', 'parker', 'frequent', 'emergence', 'byrd', 'jaime', 'trustee', 'tightened', 'lizano', 'lugar', 'northwestern', 'adapt', 'receivable', 'census', 'guesstimating', 'spare', 'enro', 'peripheral', 'bleached', 'deodorised', 'geodome', 'nortek', 'baghdad', 'letters', 'lifo', 'animals', 'fraternite', 'jefferson', '080', 'fao', 'yemen', 'ingredient', 'overly', 'unhappy', 'ores', 'debartolo', '945', 'divestment', 'ariadne', 'diaz', 'corazon', 'bpi', 'progressing', 'stretching', 'estates', 'eliminating', 'controversy', 'iranians', 'capitalize', 'turmoil', 'rescheduled', 'denver', 'strata', 'inn', 'varieties', 'town', '378', 'statutory', 'biffex', 'borrowed', 'hear', 'turbulence', 'dresser', 'mulroney', 'cpa', 'drying', 'toledo', 'mtbe', 'sogenal', 'lindner', 'orleans', '789', 'processor', 'gaming', 'retreated', '816', 'upstream', 'title', 'spun', 'saatchi', 'derived', 'toyota', 'offtake', 'crime', 'agl', 'prosecutors', 'indebtedness', 'tendency', 'bus', 'ceremony', 'advocate', 'staley', 'legally', 'cathode', 'canned', 'capita', 'baxter', 'missing', 'undertaking', 'ig', 'metall', 'globe', 'bennett', 'etl', 'amt', 'dharyono', 'bin', 'icn', 'stockpiled', 'asher', 'distorted', 'shorter', 'franco', 'devalued', 'mikhail', 'positively', 'temporao', 'shippers', 'klopfenstein', 'patricia', '822', 'sat', 'ericsson', 'almaden', 'olive', 'amax', 'guangdong', 'vigorously', 'penney', 'westin', 'cwt', 'dockers', 'martell', 'kerosene', 'libor', 'datagraphix', 'kuroda', 'autos', '1967', 'biopool', 'craft', 'mathematical', 'outlets', 'facts', 'corby', 'mps', 'romania', 'lear', 'westlb', 'entitle', 'renouf', 'intel', 'enjoyed', 'loving', 'gardini', 'alpha', 'cain', 'kaneb', 'computerland', 'bottomed', 'tracts', 'terra', 'thyssen', 'ric', 'willis', 'datacard', 'galveston', 'gleske', 'semenovich', 'ratios', 'relying', 'diversification', 'gathered', 'hardly', 'wifo', 'ferdinand', 'proponents', 'host', 'findings', 'entregrowth', 'excessively', 'dale', 'successor', 'supplement', 'authorize', 'sooner', 'tires', 'soyoil', 'dilution', 'curtail', 'sufficiently', 'mn', 'vms', 'barbara', '052', 'benefitting', 'mason', 'specified', 'architect', 'grower', 'un', 'civilian', 'persons', 'amend', 'kokusai', 'denshin', 'denwa', 'mechanical', 'bilion', 'reportedly', 'nugget', 'lately', 'spoken', 'shed', 'madrid', 'bands', '1953', 'female', '094', 'amsouth', 'consult', 'gauge', 'helpful', 'rounding', 'specifics', 'fuller', 'franchises', 'rko', 'buoyant', 'lacked', 'atcor', 'magnitude', 'manaspas', '801', 'roy', 'rafsanjani', 'inconsistent', 'ms', 'breakeven', 'causes', 'brookehill', 'essentially', 'inevitably', 'montana', 'unconditional', 'concentrating', 'commence', 'grande', '618', 'costing', 'median', 'overcome', 'lists', 'feeding', 'player', 'ita', 'leonard', 'olin', 'pursuing', 'examining', 'bitter', 'waived', 'typically', 'dominate', 'tertiary', 'outlining', 'bethlehem', 'rjr', 'amb', 'calculation', 'regulate', 'hopeful', 'chiefly', 'fragile', 'troubles', 'rhetoric', 'cfcs', 'composed', \"o'reilly\", 'brewing', 'tremendous', 'twin', '595', 'hazleton', 'australs', 'restrained', 'adjustable', 'marion', 'surveyed', 'her', 'webb', 'strained', 'gravity', 'burning', 'burger', 'recoverable', 'sweeteners', 'receivables', 'calculate', 'solidarity', 'licensed', 'wyatt', 'raiders', '049', 'fcs', 'mcv', 'fraction', '814', 'lined', 'touched', 'colo', 'hbo', 'seats', '079', 'incorporation', 'differed', 'belgrade', 'outline', 'argues', 'tie', 'iida', 'ideal', 'repeat', '703', 'leeds', 'retraining', 'relevant', 'cheyenne', 'enthusiasm', 'handed', 'ridiculous', 'png', 'hawaii', 'spokesperson', 'recovering', '724', 'koether', '991', 'petroles', 'smartmodem', 'error', '023', 'steven', 'withheld', 'fred', 'dismissal', 'grounded', 'nearer', 'unicorp', 'meals', 'quietly', 'goverment', 'cushion', 'ferries', 'victoria', 'arrears', 'gear', 'saving', 'liberalization', 'mandate', 'enforce', 'vary', 'fekete', 'comibol', 'hunger', 'governmental', 'pool', 'czechoslovakia', 'fly', 'shrinking', 'schultz', 'wil', 'pure', 'fate', 'eurosterling', 'clearer', 'saskatchewan', 'conclusions', 'equals', 'dole', 'townsend', 'kobena', 'disadvantage', 'remedy', 'taxpayers', 'validly', 'settling', 'alleging', 'proprietary', 'hartford', 'smoke', 'compounding', 'input', 'sul', 'anza', 'contest', '795', 'barber', 'unexpectedly', 'crystal', 'straits', 'delicate', 'landing', 'limitation', 'duffour', 'igon', 'lengthy', 'chesebrough', 'vowed', 'potash', 'abiding', '072', 'barnes', '018', 'foote', 'schutz', 'influenced', 'sponsor', 'comsat', 'shad', 'obliged', 'surinam', 'suralco', 'alcoa', 'cheng', 'ming', 'clabir', 'goodrich', '2002', 'boschwitz', 'suddenly', 'alleghany', 'cooking', 'paribas', 'positioned', 'miner', 'infrastructure', 'disruptions', 'posed', 'destroying', 'minas', 'suspicion', 'weiss', 'ncr', 'sister', 'supporters', 'norske', 'orion', 'resistant', 'diseases', 'victims', '946', 'parities', 'intermittent', 'underpin', 'finish', 'nelson', 'investigating', '1400', 'uncompetitive', 'lighter', 'bonny', 'label', 'relieve', 'assessed', 'mcas', 'marcos', 'cojuangco', 'reord', 'rudman', 'itoh', 'refuge', 'consortia', 'signaled', 'cameron', 'clinical', 'nbc', 'danworth', 'ramadan', 'arrivals', 'tate', '087', 'campbell', 'shareholdings', 'deeper', 'drives', 'buses', 'fleming', 'perceived', 'shintaro', 'hazardous', 'eric', 'abolished', 'bfg', 'matched', 'tended', 'rejecting', 'injuries', 'gsm', 'owing', 'roastings', 'tisch', 'jury', 'criminal', 'seattle', 'kremlin', 'touch', 'fulfilled', 'orbanco', 'taipei', 'popularity', 'alza', 'bans', 'condoms', 'restriction', 'hovered', 'wmc', 'burdekin', 'icch', 'denatured', 'bubble', 'bars', 'hesse', 'impression', '1500', 'papandreou', 'hata', 'frame', 'norsk', 'varying', 'govett', 'acceleration', 'contracting', 'buttrose', 'cohen', 'intangible', 'allwaste', 'harwood', 'surveys', 'eleventh', 'kobe', 'seismic', 'marketer', 'chien', 'contemplated', 'kill', 'viner', 'atmosphere', 'signalled', 'entertain', '761', 'mer', 'eugene', 'districts', 'shing', 'harold', 'pcr', 'fault', 'stewart', 'suez', 'travelers', 'huayta', 'yale', 'avery', 'apt', 'levon', 'width', 'ambitious', 'kaufman', 'braverman', 'toy', 'federated', 'zeebregts', 'earners', 'republicbank', 'ajinomoto', 'sovereignty', 'alfred', 'fought', 'multifoods', 'circulated', 'brasilia', 'warnings', 'seidman', 'consumed', '024', 'subscribe', 'dim', 'reintroduction', 'aaa', 'restatement', '1200', 'hecla', 'shattner', 'bue', 'brass', 'alloys', 'labelling', 'rolls', 'merging', 'apex', 'balletto', 'arbitrageurs', 'canyon', 'accelerating', 'aristech', 'rca', 'callable', 'landslide', 'siegler', 'rhine', 'packing', 'nzi', 'unisys', 'viermetz', 'varity', 'dumez', 'additionally', 'petromin', 'ctc', 'meston', 'ansett', 'unloading', 'vbi', 'paralax', 'holly', 'guess', 'groote', 'cannon', 'occupied', 'ufcwu', 'penner', 'oii', 'chancery', 'memories', 'hemdale', 'netbacks', 'reph', 'willmon', 'earmarked', 'astra', 'peg', 'geodyne', 'pharmacontrol', 'cbc', 'kasahara', 'taketomi', 'cholesterol', 'amr', 'buchanan', 'trailways', 'nzfp', 'digiorgio', 'eligibility', 'restricting', 'retroactively', 'tries', 'dai', '878', 'refer', 'prospecting', 'stangeland', 'averages', '832', 'applicable', 'hbj', 'unwelcome', 'aloha', 'questionable', 'chargeoffs', 'liable', 'pemex', 'tap', 'tranche', 'clinton', 'helicopters', 'optimal', 'page', 'playing', 'drawdown', 'endotronics', 'yamaha', 'friends', '039', 'cancel', 'disposable', 'paz', 'stauffer', 'distributing', 'knowing', 'impacts', 'households', 'identical', '015', 'expellers', 'linseed', 'outturn', 'explicit', 'strive', 'interrupted', 'reaches', 'rigid', 'packers', 'theme', 'clubs', 'feburary', 'symposium', 'wiped', 'billions', 'pfennigs', 'stemmed', 'shipbuilders', 'secretariat', 'tuskaloosa', 'verification', 'absorbed', 'viability', 'catalytic', 'tally', 'knocked', 'ring', 'armacost', 'demonstrate', 'tri', 'dirhams', 'conciliatory', 'relieving', 'raid', 'goodman', 'fcc', 'surpassed', 'indianapolis', 'swiftly', 'eye', 'tennessee', 'endanger', 'aggression', 'edition', 'threshold', 'solicit', 'initiate', 'teams', 'kahan', 'carroll', '044', 'weights', 'completes', 'dainippon', 'typical', 'lives', 'squeezing', 'resumption', 'halved', 'unwanted', 'overhang', 'emerges', 'conceded', 'economical', 'functions', 'steve', 'smooth', 'rivals', 'financier', 'inroads', 'deter', 'query', 'seaway', 'inches', 'revalue', 'gallium', 'arsenide', 'stringent', 'suspect', 'deductions', 'nicaraguan', 'kiel', 'diminish', 'modernise', 'disturbed', 'embark', 'dar', 'salaam', 'outlet', 'zaire', 'armco', 'patient', 'slate', 'cbkg', '1700', '1996', 'refrigeration', 'gases', 'install', 'siddeley', 'tenth', 'sustaining', '762', 'psychological', 'invite', 'combustion', 'jacksonville', 'converts', 'modernization', 'awaited', 'drastically', 'counterparts', '12th', 'startup', 'expressing', 'sieg', 'repairing', 'booming', 'reforming', 'bryson', 'marc', 'affair', 'afterwards', 'foodgrain', 'foodgrains', 'fertilisers', 'squeeze', 'missions', 'escorting', 'convoy', 'candidates', 'guild', 'ugandan', 'shilling', 'grossly', 'overvalued', 'ecopetrol', 'concentration', 'era', 'wise', 'display', 'inflated', 'depositary', 'novel', 'resurgence', 'plane', 'walters', 'grieveson', 'comfortably', 'shake', 'lucrative', 'refuse', 'panamanian', 'insure', 'dental', '949', 'watched', 'pave', 'anniversary', 'treaty', 'readily', 'fuelled', 'fits', 'guided', 'destocking', 'policymakers', 'throw', 'enhancing', 'reneging', 'integrate', 'mad', 'cesar', 'geological', 'explored', 'johannesburg', 'accepts', 'irwin', 'earliest', 'eve', 'telesis', 'assumptions', 'prediction', 'funeral', '903', 'divs', 'centred', 'rbd', 'intervals', 'borrower', 'loosen', 'woong', 'diminished', 'curve', 'hfcs', 'enacted', 'upgrading', 'employer', 'unsold', 'conagra', 'shillings', 'gibraltar', 'chapman', 'dedicated', 'duration', 'pensions', 'merits', 'rebuffed', 'occasion', 'ridden', 'equivalents', 'prescription', 'anonymity', 'penetration', 'films', 'cruzado', 'unified', 'succeeds', 'discouraged', 'fsb', 'christopher', 'spreading', 'weighing', 'gruppo', 'tourism', 'prudent', 'pulled', 'lagging', 'grenfell', 'reconstruction', 'zeebrugge', 'capsized', 'nominated', 'confirming', 'reaffirm', 'itt', 'curtailed', 'differing', 'schedules', 'profitably', 'grosso', 'mineworkers', 'novo', 'tabled', 'libyan', 'ruding', 'tinto', 'worrying', 'compounded', 'redemptions', 'parity', 'ratified', 'gerard', 'scattered', 'alarm', 'nitrogen', 'succeeding', '082', 'angry', 'potato', 'pig', 'viable', 'sci', 'devastated', 'matthey', 'woods', 'unfounded', 'cell', 'nugent', 'refine', 'vulnerability', 'beets', 'fortunes', 'soar', 'ministries', '2001', 'accessories', 'installation', 'strategies', 'correspond', 'dampening', 'downgrade', 'brkn', 'imputation', 'howell', 'keller', 'varied', 'color', 'workstations', 'periodic', 'axp', 'pit', 'electrospace', 'chloride', 'chilean', 'lennar', 'deflationary', 'negligible', 'grip', 'clause', 'richardson', 'ol', 'impetus', 'humans', 'learn', 'grants', 'stabilised', 'exploring', 'poorest', 'observed', 'peanuts', 'convergence', 'thwart', 'ranking', 'embargo', '8p', 'materially', 'ceilings', 'anticipating', 'detroit', 'specialised', 'seized', 'hefty', 'iceland', 'jacksons', 'ramon', 'municipal', 'bipartisan', 'phil', 'kirkland', 'buckhorn', 'containers', 'soliciting', 'proxies', 'endangering', 'slumped', 'collectively', 'contingency', 'reputation', 'smithkline', 'depression', 'ica', 'graan', 'mij', 'rgc', 'adopting', 'ashland', 'anywhere', 'contingencies', 'accomplish', 'pieces', 'fulfil', 'adequacy', 'affiliation', 'eni', 'jeddah', 'abolition', 'labrecque', 'murphy', 'draining', 'filled', 'trucking', 'tass', 'theta', 'acme', 'denying', 'text', 'rape', 'richards', 'desired', 'struggle', 'treasuries', 'bci', 'cairo', '097', 'relocate', 'kk', 'tl', 'oceania', 'xiamen', 'obstacle', 'organised', 'cp', 'spc', 'dca', 'escalante', 'empty', 'complementary', 'comparative', 'pta', '1971', 'dbkg', 'penny', 'freer', 'bush', 'ingot', 'ideally', 'guidance', 'penalized', 'sunk', 'cruz', 'spinning', 'saga', 'gabon', 'confectionery', 'baron', 'tougher', 'hawkeye', 'deteriorating', 'norge', 'kilowatt', 'eggs', 'incur', 'capitals', 'rests', 'hapag', 'winding', 'skeoch', 'zoete', 'wedd', 'ryan', 'justification', 'nichols', 'pierson', 'nathan', 'bilson', 'intersected', 'crowe', 'industrie', 'centrale', 'egyptian', 'alternate', 'cruzados', 'introductions', 'reg', 'reprisals', 'wyoming', 'cape', 'strikers', 'dodge', 'licensee', 'cleanup', 'rawl', 'mitchell', 'persist', 'lanston', 'undesirable', 'announces', 'fluctuating', 'recommends', 'ln', 'interfirst', 'haruo', 'hussein', 'raided', 'herrhausen', 'jaguar', 'children', 'csce', 'oreffice', 'fitness', 'nominees', 'upheld', 'intermedics', 'upset', 'tian', 'patterns', 'amylum', 'callebaut', 'artificial', 'durables', 'contel', 'cascade', 'lerner', 'repaired', 'conade', 'liberalize', 'cytrx', 'posts', 'mpt', 'tallow', 'oxy', 'smart', 'honda', 'duff', 'meridian', 'leaf', 'brink', 'aps', 'arkansas', 'slated', 'concert', 'reveal', 'polypropylene', 'mhz', 'marwick', 'heublein', 'introducing', 'meinhardt', 'guillaume', 'forbes', 'ferris', 'panhandle', 'boat', 'captive', 'spite', 'indium', 'wilkinson', 'fabrics', 'magellan', 'everybody', 'youghal', 'porex', 'showboat', 'cheung', 'valero', 'lockout', 'ovr', 'takeuchi', 'conger', 'todd', 'chen', '1972', 'valhi', 'innovex', 'smit', 'mcdowell', 'eurofer', 'spethmann', 'immune', 'kerridge', 'taco', 'insects', 'clones', 'cwts', 'cavendish', 'genex', 'crellin', 'buitoni', 'medco', 'kaske', 'cablevision', 'forint', 'wolf', 'dealerships', 'jauppi', 'leahy', 'league', 'inertia', 'ichi', 'reimburse', 'ariz', 'distillates', 'pooled', 'implied', 'pack', 'henkel', 'unofficial', 'undergo', 'overdue', 'jopling', 'bolivian', 'estenssoro', 'seeds', 'erik', 'cathodes', 'onwards', 'levied', 'presenting', 'fairness', 'deduction', 'spectrum', 'consequence', 'lucky', 'releasing', 'amusement', 'sounded', 'specializes', 'hinder', 'moderation', 'wayne', 'valuable', 'specializing', 'temperature', 'translate', 'persuading', 'pictures', 'insistence', 'supplemental', 'batteries', 'flight', 'admit', 'warmer', 'tele', 'nice', 'unionized', 'retrieval', 'basf', 'hindered', '1300', 'magazines', 'benson', 'prohibited', 'thwarted', 'canary', 'escrow', 'itsu', 'lieu', 'kuala', 'lumpur', 'predicting', 'unaffected', 'prompting', 'nutrition', 'hoc', 'subdued', 'accumulation', 'mainframe', 'players', 'vendor', 'finanziaria', 'welsh', 'selloff', 'diminishing', 'clouded', 'productions', 'impatience', 'uss', 'shifted', 'goldendale', 'blanca', 'televisions', 'jefferies', 'drake', 'vista', 'appointment', 'marcus', 'gilberto', 'intelligent', 'baking', 'towns', 'sophisticated', 'devised', 'freely', 'phenomenon', 'illegally', 'guerrillas', 'splits', 'bat', 'appliance', 'sub', 'anyway', 'printers', 'desk', 'bumper', 'fso', 'alusuisse', 'electro', 'reliable', 'testifying', 'heaviest', 'gearing', 'portions', 'barred', 'holidays', 'carryover', 'discontinue', 'yarn', 'conn', 'lawn', 'lin', 'chung', 'countered', 'transatlantic', 'retreat', 'sums', 'rein', 'staged', 'explosive', 'exciting', 'attacking', 'relationships', 'plagued', 'decisive', 'reintroduced', 'vowg', 'echlin', 'nwbl', 'women', 'soo', 'lac', 'lifestyle', 'pumped', 'rosenberg', 'haiti', 'disincentive', 'optical', 'outset', 'distort', 'weizsaecker', 'holt', 'saunders', 'negatively', 'bold', 'levitt', 'evaluated', 'boone', 'plays', 'lloy', 'altogether', 'battered', 'sliding', 'thoresen', 'allowable', 'hang', 'mainstay', 'define', 'relates', 'slid', 'sowing', '519', 'examination', 'refinance', 'refunds', 'targeting', 'perfectly', 'softer', 'certification', 'destined', 'rid', 'oy', 'berliner', 'select', 'accruing', 'protracted', 'dormancy', 'fujian', 'setback', 'extract', 'feedstock', 'accountants', 'realization', 'forgiveness', 'lebanon', 'fin', 'stripper', 'liquified', 'asea', 'pleas', 'tadashi', 'hitting', 'tumbled', 'baa', 'confined', 'learjet', 'interconnect', 'negotiator', 'dockworkers', 'swings', 'groundwork', 'streamlined', 'ethylene', 'macroeconomic', 'geared', 'fatty', 'condere', 'teck', 'constructing', 'witte', 'idaho', 'nsc', 'hired', 'ralph', 'deflator', 'shrugged', 'breakthrough', 'stark', 'medicine', 'budgeted', 'desperate', 'nord', 'butler', 'rubio', 'contested', '771', 'appoint', 'ava', 'vaskevitch', 'alongside', 'foresees', 'interference', 'drink', 'wilmington', 'haul', 'consulted', 'reinstate', 'staunch', 'vetoed', 'subsidize', 'solomon', 'extrusion', 'shape', 'debated', 'adjacent', 'covenants', 'glut', 'egg', 'documentation', 'reaffirmation', 'escorts', 'featured', 'uspci', 'desirable', 'syria', 'counselor', 'fuer', 'enabled', 'wmx', 'cepe', 'pumps', 'colombo', 'financiere', 'numerous', 'tranches', 'necessity', 'influx', 'unlisted', 'pressuring', 'checks', 'undeveloped', 'impressed', 'canamax', 'apartheid', 'mail', 'dls', 'soy', 'admission', 'notable', 'refusing', 'prohibit', 'cordero', 'nato', 'mees', 'chernobyl', 'hire', 'finnish', 'ian', 'familiar', 'narrower', 'reversing', 'intensive', 'meyer', 'arnold', 'ingots', 'almir', 'latex', '898', 'blip', 'relaxation', 'centel', 'bright', 'murdochville', 'seaga', 'trimmed', 'arable', '917', 'diverted', 'sindt', 'keystone', 'brewer', 'ticket', 'kleen', 'splinter', 'agribusiness', 'depositors', 'entrenched', 'stepping', 'beryl', 'mediator', 'generous', 'rochester', 'overhead', 'bradford', 'santana', 'simmons', 'shop', 'disappear', 'seaforth', 'caltex', 'consultant', 'conservatives', 'henan', 'martinez', 'cuenca', 'contents', 'ratification', 'flank', 'coniston', 'politicians', 'arose', 'waivers', 'shutdowns', 'feeder', 'realities', 'devalue', 'directorate', 'sep', 'tesco', 'maple', 'ecolab', 'nev', 'wis', 'struggling', 'designer', 'lessening', 'coordinating', 'venalum', 'slope', 'differ', 'moderating', 'afloat', 'completions', 'belongs', 'intercare', 'pearson', 'meatpackers', 'penna', 'lucas', 'tolerate', 'unsettled', 'mckesson', 'fm', 'mccrory', 'polaroid', 'osaka', 'kelman', 'julius', 'coffees', 'breakwater', 'pcgg', 'hoffman', 'mcminimy', 'crandall', 'lng', 'smithson', 'arabica', 'pravda', 'hertz', 'vt', 'finalize', 'advocated', 'chilled', 'rent', 'lamb', 'tandem', 'strip', 'alex', 'invisibles', 'preferences', 'hydrocarbons', 'armtek', 'armstrong', 'camdessus', 'downside', 'buildup', 'roasted', 'hardline', 'bko', 'bearer', 'cdt', 'patch', 'juergen', 'adequately', 'werner', 'belonging', 'vision', 'ernest', 'prelude', 'ratify', 'gazette', 'exceptions', 'clash', 'thrown', 'breaching', 'mini', 'stuck', 'subordinate', 'forego', 'geography', 'darta', 'unreasonable', 'implication', 'bangkok', 'sdrs', 'tony', 'guin', 'newsprint', 'print', 'metric', 'ride', 'allotted', 'industrialists', 'shale', 'crushings', 'collect', '022', 'undoubtedly', 'inform', 'dwindling', 'otsuki', 'laden', 'minpeco', 'keeps', 'underperforming', 'xerox', 'researchers', 'stricter', 'polyester', 'ami', '1b', 'rosenbaum', 'signalling', 'recapture', 'geoffrey', 'unissued', 'lauderdale', 'mcf', 'syndicated', 'eurodollar', 'aground', 'surcharge', 'haitian', 'kenyan', 'beneficiaries', 'anxiety', 'falter', 'walt', 'speciality', 'disappearance', 'datron', 'assay', 'estimating', 'beneficiary', 'bor', 'rescued', 'inaccurate', 'leclerc', 'colour', 'quantify', 'amo', 'worsened', 'goldfields', 'kilometers', 'dilson', 'reactions', 'cbi', 'exceptionally', 'eurodollars', 'defeated', 'fines', 'tier', 'constructions', 'tree', 'insect', 'mich', 'pigmeat', 'gafta', 'breaks', 'melbourne', 'dock', 'leo', 'sheets', 'postal', 'abrupt', 'maine', 'mlns', 'borders', 'regulates', 'bcw', 'margarine', 'beauty', 'chequable', 'landesbank', 'rallies', 'walls', 'weapons', 'outer', 'theft', 'consisted', 'objected', 'relaxed', 'entitling', 'deliverable', 'den', 'stats', 'oljeselskap', 'ineffective', 'bcom', 'kern', 'cardiovascular', 'mutsuki', 'burdened', 'fend', 'speeding', 'senegal', 'stagnating', 'powder', 'fumio', 'updated', 'rob', 'discounting', 'shrink', 'rescinded', 'vigorous', 'securing', 'nursery', 'khj', 'auspices', 'confidentiality', 'destruction', 'inefficient', 'rhode', 'growmark', 'underestimated', 'allegedly', 'consultancy', 'walsh', 'salaried', 'itel', 'cancellation', 'ditch', 'undercut', 'brisbane', 'donors', 'slb', 'predatory', 'nursing', 'liberalising', 'bernard', 'ghanaian', 'personally', 'coasts', 'galactic', 'sidelined', 'tinker', 'landed', 'firmness', 'steadied', 'hawkins', 'inro', 'minds', 'client', 'frictions', 'lmfe', 'crepe', 'consolidating', 'supposed', 'keswick', 'cigarettes', 'assayed', 'escalating', 'testified', 'offing', 'backdrop', 'ski', 'overriding', 'stockbroker', 'meteorologist', 'grammes', 'emission', 'relate', 'fruits', 'objection', 'lie', 'alp', 'roads', 'excesses', 'unctad', 'vi', 'proof', 'dryness', 'laydays', 'unfavorable', 'hectic', 'tumble', 'conform', 'midwestern', 'disagreement', 'amalgamation', 'studios', 'correspondents', 'bbc', 'update', 'schilling', 'newport', 'nzier', 'object', 'enact', 'sausage', 'issuer', 'breathing', 'profile', 'printed', 'zack', 'countermeasures', 'manpower', 'ongpin', 'manoeuvre', 'younger', 'aero', 'mohler', '21st', 'craig', 'graven', 'exco', 'italiana', 'inspected', 'beaver', 'tide', 'regal', 'bi', 'hydrocracker', 'ici', 'asamera', 'shops', 'commonly', 'backwardations', 'ethanol', 'flowering', 'cadmium', 'diablo']\n"
          ],
          "name": "stdout"
        }
      ]
    },
    {
      "cell_type": "markdown",
      "metadata": {
        "id": "v91ojlEfAHnM"
      },
      "source": [
        "# 사전 훈련된 임베딩\n"
      ]
    },
    {
      "cell_type": "code",
      "metadata": {
        "colab": {
          "base_uri": "https://localhost:8080/"
        },
        "id": "XaRjaJsm4cj2",
        "outputId": "2f6d45c3-a809-4f92-f07b-323059d538f1"
      },
      "source": [
        "import nltk\n",
        "nltk.download('punkt')  "
      ],
      "execution_count": null,
      "outputs": [
        {
          "output_type": "stream",
          "text": [
            "[nltk_data] Downloading package punkt to /root/nltk_data...\n",
            "[nltk_data]   Package punkt is already up-to-date!\n"
          ],
          "name": "stdout"
        },
        {
          "output_type": "execute_result",
          "data": {
            "text/plain": [
              "True"
            ]
          },
          "metadata": {
            "tags": []
          },
          "execution_count": 179
        }
      ]
    },
    {
      "cell_type": "code",
      "metadata": {
        "id": "9FdLU-skAN8U"
      },
      "source": [
        "import urllib.request\n",
        "import zipfile\n",
        "from lxml import etree\n",
        "import re\n",
        "from nltk.tokenize import word_tokenize, sent_tokenize"
      ],
      "execution_count": null,
      "outputs": []
    },
    {
      "cell_type": "code",
      "metadata": {
        "colab": {
          "base_uri": "https://localhost:8080/"
        },
        "id": "EvNkLuVRaQMV",
        "outputId": "d681073f-5289-4f85-ae49-e352f85f27c5"
      },
      "source": [
        "urllib.request.urlretrieve(\"https://raw.githubusercontent.com/GaoleMeng/RNN-and-FFNN-textClassification/master/ted_en-20160408.xml\", filename=\"ted_en-20160408.xml\")"
      ],
      "execution_count": null,
      "outputs": [
        {
          "output_type": "execute_result",
          "data": {
            "text/plain": [
              "('ted_en-20160408.xml', <http.client.HTTPMessage at 0x7f3a7210f810>)"
            ]
          },
          "metadata": {
            "tags": []
          },
          "execution_count": 182
        }
      ]
    },
    {
      "cell_type": "code",
      "metadata": {
        "id": "h6yX2MHDatVt"
      },
      "source": [
        "targetXML=open('ted_en-20160408.xml', 'r', encoding='UTF8')\n",
        "target_text = etree.parse(targetXML)\n",
        "\n",
        "# xml 파일로부터 <content>와 </content> 사이의 내용만 가져온다.\n",
        "parse_text = '\\n'.join(target_text.xpath('//content/text()'))\n",
        "\n",
        "# 정규 표현식의 sub 모듈을 통해 content 중간에 등장하는 (Audio), (Laughter) 등의 배경음 부분을 제거.\n",
        "# 해당 코드는 괄호로 구성된 내용을 제거.\n",
        "content_text = re.sub(r'\\([^)]*\\)', '', parse_text)\n",
        "\n",
        "# 입력 코퍼스에 대해서 NLTK를 이용하여 문장 토큰화를 수행.\n",
        "sent_text = sent_tokenize(content_text)\n",
        "\n",
        "# 각 문장에 대해서 구두점을 제거하고, 대문자를 소문자로 변환.\n",
        "normalized_text = []\n",
        "for string in sent_text:\n",
        "     tokens = re.sub(r\"[^a-z0-9]+\", \" \", string.lower())\n",
        "     normalized_text.append(tokens)\n",
        "\n",
        "# 각 문장에 대해서 NLTK를 이용하여 단어 토큰화를 수행.\n",
        "result = [word_tokenize(sentence) for sentence in normalized_text]"
      ],
      "execution_count": null,
      "outputs": []
    },
    {
      "cell_type": "code",
      "metadata": {
        "colab": {
          "base_uri": "https://localhost:8080/"
        },
        "id": "KlnSStJKjecr",
        "outputId": "27f8ff08-a4be-4992-9d8a-0f46f39fae81"
      },
      "source": [
        "print('총 샘플의 개수 : {}'.format(len(result)))"
      ],
      "execution_count": null,
      "outputs": [
        {
          "output_type": "stream",
          "text": [
            "총 샘플의 개수 : 273424\n"
          ],
          "name": "stdout"
        }
      ]
    },
    {
      "cell_type": "code",
      "metadata": {
        "colab": {
          "base_uri": "https://localhost:8080/"
        },
        "id": "KfJqDwr-j5L0",
        "outputId": "066e2cab-c163-47e3-fa7f-0ec7ee354bfc"
      },
      "source": [
        "print(result)"
      ],
      "execution_count": null,
      "outputs": [
        {
          "output_type": "stream",
          "text": [
            "[['here', 'are', 'two', 'reasons', 'companies', 'fail', 'they', 'only', 'do', 'more', 'of', 'the', 'same', 'or', 'they', 'only', 'do', 'what', 's', 'new'], ['to', 'me', 'the', 'real', 'real', 'solution', 'to', 'quality', 'growth', 'is', 'figuring', 'out', 'the', 'balance', 'between', 'two', 'activities', 'exploration', 'and', 'exploitation'], ['both', 'are', 'necessary', 'but', 'it', 'can', 'be', 'too', 'much', 'of', 'a', 'good', 'thing'], ['consider', 'facit'], ['i', 'm', 'actually', 'old', 'enough', 'to', 'remember', 'them']]\n"
          ],
          "name": "stdout"
        }
      ]
    },
    {
      "cell_type": "code",
      "metadata": {
        "colab": {
          "base_uri": "https://localhost:8080/"
        },
        "id": "ME15KgZwj-cD",
        "outputId": "bd30e801-1fae-42f9-fa7d-129e73c0c59e"
      },
      "source": [
        "for line in result[:3]:\n",
        "    print(line)"
      ],
      "execution_count": null,
      "outputs": [
        {
          "output_type": "stream",
          "text": [
            "['here', 'are', 'two', 'reasons', 'companies', 'fail', 'they', 'only', 'do', 'more', 'of', 'the', 'same', 'or', 'they', 'only', 'do', 'what', 's', 'new']\n",
            "['to', 'me', 'the', 'real', 'real', 'solution', 'to', 'quality', 'growth', 'is', 'figuring', 'out', 'the', 'balance', 'between', 'two', 'activities', 'exploration', 'and', 'exploitation']\n",
            "['both', 'are', 'necessary', 'but', 'it', 'can', 'be', 'too', 'much', 'of', 'a', 'good', 'thing']\n"
          ],
          "name": "stdout"
        }
      ]
    },
    {
      "cell_type": "code",
      "metadata": {
        "id": "rqT1LKNFrLWV"
      },
      "source": [
        "from gensim.models import Word2Vec\n",
        "model = Word2Vec(sentences=result, size=100, window=5, min_count=5, workers=4, sg=0)"
      ],
      "execution_count": null,
      "outputs": []
    },
    {
      "cell_type": "code",
      "metadata": {
        "colab": {
          "base_uri": "https://localhost:8080/"
        },
        "id": "oir6gkEhrU9H",
        "outputId": "780886be-3abe-40df-cf2c-d305cf114943"
      },
      "source": [
        "model_result = model.wv.most_similar(\"man\")\n",
        "print(model_result)"
      ],
      "execution_count": null,
      "outputs": [
        {
          "output_type": "stream",
          "text": [
            "[('woman', 0.8574963212013245), ('lady', 0.8021461367607117), ('guy', 0.8000892400741577), ('girl', 0.7771750688552856), ('boy', 0.7538175582885742), ('soldier', 0.7410368919372559), ('gentleman', 0.7224736213684082), ('poet', 0.6965290307998657), ('kid', 0.6923561096191406), ('son', 0.6724429130554199)]\n"
          ],
          "name": "stdout"
        }
      ]
    },
    {
      "cell_type": "code",
      "metadata": {
        "id": "LQCzPtsbxwQ2"
      },
      "source": [
        "from gensim.models import KeyedVectors\n",
        "model.wv.save_word2vec_format('eng_w2v') # 모델 저장\n",
        "loaded_model = KeyedVectors.load_word2vec_format(\"eng_w2v\") # 모델 로드"
      ],
      "execution_count": null,
      "outputs": []
    },
    {
      "cell_type": "code",
      "metadata": {
        "colab": {
          "base_uri": "https://localhost:8080/"
        },
        "id": "zxcHV1Jtx4fC",
        "outputId": "f9fb408e-8949-4324-b6e1-f7e6843165ba"
      },
      "source": [
        "model_result = loaded_model.most_similar(\"man\")\n",
        "print(model_result)"
      ],
      "execution_count": null,
      "outputs": [
        {
          "output_type": "stream",
          "text": [
            "[('woman', 0.8574963212013245), ('lady', 0.8021461367607117), ('guy', 0.8000892400741577), ('girl', 0.7771750688552856), ('boy', 0.7538175582885742), ('soldier', 0.7410368919372559), ('gentleman', 0.7224736213684082), ('poet', 0.6965290307998657), ('kid', 0.6923561096191406), ('son', 0.6724429130554199)]\n"
          ],
          "name": "stdout"
        }
      ]
    },
    {
      "cell_type": "code",
      "metadata": {
        "colab": {
          "base_uri": "https://localhost:8080/"
        },
        "id": "DQbH-1Tw9PWZ",
        "outputId": "9907d03c-ecb1-45d3-f911-9989d2e60348"
      },
      "source": [
        "from google.colab import drive\n",
        "drive.mount('/content/drive')"
      ],
      "execution_count": 6,
      "outputs": [
        {
          "output_type": "stream",
          "text": [
            "Drive already mounted at /content/drive; to attempt to forcibly remount, call drive.mount(\"/content/drive\", force_remount=True).\n"
          ],
          "name": "stdout"
        }
      ]
    },
    {
      "cell_type": "code",
      "metadata": {
        "id": "6kUzWNUxyAXr",
        "colab": {
          "base_uri": "https://localhost:8080/"
        },
        "outputId": "4dfc6d20-6555-4751-a257-8d4284a9a9c1"
      },
      "source": [
        "cd /content/drive/MyDrive\n"
      ],
      "execution_count": 1,
      "outputs": [
        {
          "output_type": "stream",
          "text": [
            "/content/drive/MyDrive\n"
          ],
          "name": "stdout"
        }
      ]
    },
    {
      "cell_type": "markdown",
      "metadata": {
        "id": "RzAA6KSqbLSp"
      },
      "source": [
        ""
      ]
    },
    {
      "cell_type": "code",
      "metadata": {
        "colab": {
          "base_uri": "https://localhost:8080/"
        },
        "id": "GVwDhq22XNcb",
        "outputId": "7d088f8f-e6f9-4243-d670-dc41e29cfac2"
      },
      "source": [
        "cd /content/drive/MyDrive"
      ],
      "execution_count": 6,
      "outputs": [
        {
          "output_type": "stream",
          "text": [
            "/content/drive/MyDrive\n"
          ],
          "name": "stdout"
        }
      ]
    },
    {
      "cell_type": "code",
      "metadata": {
        "id": "0R2cyop19gCk"
      },
      "source": [
        "import gensim"
      ],
      "execution_count": 8,
      "outputs": []
    },
    {
      "cell_type": "markdown",
      "metadata": {
        "id": "Q92cb41rbDx6"
      },
      "source": [
        "# 사전 훈련된 임베딩 데이타 학습"
      ]
    },
    {
      "cell_type": "code",
      "metadata": {
        "colab": {
          "base_uri": "https://localhost:8080/",
          "height": 34
        },
        "id": "ijZB4o0Y9s3v",
        "outputId": "b02c6439-db32-4b34-d366-25456f6e9b49"
      },
      "source": [
        "pwd"
      ],
      "execution_count": 199,
      "outputs": [
        {
          "output_type": "execute_result",
          "data": {
            "application/vnd.google.colaboratory.intrinsic+json": {
              "type": "string"
            },
            "text/plain": [
              "'/content/drive/MyDrive'"
            ]
          },
          "metadata": {
            "tags": []
          },
          "execution_count": 199
        }
      ]
    },
    {
      "cell_type": "code",
      "metadata": {
        "colab": {
          "base_uri": "https://localhost:8080/"
        },
        "id": "xKm7Fulv90EP",
        "outputId": "58398f83-92c8-4dff-acde-e07337fca8c5"
      },
      "source": [
        "!pip install wget"
      ],
      "execution_count": 4,
      "outputs": [
        {
          "output_type": "stream",
          "text": [
            "Collecting wget\n",
            "  Downloading https://files.pythonhosted.org/packages/47/6a/62e288da7bcda82b935ff0c6cfe542970f04e29c756b0e147251b2fb251f/wget-3.2.zip\n",
            "Building wheels for collected packages: wget\n",
            "  Building wheel for wget (setup.py) ... \u001b[?25l\u001b[?25hdone\n",
            "  Created wheel for wget: filename=wget-3.2-cp37-none-any.whl size=9675 sha256=5601ca097e9423b3ee48c9b2ad87a00d0aa601c53e1de44eb994d5157a5a3dbf\n",
            "  Stored in directory: /root/.cache/pip/wheels/40/15/30/7d8f7cea2902b4db79e3fea550d7d7b85ecb27ef992b618f3f\n",
            "Successfully built wget\n",
            "Installing collected packages: wget\n",
            "Successfully installed wget-3.2\n"
          ],
          "name": "stdout"
        }
      ]
    },
    {
      "cell_type": "code",
      "metadata": {
        "colab": {
          "base_uri": "https://localhost:8080/"
        },
        "id": "saBQmIeqb-zq",
        "outputId": "f37c84f7-31f3-4d68-8d06-cfff111d90cb"
      },
      "source": [
        "!wget -c \"https://s3.amazonaws.com/dl4j-distribution/GoogleNews-vectors-negative300.bin.gz\""
      ],
      "execution_count": 6,
      "outputs": [
        {
          "output_type": "stream",
          "text": [
            "--2021-06-14 12:13:38--  https://s3.amazonaws.com/dl4j-distribution/GoogleNews-vectors-negative300.bin.gz\n",
            "Resolving s3.amazonaws.com (s3.amazonaws.com)... 52.216.76.238\n",
            "Connecting to s3.amazonaws.com (s3.amazonaws.com)|52.216.76.238|:443... connected.\n",
            "HTTP request sent, awaiting response... 200 OK\n",
            "Length: 1647046227 (1.5G) [application/x-gzip]\n",
            "Saving to: ‘GoogleNews-vectors-negative300.bin.gz’\n",
            "\n",
            "GoogleNews-vectors- 100%[===================>]   1.53G  77.9MB/s    in 21s     \n",
            "\n",
            "2021-06-14 12:13:59 (75.8 MB/s) - ‘GoogleNews-vectors-negative300.bin.gz’ saved [1647046227/1647046227]\n",
            "\n"
          ],
          "name": "stdout"
        }
      ]
    },
    {
      "cell_type": "code",
      "metadata": {
        "id": "0UoyJ97ScOCk"
      },
      "source": [
        "model = gensim.models.KeyedVectors.load_word2vec_format('/content/GoogleNews-vectors-negative300.bin.gz', binary=True)  "
      ],
      "execution_count": 10,
      "outputs": []
    },
    {
      "cell_type": "code",
      "metadata": {
        "colab": {
          "base_uri": "https://localhost:8080/"
        },
        "id": "Hn7M0-0-szoG",
        "outputId": "e4c64b43-8e04-4889-b4d1-b5ccc417c1d8"
      },
      "source": [
        "print(model.vectors.shape)"
      ],
      "execution_count": 11,
      "outputs": [
        {
          "output_type": "stream",
          "text": [
            "(3000000, 300)\n"
          ],
          "name": "stdout"
        }
      ]
    },
    {
      "cell_type": "code",
      "metadata": {
        "colab": {
          "base_uri": "https://localhost:8080/"
        },
        "id": "Q460VysQts-0",
        "outputId": "c98f0eef-27b0-43f8-bb30-b6ededba06b9"
      },
      "source": [
        "print (model.similarity('this', 'is')) # 두 단어의 유사도 계산하기\n",
        "print (model.similarity('post', 'book'))"
      ],
      "execution_count": 12,
      "outputs": [
        {
          "output_type": "stream",
          "text": [
            "0.40797037\n",
            "0.057204384\n"
          ],
          "name": "stdout"
        }
      ]
    },
    {
      "cell_type": "code",
      "metadata": {
        "colab": {
          "base_uri": "https://localhost:8080/"
        },
        "id": "YOfnVFMyt1RH",
        "outputId": "e043ab6a-a798-4682-998c-922c7fb7bcc2"
      },
      "source": [
        "print(model['book'])"
      ],
      "execution_count": 13,
      "outputs": [
        {
          "output_type": "stream",
          "text": [
            "[ 0.11279297 -0.02612305 -0.04492188  0.06982422  0.140625    0.03039551\n",
            " -0.04370117  0.24511719  0.08740234 -0.05053711  0.23144531 -0.07470703\n",
            "  0.21875     0.03466797 -0.14550781  0.05761719  0.00671387 -0.00701904\n",
            "  0.13183594 -0.25390625  0.14355469 -0.140625   -0.03564453 -0.21289062\n",
            " -0.24804688  0.04980469 -0.09082031  0.14453125  0.05712891 -0.10400391\n",
            " -0.19628906 -0.20507812 -0.27539062  0.03063965  0.20117188  0.17382812\n",
            "  0.09130859 -0.10107422  0.22851562 -0.04077148  0.02709961 -0.00106049\n",
            "  0.02709961  0.34179688 -0.13183594 -0.078125    0.02197266 -0.18847656\n",
            " -0.17480469 -0.05566406 -0.20898438  0.04858398 -0.07617188 -0.15625\n",
            " -0.05419922  0.01672363 -0.02722168 -0.11132812 -0.03588867 -0.18359375\n",
            "  0.28710938  0.01757812  0.02185059 -0.05664062 -0.01251221  0.01708984\n",
            " -0.21777344 -0.06787109  0.04711914 -0.00668335  0.08544922 -0.02209473\n",
            "  0.31835938  0.01794434 -0.02246094 -0.03051758 -0.09570312  0.24414062\n",
            "  0.20507812  0.05419922  0.29101562  0.03637695  0.04956055 -0.06689453\n",
            "  0.09277344 -0.10595703 -0.04370117  0.19726562 -0.03015137  0.05615234\n",
            "  0.08544922 -0.09863281 -0.02392578 -0.08691406 -0.22460938 -0.16894531\n",
            "  0.09521484 -0.0612793  -0.03015137 -0.265625   -0.13378906  0.00139618\n",
            "  0.01794434  0.10107422  0.13964844  0.06445312 -0.09765625 -0.11376953\n",
            " -0.24511719 -0.15722656  0.00457764  0.12988281 -0.03540039 -0.08105469\n",
            "  0.18652344  0.03125    -0.09326172 -0.04760742  0.23730469  0.11083984\n",
            "  0.08691406  0.01916504  0.21386719 -0.0065918  -0.08984375 -0.02502441\n",
            " -0.09863281 -0.05639648 -0.26757812  0.19335938 -0.08886719 -0.25976562\n",
            "  0.05957031 -0.10742188  0.09863281  0.1484375   0.04101562  0.00340271\n",
            " -0.06591797 -0.02941895  0.20019531 -0.00521851  0.02355957 -0.13671875\n",
            " -0.12597656 -0.10791016  0.0067749   0.15917969  0.0145874  -0.15136719\n",
            "  0.07519531 -0.02905273  0.01843262  0.20800781  0.25195312 -0.11523438\n",
            " -0.23535156  0.04101562 -0.11035156  0.02905273  0.22460938 -0.04272461\n",
            "  0.09667969  0.11865234  0.08007812  0.07958984  0.3125     -0.14941406\n",
            " -0.234375    0.06079102  0.06982422 -0.14355469 -0.05834961 -0.36914062\n",
            " -0.10595703  0.00738525  0.24023438 -0.10400391 -0.02124023  0.05712891\n",
            " -0.11621094 -0.16894531 -0.06396484 -0.12060547  0.08105469 -0.13769531\n",
            " -0.08447266  0.12792969 -0.15429688  0.17871094  0.2421875  -0.06884766\n",
            "  0.03320312  0.04394531 -0.04589844  0.03686523 -0.07421875 -0.01635742\n",
            " -0.24121094 -0.08203125 -0.01733398  0.0291748   0.10742188  0.11279297\n",
            "  0.12890625  0.01416016 -0.28710938  0.16503906 -0.25585938  0.2109375\n",
            " -0.19238281  0.22363281  0.04541016  0.00872803  0.11376953  0.375\n",
            "  0.09765625  0.06201172  0.12109375 -0.24316406  0.203125    0.12158203\n",
            "  0.08642578  0.01782227  0.17382812  0.01855469  0.03613281 -0.02124023\n",
            " -0.02905273 -0.04541016  0.1796875   0.06494141 -0.13378906 -0.09228516\n",
            "  0.02172852  0.02099609  0.07226562  0.3046875  -0.27539062 -0.30078125\n",
            "  0.08691406 -0.22949219  0.0546875  -0.34179688 -0.00680542 -0.0291748\n",
            " -0.03222656  0.16210938  0.01141357  0.23339844 -0.0859375  -0.06494141\n",
            "  0.15039062  0.17675781  0.08251953 -0.26757812 -0.11669922  0.01330566\n",
            "  0.01818848  0.10009766 -0.09570312  0.109375   -0.16992188 -0.23046875\n",
            " -0.22070312  0.0625      0.03662109 -0.125       0.05151367 -0.18847656\n",
            "  0.22949219  0.26367188 -0.09814453  0.06176758  0.11669922  0.23046875\n",
            "  0.32617188  0.02038574 -0.03735352 -0.12255859  0.296875   -0.25\n",
            " -0.08544922 -0.03149414  0.38085938  0.02929688 -0.265625    0.42382812\n",
            " -0.1484375   0.14355469 -0.03125     0.00717163 -0.16601562 -0.15820312\n",
            "  0.03637695 -0.16796875 -0.01483154  0.09667969 -0.05761719 -0.00515747]\n"
          ],
          "name": "stdout"
        }
      ]
    },
    {
      "cell_type": "code",
      "metadata": {
        "id": "e0cblsuzuj1p"
      },
      "source": [
        ""
      ],
      "execution_count": null,
      "outputs": []
    }
  ]
}