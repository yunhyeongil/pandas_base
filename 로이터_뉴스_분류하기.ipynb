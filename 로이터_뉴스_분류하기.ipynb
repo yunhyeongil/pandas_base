{
  "nbformat": 4,
  "nbformat_minor": 0,
  "metadata": {
    "colab": {
      "name": "로이터 뉴스 분류하기.ipynb",
      "provenance": [],
      "collapsed_sections": [
        "cNux_0mYbUq8",
        "3HdzHNhliR9x",
        "rMAV0g0AQFF-",
        "WNf8WZU3Wmp-",
        "ybrpyXMhlmjv",
        "tlynryKO7Byo"
      ],
      "include_colab_link": true
    },
    "kernelspec": {
      "name": "python3",
      "display_name": "Python 3"
    },
    "language_info": {
      "name": "python"
    }
  },
  "cells": [
    {
      "cell_type": "markdown",
      "metadata": {
        "id": "view-in-github",
        "colab_type": "text"
      },
      "source": [
        "<a href=\"https://colab.research.google.com/github/yunhyeongil/pandas_base/blob/main/%EB%A1%9C%EC%9D%B4%ED%84%B0_%EB%89%B4%EC%8A%A4_%EB%B6%84%EB%A5%98%ED%95%98%EA%B8%B0.ipynb\" target=\"_parent\"><img src=\"https://colab.research.google.com/assets/colab-badge.svg\" alt=\"Open In Colab\"/></a>"
      ]
    },
    {
      "cell_type": "markdown",
      "metadata": {
        "id": "cNux_0mYbUq8"
      },
      "source": [
        "##  딥 러닝을 이용한 자연어 처리 입문\n",
        "- LSTM으로 로이터 뉴스 분류하기 일단 따라해보기\n",
        "https://wikidocs.net/22933\n",
        "\n",
        "- 테스트 정확도: 0.7177"
      ]
    },
    {
      "cell_type": "code",
      "metadata": {
        "id": "ANKAs-kMOsaA"
      },
      "source": [
        "from tensorflow.keras.datasets import reuters\n",
        "%matplotlib inline\n",
        "import matplotlib.pyplot as plt\n",
        "import numpy as np\n",
        "import seaborn as sns"
      ],
      "execution_count": null,
      "outputs": []
    },
    {
      "cell_type": "code",
      "metadata": {
        "id": "x2nGtP7gVo84"
      },
      "source": [
        "from tensorflow.keras.datasets import reuters\n",
        "from tensorflow.keras.models import Sequential\n",
        "from tensorflow.keras.layers import Dense, LSTM, Embedding\n",
        "from tensorflow.keras.preprocessing.sequence import pad_sequences\n",
        "from tensorflow.keras.utils import to_categorical\n",
        "from tensorflow.keras.callbacks import EarlyStopping, ModelCheckpoint\n",
        "from tensorflow.keras.models import load_model"
      ],
      "execution_count": null,
      "outputs": []
    },
    {
      "cell_type": "code",
      "metadata": {
        "colab": {
          "base_uri": "https://localhost:8080/"
        },
        "id": "AKDBEHXVYYjW",
        "outputId": "c6696c22-bec3-4311-e559-ec36e46add02"
      },
      "source": [
        "(X_train, y_train), (X_test, y_test) = reuters.load_data(num_words=1000, test_split=0.2)"
      ],
      "execution_count": null,
      "outputs": [
        {
          "output_type": "stream",
          "text": [
            "/usr/local/lib/python3.7/dist-packages/tensorflow/python/keras/datasets/reuters.py:143: VisibleDeprecationWarning: Creating an ndarray from ragged nested sequences (which is a list-or-tuple of lists-or-tuples-or ndarrays with different lengths or shapes) is deprecated. If you meant to do this, you must specify 'dtype=object' when creating the ndarray\n",
            "  x_train, y_train = np.array(xs[:idx]), np.array(labels[:idx])\n",
            "/usr/local/lib/python3.7/dist-packages/tensorflow/python/keras/datasets/reuters.py:144: VisibleDeprecationWarning: Creating an ndarray from ragged nested sequences (which is a list-or-tuple of lists-or-tuples-or ndarrays with different lengths or shapes) is deprecated. If you meant to do this, you must specify 'dtype=object' when creating the ndarray\n",
            "  x_test, y_test = np.array(xs[idx:]), np.array(labels[idx:])\n"
          ],
          "name": "stderr"
        }
      ]
    },
    {
      "cell_type": "code",
      "metadata": {
        "id": "84DTfy10Yd07"
      },
      "source": [
        "max_len = 100\n",
        "X_train = pad_sequences(X_train, maxlen=max_len) # 훈련용 뉴스 기사 패딩\n",
        "X_test = pad_sequences(X_test, maxlen=max_len) # 테스트용 뉴스 기사 패딩"
      ],
      "execution_count": null,
      "outputs": []
    },
    {
      "cell_type": "code",
      "metadata": {
        "id": "u1q5WrgyYhbx"
      },
      "source": [
        "y_train = to_categorical(y_train) # 훈련용 뉴스 기사 레이블의 원-핫 인코딩\n",
        "y_test = to_categorical(y_test) # 테스트용 뉴스 기사 레이블의 원-핫 인코딩"
      ],
      "execution_count": null,
      "outputs": []
    },
    {
      "cell_type": "code",
      "metadata": {
        "id": "tx78HuRyYjat"
      },
      "source": [
        "model = Sequential()\n",
        "model.add(Embedding(1000, 120))\n",
        "model.add(LSTM(120))\n",
        "model.add(Dense(46, activation='softmax'))"
      ],
      "execution_count": null,
      "outputs": []
    },
    {
      "cell_type": "code",
      "metadata": {
        "id": "jzFnmc_iYmev"
      },
      "source": [
        "es = EarlyStopping(monitor='val_loss', mode='min', verbose=1, patience=4) # 훈련 조기 종료\n",
        "mc = ModelCheckpoint('best_model.h5', monitor='val_acc', mode='max', verbose=1, save_best_only=True) # 훈련 과정에서 검증 데이터가 가장 높았을 때 저장"
      ],
      "execution_count": null,
      "outputs": []
    },
    {
      "cell_type": "code",
      "metadata": {
        "id": "bSVhBbZkYsQV"
      },
      "source": [
        "model.compile(loss='categorical_crossentropy', optimizer='adam', metrics=['acc'])"
      ],
      "execution_count": null,
      "outputs": []
    },
    {
      "cell_type": "code",
      "metadata": {
        "colab": {
          "base_uri": "https://localhost:8080/"
        },
        "id": "Dq20kfW_YvDI",
        "outputId": "8099a3b8-0cef-4d4b-d11a-507822139d7f"
      },
      "source": [
        "history = model.fit(X_train, y_train, batch_size=128, epochs=30, callbacks=[es, mc], validation_data=(X_test, y_test))"
      ],
      "execution_count": null,
      "outputs": [
        {
          "output_type": "stream",
          "text": [
            "Epoch 1/30\n",
            "71/71 [==============================] - 29s 376ms/step - loss: 2.5736 - acc: 0.3671 - val_loss: 2.1150 - val_acc: 0.4733\n",
            "\n",
            "Epoch 00001: val_acc improved from -inf to 0.47329, saving model to best_model.h5\n",
            "Epoch 2/30\n",
            "71/71 [==============================] - 27s 374ms/step - loss: 2.0541 - acc: 0.4856 - val_loss: 2.0032 - val_acc: 0.5045\n",
            "\n",
            "Epoch 00002: val_acc improved from 0.47329 to 0.50445, saving model to best_model.h5\n",
            "Epoch 3/30\n",
            "71/71 [==============================] - 26s 370ms/step - loss: 1.8694 - acc: 0.5237 - val_loss: 1.8107 - val_acc: 0.5298\n",
            "\n",
            "Epoch 00003: val_acc improved from 0.50445 to 0.52983, saving model to best_model.h5\n",
            "Epoch 4/30\n",
            "71/71 [==============================] - 26s 370ms/step - loss: 1.7621 - acc: 0.5332 - val_loss: 1.7583 - val_acc: 0.5570\n",
            "\n",
            "Epoch 00004: val_acc improved from 0.52983 to 0.55699, saving model to best_model.h5\n",
            "Epoch 5/30\n",
            "71/71 [==============================] - 26s 367ms/step - loss: 1.6510 - acc: 0.5726 - val_loss: 1.6785 - val_acc: 0.5708\n",
            "\n",
            "Epoch 00005: val_acc improved from 0.55699 to 0.57079, saving model to best_model.h5\n",
            "Epoch 6/30\n",
            "71/71 [==============================] - 26s 367ms/step - loss: 1.5776 - acc: 0.5952 - val_loss: 1.6053 - val_acc: 0.5922\n",
            "\n",
            "Epoch 00006: val_acc improved from 0.57079 to 0.59216, saving model to best_model.h5\n",
            "Epoch 7/30\n",
            "71/71 [==============================] - 26s 368ms/step - loss: 1.4787 - acc: 0.6229 - val_loss: 1.5085 - val_acc: 0.6233\n",
            "\n",
            "Epoch 00007: val_acc improved from 0.59216 to 0.62333, saving model to best_model.h5\n",
            "Epoch 8/30\n",
            "71/71 [==============================] - 26s 367ms/step - loss: 1.3476 - acc: 0.6561 - val_loss: 1.4359 - val_acc: 0.6327\n",
            "\n",
            "Epoch 00008: val_acc improved from 0.62333 to 0.63268, saving model to best_model.h5\n",
            "Epoch 9/30\n",
            "71/71 [==============================] - 26s 366ms/step - loss: 1.2522 - acc: 0.6799 - val_loss: 1.3541 - val_acc: 0.6603\n",
            "\n",
            "Epoch 00009: val_acc improved from 0.63268 to 0.66028, saving model to best_model.h5\n",
            "Epoch 10/30\n",
            "71/71 [==============================] - 26s 366ms/step - loss: 1.1901 - acc: 0.6983 - val_loss: 1.3124 - val_acc: 0.6759\n",
            "\n",
            "Epoch 00010: val_acc improved from 0.66028 to 0.67587, saving model to best_model.h5\n",
            "Epoch 11/30\n",
            "71/71 [==============================] - 26s 368ms/step - loss: 1.1221 - acc: 0.7190 - val_loss: 1.2617 - val_acc: 0.6888\n",
            "\n",
            "Epoch 00011: val_acc improved from 0.67587 to 0.68878, saving model to best_model.h5\n",
            "Epoch 12/30\n",
            "71/71 [==============================] - 26s 364ms/step - loss: 1.0722 - acc: 0.7329 - val_loss: 1.2532 - val_acc: 0.6923\n",
            "\n",
            "Epoch 00012: val_acc improved from 0.68878 to 0.69234, saving model to best_model.h5\n",
            "Epoch 13/30\n",
            "71/71 [==============================] - 26s 364ms/step - loss: 1.0191 - acc: 0.7437 - val_loss: 1.2649 - val_acc: 0.6883\n",
            "\n",
            "Epoch 00013: val_acc did not improve from 0.69234\n",
            "Epoch 14/30\n",
            "71/71 [==============================] - 26s 370ms/step - loss: 0.9964 - acc: 0.7483 - val_loss: 1.2228 - val_acc: 0.7012\n",
            "\n",
            "Epoch 00014: val_acc improved from 0.69234 to 0.70125, saving model to best_model.h5\n",
            "Epoch 15/30\n",
            "71/71 [==============================] - 26s 371ms/step - loss: 0.9285 - acc: 0.7648 - val_loss: 1.2013 - val_acc: 0.7115\n",
            "\n",
            "Epoch 00015: val_acc improved from 0.70125 to 0.71149, saving model to best_model.h5\n",
            "Epoch 16/30\n",
            "71/71 [==============================] - 26s 365ms/step - loss: 0.8878 - acc: 0.7799 - val_loss: 1.2259 - val_acc: 0.7004\n",
            "\n",
            "Epoch 00016: val_acc did not improve from 0.71149\n",
            "Epoch 17/30\n",
            "71/71 [==============================] - 26s 368ms/step - loss: 0.8554 - acc: 0.7882 - val_loss: 1.1997 - val_acc: 0.7168\n",
            "\n",
            "Epoch 00017: val_acc improved from 0.71149 to 0.71683, saving model to best_model.h5\n",
            "Epoch 18/30\n",
            "71/71 [==============================] - 26s 368ms/step - loss: 0.8237 - acc: 0.7954 - val_loss: 1.2276 - val_acc: 0.7177\n",
            "\n",
            "Epoch 00018: val_acc improved from 0.71683 to 0.71772, saving model to best_model.h5\n",
            "Epoch 19/30\n",
            "71/71 [==============================] - 26s 364ms/step - loss: 0.7939 - acc: 0.8022 - val_loss: 1.2054 - val_acc: 0.7142\n",
            "\n",
            "Epoch 00019: val_acc did not improve from 0.71772\n",
            "Epoch 20/30\n",
            "71/71 [==============================] - 26s 364ms/step - loss: 0.7509 - acc: 0.8124 - val_loss: 1.2096 - val_acc: 0.7066\n",
            "\n",
            "Epoch 00020: val_acc did not improve from 0.71772\n",
            "Epoch 21/30\n",
            "71/71 [==============================] - 26s 365ms/step - loss: 0.7232 - acc: 0.8206 - val_loss: 1.2013 - val_acc: 0.7097\n",
            "\n",
            "Epoch 00021: val_acc did not improve from 0.71772\n",
            "Epoch 00021: early stopping\n"
          ],
          "name": "stdout"
        }
      ]
    },
    {
      "cell_type": "code",
      "metadata": {
        "colab": {
          "base_uri": "https://localhost:8080/"
        },
        "id": "bOTLN0plYy3T",
        "outputId": "5aa00ebe-28aa-4ce9-bd50-f07753af9b7e"
      },
      "source": [
        "loaded_model = load_model('best_model.h5')\n",
        "print(\"\\n 테스트 정확도: %.4f\" % (loaded_model.evaluate(X_test, y_test)[1]))"
      ],
      "execution_count": null,
      "outputs": [
        {
          "output_type": "stream",
          "text": [
            "71/71 [==============================] - 3s 31ms/step - loss: 1.2276 - acc: 0.7177\n",
            "\n",
            " 테스트 정확도: 0.7177\n"
          ],
          "name": "stdout"
        }
      ]
    },
    {
      "cell_type": "markdown",
      "metadata": {
        "id": "3HdzHNhliR9x"
      },
      "source": [
        "## 연습 1\n",
        "\n",
        "- 테스트 정확도: 0.7021"
      ]
    },
    {
      "cell_type": "code",
      "metadata": {
        "id": "JPkBFWvobMcx"
      },
      "source": [
        "from tensorflow.keras.datasets import reuters\n",
        "from tensorflow.keras.preprocessing.sequence import pad_sequences\n",
        "from tensorflow.keras.utils import to_categorical"
      ],
      "execution_count": null,
      "outputs": []
    },
    {
      "cell_type": "code",
      "metadata": {
        "colab": {
          "base_uri": "https://localhost:8080/"
        },
        "id": "8pRmNcuJ5FkK",
        "outputId": "9900381f-dd7d-4b64-8411-cceea351af25"
      },
      "source": [
        "max_words = 1000\n",
        "(x_train, y_train), (x_test, y_test) = reuters.load_data(num_words=max_words, test_split=0.2)"
      ],
      "execution_count": null,
      "outputs": [
        {
          "output_type": "stream",
          "text": [
            "Downloading data from https://storage.googleapis.com/tensorflow/tf-keras-datasets/reuters.npz\n",
            "2113536/2110848 [==============================] - 0s 0us/step\n"
          ],
          "name": "stdout"
        },
        {
          "output_type": "stream",
          "text": [
            "/usr/local/lib/python3.7/dist-packages/tensorflow/python/keras/datasets/reuters.py:143: VisibleDeprecationWarning: Creating an ndarray from ragged nested sequences (which is a list-or-tuple of lists-or-tuples-or ndarrays with different lengths or shapes) is deprecated. If you meant to do this, you must specify 'dtype=object' when creating the ndarray\n",
            "  x_train, y_train = np.array(xs[:idx]), np.array(labels[:idx])\n",
            "/usr/local/lib/python3.7/dist-packages/tensorflow/python/keras/datasets/reuters.py:144: VisibleDeprecationWarning: Creating an ndarray from ragged nested sequences (which is a list-or-tuple of lists-or-tuples-or ndarrays with different lengths or shapes) is deprecated. If you meant to do this, you must specify 'dtype=object' when creating the ndarray\n",
            "  x_test, y_test = np.array(xs[idx:]), np.array(labels[idx:])\n"
          ],
          "name": "stderr"
        }
      ]
    },
    {
      "cell_type": "code",
      "metadata": {
        "colab": {
          "base_uri": "https://localhost:8080/"
        },
        "id": "OHrWHEg1ITev",
        "outputId": "fafd148a-5561-4f88-bd4a-3b30ffd89277"
      },
      "source": [
        "print(f'훈련 샘플의 수 : {len(x_train)}')\n",
        "print(f'테스트 샘플의 수 : {len(x_test)}')\n",
        "num_classes = max(y_train) + 1\n",
        "print(f'클래스의 수 : {num_classes}')"
      ],
      "execution_count": null,
      "outputs": [
        {
          "output_type": "stream",
          "text": [
            "훈련 샘플의 수 : 8982\n",
            "테스트 샘플의 수 : 2246\n",
            "클래스의 수 : 46\n"
          ],
          "name": "stdout"
        }
      ]
    },
    {
      "cell_type": "markdown",
      "metadata": {
        "id": "3yMxzQlTHDMM"
      },
      "source": [
        "**pad_sequences()**\n",
        "\n",
        "pad_sequences 함수는 시퀀스를 패딩을 하여 리스트의 길이를 동일하게 맞춰준다\n",
        "\n",
        "\n",
        "```\n",
        "keras.preprocessing.sequence.pad_sequences(sequences, maxlen=None, dtype='int32', padding='pre', truncating='pre', value=0.0)\n",
        "```\n",
        "- sequences: 리스트의 리스트로, 각 성분이 시퀀스이다\n",
        "- maxlen: 정수, 모든 시퀀스의 최대 길이를 설정하여 제한한다. 10을 넣으면 10보다 큰 것들은 자른다.\n",
        "- dtype: 출력 시퀀스의 자료형. 가변적 길이의 문자열로 시퀀스를 패딩 하려면object를 사용하시면 됩니다.\n",
        "- padding: 문자열이 들어간다, 'pre'가 디폴트 값으로 앞쪽에 0이 추가되고, 'post'는 뒤쪽으로 0이 추가되어 각 시퀀스를 패딩 한다.\n",
        "- truncating: 문자열, 'pre'는 길이가 초과됐을 때 앞쪽을 자르고 'post'는 maxlen보다 큰 시퀀스의 끝의 값들을 제거한다\n",
        "- value: 부동소수점 혹은 문자열, 패딩 할 값.\n",
        "\n",
        "리턴 값으로는 Numpy 배열을 리턴한다. 위의 인수들 중에서 필요한 것들만 뽑아 쓰면 된다\n"
      ]
    },
    {
      "cell_type": "code",
      "metadata": {
        "id": "SN4irgL6G04-"
      },
      "source": [
        "max_len = 100\n",
        "x_train = pad_sequences(x_train, maxlen=max_len) # 훈련용 뉴스 기사 패딩\n",
        "x_test = pad_sequences(x_test, maxlen=max_len) # 테스트용 뉴스 기사 패딩"
      ],
      "execution_count": null,
      "outputs": []
    },
    {
      "cell_type": "code",
      "metadata": {
        "colab": {
          "base_uri": "https://localhost:8080/"
        },
        "id": "hnPsFZs4IhkE",
        "outputId": "4ffd754c-bee6-4c69-d686-5fc325759529"
      },
      "source": [
        "print('x_train shape:', x_train.shape)\n",
        "print('x_test shape:', x_test.shape)"
      ],
      "execution_count": null,
      "outputs": [
        {
          "output_type": "stream",
          "text": [
            "x_train shape: (8982, 100)\n",
            "x_test shape: (2246, 100)\n"
          ],
          "name": "stdout"
        }
      ]
    },
    {
      "cell_type": "code",
      "metadata": {
        "colab": {
          "base_uri": "https://localhost:8080/"
        },
        "id": "LefRQrTRIiF8",
        "outputId": "e19b26a9-90b2-485a-ce68-7453e622d752"
      },
      "source": [
        "print(x_train[:5])\n",
        "print(x_test[:5])"
      ],
      "execution_count": null,
      "outputs": [
        {
          "output_type": "stream",
          "text": [
            "[[  0   0   0   0   0   0   0   0   0   0   0   0   0   1   2   2   8  43\n",
            "   10 447   5  25 207 270   5   2 111  16 369 186  90  67   7  89   5  19\n",
            "  102   6  19 124  15  90  67  84  22 482  26   7  48   4  49   8 864  39\n",
            "  209 154   6 151   6  83  11  15  22 155  11  15   7  48   9   2   2 504\n",
            "    6 258   6 272  11  15  22 134  44  11  15  16   8 197   2  90  67  52\n",
            "   29 209  30  32 132   6 109  15  17  12]\n",
            " [  0   0   0   0   0   0   0   0   0   0   0   0   0   0   0   0   0   0\n",
            "    0   0   0   0   0   0   0   0   0   0   0   0   0   0   0   0   0   0\n",
            "    0   0   0   0   0   0   0   0   1   2 699   2   2  56   2   2   9  56\n",
            "    2   2  81   5   2  57 366 737 132  20   2   7   2  49   2   2   2   2\n",
            "  699   2   8   7  10 241  16 855 129 231 783   5   4 587   2   2   2 775\n",
            "    7  48  34 191  44  35   2 505  17  12]\n",
            " [ 19 758  15  53 959  47   2  15  14  19 132  15  39 965  32  11  14 147\n",
            "   72  11 180 183 187  44  11  14 102  19  11 123 186  90  67 960   4  78\n",
            "   13  68 467 511 110  59  89  90  67   2  55   2  92 617  80   2  46 905\n",
            "  220  13   4 346  48 235 629   5 211   5   2   7   2  81   5 187  11  15\n",
            "    9   2 201   5  47   2  18 478   2   5   2   7 232   2  71   5 160  63\n",
            "   11   9   2  81   5 102  59  11  17  12]\n",
            " [  2   2   2   4 344   2 756   2   2   2   2   2  28  10   2  24  77  41\n",
            "  682  10   2   2   7   4   2   2   2  22 370   2   2   5  54   2   2   2\n",
            "   10   2 946  60  51   2   2   4  73   2 669   4 580  64  10   2   6   2\n",
            "   25 482  35 150 377   2   7  10   2 836   2   2   2   5   2   2   2   2\n",
            "    8   4 344 291   2 298   2   6   2  24   2  41 343 430 210   6   2 297\n",
            "   64  10   2 455   5   2 125 222  17  12]\n",
            " [  2 111   8  25 166  40 638  10 436  22 265   9 621 575   2   2   2   2\n",
            "    6 438   2  13 102 388  15  90  67   7 197   2   8   4 270 416  23 527\n",
            "    6   2   2   4   2 742  16   8  36   2   6   2 100 543   5 645 362   6\n",
            "    2   4  49   8   2 976 124  20   5   2  80   9 100 362 543 395  61  44\n",
            "   20   2   8  16  40   2  42   2 166 415   6 888   4 116   9  40   2   4\n",
            "  303 163  16  64 772  13  94 156  17  12]]\n",
            "[[  5   2   7 748  48   9   2   7 207   2 966   2 793  97 133 336   7   4\n",
            "  493  98 273 104 284  25  39 338  22 905 220   2 644  59  20   6 119  61\n",
            "   11  15  58 579  26  10  67   7   4 738  98  43  88 333 722  12  20   6\n",
            "   19 746  35  15  10   9   2 855 129 783  21   4   2 244 364  51  16 299\n",
            "  452  16 515   4  99  29   5   4 364 281  48  10   9   2  23 644  47  20\n",
            "  324  27  56   2   2   5 192 510  17  12]\n",
            " [652 194   2   2  34   2   2   2   2   6 240 260 458  87   6 134 514  10\n",
            "    2  22 196 514   4  37  38 309 213  54 207   2  25 134 139  89 283 494\n",
            "  555  22   4   2   6   2   2 434 835  22   2   2 434 835   7  48   2   8\n",
            "  618 225 586 333 122 572 126   2   2  62 133   6   2 233  28 602 188   5\n",
            "    4 704   2  62  45 885 281   4  48 193 760  36   8 115 680  78  58 109\n",
            "   95   6   2   2 281   4 225 760  17  12]\n",
            " [ 13  10 139   9 115 949 609 890 819   6 812 593   7 576   7 194   2 216\n",
            "    2   8   2   8 634  33 768   2 593   4 403   2 185   9 107 403  87   2\n",
            "  107   2 410   4 682 189 161   2 762 274   2 115  30  43 389 410   4 682\n",
            "  107   2 762 456  36   8 184   2  95   2 107 403  87 302   2   8 129 100\n",
            "  756   7   2  96 298  55 370 731 866 189 115 949   2 115 949 343 756   2\n",
            "    9 115 949 343 756   2  36   8  17  12]\n",
            " [ 25 645   2 975   2 303   2 464  21   4   2 279  11  15   5 975  57  85\n",
            "    2 457 207 448  43  10 447  16   8   4  49   8   4 123 755  62   2   6\n",
            "  960  42   2   5 126 231   2   9  42 148   5 128   6 165  44  20  22 165\n",
            "   70  20 457 207   2  16   8   4   2   2  96  13  19   2  18   2  34  75\n",
            "  717   6 132  26  22  19 132  15   4  49   8 387 280 200   6  67   4 404\n",
            "    5 879 122  28   4   2   2 979  17  12]\n",
            " [  5   2   9   2  64   2  77   8 859 173   7   2   2   8   4   2 662   7\n",
            "    4   2  62   4   2  13 124 206  31   2   2  10   2   2   6 933   2   7\n",
            "    4   2   2   5   4 403   5   2  50   2   2   9   2   4   2  23  84   6\n",
            "   68   2   2  31   2   9   2   2  16 172 967   2   2 109   2 274   2   2\n",
            "  173   8 859   2 452   2  91   2 281   4   2  51  10 226 499   7   2 114\n",
            "    2 871   6  10   2   4 173   8  17  12]]\n"
          ],
          "name": "stdout"
        }
      ]
    },
    {
      "cell_type": "code",
      "metadata": {
        "id": "QSvK9Ked6R75"
      },
      "source": [
        "y_train = to_categorical(y_train, num_classes) # 훈련용 뉴스 기사 레이블의 원-핫 인코딩\n",
        "y_test = to_categorical(y_test, num_classes) # 테스트용 뉴스 기사 레이블의 원-핫 인코딩"
      ],
      "execution_count": null,
      "outputs": []
    },
    {
      "cell_type": "code",
      "metadata": {
        "colab": {
          "base_uri": "https://localhost:8080/"
        },
        "id": "N4eBIxNF6Uf2",
        "outputId": "7a50ddd2-9768-4d2b-e71f-53b1861413d2"
      },
      "source": [
        "print('y_train shape:', y_train.shape)\n",
        "print('y_test shape:', y_test.shape)"
      ],
      "execution_count": null,
      "outputs": [
        {
          "output_type": "stream",
          "text": [
            "y_train shape: (8982, 46)\n",
            "y_test shape: (2246, 46)\n"
          ],
          "name": "stdout"
        }
      ]
    },
    {
      "cell_type": "code",
      "metadata": {
        "colab": {
          "base_uri": "https://localhost:8080/"
        },
        "id": "j4X7Koj26Wvb",
        "outputId": "ea883894-0238-47b8-9cb2-b17998b8bfd3"
      },
      "source": [
        "print(y_train[:5])\n",
        "print(y_test[:5])"
      ],
      "execution_count": null,
      "outputs": [
        {
          "output_type": "stream",
          "text": [
            "[[0. 0. 0. 1. 0. 0. 0. 0. 0. 0. 0. 0. 0. 0. 0. 0. 0. 0. 0. 0. 0. 0. 0. 0.\n",
            "  0. 0. 0. 0. 0. 0. 0. 0. 0. 0. 0. 0. 0. 0. 0. 0. 0. 0. 0. 0. 0. 0.]\n",
            " [0. 0. 0. 0. 1. 0. 0. 0. 0. 0. 0. 0. 0. 0. 0. 0. 0. 0. 0. 0. 0. 0. 0. 0.\n",
            "  0. 0. 0. 0. 0. 0. 0. 0. 0. 0. 0. 0. 0. 0. 0. 0. 0. 0. 0. 0. 0. 0.]\n",
            " [0. 0. 0. 1. 0. 0. 0. 0. 0. 0. 0. 0. 0. 0. 0. 0. 0. 0. 0. 0. 0. 0. 0. 0.\n",
            "  0. 0. 0. 0. 0. 0. 0. 0. 0. 0. 0. 0. 0. 0. 0. 0. 0. 0. 0. 0. 0. 0.]\n",
            " [0. 0. 0. 0. 1. 0. 0. 0. 0. 0. 0. 0. 0. 0. 0. 0. 0. 0. 0. 0. 0. 0. 0. 0.\n",
            "  0. 0. 0. 0. 0. 0. 0. 0. 0. 0. 0. 0. 0. 0. 0. 0. 0. 0. 0. 0. 0. 0.]\n",
            " [0. 0. 0. 0. 1. 0. 0. 0. 0. 0. 0. 0. 0. 0. 0. 0. 0. 0. 0. 0. 0. 0. 0. 0.\n",
            "  0. 0. 0. 0. 0. 0. 0. 0. 0. 0. 0. 0. 0. 0. 0. 0. 0. 0. 0. 0. 0. 0.]]\n",
            "[[0. 0. 0. 1. 0. 0. 0. 0. 0. 0. 0. 0. 0. 0. 0. 0. 0. 0. 0. 0. 0. 0. 0. 0.\n",
            "  0. 0. 0. 0. 0. 0. 0. 0. 0. 0. 0. 0. 0. 0. 0. 0. 0. 0. 0. 0. 0. 0.]\n",
            " [0. 0. 0. 0. 0. 0. 0. 0. 0. 0. 1. 0. 0. 0. 0. 0. 0. 0. 0. 0. 0. 0. 0. 0.\n",
            "  0. 0. 0. 0. 0. 0. 0. 0. 0. 0. 0. 0. 0. 0. 0. 0. 0. 0. 0. 0. 0. 0.]\n",
            " [0. 1. 0. 0. 0. 0. 0. 0. 0. 0. 0. 0. 0. 0. 0. 0. 0. 0. 0. 0. 0. 0. 0. 0.\n",
            "  0. 0. 0. 0. 0. 0. 0. 0. 0. 0. 0. 0. 0. 0. 0. 0. 0. 0. 0. 0. 0. 0.]\n",
            " [0. 0. 0. 0. 1. 0. 0. 0. 0. 0. 0. 0. 0. 0. 0. 0. 0. 0. 0. 0. 0. 0. 0. 0.\n",
            "  0. 0. 0. 0. 0. 0. 0. 0. 0. 0. 0. 0. 0. 0. 0. 0. 0. 0. 0. 0. 0. 0.]\n",
            " [0. 0. 0. 0. 1. 0. 0. 0. 0. 0. 0. 0. 0. 0. 0. 0. 0. 0. 0. 0. 0. 0. 0. 0.\n",
            "  0. 0. 0. 0. 0. 0. 0. 0. 0. 0. 0. 0. 0. 0. 0. 0. 0. 0. 0. 0. 0. 0.]]\n"
          ],
          "name": "stdout"
        }
      ]
    },
    {
      "cell_type": "code",
      "metadata": {
        "id": "3EEGfSFs60xB"
      },
      "source": [
        "from tensorflow.keras.models import Sequential\n",
        "from tensorflow.keras.layers import Dense, LSTM, Embedding, Dropout, Activation, Bidirectional\n",
        "from tensorflow.keras.callbacks import EarlyStopping, ModelCheckpoint\n",
        "from tensorflow.keras.models import load_model"
      ],
      "execution_count": null,
      "outputs": []
    },
    {
      "cell_type": "markdown",
      "metadata": {
        "id": "C-TSYS_WD8MC"
      },
      "source": [
        "**임베딩**\n",
        "\n",
        "```\n",
        "model = Sequential()\n",
        "model.add(Embedding(1000, 64, input_length=10))\n",
        "# 모델은 (batch, input_length)의 크기를 가진 정수 행렬만 인풋으로 전달받습니다.\n",
        "# 인풋 내 가장 큰 정수(다시 말해 단어 색인)는\n",
        "# 999(어휘목록 사이즈)보다 커서는 안됩니다.\n",
        "# 현재 model.output_shape == (None, 10, 64), 여기서 배치 차원은 None입니다.\n",
        "\n",
        "input_array = np.random.randint(1000, size=(32, 10))\n",
        "\n",
        "model.compile('rmsprop', 'mse')\n",
        "output_array = model.predict(input_array)\n",
        "assert output_array.shape == (32, 10, 64)\n",
        "```\n",
        "\n",
        "- input_dim: 정수 > 0. 어휘목록의 크기, 다시 말해, 최대 정수 색인 + 1.\n",
        "- output_dim: 정수 >= 0. 밀집 임베딩의 차원.\n",
        "- embeddings_initializer: embeddings 행렬의 초기값 설정기 (초기값 설정기 참조).\n",
        "- embeddings_regularizer: embeddings 행렬에 적용되는 정규화 함수 (정규화 참조).\n",
        "- embeddings_constraint: embeddings행렬에 적용되는 제약 함수 (제약 참조).\n",
        "- mask_zero: 인풋 값 0을 마스크 처리해야 할 특수 \"패딩\"값으로 다룰 것인지 여부. 순환 레이어를 사용해 가변적 길이의 인풋을 전달받을 때 유용합니다. 이 값이 True인 경우 모델 내 차후 레이어는 마스킹을 지원해야 하며 그렇지 않은 경우 예외가 발생됩니다. mask_zero가 참으로 설정된 경우, 색인 0은 어휘목록에서 사용할 수 없습니다 (input_dim이 vocabulary + 1과 동일한 크기를 가져야 하기 때문입니다).\n",
        "- input_length: 인풋 시퀀스의 길이로, 그 길이가 불변해야 합니다. 상위 Dense 레이어와 Flatten 레이어를 연결하려면 이 인수가 필요합니다\n",
        "(그렇지 않고서는 밀집 아웃풋의 형태를 계산할 수 없습니다)."
      ]
    },
    {
      "cell_type": "code",
      "metadata": {
        "id": "rzVZxLF26Ywk"
      },
      "source": [
        "model = Sequential()\n",
        "model.add(Embedding(max_words, 128, input_length=max_len))\n",
        "model.add(Bidirectional(LSTM(64)))\n",
        "model.add(Dropout(0.5))\n",
        "model.add(Dense(num_classes))\n",
        "model.add(Activation('softmax'))"
      ],
      "execution_count": null,
      "outputs": []
    },
    {
      "cell_type": "code",
      "metadata": {
        "id": "MrtflyD-8Wj9"
      },
      "source": [
        "es = EarlyStopping(monitor='val_loss', mode='min', verbose=1, patience=4) # 훈련 조기 종료\n",
        "mc = ModelCheckpoint('best_model.h5', monitor='val_acc', mode='max', verbose=1, save_best_only=True) # 훈련 과정에서 검증 데이터가 가장 높았을 때 저장"
      ],
      "execution_count": null,
      "outputs": []
    },
    {
      "cell_type": "code",
      "metadata": {
        "id": "lpek73uWKjGb"
      },
      "source": [
        "model.compile(loss='categorical_crossentropy', optimizer='adam', metrics=['acc'])\n",
        "# loss='binary_crossentropy'  테스트 정확도: 0.5757"
      ],
      "execution_count": null,
      "outputs": []
    },
    {
      "cell_type": "code",
      "metadata": {
        "colab": {
          "base_uri": "https://localhost:8080/"
        },
        "id": "WAAHa46xKu0u",
        "outputId": "5e83ac3b-fadb-4939-dfb9-1a337b3ed9d0"
      },
      "source": [
        "history = model.fit(x_train, y_train, batch_size=128, epochs=30, callbacks=[es, mc], validation_data=(x_test, y_test))"
      ],
      "execution_count": null,
      "outputs": [
        {
          "output_type": "stream",
          "text": [
            "Epoch 1/30\n",
            "71/71 [==============================] - 30s 380ms/step - loss: 1.6108 - acc: 0.6022 - val_loss: 1.7092 - val_acc: 0.5797\n",
            "\n",
            "Epoch 00001: val_acc improved from 0.57569 to 0.57970, saving model to best_model.h5\n",
            "Epoch 2/30\n",
            "71/71 [==============================] - 26s 370ms/step - loss: 1.5616 - acc: 0.6100 - val_loss: 1.7039 - val_acc: 0.5766\n",
            "\n",
            "Epoch 00002: val_acc did not improve from 0.57970\n",
            "Epoch 3/30\n",
            "71/71 [==============================] - 27s 377ms/step - loss: 1.5771 - acc: 0.6065 - val_loss: 1.7067 - val_acc: 0.5833\n",
            "\n",
            "Epoch 00003: val_acc improved from 0.57970 to 0.58326, saving model to best_model.h5\n",
            "Epoch 4/30\n",
            "71/71 [==============================] - 27s 374ms/step - loss: 1.5471 - acc: 0.6207 - val_loss: 1.6837 - val_acc: 0.5899\n",
            "\n",
            "Epoch 00004: val_acc improved from 0.58326 to 0.58994, saving model to best_model.h5\n",
            "Epoch 5/30\n",
            "71/71 [==============================] - 26s 365ms/step - loss: 1.4963 - acc: 0.6310 - val_loss: 1.6404 - val_acc: 0.5931\n",
            "\n",
            "Epoch 00005: val_acc improved from 0.58994 to 0.59305, saving model to best_model.h5\n",
            "Epoch 6/30\n",
            "71/71 [==============================] - 26s 366ms/step - loss: 1.4337 - acc: 0.6517 - val_loss: 1.5857 - val_acc: 0.6256\n",
            "\n",
            "Epoch 00006: val_acc improved from 0.59305 to 0.62556, saving model to best_model.h5\n",
            "Epoch 7/30\n",
            "71/71 [==============================] - 27s 383ms/step - loss: 1.3864 - acc: 0.6676 - val_loss: 1.5861 - val_acc: 0.6215\n",
            "\n",
            "Epoch 00007: val_acc did not improve from 0.62556\n",
            "Epoch 8/30\n",
            "71/71 [==============================] - 27s 377ms/step - loss: 1.3441 - acc: 0.6795 - val_loss: 1.5147 - val_acc: 0.6358\n",
            "\n",
            "Epoch 00008: val_acc improved from 0.62556 to 0.63580, saving model to best_model.h5\n",
            "Epoch 9/30\n",
            "71/71 [==============================] - 26s 368ms/step - loss: 1.2809 - acc: 0.6972 - val_loss: 1.4701 - val_acc: 0.6496\n",
            "\n",
            "Epoch 00009: val_acc improved from 0.63580 to 0.64960, saving model to best_model.h5\n",
            "Epoch 10/30\n",
            "71/71 [==============================] - 26s 367ms/step - loss: 1.2251 - acc: 0.7082 - val_loss: 1.4371 - val_acc: 0.6567\n",
            "\n",
            "Epoch 00010: val_acc improved from 0.64960 to 0.65672, saving model to best_model.h5\n",
            "Epoch 11/30\n",
            "71/71 [==============================] - 26s 361ms/step - loss: 1.1634 - acc: 0.7172 - val_loss: 1.3865 - val_acc: 0.6603\n",
            "\n",
            "Epoch 00011: val_acc improved from 0.65672 to 0.66028, saving model to best_model.h5\n",
            "Epoch 12/30\n",
            "71/71 [==============================] - 26s 364ms/step - loss: 1.1031 - acc: 0.7285 - val_loss: 1.3727 - val_acc: 0.6683\n",
            "\n",
            "Epoch 00012: val_acc improved from 0.66028 to 0.66830, saving model to best_model.h5\n",
            "Epoch 13/30\n",
            "71/71 [==============================] - 25s 358ms/step - loss: 1.0733 - acc: 0.7358 - val_loss: 1.3341 - val_acc: 0.6745\n",
            "\n",
            "Epoch 00013: val_acc improved from 0.66830 to 0.67453, saving model to best_model.h5\n",
            "Epoch 14/30\n",
            "71/71 [==============================] - 26s 361ms/step - loss: 1.0243 - acc: 0.7484 - val_loss: 1.3292 - val_acc: 0.6736\n",
            "\n",
            "Epoch 00014: val_acc did not improve from 0.67453\n",
            "Epoch 15/30\n",
            "71/71 [==============================] - 26s 367ms/step - loss: 1.0085 - acc: 0.7574 - val_loss: 1.3332 - val_acc: 0.6794\n",
            "\n",
            "Epoch 00015: val_acc improved from 0.67453 to 0.67943, saving model to best_model.h5\n",
            "Epoch 16/30\n",
            "71/71 [==============================] - 26s 365ms/step - loss: 0.9692 - acc: 0.7632 - val_loss: 1.3246 - val_acc: 0.6772\n",
            "\n",
            "Epoch 00016: val_acc did not improve from 0.67943\n",
            "Epoch 17/30\n",
            "71/71 [==============================] - 26s 368ms/step - loss: 0.9455 - acc: 0.7730 - val_loss: 1.2896 - val_acc: 0.6968\n",
            "\n",
            "Epoch 00017: val_acc improved from 0.67943 to 0.69679, saving model to best_model.h5\n",
            "Epoch 18/30\n",
            "71/71 [==============================] - 26s 370ms/step - loss: 0.9047 - acc: 0.7815 - val_loss: 1.3125 - val_acc: 0.6817\n",
            "\n",
            "Epoch 00018: val_acc did not improve from 0.69679\n",
            "Epoch 19/30\n",
            "71/71 [==============================] - 26s 367ms/step - loss: 0.9024 - acc: 0.7780 - val_loss: 1.2988 - val_acc: 0.6852\n",
            "\n",
            "Epoch 00019: val_acc did not improve from 0.69679\n",
            "Epoch 20/30\n",
            "71/71 [==============================] - 26s 371ms/step - loss: 0.8600 - acc: 0.7885 - val_loss: 1.2906 - val_acc: 0.6990\n",
            "\n",
            "Epoch 00020: val_acc improved from 0.69679 to 0.69902, saving model to best_model.h5\n",
            "Epoch 21/30\n",
            "71/71 [==============================] - 26s 364ms/step - loss: 0.8177 - acc: 0.8017 - val_loss: 1.2965 - val_acc: 0.7021\n",
            "\n",
            "Epoch 00021: val_acc improved from 0.69902 to 0.70214, saving model to best_model.h5\n",
            "Epoch 00021: early stopping\n"
          ],
          "name": "stdout"
        }
      ]
    },
    {
      "cell_type": "code",
      "metadata": {
        "colab": {
          "base_uri": "https://localhost:8080/"
        },
        "id": "ncam_q2eK366",
        "outputId": "79641101-fe08-4bd9-b1a4-14c093c8c140"
      },
      "source": [
        "loaded_model = load_model('best_model.h5')\n",
        "print(\"\\n 테스트 정확도: %.4f\" % (loaded_model.evaluate(x_test, y_test)[1]))"
      ],
      "execution_count": null,
      "outputs": [
        {
          "output_type": "stream",
          "text": [
            "71/71 [==============================] - 3s 29ms/step - loss: 1.2965 - acc: 0.7021\n",
            "\n",
            " 테스트 정확도: 0.7021\n"
          ],
          "name": "stdout"
        }
      ]
    },
    {
      "cell_type": "markdown",
      "metadata": {
        "id": "rMAV0g0AQFF-"
      },
      "source": [
        "## Tokenizer Sequence To Matrix Binary Mode \n",
        "\n",
        "- 테스트 정확도: 0.8130"
      ]
    },
    {
      "cell_type": "code",
      "metadata": {
        "id": "hYDWiWfoNeRN"
      },
      "source": [
        "from tensorflow.keras.datasets import reuters"
      ],
      "execution_count": null,
      "outputs": []
    },
    {
      "cell_type": "code",
      "metadata": {
        "colab": {
          "base_uri": "https://localhost:8080/"
        },
        "id": "0BaedSg4UTf8",
        "outputId": "23475cb7-e5cb-4f73-d887-36110854baaa"
      },
      "source": [
        "(x_train, y_train), (x_test, y_test) = reuters.load_data(num_words=None, test_split=0.2)"
      ],
      "execution_count": null,
      "outputs": [
        {
          "output_type": "stream",
          "text": [
            "/usr/local/lib/python3.7/dist-packages/tensorflow/python/keras/datasets/reuters.py:143: VisibleDeprecationWarning: Creating an ndarray from ragged nested sequences (which is a list-or-tuple of lists-or-tuples-or ndarrays with different lengths or shapes) is deprecated. If you meant to do this, you must specify 'dtype=object' when creating the ndarray\n",
            "  x_train, y_train = np.array(xs[:idx]), np.array(labels[:idx])\n",
            "/usr/local/lib/python3.7/dist-packages/tensorflow/python/keras/datasets/reuters.py:144: VisibleDeprecationWarning: Creating an ndarray from ragged nested sequences (which is a list-or-tuple of lists-or-tuples-or ndarrays with different lengths or shapes) is deprecated. If you meant to do this, you must specify 'dtype=object' when creating the ndarray\n",
            "  x_test, y_test = np.array(xs[idx:]), np.array(labels[idx:])\n"
          ],
          "name": "stderr"
        }
      ]
    },
    {
      "cell_type": "code",
      "metadata": {
        "colab": {
          "base_uri": "https://localhost:8080/"
        },
        "id": "6i-eD3p_UatE",
        "outputId": "0332c74c-dbbd-496a-ca6d-6cbac5d5378f"
      },
      "source": [
        "word_index = reuters.get_word_index(path=\"reuters_word_index.json\")"
      ],
      "execution_count": null,
      "outputs": [
        {
          "output_type": "stream",
          "text": [
            "Downloading data from https://storage.googleapis.com/tensorflow/tf-keras-datasets/reuters_word_index.json\n",
            "557056/550378 [==============================] - 0s 0us/step\n"
          ],
          "name": "stdout"
        }
      ]
    },
    {
      "cell_type": "code",
      "metadata": {
        "colab": {
          "base_uri": "https://localhost:8080/"
        },
        "id": "NTgF93s6UdRs",
        "outputId": "16953230-eafa-490d-a41e-ae46a4c20c4f"
      },
      "source": [
        "print(f'훈련 샘플의 수 : {len(x_train)}') # train sequences\n",
        "print(f'테스트 샘플의 수 : {len(x_test)}') # test sequences\n",
        "num_classes = max(y_train) + 1\n",
        "print(f'클래스의 수 : {num_classes}')"
      ],
      "execution_count": null,
      "outputs": [
        {
          "output_type": "stream",
          "text": [
            "훈련 샘플의 수 : 8982\n",
            "테스트 샘플의 수 : 2246\n",
            "클래스의 수 : 46\n"
          ],
          "name": "stdout"
        }
      ]
    },
    {
      "cell_type": "code",
      "metadata": {
        "id": "LzA97ipMUfrx"
      },
      "source": [
        "index_to_word = {}\n",
        "for key, value in word_index.items():\n",
        "    index_to_word[value] = key"
      ],
      "execution_count": null,
      "outputs": []
    },
    {
      "cell_type": "code",
      "metadata": {
        "colab": {
          "base_uri": "https://localhost:8080/"
        },
        "id": "QT1YQuliUkov",
        "outputId": "22c4efe2-25e0-4c24-e8ca-acf2522efc0e"
      },
      "source": [
        "print(x_train.shape)\n",
        "print(x_test.shape)\n",
        "print(y_train.shape)\n",
        "print(y_test.shape)"
      ],
      "execution_count": null,
      "outputs": [
        {
          "output_type": "stream",
          "text": [
            "(8982,)\n",
            "(2246,)\n",
            "(8982,)\n",
            "(2246,)\n"
          ],
          "name": "stdout"
        }
      ]
    },
    {
      "cell_type": "code",
      "metadata": {
        "colab": {
          "base_uri": "https://localhost:8080/"
        },
        "id": "7ZAM2BT0UmXH",
        "outputId": "33fed6fe-7dfd-4dd5-ba1e-72bcf7aacd0d"
      },
      "source": [
        "print(' '.join([index_to_word[x] for x in x_train[0]]))\n",
        "print(y_train[0])"
      ],
      "execution_count": null,
      "outputs": [
        {
          "output_type": "stream",
          "text": [
            "the wattie nondiscriminatory mln loss for plc said at only ended said commonwealth could 1 traders now april 0 a after said from 1985 and from foreign 000 april 0 prices its account year a but in this mln home an states earlier and rise and revs vs 000 its 16 vs 000 a but 3 psbr oils several and shareholders and dividend vs 000 its all 4 vs 000 1 mln agreed largely april 0 are 2 states will billion total and against 000 pct dlrs\n",
            "3\n"
          ],
          "name": "stdout"
        }
      ]
    },
    {
      "cell_type": "code",
      "metadata": {
        "id": "GQZHYAYUUoI5"
      },
      "source": [
        "import keras\n",
        "from tensorflow.keras.utils import to_categorical\n",
        "from keras.preprocessing.text import Tokenizer"
      ],
      "execution_count": null,
      "outputs": []
    },
    {
      "cell_type": "markdown",
      "metadata": {
        "id": "Jr8H6_zXUtNo"
      },
      "source": [
        "**Tokenizer란?**\n",
        "\n",
        "Tokenizer은 사전에 있는 단어의 순서에 맞게 단어를 turning하면서 말뭉치를 벡터화시킨다.\n",
        "\n",
        "\n",
        "```\n",
        "tf.keras.preprocessing.text.Tokenizer(\n",
        "    num_words=None, \n",
        "    filters='!\"#$%&()*+,-./:;<=>?@[\\\\]^_`{|}~\\t\\n', \n",
        "    lower=True,\n",
        "    split=' ', \n",
        "    char_level=False, \n",
        "    oov_token=None, \n",
        "    document_count=0, \n",
        "    **kwargs\n",
        ")\n",
        "```\n",
        "- num_words : 단어 빈도가 많은 순서로 num_words개의 단어를 보존한다.\n",
        "- filters : 걸러낼 문자 리스트를 적어준다. 디폴트는 '!\"#$%&()*+,-./:;<=>?@[\\]^_`{|}~\\t\\n' 이다.\n",
        "- lower : 입력받은 문자열을 소문자로 변환할지를 True, False로 적어준다.\n",
        "- split : 문자열을 적어 줘야 하고, 단어를 분리하는 기준을 적어준다.\n",
        "- char_level : True인 경우 모든 문자가 토큰으로 처리된다.\n",
        "- oov_token : 값이 지정된 경우, text_to_sequence 호출 과정에서 word_index에 추가되어 out-of-vocabulary words를 대체한다.\n"
      ]
    },
    {
      "cell_type": "code",
      "metadata": {
        "id": "9lRzRGjcUqNc"
      },
      "source": [
        "# Vectorizing sequence data\n",
        "max_words= 10000\n",
        "tokenizer= Tokenizer(num_words=max_words)\n",
        "x_train = tokenizer.sequences_to_matrix(x_train, mode=\"binary\")\n",
        "x_test = tokenizer.sequences_to_matrix(x_test, mode=\"binary\")"
      ],
      "execution_count": null,
      "outputs": []
    },
    {
      "cell_type": "code",
      "metadata": {
        "colab": {
          "base_uri": "https://localhost:8080/"
        },
        "id": "boV7apmyVEdf",
        "outputId": "b61c1f92-3a8c-4e02-fab2-4c0157fd2f9f"
      },
      "source": [
        "print('x_train shape:', x_train.shape)\n",
        "print('x_test shape:', x_test.shape)"
      ],
      "execution_count": null,
      "outputs": [
        {
          "output_type": "stream",
          "text": [
            "x_train shape: (8982, 10000)\n",
            "x_test shape: (2246, 10000)\n"
          ],
          "name": "stdout"
        }
      ]
    },
    {
      "cell_type": "code",
      "metadata": {
        "colab": {
          "base_uri": "https://localhost:8080/"
        },
        "id": "12Z9NpHRVK1Y",
        "outputId": "80d2c732-69d2-4134-e7c7-7c8a9936660d"
      },
      "source": [
        "print(x_train[:5])\n",
        "print(x_test[:5])"
      ],
      "execution_count": null,
      "outputs": [
        {
          "output_type": "stream",
          "text": [
            "[[0. 1. 0. ... 0. 0. 0.]\n",
            " [0. 1. 0. ... 0. 0. 0.]\n",
            " [0. 1. 0. ... 0. 0. 0.]\n",
            " [0. 1. 0. ... 0. 0. 0.]\n",
            " [0. 1. 0. ... 0. 0. 0.]]\n",
            "[[0. 1. 0. ... 0. 0. 0.]\n",
            " [0. 1. 0. ... 0. 0. 0.]\n",
            " [0. 1. 0. ... 0. 0. 0.]\n",
            " [0. 1. 0. ... 0. 0. 0.]\n",
            " [0. 1. 0. ... 0. 0. 0.]]\n"
          ],
          "name": "stdout"
        }
      ]
    },
    {
      "cell_type": "code",
      "metadata": {
        "id": "M1XQ0t03VMrp"
      },
      "source": [
        "y_train = to_categorical(y_train, num_classes) # 훈련용 뉴스 기사 레이블의 원-핫 인코딩\n",
        "y_test = to_categorical(y_test, num_classes) # 테스트용 뉴스 기사 레이블의 원-핫 인코딩"
      ],
      "execution_count": null,
      "outputs": []
    },
    {
      "cell_type": "code",
      "metadata": {
        "colab": {
          "base_uri": "https://localhost:8080/"
        },
        "id": "j_pbSarjVPBg",
        "outputId": "0ed721a8-811f-473f-81cc-4cd8184e80f2"
      },
      "source": [
        "print('y_train shape:', y_train.shape)\n",
        "print('y_test shape:', y_test.shape)"
      ],
      "execution_count": null,
      "outputs": [
        {
          "output_type": "stream",
          "text": [
            "y_train shape: (8982, 46)\n",
            "y_test shape: (2246, 46)\n"
          ],
          "name": "stdout"
        }
      ]
    },
    {
      "cell_type": "code",
      "metadata": {
        "colab": {
          "base_uri": "https://localhost:8080/"
        },
        "id": "yJbW0xYvVRTI",
        "outputId": "7d17c2b8-c7b9-408c-e7ab-c2a49ead10f9"
      },
      "source": [
        "print(y_train[:5])\n",
        "print(y_test[:5])"
      ],
      "execution_count": null,
      "outputs": [
        {
          "output_type": "stream",
          "text": [
            "[[0. 0. 0. 1. 0. 0. 0. 0. 0. 0. 0. 0. 0. 0. 0. 0. 0. 0. 0. 0. 0. 0. 0. 0.\n",
            "  0. 0. 0. 0. 0. 0. 0. 0. 0. 0. 0. 0. 0. 0. 0. 0. 0. 0. 0. 0. 0. 0.]\n",
            " [0. 0. 0. 0. 1. 0. 0. 0. 0. 0. 0. 0. 0. 0. 0. 0. 0. 0. 0. 0. 0. 0. 0. 0.\n",
            "  0. 0. 0. 0. 0. 0. 0. 0. 0. 0. 0. 0. 0. 0. 0. 0. 0. 0. 0. 0. 0. 0.]\n",
            " [0. 0. 0. 1. 0. 0. 0. 0. 0. 0. 0. 0. 0. 0. 0. 0. 0. 0. 0. 0. 0. 0. 0. 0.\n",
            "  0. 0. 0. 0. 0. 0. 0. 0. 0. 0. 0. 0. 0. 0. 0. 0. 0. 0. 0. 0. 0. 0.]\n",
            " [0. 0. 0. 0. 1. 0. 0. 0. 0. 0. 0. 0. 0. 0. 0. 0. 0. 0. 0. 0. 0. 0. 0. 0.\n",
            "  0. 0. 0. 0. 0. 0. 0. 0. 0. 0. 0. 0. 0. 0. 0. 0. 0. 0. 0. 0. 0. 0.]\n",
            " [0. 0. 0. 0. 1. 0. 0. 0. 0. 0. 0. 0. 0. 0. 0. 0. 0. 0. 0. 0. 0. 0. 0. 0.\n",
            "  0. 0. 0. 0. 0. 0. 0. 0. 0. 0. 0. 0. 0. 0. 0. 0. 0. 0. 0. 0. 0. 0.]]\n",
            "[[0. 0. 0. 1. 0. 0. 0. 0. 0. 0. 0. 0. 0. 0. 0. 0. 0. 0. 0. 0. 0. 0. 0. 0.\n",
            "  0. 0. 0. 0. 0. 0. 0. 0. 0. 0. 0. 0. 0. 0. 0. 0. 0. 0. 0. 0. 0. 0.]\n",
            " [0. 0. 0. 0. 0. 0. 0. 0. 0. 0. 1. 0. 0. 0. 0. 0. 0. 0. 0. 0. 0. 0. 0. 0.\n",
            "  0. 0. 0. 0. 0. 0. 0. 0. 0. 0. 0. 0. 0. 0. 0. 0. 0. 0. 0. 0. 0. 0.]\n",
            " [0. 1. 0. 0. 0. 0. 0. 0. 0. 0. 0. 0. 0. 0. 0. 0. 0. 0. 0. 0. 0. 0. 0. 0.\n",
            "  0. 0. 0. 0. 0. 0. 0. 0. 0. 0. 0. 0. 0. 0. 0. 0. 0. 0. 0. 0. 0. 0.]\n",
            " [0. 0. 0. 0. 1. 0. 0. 0. 0. 0. 0. 0. 0. 0. 0. 0. 0. 0. 0. 0. 0. 0. 0. 0.\n",
            "  0. 0. 0. 0. 0. 0. 0. 0. 0. 0. 0. 0. 0. 0. 0. 0. 0. 0. 0. 0. 0. 0.]\n",
            " [0. 0. 0. 0. 1. 0. 0. 0. 0. 0. 0. 0. 0. 0. 0. 0. 0. 0. 0. 0. 0. 0. 0. 0.\n",
            "  0. 0. 0. 0. 0. 0. 0. 0. 0. 0. 0. 0. 0. 0. 0. 0. 0. 0. 0. 0. 0. 0.]]\n"
          ],
          "name": "stdout"
        }
      ]
    },
    {
      "cell_type": "code",
      "metadata": {
        "id": "ef4O3Ok1VS-i"
      },
      "source": [
        "from keras.models import Sequential\n",
        "from keras.layers import Dense, Dropout, Activation\n",
        "from tensorflow.keras.callbacks import EarlyStopping, ModelCheckpoint\n",
        "from tensorflow.keras.models import load_model"
      ],
      "execution_count": null,
      "outputs": []
    },
    {
      "cell_type": "code",
      "metadata": {
        "id": "iWr9TDsIVVtl"
      },
      "source": [
        "# 모델은 인터넷에서 찾아본것 중 테스트 정확도가 높게 나온걸 사용했다..\n",
        "model = Sequential()\n",
        "model.add(Dense(512, input_shape=(max_words,)))\n",
        "model.add(Activation('relu'))\n",
        "model.add(Dropout(0.5))\n",
        "model.add(Dense(num_classes))\n",
        "model.add(Activation('softmax'))"
      ],
      "execution_count": null,
      "outputs": []
    },
    {
      "cell_type": "code",
      "metadata": {
        "id": "B9-L1PIeVXjW"
      },
      "source": [
        "es = EarlyStopping(monitor='val_loss', mode='min', verbose=1, patience=4) # 훈련 조기 종료\n",
        "mc = ModelCheckpoint('best_model.h5', monitor='val_acc', mode='max', verbose=1, save_best_only=True) # 훈련 과정에서 검증 데이터가 가장 높았을 때 저장"
      ],
      "execution_count": null,
      "outputs": []
    },
    {
      "cell_type": "code",
      "metadata": {
        "id": "_M3jnKbhVaSx"
      },
      "source": [
        "model.compile(loss='categorical_crossentropy', optimizer='adam', metrics=['acc'])"
      ],
      "execution_count": null,
      "outputs": []
    },
    {
      "cell_type": "code",
      "metadata": {
        "colab": {
          "base_uri": "https://localhost:8080/"
        },
        "id": "F45Q4vyoVkHm",
        "outputId": "5c6439b1-dbb7-4832-9be6-c8c59c66a8ec"
      },
      "source": [
        "history = model.fit(x_train, y_train, batch_size=128, epochs=30, callbacks=[es, mc], validation_data=(x_test, y_test))"
      ],
      "execution_count": null,
      "outputs": [
        {
          "output_type": "stream",
          "text": [
            "Epoch 1/30\n",
            "71/71 [==============================] - 21s 86ms/step - loss: 2.2194 - acc: 0.5571 - val_loss: 1.0281 - val_acc: 0.7747\n",
            "\n",
            "Epoch 00001: val_acc improved from -inf to 0.77471, saving model to best_model.h5\n",
            "Epoch 2/30\n",
            "71/71 [==============================] - 6s 82ms/step - loss: 0.7112 - acc: 0.8494 - val_loss: 0.8451 - val_acc: 0.8041\n",
            "\n",
            "Epoch 00002: val_acc improved from 0.77471 to 0.80410, saving model to best_model.h5\n",
            "Epoch 3/30\n",
            "71/71 [==============================] - 6s 81ms/step - loss: 0.3874 - acc: 0.9166 - val_loss: 0.8166 - val_acc: 0.8059\n",
            "\n",
            "Epoch 00003: val_acc improved from 0.80410 to 0.80588, saving model to best_model.h5\n",
            "Epoch 4/30\n",
            "71/71 [==============================] - 5s 75ms/step - loss: 0.2558 - acc: 0.9425 - val_loss: 0.8198 - val_acc: 0.8112\n",
            "\n",
            "Epoch 00004: val_acc improved from 0.80588 to 0.81122, saving model to best_model.h5\n",
            "Epoch 5/30\n",
            "71/71 [==============================] - 5s 77ms/step - loss: 0.1975 - acc: 0.9550 - val_loss: 0.8507 - val_acc: 0.8081\n",
            "\n",
            "Epoch 00005: val_acc did not improve from 0.81122\n",
            "Epoch 6/30\n",
            "71/71 [==============================] - 6s 80ms/step - loss: 0.1686 - acc: 0.9540 - val_loss: 0.9196 - val_acc: 0.8072\n",
            "\n",
            "Epoch 00006: val_acc did not improve from 0.81122\n",
            "Epoch 7/30\n",
            "71/71 [==============================] - 5s 73ms/step - loss: 0.1411 - acc: 0.9585 - val_loss: 0.9151 - val_acc: 0.8130\n",
            "\n",
            "Epoch 00007: val_acc improved from 0.81122 to 0.81300, saving model to best_model.h5\n",
            "Epoch 00007: early stopping\n"
          ],
          "name": "stdout"
        }
      ]
    },
    {
      "cell_type": "code",
      "metadata": {
        "colab": {
          "base_uri": "https://localhost:8080/"
        },
        "id": "2BzCOym9VmBt",
        "outputId": "e148237b-2fd4-4f98-e502-1018f914ed05"
      },
      "source": [
        "loaded_model = load_model('best_model.h5')\n",
        "print(\"\\n 테스트 정확도: %.4f\" % (loaded_model.evaluate(x_test, y_test)[1]))"
      ],
      "execution_count": null,
      "outputs": [
        {
          "output_type": "stream",
          "text": [
            "71/71 [==============================] - 1s 12ms/step - loss: 0.9151 - acc: 0.8130\n",
            "\n",
            " 테스트 정확도: 0.8130\n"
          ],
          "name": "stdout"
        }
      ]
    },
    {
      "cell_type": "markdown",
      "metadata": {
        "id": "WNf8WZU3Wmp-"
      },
      "source": [
        "## Tokenizer Sequence To Matrix Count Mode \n",
        "\n",
        "- 테스트 정확도: 0.8139"
      ]
    },
    {
      "cell_type": "code",
      "metadata": {
        "id": "m7WYnnmrWYK4"
      },
      "source": [
        "from tensorflow.keras.datasets import reuters"
      ],
      "execution_count": null,
      "outputs": []
    },
    {
      "cell_type": "code",
      "metadata": {
        "colab": {
          "base_uri": "https://localhost:8080/"
        },
        "id": "kY8-YpvzfxcE",
        "outputId": "b1304585-a68b-4f30-fd7a-d11274b8a58b"
      },
      "source": [
        "(x_train, y_train), (x_test, y_test) = reuters.load_data(num_words=None, test_split=0.2)"
      ],
      "execution_count": null,
      "outputs": [
        {
          "output_type": "stream",
          "text": [
            "/usr/local/lib/python3.7/dist-packages/tensorflow/python/keras/datasets/reuters.py:143: VisibleDeprecationWarning: Creating an ndarray from ragged nested sequences (which is a list-or-tuple of lists-or-tuples-or ndarrays with different lengths or shapes) is deprecated. If you meant to do this, you must specify 'dtype=object' when creating the ndarray\n",
            "  x_train, y_train = np.array(xs[:idx]), np.array(labels[:idx])\n",
            "/usr/local/lib/python3.7/dist-packages/tensorflow/python/keras/datasets/reuters.py:144: VisibleDeprecationWarning: Creating an ndarray from ragged nested sequences (which is a list-or-tuple of lists-or-tuples-or ndarrays with different lengths or shapes) is deprecated. If you meant to do this, you must specify 'dtype=object' when creating the ndarray\n",
            "  x_test, y_test = np.array(xs[idx:]), np.array(labels[idx:])\n"
          ],
          "name": "stderr"
        }
      ]
    },
    {
      "cell_type": "code",
      "metadata": {
        "id": "f8xpwWiJf2Qt"
      },
      "source": [
        "word_index = reuters.get_word_index(path=\"reuters_word_index.json\")"
      ],
      "execution_count": null,
      "outputs": []
    },
    {
      "cell_type": "code",
      "metadata": {
        "colab": {
          "base_uri": "https://localhost:8080/"
        },
        "id": "CGBhoLOWf3y5",
        "outputId": "4d22aa0c-7e8f-41f6-ba17-93429f10af8a"
      },
      "source": [
        "print(f'훈련 샘플의 수 : {len(x_train)}') # train sequences\n",
        "print(f'테스트 샘플의 수 : {len(x_test)}') # test sequences\n",
        "num_classes = max(y_train) + 1\n",
        "print(f'클래스의 수 : {num_classes}')"
      ],
      "execution_count": null,
      "outputs": [
        {
          "output_type": "stream",
          "text": [
            "훈련 샘플의 수 : 8982\n",
            "테스트 샘플의 수 : 2246\n",
            "클래스의 수 : 46\n"
          ],
          "name": "stdout"
        }
      ]
    },
    {
      "cell_type": "code",
      "metadata": {
        "id": "7JUKvQd4f5Iy"
      },
      "source": [
        "index_to_word = {}\n",
        "for key, value in word_index.items():\n",
        "    index_to_word[value] = key"
      ],
      "execution_count": null,
      "outputs": []
    },
    {
      "cell_type": "code",
      "metadata": {
        "colab": {
          "base_uri": "https://localhost:8080/"
        },
        "id": "7DC1FHHff6se",
        "outputId": "b0bc25a5-94cc-4239-ad5b-8209e735a465"
      },
      "source": [
        "print(x_train.shape)\n",
        "print(x_test.shape)\n",
        "print(y_train.shape)\n",
        "print(y_test.shape)"
      ],
      "execution_count": null,
      "outputs": [
        {
          "output_type": "stream",
          "text": [
            "(8982,)\n",
            "(2246,)\n",
            "(8982,)\n",
            "(2246,)\n"
          ],
          "name": "stdout"
        }
      ]
    },
    {
      "cell_type": "code",
      "metadata": {
        "colab": {
          "base_uri": "https://localhost:8080/"
        },
        "id": "1lsfP5sIf8IX",
        "outputId": "96682cdc-b88c-4612-fc8f-9ff6c55684c1"
      },
      "source": [
        "print(' '.join([index_to_word[x] for x in x_train[0]]))\n",
        "print(y_train[0])"
      ],
      "execution_count": null,
      "outputs": [
        {
          "output_type": "stream",
          "text": [
            "the wattie nondiscriminatory mln loss for plc said at only ended said commonwealth could 1 traders now april 0 a after said from 1985 and from foreign 000 april 0 prices its account year a but in this mln home an states earlier and rise and revs vs 000 its 16 vs 000 a but 3 psbr oils several and shareholders and dividend vs 000 its all 4 vs 000 1 mln agreed largely april 0 are 2 states will billion total and against 000 pct dlrs\n",
            "3\n"
          ],
          "name": "stdout"
        }
      ]
    },
    {
      "cell_type": "code",
      "metadata": {
        "id": "ZtgYIjhuf-Sr"
      },
      "source": [
        "import keras\n",
        "from tensorflow.keras.utils import to_categorical\n",
        "from keras.preprocessing.text import Tokenizer"
      ],
      "execution_count": null,
      "outputs": []
    },
    {
      "cell_type": "code",
      "metadata": {
        "id": "2CNw9PHqgHu0"
      },
      "source": [
        "# Vectorizing sequence data\n",
        "max_words= 10000\n",
        "tokenizer= Tokenizer(num_words=max_words)\n",
        "x_train = tokenizer.sequences_to_matrix(x_train, mode=\"count\")\n",
        "x_test = tokenizer.sequences_to_matrix(x_test, mode=\"count\")"
      ],
      "execution_count": null,
      "outputs": []
    },
    {
      "cell_type": "code",
      "metadata": {
        "colab": {
          "base_uri": "https://localhost:8080/"
        },
        "id": "wc9npqddgJ61",
        "outputId": "e0bbefef-406d-4f55-e260-35c2132d7695"
      },
      "source": [
        "print('x_train shape:', x_train.shape)\n",
        "print('x_test shape:', x_test.shape)"
      ],
      "execution_count": null,
      "outputs": [
        {
          "output_type": "stream",
          "text": [
            "x_train shape: (8982, 10000)\n",
            "x_test shape: (2246, 10000)\n"
          ],
          "name": "stdout"
        }
      ]
    },
    {
      "cell_type": "code",
      "metadata": {
        "colab": {
          "base_uri": "https://localhost:8080/"
        },
        "id": "hh6h7m97gL1c",
        "outputId": "141c3c4b-70d0-43e4-e79c-5e61aa587864"
      },
      "source": [
        "print(x_train[:5])\n",
        "print(x_test[:5])"
      ],
      "execution_count": null,
      "outputs": [
        {
          "output_type": "stream",
          "text": [
            "[[0. 1. 0. ... 0. 0. 0.]\n",
            " [0. 1. 0. ... 0. 0. 0.]\n",
            " [0. 1. 0. ... 0. 0. 0.]\n",
            " [0. 1. 0. ... 0. 0. 0.]\n",
            " [0. 1. 0. ... 0. 0. 0.]]\n",
            "[[0. 1. 0. ... 0. 0. 0.]\n",
            " [0. 1. 0. ... 0. 0. 0.]\n",
            " [0. 1. 0. ... 0. 0. 0.]\n",
            " [0. 1. 0. ... 0. 0. 0.]\n",
            " [0. 1. 0. ... 0. 0. 0.]]\n"
          ],
          "name": "stdout"
        }
      ]
    },
    {
      "cell_type": "code",
      "metadata": {
        "id": "s7vaLZO-gNxK"
      },
      "source": [
        "y_train = to_categorical(y_train, num_classes) # 훈련용 뉴스 기사 레이블의 원-핫 인코딩\n",
        "y_test = to_categorical(y_test, num_classes) # 테스트용 뉴스 기사 레이블의 원-핫 인코딩"
      ],
      "execution_count": null,
      "outputs": []
    },
    {
      "cell_type": "code",
      "metadata": {
        "colab": {
          "base_uri": "https://localhost:8080/"
        },
        "id": "bEwJm_5tgQ9O",
        "outputId": "9d15520a-7351-4e93-babb-333ed4089e92"
      },
      "source": [
        "print('y_train shape:', y_train.shape)\n",
        "print('y_test shape:', y_test.shape)"
      ],
      "execution_count": null,
      "outputs": [
        {
          "output_type": "stream",
          "text": [
            "y_train shape: (8982, 46)\n",
            "y_test shape: (2246, 46)\n"
          ],
          "name": "stdout"
        }
      ]
    },
    {
      "cell_type": "code",
      "metadata": {
        "id": "5FFTnLaOgSqn"
      },
      "source": [
        "from keras.models import Sequential\n",
        "from keras.layers import Dense, Dropout, Activation\n",
        "from tensorflow.keras.callbacks import EarlyStopping, ModelCheckpoint\n",
        "from tensorflow.keras.models import load_model"
      ],
      "execution_count": null,
      "outputs": []
    },
    {
      "cell_type": "code",
      "metadata": {
        "id": "yyFo5FekgU0V"
      },
      "source": [
        "# 모델은 인터넷에서 찾아본것 중 테스트 정확도가 높게 나온걸 사용했다..\n",
        "model = Sequential()\n",
        "model.add(Dense(512, input_shape=(max_words,)))\n",
        "model.add(Activation('relu'))\n",
        "model.add(Dropout(0.5))\n",
        "model.add(Dense(num_classes))\n",
        "model.add(Activation('softmax'))"
      ],
      "execution_count": null,
      "outputs": []
    },
    {
      "cell_type": "code",
      "metadata": {
        "id": "XZ3PKAifgXIr"
      },
      "source": [
        "es = EarlyStopping(monitor='val_loss', mode='min', verbose=1, patience=4) # 훈련 조기 종료\n",
        "mc = ModelCheckpoint('c_best_model.h5', monitor='val_acc', mode='max', verbose=1, save_best_only=True) # 훈련 과정에서 검증 데이터가 가장 높았을 때 저장"
      ],
      "execution_count": null,
      "outputs": []
    },
    {
      "cell_type": "code",
      "metadata": {
        "id": "rhKzfJOggZS-"
      },
      "source": [
        "model.compile(loss='categorical_crossentropy', optimizer='adam', metrics=['acc'])"
      ],
      "execution_count": null,
      "outputs": []
    },
    {
      "cell_type": "code",
      "metadata": {
        "colab": {
          "base_uri": "https://localhost:8080/"
        },
        "id": "fnT0Qz5ugav-",
        "outputId": "e0d6a197-1936-4ea2-a2b7-73f776f422c1"
      },
      "source": [
        "history = model.fit(x_train, y_train, batch_size=128, epochs=30, callbacks=[es, mc], validation_data=(x_test, y_test))"
      ],
      "execution_count": null,
      "outputs": [
        {
          "output_type": "stream",
          "text": [
            "Epoch 1/30\n",
            "71/71 [==============================] - 20s 81ms/step - loss: 2.1928 - acc: 0.5714 - val_loss: 1.0372 - val_acc: 0.7903\n",
            "\n",
            "Epoch 00001: val_acc improved from -inf to 0.79029, saving model to c_best_model.h5\n",
            "Epoch 2/30\n",
            "71/71 [==============================] - 5s 76ms/step - loss: 0.7291 - acc: 0.8558 - val_loss: 0.8735 - val_acc: 0.8085\n",
            "\n",
            "Epoch 00002: val_acc improved from 0.79029 to 0.80855, saving model to c_best_model.h5\n",
            "Epoch 3/30\n",
            "71/71 [==============================] - 6s 78ms/step - loss: 0.4143 - acc: 0.9164 - val_loss: 0.8724 - val_acc: 0.8139\n",
            "\n",
            "Epoch 00003: val_acc improved from 0.80855 to 0.81389, saving model to c_best_model.h5\n",
            "Epoch 4/30\n",
            "71/71 [==============================] - 6s 81ms/step - loss: 0.2830 - acc: 0.9431 - val_loss: 0.9044 - val_acc: 0.8117\n",
            "\n",
            "Epoch 00004: val_acc did not improve from 0.81389\n",
            "Epoch 5/30\n",
            "71/71 [==============================] - 5s 77ms/step - loss: 0.2214 - acc: 0.9465 - val_loss: 0.9540 - val_acc: 0.8032\n",
            "\n",
            "Epoch 00005: val_acc did not improve from 0.81389\n",
            "Epoch 6/30\n",
            "71/71 [==============================] - 6s 79ms/step - loss: 0.1820 - acc: 0.9561 - val_loss: 0.9595 - val_acc: 0.8077\n",
            "\n",
            "Epoch 00006: val_acc did not improve from 0.81389\n",
            "Epoch 7/30\n",
            "71/71 [==============================] - 6s 80ms/step - loss: 0.1862 - acc: 0.9550 - val_loss: 0.9802 - val_acc: 0.8094\n",
            "\n",
            "Epoch 00007: val_acc did not improve from 0.81389\n",
            "Epoch 00007: early stopping\n"
          ],
          "name": "stdout"
        }
      ]
    },
    {
      "cell_type": "code",
      "metadata": {
        "colab": {
          "base_uri": "https://localhost:8080/"
        },
        "id": "mH4i2peGgcbY",
        "outputId": "07044d22-9ef6-4a3d-9c92-6f97ddef4608"
      },
      "source": [
        "loaded_model = load_model('c_best_model.h5')\n",
        "print(\"\\n 테스트 정확도: %.4f\" % (loaded_model.evaluate(x_test, y_test)[1]))"
      ],
      "execution_count": null,
      "outputs": [
        {
          "output_type": "stream",
          "text": [
            "71/71 [==============================] - 1s 11ms/step - loss: 0.8724 - acc: 0.8139\n",
            "\n",
            " 테스트 정확도: 0.8139\n"
          ],
          "name": "stdout"
        }
      ]
    },
    {
      "cell_type": "markdown",
      "metadata": {
        "id": "ybrpyXMhlmjv"
      },
      "source": [
        "## Tokenizer Sequence To Matrix Frequency Mode \n",
        "\n",
        "- 테스트 정확도: 0.8112"
      ]
    },
    {
      "cell_type": "code",
      "metadata": {
        "id": "wqSUgsLpjRHc"
      },
      "source": [
        "from tensorflow.keras.datasets import reuters"
      ],
      "execution_count": null,
      "outputs": []
    },
    {
      "cell_type": "code",
      "metadata": {
        "colab": {
          "base_uri": "https://localhost:8080/"
        },
        "id": "tTz9O9zllr1f",
        "outputId": "5a2143c9-18e8-49b9-cdf2-880a6577504b"
      },
      "source": [
        "(x_train, y_train), (x_test, y_test) = reuters.load_data(num_words=None, test_split=0.2)"
      ],
      "execution_count": null,
      "outputs": [
        {
          "output_type": "stream",
          "text": [
            "/usr/local/lib/python3.7/dist-packages/tensorflow/python/keras/datasets/reuters.py:143: VisibleDeprecationWarning: Creating an ndarray from ragged nested sequences (which is a list-or-tuple of lists-or-tuples-or ndarrays with different lengths or shapes) is deprecated. If you meant to do this, you must specify 'dtype=object' when creating the ndarray\n",
            "  x_train, y_train = np.array(xs[:idx]), np.array(labels[:idx])\n",
            "/usr/local/lib/python3.7/dist-packages/tensorflow/python/keras/datasets/reuters.py:144: VisibleDeprecationWarning: Creating an ndarray from ragged nested sequences (which is a list-or-tuple of lists-or-tuples-or ndarrays with different lengths or shapes) is deprecated. If you meant to do this, you must specify 'dtype=object' when creating the ndarray\n",
            "  x_test, y_test = np.array(xs[idx:]), np.array(labels[idx:])\n"
          ],
          "name": "stderr"
        }
      ]
    },
    {
      "cell_type": "code",
      "metadata": {
        "id": "7AI0x37Sl0fK"
      },
      "source": [
        "word_index = reuters.get_word_index(path=\"reuters_word_index.json\")"
      ],
      "execution_count": null,
      "outputs": []
    },
    {
      "cell_type": "code",
      "metadata": {
        "colab": {
          "base_uri": "https://localhost:8080/"
        },
        "id": "qFKgTt7El2KN",
        "outputId": "ce413b57-fb19-468f-f3bd-4775daf04556"
      },
      "source": [
        "print(f'훈련 샘플의 수 : {len(x_train)}') # train sequences\n",
        "print(f'테스트 샘플의 수 : {len(x_test)}') # test sequences\n",
        "num_classes = max(y_train) + 1\n",
        "print(f'클래스의 수 : {num_classes}')"
      ],
      "execution_count": null,
      "outputs": [
        {
          "output_type": "stream",
          "text": [
            "훈련 샘플의 수 : 8982\n",
            "테스트 샘플의 수 : 2246\n",
            "클래스의 수 : 46\n"
          ],
          "name": "stdout"
        }
      ]
    },
    {
      "cell_type": "code",
      "metadata": {
        "id": "w3xvIAP0l4St"
      },
      "source": [
        "index_to_word = {}\n",
        "for key, value in word_index.items():\n",
        "    index_to_word[value] = key"
      ],
      "execution_count": null,
      "outputs": []
    },
    {
      "cell_type": "code",
      "metadata": {
        "colab": {
          "base_uri": "https://localhost:8080/"
        },
        "id": "3kg_OKnnl6XS",
        "outputId": "70dcea99-9903-4a8c-fc67-007ddf3eb1af"
      },
      "source": [
        "print(x_train.shape)\n",
        "print(x_test.shape)\n",
        "print(y_train.shape)\n",
        "print(y_test.shape)"
      ],
      "execution_count": null,
      "outputs": [
        {
          "output_type": "stream",
          "text": [
            "(8982,)\n",
            "(2246,)\n",
            "(8982,)\n",
            "(2246,)\n"
          ],
          "name": "stdout"
        }
      ]
    },
    {
      "cell_type": "code",
      "metadata": {
        "colab": {
          "base_uri": "https://localhost:8080/"
        },
        "id": "LhTqGGKnl7rB",
        "outputId": "40c3d749-618a-4cf7-bcd4-1dac4d39dd36"
      },
      "source": [
        "print(' '.join([index_to_word[x] for x in x_train[0]]))\n",
        "print(y_train[0])"
      ],
      "execution_count": null,
      "outputs": [
        {
          "output_type": "stream",
          "text": [
            "the wattie nondiscriminatory mln loss for plc said at only ended said commonwealth could 1 traders now april 0 a after said from 1985 and from foreign 000 april 0 prices its account year a but in this mln home an states earlier and rise and revs vs 000 its 16 vs 000 a but 3 psbr oils several and shareholders and dividend vs 000 its all 4 vs 000 1 mln agreed largely april 0 are 2 states will billion total and against 000 pct dlrs\n",
            "3\n"
          ],
          "name": "stdout"
        }
      ]
    },
    {
      "cell_type": "code",
      "metadata": {
        "id": "lA2AkshJl9nm"
      },
      "source": [
        "import keras\n",
        "from tensorflow.keras.utils import to_categorical\n",
        "from keras.preprocessing.text import Tokenizer"
      ],
      "execution_count": null,
      "outputs": []
    },
    {
      "cell_type": "code",
      "metadata": {
        "id": "qbaWRC1cl_0d"
      },
      "source": [
        "# Vectorizing sequence data\n",
        "max_words= 10000\n",
        "tokenizer= Tokenizer(num_words=max_words)\n",
        "x_train = tokenizer.sequences_to_matrix(x_train, mode=\"freq\")\n",
        "x_test = tokenizer.sequences_to_matrix(x_test, mode=\"freq\")"
      ],
      "execution_count": null,
      "outputs": []
    },
    {
      "cell_type": "code",
      "metadata": {
        "colab": {
          "base_uri": "https://localhost:8080/"
        },
        "id": "5ecZfoExmBlg",
        "outputId": "a54755cb-4e46-44be-ef64-8b629df96e11"
      },
      "source": [
        "print('x_train shape:', x_train.shape)\n",
        "print('x_test shape:', x_test.shape)"
      ],
      "execution_count": null,
      "outputs": [
        {
          "output_type": "stream",
          "text": [
            "x_train shape: (8982, 10000)\n",
            "x_test shape: (2246, 10000)\n"
          ],
          "name": "stdout"
        }
      ]
    },
    {
      "cell_type": "code",
      "metadata": {
        "colab": {
          "base_uri": "https://localhost:8080/"
        },
        "id": "4kSx95uImEOI",
        "outputId": "0fc994da-846f-43dc-da36-dc35aff75b03"
      },
      "source": [
        "print(x_train[:5])\n",
        "print(x_test[:5])"
      ],
      "execution_count": null,
      "outputs": [
        {
          "output_type": "stream",
          "text": [
            "[[0.         0.01149425 0.         ... 0.         0.         0.        ]\n",
            " [0.         0.01785714 0.         ... 0.         0.         0.        ]\n",
            " [0.         0.00719424 0.         ... 0.         0.         0.        ]\n",
            " [0.         0.00446429 0.         ... 0.         0.         0.        ]\n",
            " [0.         0.00990099 0.         ... 0.         0.         0.        ]]\n",
            "[[0.         0.00689655 0.         ... 0.         0.         0.        ]\n",
            " [0.         0.00134228 0.         ... 0.         0.         0.        ]\n",
            " [0.         0.00438596 0.         ... 0.         0.         0.        ]\n",
            " [0.         0.00581395 0.         ... 0.         0.         0.        ]\n",
            " [0.         0.00534759 0.         ... 0.         0.         0.        ]]\n"
          ],
          "name": "stdout"
        }
      ]
    },
    {
      "cell_type": "code",
      "metadata": {
        "id": "naij7S_1mGEE"
      },
      "source": [
        "y_train = to_categorical(y_train, num_classes) # 훈련용 뉴스 기사 레이블의 원-핫 인코딩\n",
        "y_test = to_categorical(y_test, num_classes) # 테스트용 뉴스 기사 레이블의 원-핫 인코딩"
      ],
      "execution_count": null,
      "outputs": []
    },
    {
      "cell_type": "code",
      "metadata": {
        "colab": {
          "base_uri": "https://localhost:8080/"
        },
        "id": "bWyznOGemH6u",
        "outputId": "af5160f8-f94f-4aff-a73a-0ff48004ad1b"
      },
      "source": [
        "print('y_train shape:', y_train.shape)\n",
        "print('y_test shape:', y_test.shape)"
      ],
      "execution_count": null,
      "outputs": [
        {
          "output_type": "stream",
          "text": [
            "y_train shape: (8982, 46)\n",
            "y_test shape: (2246, 46)\n"
          ],
          "name": "stdout"
        }
      ]
    },
    {
      "cell_type": "code",
      "metadata": {
        "id": "QrVp0OwsmJvZ"
      },
      "source": [
        "from keras.models import Sequential\n",
        "from keras.layers import Dense, Dropout, Activation\n",
        "from tensorflow.keras.callbacks import EarlyStopping, ModelCheckpoint\n",
        "from tensorflow.keras.models import load_model"
      ],
      "execution_count": null,
      "outputs": []
    },
    {
      "cell_type": "code",
      "metadata": {
        "id": "s37xHLdhmLyf"
      },
      "source": [
        "# 모델은 인터넷에서 찾아본것 중 테스트 정확도가 높게 나온걸 사용했다..\n",
        "model = Sequential()\n",
        "model.add(Dense(512, input_shape=(max_words,)))\n",
        "model.add(Activation('relu'))\n",
        "model.add(Dropout(0.5))\n",
        "model.add(Dense(num_classes))\n",
        "model.add(Activation('softmax'))"
      ],
      "execution_count": null,
      "outputs": []
    },
    {
      "cell_type": "code",
      "metadata": {
        "id": "lRtYMxuXmN68"
      },
      "source": [
        "es = EarlyStopping(monitor='val_loss', mode='min', verbose=1, patience=4) # 훈련 조기 종료\n",
        "mc = ModelCheckpoint('f_best_model.h5', monitor='val_acc', mode='max', verbose=1, save_best_only=True) # 훈련 과정에서 검증 데이터가 가장 높았을 때 저장"
      ],
      "execution_count": null,
      "outputs": []
    },
    {
      "cell_type": "code",
      "metadata": {
        "id": "VgAR9d8YmSSn"
      },
      "source": [
        "model.compile(loss='categorical_crossentropy', optimizer='adam', metrics=['acc'])"
      ],
      "execution_count": null,
      "outputs": []
    },
    {
      "cell_type": "code",
      "metadata": {
        "colab": {
          "base_uri": "https://localhost:8080/"
        },
        "id": "ozc0WCXmmU_M",
        "outputId": "9781c4a0-9ff9-4965-b1e2-26bfb4f5b47c"
      },
      "source": [
        "history = model.fit(x_train, y_train, batch_size=128, epochs=30, callbacks=[es, mc], validation_data=(x_test, y_test))"
      ],
      "execution_count": null,
      "outputs": [
        {
          "output_type": "stream",
          "text": [
            "Epoch 1/30\n",
            "71/71 [==============================] - 21s 92ms/step - loss: 3.4152 - acc: 0.4053 - val_loss: 2.2040 - val_acc: 0.3629\n",
            "\n",
            "Epoch 00001: val_acc improved from -inf to 0.36287, saving model to f_best_model.h5\n",
            "Epoch 2/30\n",
            "71/71 [==============================] - 6s 83ms/step - loss: 2.1217 - acc: 0.4579 - val_loss: 1.9182 - val_acc: 0.5151\n",
            "\n",
            "Epoch 00002: val_acc improved from 0.36287 to 0.51514, saving model to f_best_model.h5\n",
            "Epoch 3/30\n",
            "71/71 [==============================] - 5s 76ms/step - loss: 1.8323 - acc: 0.5264 - val_loss: 1.7667 - val_acc: 0.5227\n",
            "\n",
            "Epoch 00003: val_acc improved from 0.51514 to 0.52271, saving model to f_best_model.h5\n",
            "Epoch 4/30\n",
            "71/71 [==============================] - 6s 79ms/step - loss: 1.7119 - acc: 0.5515 - val_loss: 1.6387 - val_acc: 0.6011\n",
            "\n",
            "Epoch 00004: val_acc improved from 0.52271 to 0.60107, saving model to f_best_model.h5\n",
            "Epoch 5/30\n",
            "71/71 [==============================] - 5s 74ms/step - loss: 1.5770 - acc: 0.6272 - val_loss: 1.5301 - val_acc: 0.6585\n",
            "\n",
            "Epoch 00005: val_acc improved from 0.60107 to 0.65850, saving model to f_best_model.h5\n",
            "Epoch 6/30\n",
            "71/71 [==============================] - 6s 80ms/step - loss: 1.4526 - acc: 0.6801 - val_loss: 1.4389 - val_acc: 0.6785\n",
            "\n",
            "Epoch 00006: val_acc improved from 0.65850 to 0.67854, saving model to f_best_model.h5\n",
            "Epoch 7/30\n",
            "71/71 [==============================] - 6s 81ms/step - loss: 1.3099 - acc: 0.7037 - val_loss: 1.3608 - val_acc: 0.6874\n",
            "\n",
            "Epoch 00007: val_acc improved from 0.67854 to 0.68744, saving model to f_best_model.h5\n",
            "Epoch 8/30\n",
            "71/71 [==============================] - 6s 83ms/step - loss: 1.2629 - acc: 0.7092 - val_loss: 1.2951 - val_acc: 0.6950\n",
            "\n",
            "Epoch 00008: val_acc improved from 0.68744 to 0.69501, saving model to f_best_model.h5\n",
            "Epoch 9/30\n",
            "71/71 [==============================] - 6s 83ms/step - loss: 1.1765 - acc: 0.7283 - val_loss: 1.2373 - val_acc: 0.7075\n",
            "\n",
            "Epoch 00009: val_acc improved from 0.69501 to 0.70748, saving model to f_best_model.h5\n",
            "Epoch 10/30\n",
            "71/71 [==============================] - 6s 82ms/step - loss: 1.1081 - acc: 0.7423 - val_loss: 1.1883 - val_acc: 0.7257\n",
            "\n",
            "Epoch 00010: val_acc improved from 0.70748 to 0.72573, saving model to f_best_model.h5\n",
            "Epoch 11/30\n",
            "71/71 [==============================] - 6s 83ms/step - loss: 1.0474 - acc: 0.7603 - val_loss: 1.1438 - val_acc: 0.7337\n",
            "\n",
            "Epoch 00011: val_acc improved from 0.72573 to 0.73375, saving model to f_best_model.h5\n",
            "Epoch 12/30\n",
            "71/71 [==============================] - 6s 82ms/step - loss: 1.0025 - acc: 0.7714 - val_loss: 1.1021 - val_acc: 0.7467\n",
            "\n",
            "Epoch 00012: val_acc improved from 0.73375 to 0.74666, saving model to f_best_model.h5\n",
            "Epoch 13/30\n",
            "71/71 [==============================] - 6s 84ms/step - loss: 0.9305 - acc: 0.7866 - val_loss: 1.0655 - val_acc: 0.7605\n",
            "\n",
            "Epoch 00013: val_acc improved from 0.74666 to 0.76046, saving model to f_best_model.h5\n",
            "Epoch 14/30\n",
            "71/71 [==============================] - 6s 83ms/step - loss: 0.8955 - acc: 0.8006 - val_loss: 1.0315 - val_acc: 0.7663\n",
            "\n",
            "Epoch 00014: val_acc improved from 0.76046 to 0.76625, saving model to f_best_model.h5\n",
            "Epoch 15/30\n",
            "71/71 [==============================] - 6s 82ms/step - loss: 0.8311 - acc: 0.8132 - val_loss: 1.0016 - val_acc: 0.7743\n",
            "\n",
            "Epoch 00015: val_acc improved from 0.76625 to 0.77427, saving model to f_best_model.h5\n",
            "Epoch 16/30\n",
            "71/71 [==============================] - 6s 84ms/step - loss: 0.7958 - acc: 0.8186 - val_loss: 0.9756 - val_acc: 0.7801\n",
            "\n",
            "Epoch 00016: val_acc improved from 0.77427 to 0.78005, saving model to f_best_model.h5\n",
            "Epoch 17/30\n",
            "71/71 [==============================] - 6s 82ms/step - loss: 0.7604 - acc: 0.8232 - val_loss: 0.9517 - val_acc: 0.7832\n",
            "\n",
            "Epoch 00017: val_acc improved from 0.78005 to 0.78317, saving model to f_best_model.h5\n",
            "Epoch 18/30\n",
            "71/71 [==============================] - 6s 84ms/step - loss: 0.7017 - acc: 0.8351 - val_loss: 0.9263 - val_acc: 0.7863\n",
            "\n",
            "Epoch 00018: val_acc improved from 0.78317 to 0.78629, saving model to f_best_model.h5\n",
            "Epoch 19/30\n",
            "71/71 [==============================] - 6s 84ms/step - loss: 0.6673 - acc: 0.8409 - val_loss: 0.9103 - val_acc: 0.7863\n",
            "\n",
            "Epoch 00019: val_acc did not improve from 0.78629\n",
            "Epoch 20/30\n",
            "71/71 [==============================] - 6s 83ms/step - loss: 0.6335 - acc: 0.8515 - val_loss: 0.8892 - val_acc: 0.7876\n",
            "\n",
            "Epoch 00020: val_acc improved from 0.78629 to 0.78762, saving model to f_best_model.h5\n",
            "Epoch 21/30\n",
            "71/71 [==============================] - 6s 83ms/step - loss: 0.6241 - acc: 0.8501 - val_loss: 0.8731 - val_acc: 0.7925\n",
            "\n",
            "Epoch 00021: val_acc improved from 0.78762 to 0.79252, saving model to f_best_model.h5\n",
            "Epoch 22/30\n",
            "71/71 [==============================] - 6s 84ms/step - loss: 0.5976 - acc: 0.8541 - val_loss: 0.8586 - val_acc: 0.7956\n",
            "\n",
            "Epoch 00022: val_acc improved from 0.79252 to 0.79564, saving model to f_best_model.h5\n",
            "Epoch 23/30\n",
            "71/71 [==============================] - 6s 82ms/step - loss: 0.5601 - acc: 0.8687 - val_loss: 0.8454 - val_acc: 0.7961\n",
            "\n",
            "Epoch 00023: val_acc improved from 0.79564 to 0.79608, saving model to f_best_model.h5\n",
            "Epoch 24/30\n",
            "71/71 [==============================] - 6s 82ms/step - loss: 0.5305 - acc: 0.8772 - val_loss: 0.8324 - val_acc: 0.7992\n",
            "\n",
            "Epoch 00024: val_acc improved from 0.79608 to 0.79920, saving model to f_best_model.h5\n",
            "Epoch 25/30\n",
            "71/71 [==============================] - 6s 83ms/step - loss: 0.5225 - acc: 0.8719 - val_loss: 0.8199 - val_acc: 0.8023\n",
            "\n",
            "Epoch 00025: val_acc improved from 0.79920 to 0.80232, saving model to f_best_model.h5\n",
            "Epoch 26/30\n",
            "71/71 [==============================] - 6s 84ms/step - loss: 0.4971 - acc: 0.8805 - val_loss: 0.8101 - val_acc: 0.8068\n",
            "\n",
            "Epoch 00026: val_acc improved from 0.80232 to 0.80677, saving model to f_best_model.h5\n",
            "Epoch 27/30\n",
            "71/71 [==============================] - 6s 80ms/step - loss: 0.4663 - acc: 0.8870 - val_loss: 0.8001 - val_acc: 0.8081\n",
            "\n",
            "Epoch 00027: val_acc improved from 0.80677 to 0.80810, saving model to f_best_model.h5\n",
            "Epoch 28/30\n",
            "71/71 [==============================] - 6s 84ms/step - loss: 0.4483 - acc: 0.8933 - val_loss: 0.7893 - val_acc: 0.8090\n",
            "\n",
            "Epoch 00028: val_acc improved from 0.80810 to 0.80899, saving model to f_best_model.h5\n",
            "Epoch 29/30\n",
            "71/71 [==============================] - 6s 83ms/step - loss: 0.4335 - acc: 0.8969 - val_loss: 0.7838 - val_acc: 0.8099\n",
            "\n",
            "Epoch 00029: val_acc improved from 0.80899 to 0.80988, saving model to f_best_model.h5\n",
            "Epoch 30/30\n",
            "71/71 [==============================] - 6s 81ms/step - loss: 0.4099 - acc: 0.9036 - val_loss: 0.7790 - val_acc: 0.8112\n",
            "\n",
            "Epoch 00030: val_acc improved from 0.80988 to 0.81122, saving model to f_best_model.h5\n"
          ],
          "name": "stdout"
        }
      ]
    },
    {
      "cell_type": "code",
      "metadata": {
        "colab": {
          "base_uri": "https://localhost:8080/"
        },
        "id": "9jSVBYPrmW62",
        "outputId": "8c3cfcc3-327f-41e5-a4b6-7ba5f91fc4de"
      },
      "source": [
        "loaded_model = load_model('f_best_model.h5')\n",
        "print(\"\\n 테스트 정확도: %.4f\" % (loaded_model.evaluate(x_test, y_test)[1]))"
      ],
      "execution_count": null,
      "outputs": [
        {
          "output_type": "stream",
          "text": [
            "71/71 [==============================] - 1s 13ms/step - loss: 0.7790 - acc: 0.8112\n",
            "\n",
            " 테스트 정확도: 0.8112\n"
          ],
          "name": "stdout"
        }
      ]
    },
    {
      "cell_type": "markdown",
      "metadata": {
        "id": "0JJgKUPet7Oz"
      },
      "source": [
        "## Tokenizer Sequence To Matrix TF-IDF Mode\n",
        "\n",
        "- 테스트 정확도: 0.8206"
      ]
    },
    {
      "cell_type": "code",
      "metadata": {
        "id": "crXAemxUmbXo"
      },
      "source": [
        "from tensorflow.keras.datasets import reuters"
      ],
      "execution_count": null,
      "outputs": []
    },
    {
      "cell_type": "code",
      "metadata": {
        "colab": {
          "base_uri": "https://localhost:8080/"
        },
        "id": "CoMDgB6VuOQN",
        "outputId": "d12909b1-2fa9-4cc0-a5af-1532f6b3d295"
      },
      "source": [
        "(x_train, y_train), (x_test, y_test) = reuters.load_data(num_words=None, test_split=0.2)"
      ],
      "execution_count": null,
      "outputs": [
        {
          "output_type": "stream",
          "text": [
            "Downloading data from https://storage.googleapis.com/tensorflow/tf-keras-datasets/reuters.npz\n",
            "2113536/2110848 [==============================] - 0s 0us/step\n"
          ],
          "name": "stdout"
        },
        {
          "output_type": "stream",
          "text": [
            "/usr/local/lib/python3.7/dist-packages/tensorflow/python/keras/datasets/reuters.py:143: VisibleDeprecationWarning: Creating an ndarray from ragged nested sequences (which is a list-or-tuple of lists-or-tuples-or ndarrays with different lengths or shapes) is deprecated. If you meant to do this, you must specify 'dtype=object' when creating the ndarray\n",
            "  x_train, y_train = np.array(xs[:idx]), np.array(labels[:idx])\n",
            "/usr/local/lib/python3.7/dist-packages/tensorflow/python/keras/datasets/reuters.py:144: VisibleDeprecationWarning: Creating an ndarray from ragged nested sequences (which is a list-or-tuple of lists-or-tuples-or ndarrays with different lengths or shapes) is deprecated. If you meant to do this, you must specify 'dtype=object' when creating the ndarray\n",
            "  x_test, y_test = np.array(xs[idx:]), np.array(labels[idx:])\n"
          ],
          "name": "stderr"
        }
      ]
    },
    {
      "cell_type": "code",
      "metadata": {
        "colab": {
          "base_uri": "https://localhost:8080/"
        },
        "id": "NJG4a6oNuQJl",
        "outputId": "a08b47f0-8e23-43b7-b8a1-8b2d9f16cf1b"
      },
      "source": [
        "word_index = reuters.get_word_index(path=\"reuters_word_index.json\")"
      ],
      "execution_count": null,
      "outputs": [
        {
          "output_type": "stream",
          "text": [
            "Downloading data from https://storage.googleapis.com/tensorflow/tf-keras-datasets/reuters_word_index.json\n",
            "557056/550378 [==============================] - 0s 0us/step\n"
          ],
          "name": "stdout"
        }
      ]
    },
    {
      "cell_type": "code",
      "metadata": {
        "colab": {
          "base_uri": "https://localhost:8080/"
        },
        "id": "Bp7Hbgv4uR-z",
        "outputId": "478ccb72-5a20-4263-a249-659c080fcb1c"
      },
      "source": [
        "print(f'훈련 샘플의 수 : {len(x_train)}') # train sequences\n",
        "print(f'테스트 샘플의 수 : {len(x_test)}') # test sequences\n",
        "num_classes = max(y_train) + 1\n",
        "print(f'클래스의 수 : {num_classes}')"
      ],
      "execution_count": null,
      "outputs": [
        {
          "output_type": "stream",
          "text": [
            "훈련 샘플의 수 : 8982\n",
            "테스트 샘플의 수 : 2246\n",
            "클래스의 수 : 46\n"
          ],
          "name": "stdout"
        }
      ]
    },
    {
      "cell_type": "code",
      "metadata": {
        "id": "ipBb7zYBuTh7"
      },
      "source": [
        "index_to_word = {}\n",
        "for key, value in word_index.items():\n",
        "    index_to_word[value] = key"
      ],
      "execution_count": null,
      "outputs": []
    },
    {
      "cell_type": "code",
      "metadata": {
        "colab": {
          "base_uri": "https://localhost:8080/"
        },
        "id": "l8xA4UT4uVFE",
        "outputId": "3b739dd1-6423-4bf9-d073-2f310ebb3d04"
      },
      "source": [
        "print(x_train.shape)\n",
        "print(x_test.shape)\n",
        "print(y_train.shape)\n",
        "print(y_test.shape)"
      ],
      "execution_count": null,
      "outputs": [
        {
          "output_type": "stream",
          "text": [
            "(8982,)\n",
            "(2246,)\n",
            "(8982,)\n",
            "(2246,)\n"
          ],
          "name": "stdout"
        }
      ]
    },
    {
      "cell_type": "code",
      "metadata": {
        "colab": {
          "base_uri": "https://localhost:8080/"
        },
        "id": "pS4-G7GvuWyX",
        "outputId": "8a652ee6-0731-4533-ab8f-93d6c6dc5c8c"
      },
      "source": [
        "print(' '.join([index_to_word[x] for x in x_train[0]]))\n",
        "print(y_train[0])"
      ],
      "execution_count": null,
      "outputs": [
        {
          "output_type": "stream",
          "text": [
            "the wattie nondiscriminatory mln loss for plc said at only ended said commonwealth could 1 traders now april 0 a after said from 1985 and from foreign 000 april 0 prices its account year a but in this mln home an states earlier and rise and revs vs 000 its 16 vs 000 a but 3 psbr oils several and shareholders and dividend vs 000 its all 4 vs 000 1 mln agreed largely april 0 are 2 states will billion total and against 000 pct dlrs\n",
            "3\n"
          ],
          "name": "stdout"
        }
      ]
    },
    {
      "cell_type": "code",
      "metadata": {
        "id": "DgmBnZiwuYf0"
      },
      "source": [
        "import keras\n",
        "import numpy as np\n",
        "from tensorflow.keras.utils import to_categorical\n",
        "from keras.preprocessing.text import Tokenizer"
      ],
      "execution_count": null,
      "outputs": []
    },
    {
      "cell_type": "code",
      "metadata": {
        "id": "e0XR5-FPuaa2"
      },
      "source": [
        "# Vectorizing sequence data\n",
        "# max_words를 1000 으로 하면 테스트 정확도: 0.8161\n",
        "# max_words를 50000 으로 하면 테스트 정확도: 0.8201\n",
        "# max_words를 100000 으로 하면 RAAM사용량 초과로 세션종료됨.\n",
        "\n",
        "max_words= 10000\n",
        "tokenizer= Tokenizer(num_words=max_words)\n",
        "tokenizer.fit_on_sequences(x_train.tolist())\n",
        "tokenizer.fit_on_sequences(x_test.tolist())\n",
        "x_train = np.asarray(tokenizer.sequences_to_matrix(x_train.tolist(), mode=\"tfidf\"))\n",
        "x_test = np.asarray(tokenizer.sequences_to_matrix(x_test.tolist(), mode=\"tfidf\"))"
      ],
      "execution_count": null,
      "outputs": []
    },
    {
      "cell_type": "code",
      "metadata": {
        "colab": {
          "base_uri": "https://localhost:8080/"
        },
        "id": "zxZiGDHmucvM",
        "outputId": "2989d0b1-2c39-432d-a82e-a41ad03db927"
      },
      "source": [
        "print('x_train shape:', x_train.shape)\n",
        "print('x_test shape:', x_test.shape)"
      ],
      "execution_count": null,
      "outputs": [
        {
          "output_type": "stream",
          "text": [
            "x_train shape: (8982, 10000)\n",
            "x_test shape: (2246, 10000)\n"
          ],
          "name": "stdout"
        }
      ]
    },
    {
      "cell_type": "code",
      "metadata": {
        "colab": {
          "base_uri": "https://localhost:8080/"
        },
        "id": "g_53CIeDugHv",
        "outputId": "9e62505d-3468-42bd-960d-aa2248b90e6f"
      },
      "source": [
        "print(x_train[:5])\n",
        "print(x_test[:5])"
      ],
      "execution_count": null,
      "outputs": [
        {
          "output_type": "stream",
          "text": [
            "[[0.         0.69310265 0.         ... 0.         0.         0.        ]\n",
            " [0.         0.69310265 0.         ... 0.         0.         0.        ]\n",
            " [0.         0.69310265 0.         ... 0.         0.         0.        ]\n",
            " [0.         0.69310265 0.         ... 0.         0.         0.        ]\n",
            " [0.         0.69310265 0.         ... 0.         0.         0.        ]]\n",
            "[[0.         0.69310265 0.         ... 0.         0.         0.        ]\n",
            " [0.         0.69310265 0.         ... 0.         0.         0.        ]\n",
            " [0.         0.69310265 0.         ... 0.         0.         0.        ]\n",
            " [0.         0.69310265 0.         ... 0.         0.         0.        ]\n",
            " [0.         0.69310265 0.         ... 0.         0.         0.        ]]\n"
          ],
          "name": "stdout"
        }
      ]
    },
    {
      "cell_type": "code",
      "metadata": {
        "id": "7aHVW_UouiBS"
      },
      "source": [
        "y_train = to_categorical(y_train, num_classes) # 훈련용 뉴스 기사 레이블의 원-핫 인코딩\n",
        "y_test = to_categorical(y_test, num_classes) # 테스트용 뉴스 기사 레이블의 원-핫 인코딩"
      ],
      "execution_count": null,
      "outputs": []
    },
    {
      "cell_type": "code",
      "metadata": {
        "colab": {
          "base_uri": "https://localhost:8080/"
        },
        "id": "9LS2-JkTuv6m",
        "outputId": "fbb05955-6f63-4d7c-c6f7-bd842562f3c9"
      },
      "source": [
        "print('y_train shape:', y_train.shape)\n",
        "print('y_test shape:', y_test.shape)"
      ],
      "execution_count": null,
      "outputs": [
        {
          "output_type": "stream",
          "text": [
            "y_train shape: (8982, 46)\n",
            "y_test shape: (2246, 46)\n"
          ],
          "name": "stdout"
        }
      ]
    },
    {
      "cell_type": "code",
      "metadata": {
        "id": "8Tw1QCuFuxrK"
      },
      "source": [
        "from keras.models import Sequential\n",
        "from keras.layers import Dense, Dropout, Activation\n",
        "from tensorflow.keras.callbacks import EarlyStopping, ModelCheckpoint\n",
        "from tensorflow.keras.models import load_model"
      ],
      "execution_count": null,
      "outputs": []
    },
    {
      "cell_type": "code",
      "metadata": {
        "id": "4qABUX5HuzCa"
      },
      "source": [
        "# 모델은 인터넷에서 찾아본것 중 테스트 정확도가 높게 나온걸 사용했다..\n",
        "model = Sequential()\n",
        "model.add(Dense(512, input_shape=(max_words,)))\n",
        "model.add(Activation('relu'))\n",
        "model.add(Dropout(0.5))\n",
        "model.add(Dense(num_classes))\n",
        "model.add(Activation('softmax'))"
      ],
      "execution_count": null,
      "outputs": []
    },
    {
      "cell_type": "code",
      "metadata": {
        "id": "Aicrq1Q-u0ut"
      },
      "source": [
        "es = EarlyStopping(monitor='val_loss', mode='min', verbose=1, patience=4) # 훈련 조기 종료\n",
        "mc = ModelCheckpoint('t_best_model.h5', monitor='val_acc', mode='max', verbose=1, save_best_only=True) # 훈련 과정에서 검증 데이터가 가장 높았을 때 저장"
      ],
      "execution_count": null,
      "outputs": []
    },
    {
      "cell_type": "code",
      "metadata": {
        "id": "e81TEo_Iu2pt"
      },
      "source": [
        "model.compile(loss='categorical_crossentropy', optimizer='adam', metrics=['acc'])"
      ],
      "execution_count": null,
      "outputs": []
    },
    {
      "cell_type": "code",
      "metadata": {
        "colab": {
          "base_uri": "https://localhost:8080/"
        },
        "id": "oODbewCSu4IZ",
        "outputId": "f64695fe-a753-45de-82bd-fd68f394739d"
      },
      "source": [
        "history = model.fit(x_train, y_train, batch_size=128, epochs=30, callbacks=[es, mc], validation_data=(x_test, y_test))"
      ],
      "execution_count": null,
      "outputs": [
        {
          "output_type": "stream",
          "text": [
            "Epoch 1/30\n",
            "71/71 [==============================] - 20s 82ms/step - loss: 1.9060 - acc: 0.6067 - val_loss: 0.8934 - val_acc: 0.8206\n",
            "\n",
            "Epoch 00001: val_acc improved from -inf to 0.82057, saving model to t_best_model.h5\n",
            "Epoch 2/30\n",
            "71/71 [==============================] - 5s 74ms/step - loss: 0.4139 - acc: 0.9158 - val_loss: 0.9048 - val_acc: 0.8188\n",
            "\n",
            "Epoch 00002: val_acc did not improve from 0.82057\n",
            "Epoch 3/30\n",
            "71/71 [==============================] - 5s 75ms/step - loss: 0.2540 - acc: 0.9479 - val_loss: 0.9798 - val_acc: 0.8130\n",
            "\n",
            "Epoch 00003: val_acc did not improve from 0.82057\n",
            "Epoch 4/30\n",
            "71/71 [==============================] - 5s 75ms/step - loss: 0.2084 - acc: 0.9551 - val_loss: 1.0609 - val_acc: 0.8112\n",
            "\n",
            "Epoch 00004: val_acc did not improve from 0.82057\n",
            "Epoch 5/30\n",
            "71/71 [==============================] - 5s 74ms/step - loss: 0.1810 - acc: 0.9564 - val_loss: 1.0913 - val_acc: 0.8041\n",
            "\n",
            "Epoch 00005: val_acc did not improve from 0.82057\n",
            "Epoch 00005: early stopping\n"
          ],
          "name": "stdout"
        }
      ]
    },
    {
      "cell_type": "code",
      "metadata": {
        "colab": {
          "base_uri": "https://localhost:8080/"
        },
        "id": "xxruyfYPu70X",
        "outputId": "142fa85b-4c3a-48b1-ff1e-7ea8012e478a"
      },
      "source": [
        "loaded_model = load_model('t_best_model.h5')\n",
        "print(\"\\n 테스트 정확도: %.4f\" % (loaded_model.evaluate(x_test, y_test)[1]))"
      ],
      "execution_count": null,
      "outputs": [
        {
          "output_type": "stream",
          "text": [
            "71/71 [==============================] - 1s 11ms/step - loss: 0.8934 - acc: 0.8206\n",
            "\n",
            " 테스트 정확도: 0.8206\n"
          ],
          "name": "stdout"
        }
      ]
    },
    {
      "cell_type": "code",
      "metadata": {
        "id": "TceRdpwdu9jt"
      },
      "source": [
        ""
      ],
      "execution_count": null,
      "outputs": []
    },
    {
      "cell_type": "markdown",
      "metadata": {
        "id": "tlynryKO7Byo"
      },
      "source": [
        "## TF-IDF Mode 를 사용한게 테스트 정확도가 0.8206으로 제일 높게 나왔다.(옵티마이저 adam)\n",
        "\n",
        "## 모델 옵티마이저 변경\n",
        "\n",
        "## 옵티마이저 사용법\n",
        "https://keras.io/ko/optimizers/\n",
        "\n",
        "- SGD 테스트 정확도: 0.8170\n",
        "\n",
        "- RMSProp 테스트 정확도: 0.8112\n",
        "\n",
        "- Adamax 테스트 정확도: 0.8175"
      ]
    },
    {
      "cell_type": "code",
      "metadata": {
        "id": "BOOAv4rj7I4m"
      },
      "source": [
        "from tensorflow.keras.datasets import reuters"
      ],
      "execution_count": null,
      "outputs": []
    },
    {
      "cell_type": "code",
      "metadata": {
        "colab": {
          "base_uri": "https://localhost:8080/"
        },
        "id": "UvJ5r0Fk-9bp",
        "outputId": "eb35d353-a07f-40be-ed26-6e4f464a1837"
      },
      "source": [
        "(x_train, y_train), (x_test, y_test) = reuters.load_data(num_words=None, test_split=0.2)"
      ],
      "execution_count": null,
      "outputs": [
        {
          "output_type": "stream",
          "text": [
            "Downloading data from https://storage.googleapis.com/tensorflow/tf-keras-datasets/reuters.npz\n",
            "2113536/2110848 [==============================] - 0s 0us/step\n"
          ],
          "name": "stdout"
        },
        {
          "output_type": "stream",
          "text": [
            "/usr/local/lib/python3.7/dist-packages/tensorflow/python/keras/datasets/reuters.py:143: VisibleDeprecationWarning: Creating an ndarray from ragged nested sequences (which is a list-or-tuple of lists-or-tuples-or ndarrays with different lengths or shapes) is deprecated. If you meant to do this, you must specify 'dtype=object' when creating the ndarray\n",
            "  x_train, y_train = np.array(xs[:idx]), np.array(labels[:idx])\n",
            "/usr/local/lib/python3.7/dist-packages/tensorflow/python/keras/datasets/reuters.py:144: VisibleDeprecationWarning: Creating an ndarray from ragged nested sequences (which is a list-or-tuple of lists-or-tuples-or ndarrays with different lengths or shapes) is deprecated. If you meant to do this, you must specify 'dtype=object' when creating the ndarray\n",
            "  x_test, y_test = np.array(xs[idx:]), np.array(labels[idx:])\n"
          ],
          "name": "stderr"
        }
      ]
    },
    {
      "cell_type": "code",
      "metadata": {
        "colab": {
          "base_uri": "https://localhost:8080/"
        },
        "id": "8yYa8i_Q-_4p",
        "outputId": "e6a97a70-f728-459f-fe4c-b054f2ce712e"
      },
      "source": [
        "word_index = reuters.get_word_index(path=\"reuters_word_index.json\")"
      ],
      "execution_count": null,
      "outputs": [
        {
          "output_type": "stream",
          "text": [
            "Downloading data from https://storage.googleapis.com/tensorflow/tf-keras-datasets/reuters_word_index.json\n",
            "557056/550378 [==============================] - 0s 0us/step\n"
          ],
          "name": "stdout"
        }
      ]
    },
    {
      "cell_type": "code",
      "metadata": {
        "colab": {
          "base_uri": "https://localhost:8080/"
        },
        "id": "-CKKqY6b_CPB",
        "outputId": "842cdcc7-bb39-4c34-9e00-571032cf9c12"
      },
      "source": [
        "print(f'훈련 샘플의 수 : {len(x_train)}') # train sequences\n",
        "print(f'테스트 샘플의 수 : {len(x_test)}') # test sequences\n",
        "num_classes = max(y_train) + 1\n",
        "print(f'클래스의 수 : {num_classes}')"
      ],
      "execution_count": null,
      "outputs": [
        {
          "output_type": "stream",
          "text": [
            "훈련 샘플의 수 : 8982\n",
            "테스트 샘플의 수 : 2246\n",
            "클래스의 수 : 46\n"
          ],
          "name": "stdout"
        }
      ]
    },
    {
      "cell_type": "code",
      "metadata": {
        "id": "VdKNZB2N_EOB"
      },
      "source": [
        "index_to_word = {}\n",
        "for key, value in word_index.items():\n",
        "    index_to_word[value] = key"
      ],
      "execution_count": null,
      "outputs": []
    },
    {
      "cell_type": "code",
      "metadata": {
        "colab": {
          "base_uri": "https://localhost:8080/"
        },
        "id": "k1MVudMD_FuP",
        "outputId": "4ca88382-bd00-4005-d5a1-788b41a83220"
      },
      "source": [
        "print(x_train.shape)\n",
        "print(x_test.shape)\n",
        "print(y_train.shape)\n",
        "print(y_test.shape)"
      ],
      "execution_count": null,
      "outputs": [
        {
          "output_type": "stream",
          "text": [
            "(8982,)\n",
            "(2246,)\n",
            "(8982,)\n",
            "(2246,)\n"
          ],
          "name": "stdout"
        }
      ]
    },
    {
      "cell_type": "code",
      "metadata": {
        "colab": {
          "base_uri": "https://localhost:8080/"
        },
        "id": "wB26wQ5z_HTd",
        "outputId": "7667b8a2-4694-4c4e-d457-1687d042bc9b"
      },
      "source": [
        "print(' '.join([index_to_word[x] for x in x_train[0]]))\n",
        "print(y_train[0])"
      ],
      "execution_count": null,
      "outputs": [
        {
          "output_type": "stream",
          "text": [
            "the wattie nondiscriminatory mln loss for plc said at only ended said commonwealth could 1 traders now april 0 a after said from 1985 and from foreign 000 april 0 prices its account year a but in this mln home an states earlier and rise and revs vs 000 its 16 vs 000 a but 3 psbr oils several and shareholders and dividend vs 000 its all 4 vs 000 1 mln agreed largely april 0 are 2 states will billion total and against 000 pct dlrs\n",
            "3\n"
          ],
          "name": "stdout"
        }
      ]
    },
    {
      "cell_type": "code",
      "metadata": {
        "id": "GHA_C1XO_Jdh"
      },
      "source": [
        "import keras\n",
        "import numpy as np\n",
        "from tensorflow.keras.utils import to_categorical\n",
        "from keras.preprocessing.text import Tokenizer"
      ],
      "execution_count": null,
      "outputs": []
    },
    {
      "cell_type": "code",
      "metadata": {
        "id": "a9L3ri7E_NY1"
      },
      "source": [
        "# Vectorizing sequence data\n",
        "max_words= 10000\n",
        "tokenizer= Tokenizer(num_words=max_words)\n",
        "tokenizer.fit_on_sequences(x_train.tolist())\n",
        "tokenizer.fit_on_sequences(x_test.tolist())\n",
        "x_train = np.asarray(tokenizer.sequences_to_matrix(x_train.tolist(), mode=\"tfidf\"))\n",
        "x_test = np.asarray(tokenizer.sequences_to_matrix(x_test.tolist(), mode=\"tfidf\"))"
      ],
      "execution_count": null,
      "outputs": []
    },
    {
      "cell_type": "code",
      "metadata": {
        "colab": {
          "base_uri": "https://localhost:8080/"
        },
        "id": "5mAXsAHo_P0M",
        "outputId": "a4a514f1-da9d-4ceb-f1f2-cfd2fd94f9b6"
      },
      "source": [
        "print('x_train shape:', x_train.shape)\n",
        "print('x_test shape:', x_test.shape)"
      ],
      "execution_count": null,
      "outputs": [
        {
          "output_type": "stream",
          "text": [
            "x_train shape: (8982, 10000)\n",
            "x_test shape: (2246, 10000)\n"
          ],
          "name": "stdout"
        }
      ]
    },
    {
      "cell_type": "code",
      "metadata": {
        "id": "k7yO-hu9_R3U"
      },
      "source": [
        "y_train = to_categorical(y_train, num_classes) # 훈련용 뉴스 기사 레이블의 원-핫 인코딩\n",
        "y_test = to_categorical(y_test, num_classes) # 테스트용 뉴스 기사 레이블의 원-핫 인코딩"
      ],
      "execution_count": null,
      "outputs": []
    },
    {
      "cell_type": "code",
      "metadata": {
        "colab": {
          "base_uri": "https://localhost:8080/"
        },
        "id": "8V6XU9N9_UWJ",
        "outputId": "753ba20d-a146-402f-972a-b4b0d714f88d"
      },
      "source": [
        "print('y_train shape:', y_train.shape)\n",
        "print('y_test shape:', y_test.shape)"
      ],
      "execution_count": null,
      "outputs": [
        {
          "output_type": "stream",
          "text": [
            "y_train shape: (8982, 46)\n",
            "y_test shape: (2246, 46)\n"
          ],
          "name": "stdout"
        }
      ]
    },
    {
      "cell_type": "code",
      "metadata": {
        "id": "XmMcyfIb_Vu8"
      },
      "source": [
        "from keras.models import Sequential\n",
        "from keras.layers import Dense, Dropout, Activation\n",
        "from tensorflow.keras.callbacks import EarlyStopping, ModelCheckpoint\n",
        "from tensorflow.keras.models import load_model"
      ],
      "execution_count": null,
      "outputs": []
    },
    {
      "cell_type": "code",
      "metadata": {
        "id": "z4YswXeg_YSl"
      },
      "source": [
        "# del model # 모델 지우기"
      ],
      "execution_count": null,
      "outputs": []
    },
    {
      "cell_type": "code",
      "metadata": {
        "id": "vgV7xGiq_apd"
      },
      "source": [
        "model = Sequential()\n",
        "model.add(Dense(512, input_shape=(max_words,)))\n",
        "model.add(Activation('relu'))\n",
        "model.add(Dropout(0.5))\n",
        "model.add(Dense(num_classes))\n",
        "model.add(Activation('softmax'))"
      ],
      "execution_count": null,
      "outputs": []
    },
    {
      "cell_type": "code",
      "metadata": {
        "id": "e09OTy3l_c3B"
      },
      "source": [
        "es = EarlyStopping(monitor='val_loss', mode='min', verbose=1, patience=4) # 훈련 조기 종료\n",
        "mc = ModelCheckpoint('./t_best_model_adamax.h5', monitor='val_acc', mode='max', verbose=1, save_best_only=True) # 훈련 과정에서 검증 데이터가 가장 높았을 때 저장"
      ],
      "execution_count": null,
      "outputs": []
    },
    {
      "cell_type": "code",
      "metadata": {
        "id": "Rb7r--rK_lDs"
      },
      "source": [
        "# model.compile(loss='categorical_crossentropy', optimizer='sgd', metrics=['acc'])  # 확률적 경사 하강법 # t_best_model_sgd.h5\n",
        "# model.compile(loss='categorical_crossentropy', optimizer='rmsprop', metrics=['acc']) # RMSProp # 일반적으로 순환 신경망(Recurrent Neural Networks)의 옵티마이저로 많이 사용\n",
        "model.compile(loss='categorical_crossentropy', optimizer='adamax', metrics=['acc']) # Adamax # 무한 노름(infinity norm)에 기반한 Adam의 변형"
      ],
      "execution_count": null,
      "outputs": []
    },
    {
      "cell_type": "code",
      "metadata": {
        "colab": {
          "base_uri": "https://localhost:8080/"
        },
        "id": "kiFirn7C_rkq",
        "outputId": "6fb341f3-fc95-4ef3-ae88-1799422a6f08"
      },
      "source": [
        "history = model.fit(x_train, y_train, batch_size=128, epochs=100, callbacks=[es, mc], validation_data=(x_test, y_test))"
      ],
      "execution_count": null,
      "outputs": [
        {
          "output_type": "stream",
          "text": [
            "Epoch 1/100\n",
            "71/71 [==============================] - 6s 78ms/step - loss: 2.1622 - acc: 0.5526 - val_loss: 1.1194 - val_acc: 0.7716\n",
            "\n",
            "Epoch 00001: val_acc improved from -inf to 0.77159, saving model to ./t_best_model_adamax.h5\n",
            "Epoch 2/100\n",
            "71/71 [==============================] - 5s 75ms/step - loss: 0.7635 - acc: 0.8454 - val_loss: 0.9451 - val_acc: 0.8028\n",
            "\n",
            "Epoch 00002: val_acc improved from 0.77159 to 0.80276, saving model to ./t_best_model_adamax.h5\n",
            "Epoch 3/100\n",
            "71/71 [==============================] - 5s 76ms/step - loss: 0.5098 - acc: 0.8973 - val_loss: 0.8976 - val_acc: 0.8085\n",
            "\n",
            "Epoch 00003: val_acc improved from 0.80276 to 0.80855, saving model to ./t_best_model_adamax.h5\n",
            "Epoch 4/100\n",
            "71/71 [==============================] - 5s 74ms/step - loss: 0.3523 - acc: 0.9321 - val_loss: 0.8761 - val_acc: 0.8085\n",
            "\n",
            "Epoch 00004: val_acc did not improve from 0.80855\n",
            "Epoch 5/100\n",
            "71/71 [==============================] - 5s 74ms/step - loss: 0.2898 - acc: 0.9378 - val_loss: 0.8765 - val_acc: 0.8090\n",
            "\n",
            "Epoch 00005: val_acc improved from 0.80855 to 0.80899, saving model to ./t_best_model_adamax.h5\n",
            "Epoch 6/100\n",
            "71/71 [==============================] - 5s 75ms/step - loss: 0.2479 - acc: 0.9457 - val_loss: 0.8805 - val_acc: 0.8175\n",
            "\n",
            "Epoch 00006: val_acc improved from 0.80899 to 0.81745, saving model to ./t_best_model_adamax.h5\n",
            "Epoch 7/100\n",
            "71/71 [==============================] - 5s 75ms/step - loss: 0.1967 - acc: 0.9565 - val_loss: 0.8945 - val_acc: 0.8112\n",
            "\n",
            "Epoch 00007: val_acc did not improve from 0.81745\n",
            "Epoch 8/100\n",
            "71/71 [==============================] - 5s 75ms/step - loss: 0.1760 - acc: 0.9566 - val_loss: 0.9033 - val_acc: 0.8152\n",
            "\n",
            "Epoch 00008: val_acc did not improve from 0.81745\n",
            "Epoch 00008: early stopping\n"
          ],
          "name": "stdout"
        }
      ]
    },
    {
      "cell_type": "code",
      "metadata": {
        "colab": {
          "base_uri": "https://localhost:8080/"
        },
        "id": "hYoOF1nu_vRb",
        "outputId": "d949e264-7945-4893-ef24-098931f95084"
      },
      "source": [
        "loaded_model = load_model('t_best_model_sgd.h5')\n",
        "print(\"\\n 테스트 정확도: %.4f\" % (loaded_model.evaluate(x_test, y_test)[1]))"
      ],
      "execution_count": null,
      "outputs": [
        {
          "output_type": "stream",
          "text": [
            "71/71 [==============================] - 1s 11ms/step - loss: 0.8481 - acc: 0.8170\n",
            "\n",
            " 테스트 정확도: 0.8170\n"
          ],
          "name": "stdout"
        }
      ]
    },
    {
      "cell_type": "code",
      "metadata": {
        "colab": {
          "base_uri": "https://localhost:8080/"
        },
        "id": "EMd-_9emAa9U",
        "outputId": "53861698-514b-48ac-d4f8-3f7935e528e3"
      },
      "source": [
        "loaded_model = load_model('t_best_model_rmsprop.h5')\n",
        "print(\"\\n 테스트 정확도: %.4f\" % (loaded_model.evaluate(x_test, y_test)[1]))"
      ],
      "execution_count": null,
      "outputs": [
        {
          "output_type": "stream",
          "text": [
            "71/71 [==============================] - 1s 10ms/step - loss: 1.1061 - acc: 0.8112\n",
            "\n",
            " 테스트 정확도: 0.8112\n"
          ],
          "name": "stdout"
        }
      ]
    },
    {
      "cell_type": "code",
      "metadata": {
        "colab": {
          "base_uri": "https://localhost:8080/"
        },
        "id": "wZNB0M9oBad4",
        "outputId": "f8b6e681-841b-47df-f189-1a49e5f42528"
      },
      "source": [
        "loaded_model = load_model('t_best_model_adamax.h5')\n",
        "print(\"\\n 테스트 정확도: %.4f\" % (loaded_model.evaluate(x_test, y_test)[1]))"
      ],
      "execution_count": null,
      "outputs": [
        {
          "output_type": "stream",
          "text": [
            "71/71 [==============================] - 1s 10ms/step - loss: 0.8805 - acc: 0.8175\n",
            "\n",
            " 테스트 정확도: 0.8175\n"
          ],
          "name": "stdout"
        }
      ]
    }
  ]
}